{
 "cells": [
  {
   "cell_type": "markdown",
   "metadata": {},
   "source": [
    "## Text Extraction Solution\n",
    "\n",
    "##### Author: Alex Sherman | alsherman@deloitte.com"
   ]
  },
  {
   "cell_type": "markdown",
   "metadata": {},
   "source": [
    "### Exercise\n",
    " 1. count how many paragraphs have a heading style\n",
    " 2. store the text of all the paragraphs with a heading style"
   ]
  },
  {
   "cell_type": "code",
   "execution_count": 16,
   "metadata": {},
   "outputs": [
    {
     "name": "stdout",
     "output_type": "stream",
     "text": [
      "# heading paragraphs: 145\n",
      "\n"
     ]
    },
    {
     "data": {
      "text/plain": [
       "['UNITED STATES',\n",
       " 'PART I',\n",
       " 'Company Overview',\n",
       " 'Industry',\n",
       " 'Company Operations Route Structure',\n",
       " 'General',\n",
       " 'International Service',\n",
       " 'Cost Structure',\n",
       " 'Fare Structure',\n",
       " 'General']"
      ]
     },
     "execution_count": 16,
     "metadata": {},
     "output_type": "execute_result"
    }
   ],
   "source": [
    "# store all heading paragraphs\n",
    "headings = [p.text.strip() for p in paragraphs if 'heading' in p.style.name.lower()]\n",
    "\n",
    "print('# heading paragraphs: {}\\n'.format(len(headings)))\n",
    "headings[0:10]"
   ]
  },
  {
   "cell_type": "markdown",
   "metadata": {},
   "source": [
    "## Exercise"
   ]
  },
  {
   "cell_type": "markdown",
   "metadata": {},
   "source": [
    "#### Find all the bold runs\n",
    "\n",
    "- Iterate through all the runs in all the paragraphs to identify any run with a bold style applied.\n",
    "- Store all the bold text in a list named bold_text\n",
    "- Do not include empty strings (e.g. '') \n",
    "- print the first 10 items in bold_text"
   ]
  },
  {
   "cell_type": "code",
   "execution_count": 26,
   "metadata": {},
   "outputs": [
    {
     "data": {
      "text/plain": [
       "['SOUTHWEST AIRLINES CO.',\n",
       " '2016 ANNUAL REPORT TO SHAREHOLDERS',\n",
       " 'SECURITIES AND EXCHANGE COMMISSION',\n",
       " 'Washington, D.C. 20549',\n",
       " 'FORM 10-K',\n",
       " 'ANNUAL',\n",
       " 'REPORT',\n",
       " 'PURSUANT',\n",
       " 'TO',\n",
       " 'SECTION']"
      ]
     },
     "execution_count": 26,
     "metadata": {},
     "output_type": "execute_result"
    }
   ],
   "source": [
    "bold_text = []\n",
    "for paragraph in paragraphs:\n",
    "    for run in paragraph.runs:\n",
    "        if run.bold and run.text.strip() != '':\n",
    "            text = run.text\n",
    "            bold_text.append(text)\n",
    "\n",
    "bold_text[0:10]"
   ]
  },
  {
   "cell_type": "markdown",
   "metadata": {},
   "source": [
    "### Create a function to determine if all runs in a paragraph are bold\n",
    "\n",
    "- Name the function is_bold\n",
    "- Return True if all runs (with text) in a paragraph are bold\n",
    "- Test the function by adding all the bold paragraphs to a list named bold_paragraphs\n",
    "- Print the first 10 paragraphs in bold_paragraphs"
   ]
  },
  {
   "cell_type": "code",
   "execution_count": 27,
   "metadata": {},
   "outputs": [],
   "source": [
    "# create the function is_bold\n",
    "def is_bold(paragraph):   \n",
    "    runs_are_bold = [run.bold for run in paragraph.runs if run.text != '']\n",
    "\n",
    "    if runs_are_bold and all(runs_are_bold):  # runs_are_bold evaluates as False if the list is empty\n",
    "        return True\n",
    "    return False"
   ]
  },
  {
   "cell_type": "code",
   "execution_count": 28,
   "metadata": {},
   "outputs": [
    {
     "data": {
      "text/plain": [
       "['SOUTHWEST AIRLINES CO.',\n",
       " '2016 ANNUAL REPORT TO SHAREHOLDERS',\n",
       " 'SECURITIES AND EXCHANGE COMMISSION',\n",
       " 'Washington, D.C. 20549',\n",
       " 'FORM 10-K',\n",
       " 'Southwest Airlines Co.',\n",
       " 'Securities registered pursuant to Section 12(b) of the Act:',\n",
       " 'Title of Each Class\\tName of Each Exchange on Which Registered',\n",
       " 'Securities registered pursuant to Section 12(g) of the Act: None',\n",
       " 'DOCUMENTS INCORPORATED BY REFERENCE']"
      ]
     },
     "execution_count": 28,
     "metadata": {},
     "output_type": "execute_result"
    }
   ],
   "source": [
    "# test the is_bold function\n",
    "bold_paragraphs = []\n",
    "for paragraph in paragraphs:\n",
    "    if is_bold(paragraph):\n",
    "        bold_paragraphs.append(paragraph.text)\n",
    "\n",
    "bold_paragraphs[0:10]"
   ]
  },
  {
   "cell_type": "markdown",
   "metadata": {},
   "source": [
    "### Exercise\n",
    "\n",
    "In this exercise, we will search through several Oracle annual reports to find selected text throughout all the documents without needing to extract the files from the zip manually. "
   ]
  },
  {
   "cell_type": "code",
   "execution_count": 43,
   "metadata": {},
   "outputs": [
    {
     "data": {
      "text/plain": [
       "'C:\\\\Users\\\\alsherman\\\\Desktop\\\\NLP\\\\nlp_practicum_health\\\\raw_data\\\\oracle-corporation.zip'"
      ]
     },
     "execution_count": 43,
     "metadata": {},
     "output_type": "execute_result"
    }
   ],
   "source": [
    "EXAMPLE_ZIP"
   ]
  },
  {
   "cell_type": "code",
   "execution_count": 44,
   "metadata": {},
   "outputs": [],
   "source": [
    "# use zipfile to read the EXAMPLE_ZIP\n",
    "zipf = zipfile.ZipFile(EXAMPLE_ZIP, 'r')"
   ]
  },
  {
   "cell_type": "code",
   "execution_count": 45,
   "metadata": {},
   "outputs": [
    {
     "data": {
      "text/plain": [
       "3"
      ]
     },
     "execution_count": 45,
     "metadata": {},
     "output_type": "execute_result"
    }
   ],
   "source": [
    "# How many documents are in the provided zip?\n",
    "len(zipf.filelist)"
   ]
  },
  {
   "cell_type": "code",
   "execution_count": 46,
   "metadata": {},
   "outputs": [
    {
     "data": {
      "text/plain": [
       "['oracle-corporation_annual_report_1994.docx',\n",
       " 'oracle-corporation_annual_report_1995.docx',\n",
       " 'oracle-corporation_annual_report_1996.docx']"
      ]
     },
     "execution_count": 46,
     "metadata": {},
     "output_type": "execute_result"
    }
   ],
   "source": [
    "# view the filenames\n",
    "# use the .filename attribute on each file in zip.filelist\n",
    "\n",
    "[f.filename for f in zipf.filelist]"
   ]
  },
  {
   "cell_type": "code",
   "execution_count": 54,
   "metadata": {},
   "outputs": [
    {
     "name": "stdout",
     "output_type": "stream",
     "text": [
      "Effective June 1, 1992, the Company adopted Statement of Financial Accounting Standards No. 109, \"Accounting for Income Taxes,\" which requires recognition of deferred tax liabilities and assets for the expected future tax consequences of events that have been included in the financial statements or tax returns. Under this statement, deferred tax liabilities and assets are determined based on the difference between the financial statement and tax bases of assets and liabilities, using enacted tax rates in effect for the year in which the differences are expected to reverse.\n",
      "\n",
      "Effective June 1, 1992, the Company adopted Statement of Financial Accounting Standards No. 109, \"Accounting for Income Taxes, \" (SFAS\n",
      "\n",
      "Effective June 1, 1992, the Company adopted Statement of Financial Accounting Standards No. 109, \"Accounting for Income Taxes.\" The comparative income tax data provided in this footnote for the year ended May 31, 1992 is presented under the provisions of APB 11.\n",
      "\n",
      "Effective June 1, 1992, the Company adopted Statement of Financial Accounting Standards No. 109, \"Accounting for Income Taxes,\" which requires recognition of deferred tax liabilities and assets for the expected future tax consequences of events that have been included in the financial statements or tax returns. Under this statement, deferred tax liabilities and assets are determined based on the difference between the financial statement and tax bases of assets and liabilities, using enacted tax rates in effect for the year in which the differences are expected to reverse.\n",
      "\n",
      "Effective June 1, 1992, the Company adopted Statement of Financial Accounting Standards No. 109, \"Accounting for Income Taxes,\" (\"SFAS 109\") which requires recognition of deferred tax liabilities and assets for the expected future tax consequences of events that have been included in the financial statements or tax returns. Under this statement, deferred tax liabilities and assets are determined based on the difference between the financial statement and tax bases of assets and liabilities, using enacted tax rates in effect for the year in which the differences are expected to reverse. The cumulative effect of adopting SFAS 109 as of June 1, 1992 was not material.\n",
      "\n"
     ]
    }
   ],
   "source": [
    "# Find the five paragraphs scattered in all the documents in the zip\n",
    "# that speak about 'Financial Accounting Standards No. 109'\n",
    "\n",
    "# iterate through the filelist\n",
    "for f in zipf.filelist:\n",
    "    # use zip.extract the file to the currect working directory\n",
    "    doc_file = zipf.extract(f)\n",
    "    # open the document with docx\n",
    "    doc = docx.Document(doc_file)\n",
    "    # iterate through the paragraphs in the document\n",
    "    for p in doc.paragraphs:\n",
    "        # check which paragraphs contain 'Financial Accounting Standards No. 109'\n",
    "        if 'Financial Accounting Standards No. 109' in p.text:\n",
    "            # print the paragraphs that meet the condition\n",
    "            print(p.text)\n",
    "            print()"
   ]
  }
 ],
 "metadata": {
  "kernelspec": {
   "display_name": "Python 3",
   "language": "python",
   "name": "python3"
  },
  "language_info": {
   "codemirror_mode": {
    "name": "ipython",
    "version": 3
   },
   "file_extension": ".py",
   "mimetype": "text/x-python",
   "name": "python",
   "nbconvert_exporter": "python",
   "pygments_lexer": "ipython3",
   "version": "3.6.7"
  }
 },
 "nbformat": 4,
 "nbformat_minor": 2
}
