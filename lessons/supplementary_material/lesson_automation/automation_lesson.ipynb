{
 "cells": [
  {
   "cell_type": "markdown",
   "metadata": {},
   "source": [
    "## Automation Lesson\n",
    "\n",
    "##### Author: Alex Sherman | alsherman@deloitte.com"
   ]
  },
  {
   "cell_type": "markdown",
   "metadata": {},
   "source": [
    "### Lesson Objectives:\n",
    "- Discuss python String formatting\n",
    "- Discuss Client-side versus Server-side programming\n",
    "- Learn how to request data (html, css, javascript) from a web page\n",
    "- Structure the html with BeautifulSoup\n",
    "- Identify, extract, and store selected elements from the HTML\n",
    "- Discuss web browser automation with Selenium\n",
    "- Preview Scrapy"
   ]
  },
  {
   "cell_type": "code",
   "execution_count": 1,
   "metadata": {},
   "outputs": [
    {
     "ename": "TypeError",
     "evalue": "a bytes-like object is required, not 'str'",
     "output_type": "error",
     "traceback": [
      "\u001b[1;31m---------------------------------------------------------------------------\u001b[0m",
      "\u001b[1;31mTypeError\u001b[0m                                 Traceback (most recent call last)",
      "\u001b[1;32m~\\AppData\\Local\\Continuum\\anaconda3\\envs\\guild\\lib\\site-packages\\IPython\\core\\formatters.py\u001b[0m in \u001b[0;36m__call__\u001b[1;34m(self, obj, include, exclude)\u001b[0m\n\u001b[0;32m    968\u001b[0m \u001b[1;33m\u001b[0m\u001b[0m\n\u001b[0;32m    969\u001b[0m             \u001b[1;32mif\u001b[0m \u001b[0mmethod\u001b[0m \u001b[1;32mis\u001b[0m \u001b[1;32mnot\u001b[0m \u001b[1;32mNone\u001b[0m\u001b[1;33m:\u001b[0m\u001b[1;33m\u001b[0m\u001b[0m\n\u001b[1;32m--> 970\u001b[1;33m                 \u001b[1;32mreturn\u001b[0m \u001b[0mmethod\u001b[0m\u001b[1;33m(\u001b[0m\u001b[0minclude\u001b[0m\u001b[1;33m=\u001b[0m\u001b[0minclude\u001b[0m\u001b[1;33m,\u001b[0m \u001b[0mexclude\u001b[0m\u001b[1;33m=\u001b[0m\u001b[0mexclude\u001b[0m\u001b[1;33m)\u001b[0m\u001b[1;33m\u001b[0m\u001b[0m\n\u001b[0m\u001b[0;32m    971\u001b[0m             \u001b[1;32mreturn\u001b[0m \u001b[1;32mNone\u001b[0m\u001b[1;33m\u001b[0m\u001b[0m\n\u001b[0;32m    972\u001b[0m         \u001b[1;32melse\u001b[0m\u001b[1;33m:\u001b[0m\u001b[1;33m\u001b[0m\u001b[0m\n",
      "\u001b[1;32m~\\AppData\\Local\\Continuum\\anaconda3\\envs\\guild\\lib\\site-packages\\IPython\\core\\display.py\u001b[0m in \u001b[0;36m_repr_mimebundle_\u001b[1;34m(self, include, exclude)\u001b[0m\n\u001b[0;32m   1190\u001b[0m         \u001b[1;32mif\u001b[0m \u001b[0mself\u001b[0m\u001b[1;33m.\u001b[0m\u001b[0membed\u001b[0m\u001b[1;33m:\u001b[0m\u001b[1;33m\u001b[0m\u001b[0m\n\u001b[0;32m   1191\u001b[0m             \u001b[0mmimetype\u001b[0m \u001b[1;33m=\u001b[0m \u001b[0mself\u001b[0m\u001b[1;33m.\u001b[0m\u001b[0m_mimetype\u001b[0m\u001b[1;33m\u001b[0m\u001b[0m\n\u001b[1;32m-> 1192\u001b[1;33m             \u001b[0mdata\u001b[0m\u001b[1;33m,\u001b[0m \u001b[0mmetadata\u001b[0m \u001b[1;33m=\u001b[0m \u001b[0mself\u001b[0m\u001b[1;33m.\u001b[0m\u001b[0m_data_and_metadata\u001b[0m\u001b[1;33m(\u001b[0m\u001b[0malways_both\u001b[0m\u001b[1;33m=\u001b[0m\u001b[1;32mTrue\u001b[0m\u001b[1;33m)\u001b[0m\u001b[1;33m\u001b[0m\u001b[0m\n\u001b[0m\u001b[0;32m   1193\u001b[0m             \u001b[1;32mif\u001b[0m \u001b[0mmetadata\u001b[0m\u001b[1;33m:\u001b[0m\u001b[1;33m\u001b[0m\u001b[0m\n\u001b[0;32m   1194\u001b[0m                 \u001b[0mmetadata\u001b[0m \u001b[1;33m=\u001b[0m \u001b[1;33m{\u001b[0m\u001b[0mmimetype\u001b[0m\u001b[1;33m:\u001b[0m \u001b[0mmetadata\u001b[0m\u001b[1;33m}\u001b[0m\u001b[1;33m\u001b[0m\u001b[0m\n",
      "\u001b[1;32m~\\AppData\\Local\\Continuum\\anaconda3\\envs\\guild\\lib\\site-packages\\IPython\\core\\display.py\u001b[0m in \u001b[0;36m_data_and_metadata\u001b[1;34m(self, always_both)\u001b[0m\n\u001b[0;32m   1199\u001b[0m     \u001b[1;32mdef\u001b[0m \u001b[0m_data_and_metadata\u001b[0m\u001b[1;33m(\u001b[0m\u001b[0mself\u001b[0m\u001b[1;33m,\u001b[0m \u001b[0malways_both\u001b[0m\u001b[1;33m=\u001b[0m\u001b[1;32mFalse\u001b[0m\u001b[1;33m)\u001b[0m\u001b[1;33m:\u001b[0m\u001b[1;33m\u001b[0m\u001b[0m\n\u001b[0;32m   1200\u001b[0m         \u001b[1;34m\"\"\"shortcut for returning metadata with shape information, if defined\"\"\"\u001b[0m\u001b[1;33m\u001b[0m\u001b[0m\n\u001b[1;32m-> 1201\u001b[1;33m         \u001b[0mb64_data\u001b[0m \u001b[1;33m=\u001b[0m \u001b[0mb2a_base64\u001b[0m\u001b[1;33m(\u001b[0m\u001b[0mself\u001b[0m\u001b[1;33m.\u001b[0m\u001b[0mdata\u001b[0m\u001b[1;33m)\u001b[0m\u001b[1;33m.\u001b[0m\u001b[0mdecode\u001b[0m\u001b[1;33m(\u001b[0m\u001b[1;34m'ascii'\u001b[0m\u001b[1;33m)\u001b[0m\u001b[1;33m\u001b[0m\u001b[0m\n\u001b[0m\u001b[0;32m   1202\u001b[0m         \u001b[0mmd\u001b[0m \u001b[1;33m=\u001b[0m \u001b[1;33m{\u001b[0m\u001b[1;33m}\u001b[0m\u001b[1;33m\u001b[0m\u001b[0m\n\u001b[0;32m   1203\u001b[0m         \u001b[1;32mif\u001b[0m \u001b[0mself\u001b[0m\u001b[1;33m.\u001b[0m\u001b[0mmetadata\u001b[0m\u001b[1;33m:\u001b[0m\u001b[1;33m\u001b[0m\u001b[0m\n",
      "\u001b[1;31mTypeError\u001b[0m: a bytes-like object is required, not 'str'"
     ]
    },
    {
     "ename": "TypeError",
     "evalue": "'NoneType' object is not iterable",
     "output_type": "error",
     "traceback": [
      "\u001b[1;31m---------------------------------------------------------------------------\u001b[0m",
      "\u001b[1;31mTypeError\u001b[0m                                 Traceback (most recent call last)",
      "\u001b[1;32m<ipython-input-1-49b669b702bd>\u001b[0m in \u001b[0;36m<module>\u001b[1;34m()\u001b[0m\n\u001b[0;32m      1\u001b[0m \u001b[1;32mfrom\u001b[0m \u001b[0mIPython\u001b[0m\u001b[1;33m.\u001b[0m\u001b[0mdisplay\u001b[0m \u001b[1;32mimport\u001b[0m \u001b[0mImage\u001b[0m\u001b[1;33m\u001b[0m\u001b[0m\n\u001b[1;32m----> 2\u001b[1;33m \u001b[0mImage\u001b[0m\u001b[1;33m(\u001b[0m\u001b[1;34m\"../../raw_data/images/lesson2_automation.png\"\u001b[0m\u001b[1;33m,\u001b[0m \u001b[0mwidth\u001b[0m\u001b[1;33m=\u001b[0m\u001b[1;36m800\u001b[0m\u001b[1;33m,\u001b[0m \u001b[0mheight\u001b[0m\u001b[1;33m=\u001b[0m\u001b[1;36m700\u001b[0m\u001b[1;33m)\u001b[0m\u001b[1;33m\u001b[0m\u001b[0m\n\u001b[0m",
      "\u001b[1;32m~\\AppData\\Local\\Continuum\\anaconda3\\envs\\guild\\lib\\site-packages\\IPython\\core\\displayhook.py\u001b[0m in \u001b[0;36m__call__\u001b[1;34m(self, result)\u001b[0m\n\u001b[0;32m    255\u001b[0m             \u001b[0mself\u001b[0m\u001b[1;33m.\u001b[0m\u001b[0mstart_displayhook\u001b[0m\u001b[1;33m(\u001b[0m\u001b[1;33m)\u001b[0m\u001b[1;33m\u001b[0m\u001b[0m\n\u001b[0;32m    256\u001b[0m             \u001b[0mself\u001b[0m\u001b[1;33m.\u001b[0m\u001b[0mwrite_output_prompt\u001b[0m\u001b[1;33m(\u001b[0m\u001b[1;33m)\u001b[0m\u001b[1;33m\u001b[0m\u001b[0m\n\u001b[1;32m--> 257\u001b[1;33m             \u001b[0mformat_dict\u001b[0m\u001b[1;33m,\u001b[0m \u001b[0mmd_dict\u001b[0m \u001b[1;33m=\u001b[0m \u001b[0mself\u001b[0m\u001b[1;33m.\u001b[0m\u001b[0mcompute_format_data\u001b[0m\u001b[1;33m(\u001b[0m\u001b[0mresult\u001b[0m\u001b[1;33m)\u001b[0m\u001b[1;33m\u001b[0m\u001b[0m\n\u001b[0m\u001b[0;32m    258\u001b[0m             \u001b[0mself\u001b[0m\u001b[1;33m.\u001b[0m\u001b[0mupdate_user_ns\u001b[0m\u001b[1;33m(\u001b[0m\u001b[0mresult\u001b[0m\u001b[1;33m)\u001b[0m\u001b[1;33m\u001b[0m\u001b[0m\n\u001b[0;32m    259\u001b[0m             \u001b[0mself\u001b[0m\u001b[1;33m.\u001b[0m\u001b[0mfill_exec_result\u001b[0m\u001b[1;33m(\u001b[0m\u001b[0mresult\u001b[0m\u001b[1;33m)\u001b[0m\u001b[1;33m\u001b[0m\u001b[0m\n",
      "\u001b[1;32m~\\AppData\\Local\\Continuum\\anaconda3\\envs\\guild\\lib\\site-packages\\IPython\\core\\displayhook.py\u001b[0m in \u001b[0;36mcompute_format_data\u001b[1;34m(self, result)\u001b[0m\n\u001b[0;32m    149\u001b[0m \u001b[1;33m\u001b[0m\u001b[0m\n\u001b[0;32m    150\u001b[0m         \"\"\"\n\u001b[1;32m--> 151\u001b[1;33m         \u001b[1;32mreturn\u001b[0m \u001b[0mself\u001b[0m\u001b[1;33m.\u001b[0m\u001b[0mshell\u001b[0m\u001b[1;33m.\u001b[0m\u001b[0mdisplay_formatter\u001b[0m\u001b[1;33m.\u001b[0m\u001b[0mformat\u001b[0m\u001b[1;33m(\u001b[0m\u001b[0mresult\u001b[0m\u001b[1;33m)\u001b[0m\u001b[1;33m\u001b[0m\u001b[0m\n\u001b[0m\u001b[0;32m    152\u001b[0m \u001b[1;33m\u001b[0m\u001b[0m\n\u001b[0;32m    153\u001b[0m     \u001b[1;31m# This can be set to True by the write_output_prompt method in a subclass\u001b[0m\u001b[1;33m\u001b[0m\u001b[1;33m\u001b[0m\u001b[0m\n",
      "\u001b[1;32m~\\AppData\\Local\\Continuum\\anaconda3\\envs\\guild\\lib\\site-packages\\IPython\\core\\formatters.py\u001b[0m in \u001b[0;36mformat\u001b[1;34m(self, obj, include, exclude)\u001b[0m\n\u001b[0;32m    148\u001b[0m             \u001b[1;32mreturn\u001b[0m \u001b[1;33m{\u001b[0m\u001b[1;33m}\u001b[0m\u001b[1;33m,\u001b[0m \u001b[1;33m{\u001b[0m\u001b[1;33m}\u001b[0m\u001b[1;33m\u001b[0m\u001b[0m\n\u001b[0;32m    149\u001b[0m \u001b[1;33m\u001b[0m\u001b[0m\n\u001b[1;32m--> 150\u001b[1;33m         \u001b[0mformat_dict\u001b[0m\u001b[1;33m,\u001b[0m \u001b[0mmd_dict\u001b[0m \u001b[1;33m=\u001b[0m \u001b[0mself\u001b[0m\u001b[1;33m.\u001b[0m\u001b[0mmimebundle_formatter\u001b[0m\u001b[1;33m(\u001b[0m\u001b[0mobj\u001b[0m\u001b[1;33m,\u001b[0m \u001b[0minclude\u001b[0m\u001b[1;33m=\u001b[0m\u001b[0minclude\u001b[0m\u001b[1;33m,\u001b[0m \u001b[0mexclude\u001b[0m\u001b[1;33m=\u001b[0m\u001b[0mexclude\u001b[0m\u001b[1;33m)\u001b[0m\u001b[1;33m\u001b[0m\u001b[0m\n\u001b[0m\u001b[0;32m    151\u001b[0m \u001b[1;33m\u001b[0m\u001b[0m\n\u001b[0;32m    152\u001b[0m         \u001b[1;32mif\u001b[0m \u001b[0mformat_dict\u001b[0m \u001b[1;32mor\u001b[0m \u001b[0mmd_dict\u001b[0m\u001b[1;33m:\u001b[0m\u001b[1;33m\u001b[0m\u001b[0m\n",
      "\u001b[1;31mTypeError\u001b[0m: 'NoneType' object is not iterable"
     ]
    }
   ],
   "source": [
    "from IPython.display import Image\n",
    "Image(\"../../raw_data/images/lesson2_automation.png\", width=800, height=700)"
   ]
  },
  {
   "cell_type": "code",
   "execution_count": 2,
   "metadata": {
    "collapsed": true
   },
   "outputs": [],
   "source": [
    "# import package to view websites inside the Jupyter Notebook\n",
    "from IPython.core.display import display, HTML"
   ]
  },
  {
   "cell_type": "markdown",
   "metadata": {},
   "source": [
    "### Configuration Recap"
   ]
  },
  {
   "cell_type": "code",
   "execution_count": 1,
   "metadata": {},
   "outputs": [
    {
     "data": {
      "text/plain": [
       "'C:\\\\Users\\\\alsherman\\\\Desktop\\\\PycharmProjects\\\\firm_initiatives\\\\ml_guild\\\\lessons\\\\lesson_2_automation'"
      ]
     },
     "execution_count": 1,
     "metadata": {},
     "output_type": "execute_result"
    }
   ],
   "source": [
    "# use magic command to print working directory\n",
    "# confirm you are in lesson2_automation directory\n",
    "%pwd"
   ]
  },
  {
   "cell_type": "code",
   "execution_count": 2,
   "metadata": {},
   "outputs": [],
   "source": [
    "%less ../../config.ini"
   ]
  },
  {
   "cell_type": "code",
   "execution_count": 5,
   "metadata": {
    "collapsed": true
   },
   "outputs": [],
   "source": [
    "from configparser import ConfigParser, ExtendedInterpolation\n",
    "config = ConfigParser(interpolation=ExtendedInterpolation())\n",
    "config.read('../../config.ini')\n",
    "\n",
    "SELENIUM_CHROMEDRIVER_PATH = config['AUTOMATION']['SELENIUM_CHROMEDRIVER_PATH']"
   ]
  },
  {
   "cell_type": "markdown",
   "metadata": {},
   "source": [
    "### Python String Formatting\n",
    "\n",
    "We will use formatting to add placeholders into strings in many of the lessons. For this, we will use str.format()"
   ]
  },
  {
   "cell_type": "code",
   "execution_count": 6,
   "metadata": {},
   "outputs": [
    {
     "data": {
      "text/html": [
       "<iframe src=https://pyformat.info/ width=1100 height=300></iframe>"
      ],
      "text/plain": [
       "<IPython.core.display.HTML object>"
      ]
     },
     "execution_count": 6,
     "metadata": {},
     "output_type": "execute_result"
    }
   ],
   "source": [
    "string_formatting_url = 'https://pyformat.info/'\n",
    "iframe = '<iframe src={} width=1100 height=300></iframe>'.format(string_formatting_url)\n",
    "HTML(iframe)"
   ]
  },
  {
   "cell_type": "code",
   "execution_count": 7,
   "metadata": {},
   "outputs": [
    {
     "data": {
      "text/plain": [
       "'This is a python string'"
      ]
     },
     "execution_count": 7,
     "metadata": {},
     "output_type": "execute_result"
    }
   ],
   "source": [
    "'This is a python string'"
   ]
  },
  {
   "cell_type": "code",
   "execution_count": 8,
   "metadata": {},
   "outputs": [
    {
     "data": {
      "text/plain": [
       "'We can add a parameter into the string'"
      ]
     },
     "execution_count": 8,
     "metadata": {},
     "output_type": "execute_result"
    }
   ],
   "source": [
    "'We can add a parameter {}'.format('into the string')"
   ]
  },
  {
   "cell_type": "code",
   "execution_count": 9,
   "metadata": {},
   "outputs": [
    {
     "data": {
      "text/plain": [
       "'format fills in the braces'"
      ]
     },
     "execution_count": 9,
     "metadata": {},
     "output_type": "execute_result"
    }
   ],
   "source": [
    "'format {} the braces'.format('fills in')"
   ]
  },
  {
   "cell_type": "code",
   "execution_count": 10,
   "metadata": {},
   "outputs": [
    {
     "data": {
      "text/plain": [
       "'.format() allows multiple parameters, of any datatype, param: 3.0, param: 3.0,  param: 3.0'"
      ]
     },
     "execution_count": 10,
     "metadata": {},
     "output_type": "execute_result"
    }
   ],
   "source": [
    "'.format() allows multiple parameters, of any datatype, param: {2}, param: {2},  param: {2}'.format('one', 2, 3.0)"
   ]
  },
  {
   "cell_type": "code",
   "execution_count": 11,
   "metadata": {},
   "outputs": [
    {
     "data": {
      "text/plain": [
       "'add spaces     with a colon      then number'"
      ]
     },
     "execution_count": 11,
     "metadata": {},
     "output_type": "execute_result"
    }
   ],
   "source": [
    "'add {:10} with a {:10} then number'.format('spaces','colon')"
   ]
  },
  {
   "cell_type": "code",
   "execution_count": 12,
   "metadata": {},
   "outputs": [
    {
     "name": "stdout",
     "output_type": "stream",
     "text": [
      "Successfully requested data from url1\n",
      "Successfully requested data from url2\n",
      "Successfully requested data from url3\n"
     ]
    }
   ],
   "source": [
    "# formatting is useful for populating strings as part of a loop\n",
    "urls = ['url1','url2','url3']\n",
    "\n",
    "for url in urls:\n",
    "    print('Successfully requested data from {}'.format(url))"
   ]
  },
  {
   "cell_type": "markdown",
   "metadata": {},
   "source": [
    "### REQUESTS\n",
    "\n",
    "Requests is a Python HTTP library, released under the Apache2 License. The goal of the project is to make HTTP requests simpler and more human-friendly. We will use requests to get html, css, and javascript from webpages to collect data from the web."
   ]
  },
  {
   "cell_type": "code",
   "execution_count": 13,
   "metadata": {},
   "outputs": [
    {
     "data": {
      "text/html": [
       "<iframe src=http://docs.python-requests.org/en/master/ width=1100 height=300></iframe>"
      ],
      "text/plain": [
       "<IPython.core.display.HTML object>"
      ]
     },
     "execution_count": 13,
     "metadata": {},
     "output_type": "execute_result"
    }
   ],
   "source": [
    "requests_url = 'http://docs.python-requests.org/en/master/'\n",
    "iframe = '<iframe src={} width=1100 height=300></iframe>'.format(requests_url)\n",
    "HTML(iframe)"
   ]
  },
  {
   "cell_type": "code",
   "execution_count": 4,
   "metadata": {},
   "outputs": [],
   "source": [
    "import requests\n",
    "\n",
    "# set a url for opm.gov\n",
    "opm_url = r'https://www.opm.gov/'\n",
    "\n",
    "# r is the common name for a requests instance\n",
    "r = requests.get(opm_url)"
   ]
  },
  {
   "cell_type": "markdown",
   "metadata": {},
   "source": [
    "#### Two commonly used methods for a request-response between a client and server are: GET and POST.\n",
    "- GET - Requests data from a specified resource\n",
    "- POST - Submits data to be processed to a specified resource\n",
    "\n",
    "\n",
    "#### Client-side vs Server-side Programming Languages\n",
    "\n",
    "Web development is all about communication and data exchange. This communication takes place via two parties over the HTTP protocol.\n",
    "\n",
    "- Server: The Server is responsible for serving the web pages depending on the client/end user requirement. It can be either static or dynamic.\n",
    "- Client: A client is a party that requests pages from the server and displays them to the end user. In general a client program is a web browser.\n",
    "\n",
    "source: http://www.c-sharpcorner.com/UploadFile/2072a9/client-side-vs-server-side-programming-languages/"
   ]
  },
  {
   "cell_type": "code",
   "execution_count": 15,
   "metadata": {
    "scrolled": true
   },
   "outputs": [
    {
     "data": {
      "text/html": [
       "<iframe src=https://www.afterhoursprogramming.com/tutorial/javascript/javascript-overview/ width=700 height=400></iframe>"
      ],
      "text/plain": [
       "<IPython.core.display.HTML object>"
      ]
     },
     "execution_count": 15,
     "metadata": {},
     "output_type": "execute_result"
    }
   ],
   "source": [
    "client_server_url = 'https://www.afterhoursprogramming.com/tutorial/javascript/javascript-overview/'\n",
    "iframe = '<iframe src={} width=700 height=400></iframe>'.format(client_server_url)\n",
    "HTML(iframe)"
   ]
  },
  {
   "cell_type": "code",
   "execution_count": 16,
   "metadata": {},
   "outputs": [
    {
     "data": {
      "text/plain": [
       "<Response [200]>"
      ]
     },
     "execution_count": 16,
     "metadata": {},
     "output_type": "execute_result"
    }
   ],
   "source": [
    "# view the response object from requests which contains a server's response to an HTTP request\n",
    "r"
   ]
  },
  {
   "cell_type": "code",
   "execution_count": 17,
   "metadata": {},
   "outputs": [
    {
     "name": "stdout",
     "output_type": "stream",
     "text": [
      "['__attrs__', '__bool__', '__class__', '__delattr__', '__dict__', '__dir__', '__doc__', '__enter__', '__eq__', '__exit__', '__format__', '__ge__', '__getattribute__', '__getstate__', '__gt__', '__hash__', '__init__', '__init_subclass__', '__iter__', '__le__', '__lt__', '__module__', '__ne__', '__new__', '__nonzero__', '__reduce__', '__reduce_ex__', '__repr__', '__setattr__', '__setstate__', '__sizeof__', '__str__', '__subclasshook__', '__weakref__', '_content', '_content_consumed', '_next', 'apparent_encoding', 'close', 'connection', 'content', 'cookies', 'elapsed', 'encoding', 'headers', 'history', 'is_permanent_redirect', 'is_redirect', 'iter_content', 'iter_lines', 'json', 'links', 'next', 'ok', 'raise_for_status', 'raw', 'reason', 'request', 'status_code', 'text', 'url']\n"
     ]
    }
   ],
   "source": [
    "# what methods and attributes exist for the requests object\n",
    "print(dir(r))"
   ]
  },
  {
   "cell_type": "code",
   "execution_count": 18,
   "metadata": {},
   "outputs": [
    {
     "data": {
      "text/plain": [
       "200"
      ]
     },
     "execution_count": 18,
     "metadata": {},
     "output_type": "execute_result"
    }
   ],
   "source": [
    "r.status_code"
   ]
  },
  {
   "cell_type": "code",
   "execution_count": 19,
   "metadata": {},
   "outputs": [
    {
     "name": "stdout",
     "output_type": "stream",
     "text": [
      "success\n"
     ]
    }
   ],
   "source": [
    "if r.status_code == 200:\n",
    "    print('success')"
   ]
  },
  {
   "cell_type": "markdown",
   "metadata": {},
   "source": [
    "#### Status Code Explanation    \n",
    "When a browser requests a service from a web server, an error might occur. The first digit of the status code specifies one of five standard classes of responses.\n",
    "\n",
    "- 1xx: Information\n",
    "- 2xx: Successful\n",
    "- 3xx: Redirection\n",
    "- 4xx: Client Error\n",
    "- 5xx: Server Error\n",
    "\n",
    "https://en.wikipedia.org/wiki/List_of_HTTP_status_codes"
   ]
  },
  {
   "cell_type": "code",
   "execution_count": 20,
   "metadata": {},
   "outputs": [
    {
     "data": {
      "text/plain": [
       "'\\r\\n<!DOCTYPE html>\\r\\n\\r\\n<html xmlns=\"http://www.w3.org/1999/xhtml\" xmlns:og=\"http://opengraphprotocol.org/schema/\" xmlns:fb=\"http://www.facebook.com/2008/fbml\">\\r\\n  <head><link rel=\"shortcut icon\" href=\"/favicon.ico\"><title>\\r\\n\\tOPM.gov\\r\\n</title><meta http-equiv=\"X-UA-Compatible\" content=\"IE=edge\"><meta http-equiv=\"Content-Type\" content=\"text/html; charset=utf-8\"><meta name=\"description\" content=\"Welcome to opm.gov\"><meta name=\"keywords\" content=\"OPM,Office of Personnel Management,opm.gov\"><meta name=\"Expires\"><meta name=\"TemplateVersion\" content=\"3.0\">\\r\\n      <meta property=\"fb:admins\" content=\"568256384\">\\r\\n      <meta property=\"fb:app_id\" content=\"121223957945585\">\\r\\n      <meta property=\"og:type\" content=\"government\">\\r\\n      <meta property=\"og:site_name\" content=\"U.S. Office of Personnel Management\">\\r\\n      <meta property=\"og:title\" content=\"U.S. Office of Personnel Management - www.OPM.gov\">\\r\\n      <meta property=\"og:description\" content=\"OPM works in several broad categories to recruit, '"
      ]
     },
     "execution_count": 20,
     "metadata": {},
     "output_type": "execute_result"
    }
   ],
   "source": [
    "r.text[0:1000]"
   ]
  },
  {
   "cell_type": "code",
   "execution_count": 21,
   "metadata": {},
   "outputs": [
    {
     "data": {
      "text/plain": [
       "'ISO-8859-1'"
      ]
     },
     "execution_count": 21,
     "metadata": {},
     "output_type": "execute_result"
    }
   ],
   "source": [
    "r.encoding"
   ]
  },
  {
   "cell_type": "markdown",
   "metadata": {},
   "source": [
    "#### Requests text and encoding\n",
    "\n",
    "Requests will automatically decode content from the server. Most unicode charsets are seamlessly decoded. When you make a request, Requests makes educated guesses about the encoding of the response based on the HTTP headers. \n",
    "\n",
    "The text encoding guessed by Requests is used when you access r.text. You can find out what encoding Requests is using, and change it, using the r.encoding property:\n",
    "\n",
    "- What is the difference between unicode and ascii: https://stackoverflow.com/questions/19212306/whats-the-difference-between-ascii-and-unicode"
   ]
  },
  {
   "cell_type": "markdown",
   "metadata": {},
   "source": [
    "### Beautiful Soup\n",
    "\n",
    "Beautiful Soup is a Python library for pulling data out of HTML and XML files. It works with your favorite parser to provide idiomatic ways of navigating, searching, and modifying the parse tree. It commonly saves programmers hours or days of work."
   ]
  },
  {
   "cell_type": "code",
   "execution_count": 22,
   "metadata": {},
   "outputs": [
    {
     "data": {
      "text/html": [
       "<iframe src=https://www.crummy.com/software/BeautifulSoup/bs4/doc/ width=1100 height=300></iframe>"
      ],
      "text/plain": [
       "<IPython.core.display.HTML object>"
      ]
     },
     "execution_count": 22,
     "metadata": {},
     "output_type": "execute_result"
    }
   ],
   "source": [
    "bs_url = 'https://www.crummy.com/software/BeautifulSoup/bs4/doc/'\n",
    "iframe = '<iframe src=' + bs_url + ' width=1100 height=300></iframe>'\n",
    "HTML(iframe)"
   ]
  },
  {
   "cell_type": "code",
   "execution_count": 6,
   "metadata": {},
   "outputs": [],
   "source": [
    "from bs4 import BeautifulSoup\n",
    "\n",
    "# structure the text of the request object\n",
    "b = BeautifulSoup(r.text, 'lxml')"
   ]
  },
  {
   "cell_type": "code",
   "execution_count": 24,
   "metadata": {},
   "outputs": [
    {
     "data": {
      "text/plain": [
       "<!DOCTYPE html>\n",
       "<html xmlns=\"http://www.w3.org/1999/xhtml\" xmlns:fb=\"http://www.facebook.com/2008/fbml\" xmlns:og=\"http://opengraphprotocol.org/schema/\">\n",
       "<head><link href=\"/favicon.ico\" rel=\"shortcut icon\"/><title>\n",
       "\tOPM.gov\n",
       "</title><meta content=\"IE=edge\" http-equiv=\"X-UA-Compatible\"/><meta content=\"text/html; charset=utf-8\" http-equiv=\"Content-Type\"/><meta content=\"Welcome to opm.gov\" name=\"description\"/><meta content=\"OPM,Office of Personnel Management,opm.gov\" name=\"keywords\"/><meta name=\"Expires\"/><meta content=\"3.0\" name=\"TemplateVersion\"/>\n",
       "<meta content=\"568256384\" property=\"fb:admins\"/>\n",
       "<meta content=\"121223957945585\" property=\"fb:app_id\"/>\n",
       "<meta content=\"government\" property=\"og:type\"/>\n",
       "<meta content=\"U.S. Office of Personnel Management\" property=\"og:site_name\"/>\n",
       "<meta content=\"U.S. Office of Personnel Management - www.OPM.gov\" property=\"og:title\"/>\n",
       "<meta content=\"OPM works in several broad categories to recruit, retain and honor a world-class workforce for the American people.\" property=\"og:description\"/>\n",
       "<meta content=\"https://www.opm.gov/\" property=\"og:url\"/><script src=\"//ajax.googleapis.com/ajax/libs/jquery/1.11.1/jquery.min.js\" type=\"text/javascript\"></script><script type=\"text/javascript\">\n",
       "if( !window.jQuery ) {document.write('<script type=\"text\\/javascript\" src=\"\\/js\\/jquery-1.11.1.min.js\"><\\/script>');}\n",
       "</script>\n",
       "<script src=\"/js/jquery-migrate-1.2.1.min.js\" type=\"text/javascript\"></script>\n",
       "<!--[if lt IE 9]><script src=\"/js/jquery.json-2.3.min.js\" type=\"text/javascript\"></script><![endif]-->\n",
       "<!--[if lt IE 9]><script src=\"//html5shiv.googlecode.com/svn/trunk/html5.js\" type=\"text/javascript\"></script><![endif]-->\n",
       "<script src=\"/js/jstorage.min.js\" type=\"text/javascript\"></script>\n",
       "<script src=\"/Banner/scripts/standard.js\" type=\"text/javascript\"></script>\n",
       "<script src=\"/Banner/scripts/modalOverlay.js\" type=\"text/javascript\"></script>\n",
       "<script src=\"/js/core/webmethods.setup.js\" type=\"text/javascript\"></script>\n",
       "<link href=\"/css/global.css?v=20180131\" media=\"screen,projection\" rel=\"stylesheet\" type=\"text/css\"/>\n",
       "<link href=\"//fonts.googleapis.com/css?family=Droid+Serif\" media=\"screen,projection\" rel=\"stylesheet\" type=\"text/css\"/>\n",
       "<link href=\"/css/colorbox.css?v=20140810\" media=\"screen,projection\" rel=\"stylesheet\" type=\"text/css\"/>\n",
       "<link href=\"/css/home/home.css\" media=\"screen,projection\" rel=\"stylesheet\" type=\"text/css\"/>\n",
       "<link href=\"/Banner/styles/global.css\" media=\"screen,projection\" rel=\"stylesheet\" type=\"text/css\"/>\n",
       "<!--[if IE 6]><link href=\"/Banner/styles/global_ie6.css\"  type=\"text/css\" rel=\"stylesheet\" media=\"screen,projection\"/><![endif]-->\n",
       "<link href=\"/Banner/styles/anylinkmenu.css\" media=\"screen,projection\" rel=\"stylesheet\" type=\"text/css\"/>\n",
       "<link href=\"/Banner/styles/modalOverlay.css\" media=\"screen,projection\" rel=\"stylesheet\" type=\"text/css\"/>\n",
       "<!--[if IE 7]><link href=\"/Banner/styles/global_ie7.css\"  type=\"text/css\" rel=\"stylesheet\" media=\"screen,projection\"/><![endif]-->\n",
       "<link href=\"/Banner/styles/mainpage.css\" media=\"screen,projection\" rel=\"stylesheet\" type=\"text/css\"/>\n",
       "<!--[if IE 6]><link href=\"/Banner/styles/mainpage_ie6.css\"  type=\"text/css\" rel=\"stylesheet\" media=\"screen,projection\"/><![endif]-->\n",
       "<noscript><link href=\"/Banner/styles/mainpage_noscript.css\" media=\"screen,projection\" rel=\"stylesheet\" type=\"text/css\"/></noscript>\n",
       "<link href=\"/Banner/styles/VideoJS/video-js.css\" media=\"screen,projection\" rel=\"stylesheet\" type=\"text/css\"/>\n",
       "<link href=\"/Banner/styles/vplayer-overrides.css\" media=\"screen,projection\" rel=\"stylesheet\" type=\"text/css\"/>\n",
       "<link href=\"/faqs/styles/opmanswers.css\" media=\"screen,projection\" rel=\"stylesheet\" type=\"text/css\"/>\n",
       "<link href=\"/css/print.css\" media=\"print\" rel=\"stylesheet\" type=\"text/css\"/>\n",
       "<script type=\"text/javascript\"> \n",
       "var AlwaysShowAjaxWorking = false;\n",
       "</script>\n",
       "<script language=\"javascript\" type=\"text/javascript\">\t\t\n",
       "\t\tvar AccessibilityMode = false;\n",
       "</script>\n",
       "<script type=\"text/javascript\">\n",
       "\n",
       "\t\t\t$(\"#AudienceSelector a\").live(\"click\", function () {\n",
       "\t\t\t\tvar slide = $(this).attr('href');\n",
       "\t\t\t\t$(this).addClass(\"current\");\n",
       "\t\t\t\t$(\"a\", $(this).parents(\"li\").siblings(\"li\")).removeClass(\"current\");\n",
       "\t\t\t\t// show slide\n",
       "\t\t\t\t$(this).parents(\"ul\").siblings(\"div\").hide();\n",
       "\t\t\t\t$(slide).show();\n",
       "\t\t\t\treturn false;\n",
       "\t\t\t});\n",
       "\n",
       "\t</script>\n",
       "</head>\n",
       "<body id=\"ContentPlaceHolderDefault_htmBody\">\n",
       "<form action=\"/\" id=\"frmMain\" method=\"post\">\n",
       "<div></div>\n",
       "<script></script>\n",
       "<a class=\"skipnav\" href=\"#content\">Click here to skip navigation</a>\n",
       "<div class=\"AccessibilityInfo\" id=\"AccessibilityInfoDisabled\" style=\"display:none;\">\n",
       "\t\t  This website uses features which update page content based on user actions.  If you are using assistive technology to view web content, please ensure your settings allow for the page content to update after initial load (this is sometimes called \"forms mode\").  \n",
       "\t\t  Additionally, if you are using assistive technology and would like to be notified of items via alert boxes, please <a class=\"ChangeValidationSettings\" href=\"#\">follow this link to enable alert boxes for your profile</a>.\n",
       "\t  </div>\n",
       "<div class=\"AccessibilityInfo\" id=\"AccessibilityInfoEnabled\" style=\"display:none;\">\n",
       "\t\t  This website uses features which update page content based on user actions.  If you are using assistive technology to view web content, please ensure your settings allow for the page content to update after initial load (this is sometimes called \"forms mode\").  \n",
       "\t\t  Alert box notification is currently enabled, please <a class=\"ChangeValidationSettings\" href=\"#\">follow this link to disable alert boxes for your profile</a>.\n",
       "\t  </div>\n",
       "<header>\n",
       "<div id=\"Top_Wrapper\">\n",
       "<div class=\"MaxWidth_Container\">\n",
       "<div class=\"\" id=\"VersionPlaceholder\"></div>\n",
       "<div id=\"Top_Container\">\n",
       "<ul id=\"SocialIcons\">\n",
       "<li><a class=\"social_facebook\" href=\"/leaving/index.aspx?link=http://www.facebook.com/USOPM\" title=\"Fan us on Facebook\">Facebook</a></li>\n",
       "<li><a class=\"social_twitter\" href=\"/leaving/index.aspx?link=http://twitter.com/USOPM\" title=\"Follow us on Twitter\">Twitter</a></li>\n",
       "</ul><!-- SocialIcons -->\n",
       "<ul id=\"TopLinks\">\n",
       "<li class=\"First\"><a href=\"/a-z-index/\">A–Z Index</a></li><li><a href=\"/about-us/contact-us/\">Contact Us</a></li><li><a href=\"/forms/\">Forms</a></li><li class=\"Last\"><a href=\"/FAQs/\">FAQs</a></li>\n",
       "</ul>\n",
       "<div id=\"container_operatingstatus\">\n",
       "<div class=\"label\"><a href=\"/policy-data-oversight/snow-dismissal-procedures/current-status/\">Operating Status:</a></div>\n",
       "<div class=\"message loading\"><a href=\"/policy-data-oversight/snow-dismissal-procedures/current-status/\"><span>Loading</span></a></div>\n",
       "</div>\n",
       "<div class=\"SearchBox\">\n",
       "<label class=\"SearchFor\" for=\"SiteSearchString\" id=\"SearchFor\">Search for</label>\n",
       "<input class=\"txtSearch default\" id=\"SiteSearchString\" name=\"SiteSearchString\" type=\"text\"/>\n",
       "<a class=\"dd\" href=\"#\">Change Search Collection</a>\n",
       "<span>\n",
       "<input class=\"go\" id=\"GoSearch\" name=\"GoSearch\" onclick=\"return performSearch('SiteSearchString');\" type=\"button\" value=\"Go\"/>\n",
       "</span>\n",
       "<div class=\"Options\">\n",
       "<div id=\"SearchCollectionOptionsHeader\">Select a Search Collection:</div>\n",
       "<ul id=\"SearchCollectionOptions\">\n",
       "<li class=\"CollectionOn\"><input checked=\"\" id=\"Search_default_collection\" name=\"SearchCollectionSelected\" type=\"radio\" value=\"default_collection\"/><label for=\"Search_default_collection\">All of OPM</label></li>\n",
       "<li class=\"CollectionOff\"><input id=\"Search_www_opm_gov_about\" name=\"SearchCollectionSelected\" type=\"radio\" value=\"www_opm_gov_about\"/><label for=\"Search_www_opm_gov_about\">About</label></li>\n",
       "<li class=\"CollectionOn\"><input id=\"Search_www_opm_gov_policy\" name=\"SearchCollectionSelected\" type=\"radio\" value=\"www_opm_gov_policy\"/><label for=\"Search_www_opm_gov_policy\">Policy</label></li>\n",
       "<li class=\"CollectionOff\"><input id=\"Search_www_opm_gov_insurance\" name=\"SearchCollectionSelected\" type=\"radio\" value=\"www_opm_gov_insurance\"/><label for=\"Search_www_opm_gov_insurance\">Insurance</label></li>\n",
       "<li class=\"CollectionOn\"><input id=\"Search_www_opm_gov_retirement\" name=\"SearchCollectionSelected\" type=\"radio\" value=\"www_opm_gov_retirement\"/><label for=\"Search_www_opm_gov_retirement\">Retirement</label></li>\n",
       "<li class=\"CollectionOff\"><input id=\"Search_www_opm_gov_investigations\" name=\"SearchCollectionSelected\" type=\"radio\" value=\"www_opm_gov_investigations\"/><label for=\"Search_www_opm_gov_investigations\">Investigations</label></li>\n",
       "<li class=\"CollectionOn\"><input id=\"Search_www_opm_gov_services\" name=\"SearchCollectionSelected\" type=\"radio\" value=\"www_opm_gov_services\"/><label for=\"Search_www_opm_gov_services\">Agency Services</label></li>\n",
       "<li class=\"CollectionOff\"><input id=\"Search_www_opm_gov_news\" name=\"SearchCollectionSelected\" type=\"radio\" value=\"www_opm_gov_news\"/><label for=\"Search_www_opm_gov_news\">News</label></li>\n",
       "<li class=\"CollectionOn\"><input id=\"Search_www_opm_gov_faqs\" name=\"SearchCollectionSelected\" type=\"radio\" value=\"www_opm_gov_faqs\"/><label for=\"Search_www_opm_gov_faqs\">FAQs</label></li>\n",
       "</ul>\n",
       "</div>\n",
       "</div>\n",
       "<a href=\"/leaving/index.aspx?link=http://www.whitehouse.gov\" id=\"USBanner\"><img alt=\"An official website of the United States Government.\" src=\"/img/global/Flag.gif\" title=\"An official website of the United States Government.\"/></a>\n",
       "</div>\n",
       "</div>\n",
       "</div>\n",
       "<div id=\"Navigation_Container\">\n",
       "<div id=\"OPMLogo\">\n",
       "<a href=\"/\"><span>U.S. Office of Personnel Management</span></a>\n",
       "</div>\n",
       "<nav id=\"ContentPlaceHolderDefault_MainNavigation\"><ul><li class=\"about-us\"><a href=\"/about-us/\"><span>About</span></a><a class=\"toggleNavShow\" href=\"#\">\n",
       "                Open \"About\" Submenu\n",
       "              </a><div class=\"ddNavWrapper\"><table cellpadding=\"0\" cellspacing=\"0\"><tr><td class=\"ddNavCorner ddNavCornerTL\"></td><td class=\"ddNavEdge ddNavEdgeTop\"></td><td class=\"ddNavCorner ddNavCornerTR\"></td></tr><tr><td class=\"ddNavEdge ddNavEdgeLeft\"></td><td class=\"ddNavBody HasFeaturedContent \"><div class=\"SecondaryNav_Wrapper\" parentnavitem=\"/about-us/\"><ul class=\"SecondaryNav\"><li class=\"\"><a href=\"/about-us/\"><span>Our Agency</span></a></li>\n",
       "<li class=\"\"><a href=\"/about-us/our-director/\"><span>Our Director</span></a></li>\n",
       "<li class=\"\"><a href=\"/about-us/our-inspector-general/\"><span>Our Inspector General</span></a></li>\n",
       "<li class=\"\"><a href=\"/about-us/our-mission-role-history/\"><span>Our Mission, Role &amp; History</span></a></li>\n",
       "<li class=\"\"><a href=\"/about-us/our-people-organization/\"><span>Our People &amp; Organization</span></a></li>\n",
       "<li class=\"\"><a href=\"/about-us/careers-at-opm/\"><span>Careers at OPM</span></a></li>\n",
       "<li class=\"\"><a href=\"/about-us/doing-business-with-opm/\"><span>Doing Business with OPM</span></a></li>\n",
       "<li class=\"\"><a href=\"/about-us/budget-performance/\"><span>Budget &amp; Performance</span></a></li>\n",
       "<li class=\"\"><a href=\"/about-us/open-government/\"><span>Open Government</span></a></li>\n",
       "<li class=\"\"><a href=\"/about-us/get-help/\"><span>Get Help</span></a></li>\n",
       "<li class=\"\"><a href=\"/about-us/contact-us/\"><span>Contact Us</span></a></li>\n",
       "</ul></div><div class=\"Featured_Container\" parentpath=\"/about-us/\"></div></td><td class=\"ddNavEdge ddNavEdgeRight\"></td></tr><tr><td class=\"ddNavCorner ddNavCornerBL\"></td><td class=\"ddNavEdge ddNavEdgeBottom\"><a class=\"toggleNavHide\" href=\"#\">Close Menu</a></td><td class=\"ddNavCorner ddNavCornerBR\"></td></tr></table></div>\n",
       "</li>\n",
       "<li class=\"policy\"><a href=\"/policy-data-oversight/\"><span>Policy</span></a><a class=\"toggleNavShow\" href=\"#\">\n",
       "                Open \"Policy\" Submenu\n",
       "              </a><div class=\"ddNavWrapper\"><table cellpadding=\"0\" cellspacing=\"0\"><tr><td class=\"ddNavCorner ddNavCornerTL\"></td><td class=\"ddNavEdge ddNavEdgeTop\"></td><td class=\"ddNavCorner ddNavCornerTR\"></td></tr><tr><td class=\"ddNavEdge ddNavEdgeLeft\"></td><td class=\"ddNavBody HasFeaturedContent \"><div class=\"SecondaryNav_Wrapper\" parentnavitem=\"/policy-data-oversight/\"><ul class=\"SecondaryNav FirstColumn\"><li class=\"\"><a href=\"/policy-data-oversight/assessment-and-selection/\"><span>Assessment &amp; Selection</span></a></li>\n",
       "<li class=\"\"><a href=\"/policy-data-oversight/classification-qualifications/\"><span>Classification &amp; Qualifications</span></a></li>\n",
       "<li class=\"\"><a href=\"/policy-data-oversight/data-analysis-documentation/\"><span>Data, Analysis &amp; Documentation</span></a></li>\n",
       "<li class=\"\"><a href=\"/policy-data-oversight/disability-employment/\"><span>Disability Employment</span></a></li>\n",
       "<li class=\"\"><a href=\"/policy-data-oversight/diversity-and-inclusion/\"><span>Diversity &amp; Inclusion</span></a></li>\n",
       "<li class=\"\"><a href=\"/policy-data-oversight/employee-relations/\"><span>Employee Relations</span></a></li>\n",
       "<li class=\"\"><a href=\"/policy-data-oversight/hiring-information/\"><span>Hiring Information</span></a></li>\n",
       "<li class=\"\"><a href=\"/policy-data-oversight/human-capital-management/\"><span>Human Capital Management</span></a></li>\n",
       "<li class=\"\"><a href=\"/policy-data-oversight/labor-management-relations/\"><span>Labor-Management Relations</span></a></li>\n",
       "<li class=\"\"><a href=\"/policy-data-oversight/oversight-activities/\"><span>Oversight Activities</span></a></li>\n",
       "<li class=\"\"><a href=\"/policy-data-oversight/pandemic-information/\"><span>Pandemic Information</span></a></li>\n",
       "</ul><ul class=\"SecondaryNav SecondColumn\">\n",
       "<li class=\"\"><a href=\"/policy-data-oversight/pay-leave/\"><span>Pay &amp; Leave</span></a></li>\n",
       "<li class=\"\"><a href=\"/policy-data-oversight/performance-management/\"><span>Performance Management</span></a></li>\n",
       "<li class=\"\"><a href=\"/policy-data-oversight/senior-executive-service/\"><span>Senior Executive Service</span></a></li>\n",
       "<li class=\"\"><a href=\"/policy-data-oversight/settlement-guidelines/\"><span>Settlement Guidelines</span></a></li>\n",
       "<li class=\"\"><a href=\"/policy-data-oversight/snow-dismissal-procedures/\"><span>Snow &amp; Dismissal Procedures</span></a></li>\n",
       "<li class=\"\"><a href=\"/policy-data-oversight/training-and-development/\"><span>Training &amp; Development</span></a></li>\n",
       "<li class=\"\"><a href=\"/policy-data-oversight/veterans-services/\"><span>Veterans Services</span></a></li>\n",
       "<li class=\"\"><a href=\"/policy-data-oversight/worklife/\"><span>Work-Life</span></a></li>\n",
       "<li class=\"\"><a href=\"/policy-data-oversight/workforce-restructuring/\"><span>Workforce Restructuring</span></a></li>\n",
       "<li class=\"\"><a href=\"/policy-data-oversight/policy-faqs/\"><span>Policy FAQs</span></a></li>\n",
       "<li class=\"\"><a href=\"/policy-data-oversight/contact-policymakers/\"><span>Contact Policymakers</span></a></li>\n",
       "</ul></div><div class=\"Featured_Container\" parentpath=\"/policy-data-oversight/\"></div></td><td class=\"ddNavEdge ddNavEdgeRight\"></td></tr><tr><td class=\"ddNavCorner ddNavCornerBL\"></td><td class=\"ddNavEdge ddNavEdgeBottom\"><a class=\"toggleNavHide\" href=\"#\">Close Menu</a></td><td class=\"ddNavCorner ddNavCornerBR\"></td></tr></table></div>\n",
       "</li>\n",
       "<li class=\"insurance\"><a href=\"/healthcare-insurance/\"><span>Insurance</span></a><a class=\"toggleNavShow\" href=\"#\">\n",
       "                Open \"Insurance\" Submenu\n",
       "              </a><div class=\"ddNavWrapper\"><table cellpadding=\"0\" cellspacing=\"0\"><tr><td class=\"ddNavCorner ddNavCornerTL\"></td><td class=\"ddNavEdge ddNavEdgeTop\"></td><td class=\"ddNavCorner ddNavCornerTR\"></td></tr><tr><td class=\"ddNavEdge ddNavEdgeLeft\"></td><td class=\"ddNavBody HasFeaturedContent \"><div class=\"SecondaryNav_Wrapper\" parentnavitem=\"/healthcare-insurance/\"><ul class=\"SecondaryNav FirstColumn\"><li class=\"\"><a href=\"/healthcare-insurance/life-events/\"><span>Life Events</span></a></li>\n",
       "<li class=\"\"><a href=\"/healthcare-insurance/changes-in-health-coverage/\"><span>Changes in Health Coverage</span></a></li>\n",
       "<li class=\"\"><a href=\"/healthcare-insurance/healthcare/\"><span>Healthcare</span></a></li>\n",
       "<li class=\"\"><a href=\"/healthcare-insurance/dental-vision/\"><span>Dental &amp; Vision</span></a></li>\n",
       "<li class=\"\"><a href=\"/healthcare-insurance/life-insurance/\"><span>Life Insurance</span></a></li>\n",
       "<li class=\"\"><a href=\"/healthcare-insurance/flexible-spending-accounts/\"><span>Flexible Spending Accounts</span></a></li>\n",
       "<li class=\"\"><a href=\"/healthcare-insurance/long-term-care/\"><span>Long Term Care</span></a></li>\n",
       "<li class=\"\"><a href=\"/healthcare-insurance/multi-state-plan-program/\"><span>Multi-State Plan Program</span></a></li>\n",
       "</ul><ul class=\"SecondaryNav SecondColumn\">\n",
       "<li class=\"\"><a href=\"/healthcare-insurance/tribal-employers/\"><span>Tribal Employers</span></a></li>\n",
       "<li class=\"\"><a href=\"/healthcare-insurance/special-initiatives/\"><span>Special Initiatives</span></a></li>\n",
       "<li class=\"\"><a href=\"/healthcare-insurance/insurance-glossary/\"><span>Insurance Glossary</span></a></li>\n",
       "<li class=\"\"><a href=\"/healthcare-insurance/insurance-faqs/\"><span>Insurance FAQs</span></a></li>\n",
       "<li class=\"\"><a href=\"/healthcare-insurance/contact-healthcare-insurance/\"><span>Contact Healthcare &amp; Insurance</span></a></li>\n",
       "<li class=\"\"><a href=\"/healthcare-insurance/affordable-care-act/\"><span>The Affordable Care Act</span></a></li>\n",
       "</ul></div><div class=\"Featured_Container\" parentpath=\"/healthcare-insurance/\"></div></td><td class=\"ddNavEdge ddNavEdgeRight\"></td></tr><tr><td class=\"ddNavCorner ddNavCornerBL\"></td><td class=\"ddNavEdge ddNavEdgeBottom\"><a class=\"toggleNavHide\" href=\"#\">Close Menu</a></td><td class=\"ddNavCorner ddNavCornerBR\"></td></tr></table></div>\n",
       "</li>\n",
       "<li class=\"retirement\"><a href=\"/retirement-services/\"><span>Retirement</span></a><a class=\"toggleNavShow\" href=\"#\">\n",
       "                Open \"Retirement\" Submenu\n",
       "              </a><div class=\"ddNavWrapper\"><table cellpadding=\"0\" cellspacing=\"0\"><tr><td class=\"ddNavCorner ddNavCornerTL\"></td><td class=\"ddNavEdge ddNavEdgeTop\"></td><td class=\"ddNavCorner ddNavCornerTR\"></td></tr><tr><td class=\"ddNavEdge ddNavEdgeLeft\"></td><td class=\"ddNavBody HasFeaturedContent \"><div class=\"SecondaryNav_Wrapper\" parentnavitem=\"/retirement-services/\"><ul class=\"SecondaryNav\"><li class=\"\"><a href=\"/retirement-services/my-annuity-and-benefits/\"><span>My Annuity and Benefits</span></a></li>\n",
       "<li class=\"\"><a href=\"/retirement-services/csrs-information/\"><span>CSRS Information</span></a></li>\n",
       "<li class=\"\"><a href=\"/retirement-services/fers-information/\"><span>FERS Information</span></a></li>\n",
       "<li class=\"\"><a href=\"/retirement-services/phased-retirement/\"><span>Phased Retirement</span></a></li>\n",
       "<li class=\"\"><a href=\"/retirement-services/special-notices/\"><span>Special Notices</span></a></li>\n",
       "<li class=\"\"><a href=\"/retirement-services/calculators/\"><span>Calculators</span></a></li>\n",
       "<li class=\"\"><a href=\"/retirement-services/publications-forms/\"><span>Publications &amp; Forms</span></a></li>\n",
       "<li class=\"\"><a href=\"/retirement-services/benefits-officers-center/\"><span>Benefits Officers Center</span></a></li>\n",
       "<li class=\"\"><a href=\"/retirement-services/retirement-faqs/\"><span>Retirement FAQs</span></a></li>\n",
       "<li class=\"\"><a href=\"/retirement-services/contact-retirement/\"><span>Contact Retirement</span></a></li>\n",
       "</ul></div><div class=\"Featured_Container\" parentpath=\"/retirement-services/\"></div></td><td class=\"ddNavEdge ddNavEdgeRight\"></td></tr><tr><td class=\"ddNavCorner ddNavCornerBL\"></td><td class=\"ddNavEdge ddNavEdgeBottom\"><a class=\"toggleNavHide\" href=\"#\">Close Menu</a></td><td class=\"ddNavCorner ddNavCornerBR\"></td></tr></table></div>\n",
       "</li>\n",
       "<li class=\"investigations\"><a href=\"/investigations/\"><span>Investigations</span></a><a class=\"toggleNavShow\" href=\"#\">\n",
       "                Open \"Investigations\" Submenu\n",
       "              </a><div class=\"ddNavWrapper\"><table cellpadding=\"0\" cellspacing=\"0\"><tr><td class=\"ddNavCorner ddNavCornerTL\"></td><td class=\"ddNavEdge ddNavEdgeTop\"></td><td class=\"ddNavCorner ddNavCornerTR\"></td></tr><tr><td class=\"ddNavEdge ddNavEdgeLeft\"></td><td class=\"ddNavBody HasFeaturedContent \"><div class=\"SecondaryNav_Wrapper\" parentnavitem=\"/investigations/\"><ul class=\"SecondaryNav\"><li class=\"\"><a href=\"/investigations/suitability-executive-agent/\"><span>Suitability Executive Agent</span></a></li>\n",
       "<li class=\"\"><a href=\"/investigations/suitability-executive-agent/position-designation-tool/\"><span>Position Designation Tool</span></a></li>\n",
       "<li class=\"\"><a href=\"/investigations/suitability-executive-agent/suitability-adjudications/\"><span>Suitability Adjudications</span></a></li>\n",
       "<li class=\"\"><a href=\"/investigations/suitability-executive-agent/suitability-training/\"><span>Suitability Training</span></a></li>\n",
       "<li class=\"\"><a href=\"/investigations/suitability-executive-agent/oversight/\"><span>Oversight</span></a></li>\n",
       "<li class=\"\"><a href=\"/investigations/suitability-executive-agent/policy/\"><span>Policy</span></a></li>\n",
       "<li class=\"\"><a href=\"/investigations/suitability-and-credentialing-faqs/\"><span>Frequently Asked Questions</span></a></li>\n",
       "<li class=\"\"><a href=\"/investigations/contact-suitea/\"><span>Contact SuitEA</span></a></li>\n",
       "</ul></div><div class=\"Featured_Container\" parentpath=\"/investigations/\"></div></td><td class=\"ddNavEdge ddNavEdgeRight\"></td></tr><tr><td class=\"ddNavCorner ddNavCornerBL\"></td><td class=\"ddNavEdge ddNavEdgeBottom\"><a class=\"toggleNavHide\" href=\"#\">Close Menu</a></td><td class=\"ddNavCorner ddNavCornerBR\"></td></tr></table></div>\n",
       "</li>\n",
       "<li class=\"services\"><a href=\"/services-for-agencies/\"><span>Agency Services</span></a><a class=\"toggleNavShow\" href=\"#\">\n",
       "                Open \"Agency Services\" Submenu\n",
       "              </a><div class=\"ddNavWrapper\"><table cellpadding=\"0\" cellspacing=\"0\"><tr><td class=\"ddNavCorner ddNavCornerTL\"></td><td class=\"ddNavEdge ddNavEdgeTop\"></td><td class=\"ddNavCorner ddNavCornerTR\"></td></tr><tr><td class=\"ddNavEdge ddNavEdgeLeft\"></td><td class=\"ddNavBody HasFeaturedContent \"><div class=\"SecondaryNav_Wrapper\" parentnavitem=\"/services-for-agencies/\"><ul class=\"SecondaryNav FirstColumn\"><li class=\"\"><a href=\"/services-for-agencies/classification-job-design/\"><span>Classification &amp; Job Design</span></a></li>\n",
       "<li class=\"\"><a href=\"/services-for-agencies/workforce-restructuring/\"><span>Workforce Restructuring</span></a></li>\n",
       "<li class=\"\"><a href=\"/services-for-agencies/workforce-succession-planning/\"><span>Workforce &amp; Succession Planning</span></a></li>\n",
       "<li class=\"\"><a href=\"/services-for-agencies/recruiting-staffing-solutions/\"><span>Recruiting &amp; Staffing Solutions</span></a></li>\n",
       "<li class=\"\"><a href=\"/services-for-agencies/assessment-evaluation/\"><span>Assessment &amp; Evaluation</span></a></li>\n",
       "<li class=\"\"><a href=\"/services-for-agencies/federal-leadership-development-programs/\"><span>Federal Leadership Programs</span></a></li>\n",
       "<li class=\"\"><a href=\"/services-for-agencies/center-for-leadership-development/\"><span>Center For Leadership Development</span></a></li>\n",
       "<li class=\"\"><a href=\"/services-for-agencies/performance-management/\"><span>Performance Management</span></a></li>\n",
       "</ul><ul class=\"SecondaryNav SecondColumn\">\n",
       "<li class=\"\"><a href=\"/services-for-agencies/telework-solutions/\"><span>Telework Solutions</span></a></li>\n",
       "<li class=\"\"><a href=\"/services-for-agencies/technology-systems/\"><span>Technology Systems</span></a></li>\n",
       "<li class=\"\"><a href=\"/services-for-agencies/human-capital-consultants/\"><span>Human Capital Consultants</span></a></li>\n",
       "<li class=\"\"><a href=\"/services-for-agencies/hr-line-of-business/\"><span>Human Resources Line of Business</span></a></li>\n",
       "<li class=\"\"><a href=\"/services-for-agencies/administrative-law-judges/\"><span>Administrative Law Judges</span></a></li>\n",
       "<li class=\"\"><a href=\"http://www.feb.gov\"><span>Federal Executive Boards</span></a></li>\n",
       "<li class=\"\"><a href=\"/services-for-agencies/contact-agency-services/\"><span>Contact Agency Services</span></a></li>\n",
       "</ul></div><div class=\"Featured_Container\" parentpath=\"/services-for-agencies/\"></div></td><td class=\"ddNavEdge ddNavEdgeRight\"></td></tr><tr><td class=\"ddNavCorner ddNavCornerBL\"></td><td class=\"ddNavEdge ddNavEdgeBottom\"><a class=\"toggleNavHide\" href=\"#\">Close Menu</a></td><td class=\"ddNavCorner ddNavCornerBR\"></td></tr></table></div>\n",
       "</li>\n",
       "<li class=\"news\"><a href=\"/news/\"><span>News</span></a><a class=\"toggleNavShow\" href=\"#\">\n",
       "                Open \"News\" Submenu\n",
       "              </a><div class=\"ddNavWrapper\"><table cellpadding=\"0\" cellspacing=\"0\"><tr><td class=\"ddNavCorner ddNavCornerTL\"></td><td class=\"ddNavEdge ddNavEdgeTop\"></td><td class=\"ddNavCorner ddNavCornerTR\"></td></tr><tr><td class=\"ddNavEdge ddNavEdgeLeft\"></td><td class=\"ddNavBody HasFeaturedContent \"><div class=\"SecondaryNav_Wrapper\" parentnavitem=\"/news/\"><ul class=\"SecondaryNav\"><li class=\"\"><a href=\"/news/latest-news/\"><span>Latest News</span></a></li>\n",
       "<li class=\"\"><a href=\"/news/speeches-remarks/\"><span>Speeches &amp; Remarks</span></a></li>\n",
       "<li class=\"\"><a href=\"http://www.chcoc.gov/transmittals/index.aspx\"><span>Memos to Agencies</span></a></li>\n",
       "<li class=\"\"><a href=\"/news/testimony/\"><span>Testimony</span></a></li>\n",
       "<li class=\"\"><a href=\"/news/legislative-proposals/\"><span>Legislative Proposals</span></a></li>\n",
       "<li class=\"\"><a href=\"/news/reports-publications/\"><span>Reports &amp; Publications</span></a></li>\n",
       "<li class=\"\"><a href=\"/news/social-media-presence/\"><span>Social Media Presence</span></a></li>\n",
       "<li class=\"\"><a href=\"/news/feeds-blogs-and-lists/\"><span>Feeds, Blogs &amp; Lists</span></a></li>\n",
       "<li class=\"\"><a href=\"http://archive.opm.gov\"><span>Website Archive</span></a></li>\n",
       "</ul></div><div class=\"Featured_Container\" parentpath=\"/news/\"></div></td><td class=\"ddNavEdge ddNavEdgeRight\"></td></tr><tr><td class=\"ddNavCorner ddNavCornerBL\"></td><td class=\"ddNavEdge ddNavEdgeBottom\"><a class=\"toggleNavHide\" href=\"#\">Close Menu</a></td><td class=\"ddNavCorner ddNavCornerBR\"></td></tr></table></div>\n",
       "</li>\n",
       "</ul></nav>\n",
       "<a class=\"menu-link\" href=\"#MainNavigation_Responsive\" style=\"display: none; visibility: hidden;\">☰</a>\n",
       "<div class=\"panel\" id=\"MainNavigation_Responsive\" role=\"navigation\" style=\"display: none; visibility: hidden;\">\n",
       "<ul>\n",
       "<li><a href=\"/about-us/\">About</a></li>\n",
       "<li><a href=\"/policy-data-oversight/\">Policy</a></li>\n",
       "<li><a href=\"/healthcare-insurance/\">Insurance</a></li>\n",
       "<li><a href=\"/retirement-services/\">Retirement</a></li>\n",
       "<li><a href=\"/investigations/\">Investigations</a></li>\n",
       "<li><a href=\"/services-for-agencies/\">Agency Services</a></li>\n",
       "<li><a href=\"/news/\">News</a></li>\n",
       "</ul>\n",
       "</div>\n",
       "</div>\n",
       "</header>\n",
       "<div id=\"MainContent_Gutter\">\n",
       "<div id=\"HomepageUpperContainer\">\n",
       "<div id=\"HomepageBannerContainer\">\n",
       "<link href=\"/Banner/styles/global.css\" rel=\"stylesheet\" type=\"text/css\"/>\n",
       "<!--[if IE 6]><link href=\"/Banner/styles/global_ie6.css\" rel=\"stylesheet\" type=\"text/css\" /><![endif]-->\n",
       "<link href=\"/Banner/styles/anylinkmenu.css\" rel=\"stylesheet\" type=\"text/css\"/>\n",
       "<link href=\"/Banner/styles/modalOverlay.css\" rel=\"Stylesheet\" type=\"text/css\"/>\n",
       "<!--[if IE 7]><link href=\"/Banner/styles/global_ie7.css\" rel=\"stylesheet\" type=\"text/css\" /><![endif]-->\n",
       "<link href=\"/Banner/styles/mainpage.css\" rel=\"stylesheet\" type=\"text/css\"/>\n",
       "<!--[if IE 6]><link href=\"/Banner/styles/mainpage_ie6.css\" rel=\"stylesheet\" type=\"text/css\" /><![endif]-->\n",
       "<noscript>\n",
       "<link href=\"/Banner/styles/mainpage_noscript.css\" rel=\"Stylesheet\" type=\"text/css\"/>\n",
       "</noscript>\n",
       "<script src=\"/Banner/scripts/standard.js\" type=\"text/javascript\"></script>\n",
       "<script src=\"/Banner/scripts/modalOverlay.js\" type=\"text/javascript\"></script>\n",
       "<script type=\"text/javascript\">    isIE6 = false; </script>\n",
       "<!--[if IE6]><script type=\"text/javascript\"> isIE6 = true; </script><![endif]-->\n",
       "<script type=\"text/javascript\">    isIE9 = false; </script>\n",
       "<!--[if IE 9]><script type=\"text/javascript\"> isIE9 = true; </script><![endif]-->\n",
       "<script type=\"text/javascript\">\n",
       "\t//Constants for widget identification\n",
       "\tvar WIDGET_WELCOME = 1;\n",
       "\tvar WIDGET_PERSPECTIVES = 6;\n",
       "\tvar WIDGET_FACTSFIGURES = 4; //\n",
       "\tvar WIDGET_SPOTLIGHT = 2; //\n",
       "\tvar WIDGET_JOINFEDERALSERVICE = 5;\n",
       "\tvar WIDGET_INITIATIVES = 3; //\n",
       "\n",
       "</script>\n",
       "<script src=\"/Banner/scripts/jquery.tools.min.js\"></script>\n",
       "<link href=\"/Banner/styles/VideoJS/video-js.css\" rel=\"stylesheet\" type=\"text/css\"/>\n",
       "<link href=\"/Banner/styles/vplayer-overrides.css\" rel=\"Stylesheet\" type=\"text/css\"/>\n",
       "<script src=\"/Banner/scripts/jquery.easing.1.3.js\" type=\"text/javascript\"></script>\n",
       "<script src=\"/Banner/scripts/jquery.roundabout.js\" type=\"text/javascript\"></script>\n",
       "<script src=\"/Banner/scripts/jquery.roundabout-shapes.js\" type=\"text/javascript\"></script>\n",
       "<script src=\"/Banner/scripts/jquery.simplemodal.js\" type=\"text/javascript\"></script>\n",
       "<script src=\"/Banner/scripts/carousel.jquery.js?v=20150615b\" type=\"text/javascript\"></script>\n",
       "<script src=\"/Banner/scripts/swfobject.js\" type=\"text/javascript\"></script>\n",
       "<script src=\"/js/flowplayer-3.2.7.min.js\" type=\"text/javascript\"></script>\n",
       "<script src=\"/js/flowplayer-controller-config.js\" type=\"text/javascript\"></script>\n",
       "<script src=\"/js/flowplayer.ipad-3.2.10.min.js\"></script>\n",
       "<div>\n",
       "<!-- Start: main container -->\n",
       "<div id=\"main_container_wrapper\">\n",
       "<div id=\"main_container\">\n",
       "<!-- Start: slides container -->\n",
       "<div id=\"slides_container\">\n",
       "<div class=\"slide sliden1\" id=\"dupslide3\">\n",
       "<img alt=\"OPMSpotlight-PresTransGuide2016\" id=\"ContentPlaceHolderDefault_LandingSpotlightPlaceHolder_ctl01_HomePageBanner_1_DupeSlideBeginning\" src=\"/Banner/images/spotlights/OPMSpotlight_PresTransGuide2016.jpg\"/>\n",
       "</div>\n",
       "<div class=\"slide slide1\" id=\"slide1\">\n",
       "<img alt=\"OPMSpotlight-Jeff-Pon\" src=\"/Banner/images/spotlights/OPMSpotlight_Jeff_Pon.jpg\"/>\n",
       "</div>\n",
       "<div class=\"slide slide2\" id=\"slide2\">\n",
       "<img alt=\"OPMSpotlight-StrategicPlan\" src=\"/Banner/images/spotlights/OPMSpotlight_StrategicPlan.jpg\"/>\n",
       "</div>\n",
       "<div class=\"slide slide3\" id=\"slide3\">\n",
       "<img alt=\"OPMSpotlight-CyberCareers\" src=\"/Banner/images/spotlights/OPMSpotlight_CyberCareers.jpg\"/>\n",
       "</div>\n",
       "<div class=\"slide slide4\" id=\"slide4\">\n",
       "<img alt=\"OPMSpotlight-PresTransGuide2016\" src=\"/Banner/images/spotlights/OPMSpotlight_PresTransGuide2016.jpg\"/>\n",
       "</div>\n",
       "<div class=\"slide slide5\" id=\"dupSlide1\">\n",
       "<img alt=\"OPMSpotlight-Jeff-Pon\" id=\"ContentPlaceHolderDefault_LandingSpotlightPlaceHolder_ctl01_HomePageBanner_1_DupeSlideEnding\" src=\"/Banner/images/spotlights/OPMSpotlight_Jeff_Pon.jpg\"/>\n",
       "</div>\n",
       "<div class=\"slide slide6\" id=\"dupSlide2\">\n",
       "<img alt=\"\" src=\"/Banner/images/slideJFSDummy.jpg\"/>\n",
       "</div>\n",
       "</div>\n",
       "<!-- End: slides container -->\n",
       "<!-- Start: widgets container -->\n",
       "<div id=\"slide_widgets\">\n",
       "<div class=\"widget slide1\" id=\"widget1\">\n",
       "<a class=\"bg\" href=\"https://www.opm.gov/news/releases/2018/03/opm-welcomes-dr-jeff-t-h-pon-as-11th-director-of-the-agency/\" id=\"W2MoreInfo\" src=\"/Banner/images/blank.gif\"></a>\n",
       "</div>\n",
       "<div class=\"widget slide2\" id=\"widget2\">\n",
       "<a href=\"/blogs/Director/2018/2/12/OPMs-2018---2022-Strategic-Plan/\" id=\"W2MoreInfo\"><img alt=\"Strategic Plan, Fiscal Years 2018 - 2022, opm.gov\" class=\"bg\" src=\"/Banner/images/blank.gif\"/></a>\n",
       "</div>\n",
       "<div class=\"widget slide3\" id=\"widget3\">\n",
       "<a href=\"http://www.cybercareers.gov/\" id=\"W2MoreInfo\"><img alt=\"Join the Force. Take the Challenge. CyberCareers.gov\" class=\"bg\" src=\"/Banner/images/blank.gif\"/></a>\n",
       "</div>\n",
       "<div class=\"widget slide4\" id=\"widget4\">\n",
       "<a href=\"https://www.opm.gov/PresidentialTransition\" id=\"W2MoreInfo\"><img alt=\"Presidential Transition Guide to Federal Human Resources Management Matters - Election Year 2016\" class=\"bg\" src=\"/Banner/images/blank.gif\"/></a>\n",
       "</div>\n",
       "</div>\n",
       "<!-- End: widgets container -->\n",
       "<div id=\"overlay_left_shadow\">\n",
       "<img alt=\"\" src=\"/Banner/images/overlay_shadow_left.png\"/><img alt=\"\" class=\"ie6alt\" src=\"/Banner/images/overlay_shadow_left.gif\"/></div>\n",
       "<div id=\"overlay_right_shadow\">\n",
       "<img alt=\"\" src=\"/Banner/images/overlay_shadow_right.png\"/><img alt=\"\" class=\"ie6alt\" src=\"/Banner/images/overlay_shadow_right.gif\"/></div>\n",
       "<div id=\"overlay_left_cap\">\n",
       "<img alt=\"\" src=\"/Banner/images/overlay_left_cap.png\"/><img alt=\"\" class=\"ie6alt\" src=\"/Banner/images/overlay_left_cap.gif\"/></div>\n",
       "<div id=\"overlay_right_cap\">\n",
       "<img alt=\"\" src=\"/Banner/images/overlay_right_cap.png\"/><img alt=\"\" class=\"ie6alt\" src=\"/Banner/images/overlay_right_cap.gif\"/></div>\n",
       "<div id=\"overlay_top\">\n",
       "<img alt=\"\" src=\"/Banner/images/overlay_top.png\"/><img alt=\"\" class=\"ie6alt\" src=\"/Banner/images/overlay_top.gif\"/></div>\n",
       "<div id=\"overlay_bottom_left\">\n",
       "<!--e-->\n",
       "</div>\n",
       "<div id=\"overlay_bottom_mid\">\n",
       "<!--e-->\n",
       "</div>\n",
       "<div id=\"overlay_bottom_right\">\n",
       "<!--e-->\n",
       "</div>\n",
       "<div class=\"moveblock\" id=\"moveleft\">\n",
       "<a href=\"#\" title=\"Slide Left\">\n",
       "<img alt=\"Slide Left\" class=\"ie6altHide\" src=\"/Banner/images/ArrowLeft_JoinUs.png\"/>\n",
       "<img alt=\"Slide Left\" class=\"ie6alt\" src=\"/Banner/images/ArrowLeft_JoinUs.gif\"/>\n",
       "</a>\n",
       "</div>\n",
       "<div class=\"moveblock\" id=\"moveright\">\n",
       "<a href=\"#\" title=\"Slide Right\">\n",
       "<img alt=\"Slide Right\" class=\"ie6altHide\" src=\"/Banner/images/ArrowRight_JoinUs.png\"/>\n",
       "<img alt=\"Slide Right\" class=\"ie6alt\" src=\"/Banner/images/ArrowRight_JoinUs.gif\"/>\n",
       "</a>\n",
       "</div>\n",
       "<noscript>\n",
       "<div id=\"noJSNote\">\n",
       "\t\t\t\t\tThis tool requires Javascript to operate.\n",
       "\t\t\t\t</div>\n",
       "</noscript>\n",
       "</div>\n",
       "<!-- End: main container -->\n",
       "<input id=\"ContentPlaceHolderDefault_LandingSpotlightPlaceHolder_ctl01_HomePageBanner_1_selectedSlide\" name=\"ctl00$ctl00$ctl00$ContentPlaceHolderDefault$LandingSpotlightPlaceHolder$ctl01$HomePageBanner_1$selectedSlide\" type=\"hidden\"/>\n",
       "</div>\n",
       "</div>\n",
       "<!-- MainContent_Gutter -->\n",
       "<div style=\"clear: both\">\n",
       "<!--e-->\n",
       "</div>\n",
       "</div>\n",
       "<div id=\"HomepageSections\">\n",
       "<ul id=\"AudienceSelector\">\n",
       "<li><a class=\"current\" href=\"#FederalEmployees\">Federal Employees</a></li>\n",
       "<li><a href=\"#HRPractitioners\">HR Practitioners</a></li>\n",
       "<li><a href=\"#JobSeekers\">Job Seekers</a></li>\n",
       "<li><a href=\"#Disabilities\">Job Seekers with Disabilities</a></li>\n",
       "<li><a href=\"#RetireesFamilies\">Retirees &amp; Families</a></li>\n",
       "<li><a href=\"#Veterans\">Veterans</a></li>\n",
       "</ul>\n",
       "<div class=\"audienceSlides current\" id=\"FederalEmployees\">\n",
       "<div class=\"audienceSlide audienceSlide1\">\n",
       "<h3><a href=\"https://www.opm.gov/policy-data-oversight/worklife/telework/\" title=\"Telework\">Telework</a></h3>\n",
       "Improve Continuity of Operations, Promote Management Effectiveness and Enhance Work/Life Balance</div>\n",
       "<div class=\"audienceSlide audienceSlide2\">\n",
       "<h3><a href=\"https://www.opm.gov/policy-data-oversight/training-and-development/career-development/\" title=\"Career Development\">Career Development</a></h3>\n",
       "Learn how you can achieve your personal and professional development goals</div>\n",
       "<div class=\"audienceSlide audienceSlide3\">\n",
       "<h3><a href=\"https://www.opm.gov/healthcare-insurance/healthcare/\" title=\"Healthcare\">Healthcare</a></h3>\n",
       "Learn more about healthcare coverage for Federal employees, retirees, and their families</div>\n",
       "</div>\n",
       "<div class=\"audienceSlides\" id=\"HRPractitioners\">\n",
       "<div class=\"audienceSlide audienceSlide1\">\n",
       "<h3><a href=\"https://www.opm.gov/policy-data-oversight/human-capital-management/\" title=\"Human Capital Management\">Human Capital</a></h3>\n",
       "Get the best from your agency's employees to deliver the highest quality products and services</div>\n",
       "<div class=\"audienceSlide audienceSlide2\">\n",
       "<h3><a href=\"https://www.opm.gov/policy-data-oversight/hiring-information/\" title=\"Hiring Authorities\">Hiring Authorities</a></h3>\n",
       "Hire the best workforce to support your agency's mission and goals using these hiring authorities</div>\n",
       "<div class=\"audienceSlide audienceSlide3\">\n",
       "<h3><a href=\"https://www.opm.gov/policy-data-oversight/classification-qualifications/\" title=\"Classification &amp; Qualifications\">Classification &amp; Quals</a></h3>\n",
       "Set the standards for recruiting and hiring Federal employees to build the best workforce for America</div>\n",
       "</div>\n",
       "<div class=\"audienceSlides\" id=\"JobSeekers\">\n",
       "<div class=\"audienceSlide audienceSlide1\">\n",
       "<h3><a href=\"http://www.usajobs.gov\">USAJOBS</a></h3>\n",
       "Advance your career by searching through the Federal Goverment's largest online jobs portal</div>\n",
       "<div class=\"audienceSlide audienceSlide2\">\n",
       "<h3><a href=\"https://www.usajobs.gov/StudentsAndGrads\">Students &amp; Grads</a></h3>\n",
       "Learn more about opportunities for students and new graduates to join the Federal Service</div>\n",
       "<div class=\"audienceSlide audienceSlide3\">\n",
       "<h3><a href=\"/FAQS/topic/employment/index.aspx?cid=5d9058d6-78fb-42a2-9d2a-9d14c22982f0\">Federal Hiring FAQs</a></h3>\n",
       "Find answers to your questions about applying to open positions in the Federal Service</div>\n",
       "</div>\n",
       "<div class=\"audienceSlides\" id=\"Disabilities\">\n",
       "<div class=\"audienceSlide audienceSlide1\">\n",
       "<h3><a href=\"https://www.opm.gov/policy-data-oversight/disability-employment/\" title=\"Disability Employment\">Hiring Authorities</a></h3>\n",
       "Find out how to get a job with the Schedule A appointing authority for people with disabilities</div>\n",
       "<div class=\"audienceSlide audienceSlide2\">\n",
       "<h3><a href=\"https://help.usajobs.gov/index.php/Individuals_with_Disabilities\">USAJOBS</a></h3>\n",
       "Advance your career with the Federal Government's largest online jobs portal for people with disabilities</div>\n",
       "<div class=\"audienceSlide audienceSlide3\">\n",
       "<h3><a href=\"https://www.opm.gov/policy-data-oversight/disability-employment/selective-placement-program-coordinator/\" title=\"Selective Placement Program Coordinator\">Program Coordinators</a></h3>\n",
       "Find Program Coordinators who help recruit, hire &amp; accommodate people with disabilities</div>\n",
       "</div>\n",
       "<div class=\"audienceSlides\" id=\"RetireesFamilies\">\n",
       "<div class=\"audienceSlide audienceSlide1\">\n",
       "<h3><a href=\"https://www.opm.gov/retirement-services/my-annuity-and-benefits/\" title=\"My Annuity and Benefits\">Annuity &amp; Benefits</a></h3>\n",
       "Map out your retirement benefits, discover how benefits are affected by life events, and more</div>\n",
       "<div class=\"audienceSlide audienceSlide2\">\n",
       "<h3><a href=\"https://www.servicesonline.opm.gov/\">Services Online</a></h3>\n",
       "<span>Manage your retirement online, update your personal information, sign up for direct deposit, and more</span></div>\n",
       "<div class=\"audienceSlide audienceSlide3\">\n",
       "<h3><a href=\"https://www.opm.gov/retirement-services/retirement-faqs/\" title=\"Retirement FAQs\">Retirement FAQs</a></h3>\n",
       "Find answers to your questions about retiring from a career in the Federal Service</div>\n",
       "</div>\n",
       "<div class=\"audienceSlides\" id=\"Veterans\">\n",
       "<div class=\"audienceSlide audienceSlide1\">\n",
       "<h3><a href=\"http://www.fedshirevets.gov\">Veterans</a></h3>\n",
       "Your single site for Federal Employment Information</div>\n",
       "<div class=\"audienceSlide audienceSlide2\">\n",
       "<h3><a href=\"https://www.opm.gov/policy-data-oversight/veterans-services/\" title=\"Veterans Services\">Veterans Services</a></h3>\n",
       "Learn more about governmentwide leadership to improve employment opportunities for veterans.</div>\n",
       "<div class=\"audienceSlide audienceSlide3\">\n",
       "<h3><a href=\"/FAQS/topic/veterans/index.aspx\">Veteran FAQs</a></h3>\n",
       "Find answers to your questions about Federal employment and veterans' preference</div>\n",
       "</div>\n",
       "</div>\n",
       "</div>\n",
       "<div id=\"HomepageLowerContainer\">\n",
       "<div id=\"MidBody_Container\">\n",
       "<div id=\"MidBody_Blog\"><h3>What's New <a class=\"rss_icon\" href=\"https://www.opm.gov/rss/whats-new/\"><img align=\"absmiddle\" alt=\"RSS Feed\" border=\"0\" height=\"14\" src=\"/img/global/rss_14_gray.gif\" width=\"14\"/></a></h3><div class=\"Blog_Entry\"><div class=\"Blog_Date\">Mar<span>21</span></div><div class=\"Blog_Title\"><a href=\"http://www.opm.gov/policy-data-oversight/snow-dismissal-procedures/status-archives/18/3/21/Open---2-hours-Delayed-Arrival---With-Option-for-Unscheduled-Leave-or-Unscheduled-Telework_822/\">March 22, 2018 Operating Status</a></div><p class=\"Blog_Text\">Federal agencies in the Washington, DC area are OPEN under 2 hours DELAYED ARRIVAL and employees have the OPTION FOR UNSCHEDULED LEAVE OR UNSCHEDULED TELEWORK. Employees should plan to arrive for work no more than 2 hours later than they would be expected to arrive.</p></div><div class=\"Blog_Entry\"><div class=\"Blog_Date\">Mar<span>21</span></div><div class=\"Blog_Title\"><a href=\"http://www.opm.gov/policy-data-oversight/snow-dismissal-procedures/status-archives/18/3/21/Federal-Offices-are-Closed---Emergency-and-Telework-ready-Employees-Must-Follow-Their-Agencys-Policies_818/\">March 21, 2018 Operating Status</a></div><p class=\"Blog_Text\">FEDERAL OFFICES in the Washington, DC area are CLOSED. Emergency and telework-ready employees required to work must follow their agency's policies, including written telework agreements.</p></div><div class=\"Blog_Entry\"><div class=\"Blog_Date\">Mar<span>19</span></div><div class=\"Blog_Title\"><a href=\"https://www.opm.gov/news/releases/2018/03/new-vision-and-dental-plans-coming-soon-to-military-families-and-retirees/\">New Vision and Dental Plans Coming Soon to Military Families and Retirees</a></div><p class=\"Blog_Text\">OPM, in partnership with the Defense Health Agency (DHA) and the Department of Defense (DoD), announced the Federal Employees Dental and Vision Insurance Program (FEDVIP) will be offered for the first time to TRICARE eligible retirees and their families during the 2018 Federal Benefits Open Season. </p></div><div class=\"Blog_Entry\"><div class=\"Blog_Date\">Mar<span>12</span></div><div class=\"Blog_Title\"><a href=\"https://www.opm.gov/news/releases/2018/03/opm-welcomes-dr-jeff-t-h-pon-as-11th-director-of-the-agency/\">OPM welcomes Dr. Jeff T.H. Pon as 11th director of the agency</a></div><p class=\"Blog_Text\">Dr. Jeff T. H. Pon officially begins his appointment today as Director of the U.S. Office of Personnel Management (OPM) following his Senate confirmation and swearing in last week. </p></div><div class=\"Blog_Entry\"><div class=\"Blog_Date\">Mar<span>08</span></div><div class=\"Blog_Title\"><a href=\"https://www.opm.gov/news/releases/2018/03/statement-dr-jeff-th-pon-confirmed-as-director-of-opm/\">Statement: Dr. Jeff T.H. Pon confirmed as Director of OPM</a></div><p class=\"Blog_Text\">From Acting Director of the Office of Personnel Management Kathy McGettigan:\n",
       "I am pleased to announce the Senate confirmation of both Dr.</p></div><p class=\"more\"><a href=\"/news/whats-new/\">View Whatâs New Archives</a></p></div>\n",
       "<div id=\"MidBody_Links\">\n",
       "<div id=\"TopFAQsList\">\n",
       "<h3>Frequently Asked Questions</h3>\n",
       "<h4>Search FAQs</h4>\n",
       "<div class=\"FAQsSearch\">\n",
       "<input class=\"txtHomeFAQs\" id=\"TopFAQsSearchText\" type=\"text\"/><a class=\"btnHomeFAQs\" href=\"/FAQs/\" id=\"TopFAQsSearch\">Search</a>\n",
       "</div>\n",
       "<h4 class=\"FAQsList\">Top FAQs<a href=\"/FAQs/\">See all questions</a></h4>\n",
       "<ol class=\"FAQsList\" style=\"display:none\">\n",
       "<li id=\"FAQListItem\" style=\"display:none\">\n",
       "<h4><a href=\"\">Topic</a></h4>\n",
       "<p><a href=\"#\">Item</a></p>\n",
       "</li>\n",
       "</ol>\n",
       "</div>\n",
       "</div>\n",
       "</div>\n",
       "</div>\n",
       "<div id=\"MainContent_Container\">\n",
       "<div class=\"MainContent landingPageTemplate\" id=\"ContentPlaceHolderDefault_MainContentDiv\">\n",
       "<a name=\"content\"></a>\n",
       "</div><!-- MainContent -->\n",
       "</div><!-- MainContent_Container -->\n",
       "</div><!-- MainContent_Gutter -->\n",
       "<footer>\n",
       "<div class=\"Sitemap_Container\" id=\"ContentPlaceHolderDefault_SitemapNavigation\">\n",
       "<div class=\"opm\">\n",
       "<h3>U.S. Office of Personnel Management</h3>\n",
       "<p>1900 E Street, NW, Washington, DC 20415</p>\n",
       "<p>202-606-1800</p>\n",
       "<p><a class=\"Leaving Dark\" href=\"http://federalrelay.us/\">Federal Relay Service</a></p>\n",
       "</div>\n",
       "<ul class=\"GlobalLinksLeft\">\n",
       "<li><a href=\"/a-z-index/\">A - Z Index</a></li>\n",
       "<li><a href=\"/FAQs/\">FAQs</a></li>\n",
       "<li><a href=\"/forms/\">Forms</a></li>\n",
       "<li><a href=\"/news/reports-publications/\">Reports &amp; Publications</a></li>\n",
       "<li><a href=\"/combined-federal-campaign/\">Combined Federal Campaign</a></li>\n",
       "</ul>\n",
       "<ul class=\"GlobalLinksMiddle\">\n",
       "<li><a href=\"/sustainability/\">Sustainability</a></li>\n",
       "<li><a href=\"/recovery-act/\">Recovery Act</a></li>\n",
       "<li><a href=\"/information-management/freedom-of-information-act/\">FOIA</a></li>\n",
       "<li><a href=\"/information-management/\">Information Management</a></li>\n",
       "<li><a href=\"/information-management/no-fear-act/\">No Fear Act</a></li>\n",
       "<li><a href=\"/about-us/open-government/data/\">Open Data</a></li>\n",
       "</ul>\n",
       "<ul class=\"GlobalLinksRight\">\n",
       "<li><a href=\"/our-inspector-general/\">Inspector General</a></li>\n",
       "<li><a class=\"Leaving Dark\" href=\"https://www.oge.gov/\">Ethics</a></li>\n",
       "<li><a class=\"Leaving Dark\" href=\"http://www.usa.gov/\">USA.gov</a></li>\n",
       "<li><a class=\"Leaving Dark\" href=\"http://www.osc.gov\">Office of Special Counsel</a></li>\n",
       "<li><a href=\"/information-management/privacy-policy/\">Privacy Policy</a></li>\n",
       "</ul>\n",
       "<ul id=\"Sitemap\"><li class=\"about-us\"><a href=\"/about-us/\">About</a><ul><li class=\"\"><a href=\"/about-us/\">Our Agency</a></li>\n",
       "<li class=\"\"><a href=\"/about-us/our-director/\">Our Director</a></li>\n",
       "<li class=\"\"><a href=\"/about-us/our-inspector-general/\">Our Inspector General</a></li>\n",
       "<li class=\"\"><a href=\"/about-us/our-mission-role-history/\">Our Mission, Role &amp; History</a></li>\n",
       "<li class=\"\"><a href=\"/about-us/our-people-organization/\">Our People &amp; Organization</a></li>\n",
       "<li class=\"\"><a href=\"/about-us/careers-at-opm/\">Careers at OPM</a></li>\n",
       "<li class=\"\"><a href=\"/about-us/doing-business-with-opm/\">Doing Business with OPM</a></li>\n",
       "<li class=\"\"><a href=\"/about-us/budget-performance/\">Budget &amp; Performance</a></li>\n",
       "<li class=\"\"><a href=\"/about-us/open-government/\">Open Government</a></li>\n",
       "<li class=\"\"><a href=\"/about-us/get-help/\">Get Help</a></li>\n",
       "<li class=\"\"><a href=\"/about-us/contact-us/\">Contact Us</a></li>\n",
       "</ul>\n",
       "</li>\n",
       "<li class=\"policy\"><a href=\"/policy-data-oversight/\">Policy</a><ul><li class=\"\"><a href=\"/policy-data-oversight/assessment-and-selection/\">Assessment &amp; Selection</a></li>\n",
       "<li class=\"\"><a href=\"/policy-data-oversight/classification-qualifications/\">Classification &amp; Qualifications</a></li>\n",
       "<li class=\"\"><a href=\"/policy-data-oversight/data-analysis-documentation/\">Data, Analysis &amp; Documentation</a></li>\n",
       "<li class=\"\"><a href=\"/policy-data-oversight/disability-employment/\">Disability Employment</a></li>\n",
       "<li class=\"\"><a href=\"/policy-data-oversight/diversity-and-inclusion/\">Diversity &amp; Inclusion</a></li>\n",
       "<li class=\"\"><a href=\"/policy-data-oversight/employee-relations/\">Employee Relations</a></li>\n",
       "<li class=\"\"><a href=\"/policy-data-oversight/hiring-information/\">Hiring Information</a></li>\n",
       "<li class=\"\"><a href=\"/policy-data-oversight/human-capital-management/\">Human Capital Management</a></li>\n",
       "<li class=\"\"><a href=\"/policy-data-oversight/labor-management-relations/\">Labor-Management Relations</a></li>\n",
       "<li class=\"\"><a href=\"/policy-data-oversight/oversight-activities/\">Oversight Activities</a></li>\n",
       "<li class=\"\"><a href=\"/policy-data-oversight/pandemic-information/\">Pandemic Information</a></li>\n",
       "<li class=\"\"><a href=\"/policy-data-oversight/pay-leave/\">Pay &amp; Leave</a></li>\n",
       "<li class=\"\"><a href=\"/policy-data-oversight/performance-management/\">Performance Management</a></li>\n",
       "<li class=\"\"><a href=\"/policy-data-oversight/senior-executive-service/\">Senior Executive Service</a></li>\n",
       "<li class=\"\"><a href=\"/policy-data-oversight/settlement-guidelines/\">Settlement Guidelines</a></li>\n",
       "<li class=\"\"><a href=\"/policy-data-oversight/snow-dismissal-procedures/\">Snow &amp; Dismissal Procedures</a></li>\n",
       "<li class=\"\"><a href=\"/policy-data-oversight/training-and-development/\">Training &amp; Development</a></li>\n",
       "<li class=\"\"><a href=\"/policy-data-oversight/veterans-services/\">Veterans Services</a></li>\n",
       "<li class=\"\"><a href=\"/policy-data-oversight/worklife/\">Work-Life</a></li>\n",
       "<li class=\"\"><a href=\"/policy-data-oversight/workforce-restructuring/\">Workforce Restructuring</a></li>\n",
       "<li class=\"\"><a href=\"/policy-data-oversight/policy-faqs/\">Policy FAQs</a></li>\n",
       "<li class=\"\"><a href=\"/policy-data-oversight/contact-policymakers/\">Contact Policymakers</a></li>\n",
       "</ul>\n",
       "</li>\n",
       "<li class=\"insurance\"><a href=\"/healthcare-insurance/\">Insurance</a><ul><li class=\"\"><a href=\"/healthcare-insurance/life-events/\">Life Events</a></li>\n",
       "<li class=\"\"><a href=\"/healthcare-insurance/changes-in-health-coverage/\">Changes in Health Coverage</a></li>\n",
       "<li class=\"\"><a href=\"/healthcare-insurance/healthcare/\">Healthcare</a></li>\n",
       "<li class=\"\"><a href=\"/healthcare-insurance/dental-vision/\">Dental &amp; Vision</a></li>\n",
       "<li class=\"\"><a href=\"/healthcare-insurance/life-insurance/\">Life Insurance</a></li>\n",
       "<li class=\"\"><a href=\"/healthcare-insurance/flexible-spending-accounts/\">Flexible Spending Accounts</a></li>\n",
       "<li class=\"\"><a href=\"/healthcare-insurance/long-term-care/\">Long Term Care</a></li>\n",
       "<li class=\"\"><a href=\"/healthcare-insurance/multi-state-plan-program/\">Multi-State Plan Program</a></li>\n",
       "<li class=\"\"><a href=\"/healthcare-insurance/tribal-employers/\">Tribal Employers</a></li>\n",
       "<li class=\"\"><a href=\"/healthcare-insurance/special-initiatives/\">Special Initiatives</a></li>\n",
       "<li class=\"\"><a href=\"/healthcare-insurance/insurance-glossary/\">Insurance Glossary</a></li>\n",
       "<li class=\"\"><a href=\"/healthcare-insurance/insurance-faqs/\">Insurance FAQs</a></li>\n",
       "<li class=\"\"><a href=\"/healthcare-insurance/contact-healthcare-insurance/\">Contact Healthcare &amp; Insurance</a></li>\n",
       "<li class=\"\"><a href=\"/healthcare-insurance/affordable-care-act/\">The Affordable Care Act</a></li>\n",
       "</ul>\n",
       "</li>\n",
       "<li class=\"retirement\"><a href=\"/retirement-services/\">Retirement</a><ul><li class=\"\"><a href=\"/retirement-services/my-annuity-and-benefits/\">My Annuity and Benefits</a></li>\n",
       "<li class=\"\"><a href=\"/retirement-services/csrs-information/\">CSRS Information</a></li>\n",
       "<li class=\"\"><a href=\"/retirement-services/fers-information/\">FERS Information</a></li>\n",
       "<li class=\"\"><a href=\"/retirement-services/phased-retirement/\">Phased Retirement</a></li>\n",
       "<li class=\"\"><a href=\"/retirement-services/special-notices/\">Special Notices</a></li>\n",
       "<li class=\"\"><a href=\"/retirement-services/calculators/\">Calculators</a></li>\n",
       "<li class=\"\"><a href=\"/retirement-services/publications-forms/\">Publications &amp; Forms</a></li>\n",
       "<li class=\"\"><a href=\"/retirement-services/benefits-officers-center/\">Benefits Officers Center</a></li>\n",
       "<li class=\"\"><a href=\"/retirement-services/retirement-faqs/\">Retirement FAQs</a></li>\n",
       "<li class=\"\"><a href=\"/retirement-services/contact-retirement/\">Contact Retirement</a></li>\n",
       "</ul>\n",
       "</li>\n",
       "<li class=\"investigations\"><a href=\"/investigations/\">Investigations</a><ul><li class=\"\"><a href=\"/investigations/suitability-executive-agent/\">Suitability Executive Agent</a></li>\n",
       "<li class=\"\"><a href=\"/investigations/suitability-executive-agent/position-designation-tool/\">Position Designation Tool</a></li>\n",
       "<li class=\"\"><a href=\"/investigations/suitability-executive-agent/suitability-adjudications/\">Suitability Adjudications</a></li>\n",
       "<li class=\"\"><a href=\"/investigations/suitability-executive-agent/suitability-training/\">Suitability Training</a></li>\n",
       "<li class=\"\"><a href=\"/investigations/suitability-executive-agent/oversight/\">Oversight</a></li>\n",
       "<li class=\"\"><a href=\"/investigations/suitability-executive-agent/policy/\">Policy</a></li>\n",
       "<li class=\"\"><a href=\"/investigations/suitability-and-credentialing-faqs/\">Frequently Asked Questions</a></li>\n",
       "<li class=\"\"><a href=\"/investigations/contact-suitea/\">Contact SuitEA</a></li>\n",
       "</ul>\n",
       "</li>\n",
       "<li class=\"services\"><a href=\"/services-for-agencies/\">Agency Services</a><ul><li class=\"\"><a href=\"/services-for-agencies/classification-job-design/\">Classification &amp; Job Design</a></li>\n",
       "<li class=\"\"><a href=\"/services-for-agencies/workforce-restructuring/\">Workforce Restructuring</a></li>\n",
       "<li class=\"\"><a href=\"/services-for-agencies/workforce-succession-planning/\">Workforce &amp; Succession Planning</a></li>\n",
       "<li class=\"\"><a href=\"/services-for-agencies/recruiting-staffing-solutions/\">Recruiting &amp; Staffing Solutions</a></li>\n",
       "<li class=\"\"><a href=\"/services-for-agencies/assessment-evaluation/\">Assessment &amp; Evaluation</a></li>\n",
       "<li class=\"\"><a href=\"/services-for-agencies/federal-leadership-development-programs/\">Federal Leadership Programs</a></li>\n",
       "<li class=\"\"><a href=\"/services-for-agencies/center-for-leadership-development/\">Center For Leadership Development</a></li>\n",
       "<li class=\"\"><a href=\"/services-for-agencies/performance-management/\">Performance Management</a></li>\n",
       "<li class=\"\"><a href=\"/services-for-agencies/telework-solutions/\">Telework Solutions</a></li>\n",
       "<li class=\"\"><a href=\"/services-for-agencies/technology-systems/\">Technology Systems</a></li>\n",
       "<li class=\"\"><a href=\"/services-for-agencies/human-capital-consultants/\">Human Capital Consultants</a></li>\n",
       "<li class=\"\"><a href=\"/services-for-agencies/hr-line-of-business/\">Human Resources Line of Business</a></li>\n",
       "<li class=\"\"><a href=\"/services-for-agencies/administrative-law-judges/\">Administrative Law Judges</a></li>\n",
       "<li class=\"\"><a href=\"http://www.feb.gov\">Federal Executive Boards</a></li>\n",
       "<li class=\"\"><a href=\"/services-for-agencies/contact-agency-services/\">Contact Agency Services</a></li>\n",
       "</ul>\n",
       "</li>\n",
       "<li class=\"news\"><a href=\"/news/\">News</a><ul><li class=\"\"><a href=\"/news/latest-news/\">Latest News</a></li>\n",
       "<li class=\"\"><a href=\"/news/speeches-remarks/\">Speeches &amp; Remarks</a></li>\n",
       "<li class=\"\"><a href=\"http://www.chcoc.gov/transmittals/index.aspx\">Memos to Agencies</a></li>\n",
       "<li class=\"\"><a href=\"/news/testimony/\">Testimony</a></li>\n",
       "<li class=\"\"><a href=\"/news/legislative-proposals/\">Legislative Proposals</a></li>\n",
       "<li class=\"\"><a href=\"/news/reports-publications/\">Reports &amp; Publications</a></li>\n",
       "<li class=\"\"><a href=\"/news/social-media-presence/\">Social Media Presence</a></li>\n",
       "<li class=\"\"><a href=\"/news/feeds-blogs-and-lists/\">Feeds, Blogs &amp; Lists</a></li>\n",
       "<li class=\"\"><a href=\"http://archive.opm.gov\">Website Archive</a></li>\n",
       "</ul>\n",
       "</li>\n",
       "</ul></div><!-- Sitemap_Container -->\n",
       "</footer><!-- Footer -->\n",
       "<style type=\"text/css\">\n",
       "      \n",
       "\t\t\t\t  #ControlPanelTab {\n",
       "\t\t\t\t\t  padding: 10px;\n",
       "\t\t\t\t\t  width: 150px;\n",
       "\t\t\t\t\t  background: #e2e0e1;\n",
       "\t\t\t\t\t  border-bottom: 1px solid #d6d6d6;\n",
       "\t\t\t\t\t  z-index:10000;\n",
       "\t\t\t\t\t  display:none;\n",
       "\t\t\t\t  }      \n",
       "\t\t\t</style>\n",
       "<div id=\"ControlPanelTab\">\n",
       "<a class=\"cpTab\" href=\"#\">Control Panel</a>\n",
       "</div>\n",
       "<div id=\"PageBannerContainer\"></div>\n",
       "<script src=\"/js/standard.libs.js?v=20140810\" type=\"text/javascript\"></script>\n",
       "<script src=\"/js/standard.js?v=20170817\" type=\"text/javascript\"></script>\n",
       "<script src=\"/Banner/scripts/countdown.min.js?v=2\" type=\"text/javascript\"></script>\n",
       "<script src=\"/faqs/scripts/scripts.js\" type=\"text/javascript\"></script>\n",
       "<script src=\"/js/loadfaqs.js\" type=\"text/javascript\"></script>\n",
       "<script src=\"/js/core/webmethods.js\" type=\"text/javascript\"></script>\n",
       "<script></script>\n",
       "<script></script>\n",
       "<script language=\"javascript\" type=\"text/javascript\">\t\t\n",
       "\t\tfunction AlertItem(){}\n",
       "\n",
       "\t\tfunction AlertUser(){}\n",
       "\n",
       "\t\tif (typeof fireAlertItem != 'undefined' && fireAlertItem) {\n",
       "\t\t\tAlertItem();\n",
       "\t\t}\n",
       "</script>\n",
       "<script type=\"text/javascript\">\n",
       "preload(\"/img/home/audiences/hr_classifications.png\",\n",
       "            \"/img/home/audiences/hr_hiring.png\",\n",
       "            \"/img/home/audiences/hr_management.png\",\n",
       "            \"/img/home/audiences/jobseekers_faqs.png\",\n",
       "            \"/img/home/audiences/jobseekers_students.png\",\n",
       "            \"/img/home/audiences/jobseekers_usajobs.png\"\n",
       "    );\n",
       "</script>\n",
       "<div></div></form>\n",
       "<script type=\"text/javascript\">\n",
       "\t\tfunction sendEmail(encodedEmail) {\n",
       "\t\t\tvar email = '';\n",
       "\t\t\tfor (i = 0; i < encodedEmail.length;)\n",
       "\t\t\t{\n",
       "\t\t\t\tvar letter = encodedEmail.charAt(i) + encodedEmail.charAt(i + 1);\n",
       "\t\t\t\temail += String.fromCharCode(parseInt(letter, 16));\n",
       "\t\t\t\ti += 2;\n",
       "\t\t\t}\n",
       "\t\t\tlocation.href = email;\n",
       "\t\t}\n",
       "\t</script>\n",
       "</body>\n",
       "</html>\n",
       "<!--ns 3/23/2018 12:00:19 AM -->"
      ]
     },
     "execution_count": 24,
     "metadata": {},
     "output_type": "execute_result"
    }
   ],
   "source": [
    "# BeautifulSoup structures the text, removing unnecessary \n",
    "# newline \\n and tab \\t characters\n",
    "b"
   ]
  },
  {
   "cell_type": "markdown",
   "metadata": {},
   "source": [
    "### Example HTML\n",
    "\n",
    "Before we explore the full HMTL, let's work with some example HTML"
   ]
  },
  {
   "cell_type": "code",
   "execution_count": 25,
   "metadata": {
    "collapsed": true
   },
   "outputs": [],
   "source": [
    "example_html = \"\"\"\n",
    "    <!DOCTYPE html>\n",
    "    <html lang='en'>\n",
    "\n",
    "    <head>\n",
    "        <title>The ML Guild</title>\n",
    "    </head>\n",
    "\n",
    "    <body>\n",
    "        <h1 id='headline'>Machine Learning Guild Overview</h1>\n",
    "            <p class='description'>The ML guild provides rich learning \n",
    "            content around machine learning, including self-guided courses, \n",
    "            curriculum-based learning programs, and mentorship by more \n",
    "            advanced practitioners</p>\n",
    "        <h2>Courses</h2>\n",
    "\n",
    "        <p>Below are the ML Guild Tracks:</p>\n",
    "\n",
    "        <ul>\n",
    "            <li class='first'>Explorer</li>\n",
    "            <li class='second'>Apprentice</li>\n",
    "            <li class='third'>Master</li>\n",
    "        </ul>\n",
    "    </body>\n",
    "\n",
    "    </html>\n",
    "\"\"\""
   ]
  },
  {
   "cell_type": "markdown",
   "metadata": {},
   "source": [
    "### Common BeautifulSoup Syntax\n",
    "\n",
    "#### Methods\n",
    "- find: find only the first specified html tag that meets a specified condition\n",
    "- find_all: find all html tags that meets a specified condition\n",
    "\n",
    "#### Parameters\n",
    "- attrs: dict of attributes (e.g. id, class) to filter relevant html\n",
    "\n",
    "#### Attributes\n",
    "- text: only view the text in the html (ignore the html itself) \n"
   ]
  },
  {
   "cell_type": "code",
   "execution_count": 26,
   "metadata": {
    "scrolled": true
   },
   "outputs": [
    {
     "data": {
      "text/plain": [
       "<!DOCTYPE html>\n",
       "<html lang=\"en\">\n",
       "<head>\n",
       "<title>The ML Guild</title>\n",
       "</head>\n",
       "<body>\n",
       "<h1 id=\"headline\">Machine Learning Guild Overview</h1>\n",
       "<p class=\"description\">The ML guild provides rich learning \n",
       "            content around machine learning, including self-guided courses, \n",
       "            curriculum-based learning programs, and mentorship by more \n",
       "            advanced practitioners</p>\n",
       "<h2>Courses</h2>\n",
       "<p>Below are the ML Guild Tracks:</p>\n",
       "<ul>\n",
       "<li class=\"first\">Explorer</li>\n",
       "<li class=\"second\">Apprentice</li>\n",
       "<li class=\"third\">Master</li>\n",
       "</ul>\n",
       "</body>\n",
       "</html>"
      ]
     },
     "execution_count": 26,
     "metadata": {},
     "output_type": "execute_result"
    }
   ],
   "source": [
    "# Beautiful Soup supports the HTML parser included in Python’s standard library, \n",
    "# but it also supports a number of third-party Python parsers. \n",
    "# One is the lxml parser, which is fast and lenient (i.e. it will not crash it the html is not formatted correctly)\n",
    "\n",
    "b = BeautifulSoup(example_html, 'lxml')\n",
    "b"
   ]
  },
  {
   "cell_type": "markdown",
   "metadata": {},
   "source": [
    "#### find"
   ]
  },
  {
   "cell_type": "code",
   "execution_count": 27,
   "metadata": {
    "collapsed": true
   },
   "outputs": [],
   "source": [
    "# find the title\n"
   ]
  },
  {
   "cell_type": "code",
   "execution_count": 28,
   "metadata": {
    "collapsed": true
   },
   "outputs": [],
   "source": [
    "# find the h2\n"
   ]
  },
  {
   "cell_type": "markdown",
   "metadata": {},
   "source": [
    "#### text"
   ]
  },
  {
   "cell_type": "code",
   "execution_count": 29,
   "metadata": {
    "collapsed": true
   },
   "outputs": [],
   "source": [
    "# get the text of the title\n"
   ]
  },
  {
   "cell_type": "code",
   "execution_count": 30,
   "metadata": {
    "collapsed": true
   },
   "outputs": [],
   "source": [
    "# get the text of the h2\n"
   ]
  },
  {
   "cell_type": "code",
   "execution_count": 31,
   "metadata": {
    "collapsed": true
   },
   "outputs": [],
   "source": [
    "# get the text of a list item\n"
   ]
  },
  {
   "cell_type": "markdown",
   "metadata": {},
   "source": [
    "#### find_all"
   ]
  },
  {
   "cell_type": "code",
   "execution_count": 32,
   "metadata": {
    "collapsed": true
   },
   "outputs": [],
   "source": [
    "# find all the li elements\n"
   ]
  },
  {
   "cell_type": "code",
   "execution_count": 33,
   "metadata": {
    "collapsed": true
   },
   "outputs": [],
   "source": [
    "# get the first li element from a find_all li\n"
   ]
  },
  {
   "cell_type": "code",
   "execution_count": 34,
   "metadata": {
    "collapsed": true
   },
   "outputs": [],
   "source": [
    "# iteratively print each each from the list\n"
   ]
  },
  {
   "cell_type": "markdown",
   "metadata": {},
   "source": [
    "#### attrs"
   ]
  },
  {
   "cell_type": "code",
   "execution_count": 35,
   "metadata": {
    "collapsed": true
   },
   "outputs": [],
   "source": [
    "# get the li with a class of 'first'\n"
   ]
  },
  {
   "cell_type": "code",
   "execution_count": 36,
   "metadata": {
    "collapsed": true
   },
   "outputs": [],
   "source": [
    "# get the li with a class of 'second'\n"
   ]
  },
  {
   "cell_type": "code",
   "execution_count": 37,
   "metadata": {
    "collapsed": true
   },
   "outputs": [],
   "source": [
    "# get the term 'headline' from the h1 tag\n"
   ]
  },
  {
   "cell_type": "markdown",
   "metadata": {},
   "source": [
    "### Exercise"
   ]
  },
  {
   "cell_type": "code",
   "execution_count": 38,
   "metadata": {
    "collapsed": true
   },
   "outputs": [],
   "source": [
    "# Get the text (only) for list element with class='third'\n"
   ]
  },
  {
   "cell_type": "code",
   "execution_count": 39,
   "metadata": {
    "collapsed": true
   },
   "outputs": [],
   "source": [
    "# print the text (only) of all the paragraphs in a list\n"
   ]
  },
  {
   "cell_type": "code",
   "execution_count": 40,
   "metadata": {
    "collapsed": true
   },
   "outputs": [],
   "source": [
    "# print the paragraph with the class description\n"
   ]
  },
  {
   "cell_type": "markdown",
   "metadata": {},
   "source": [
    "### Robots.txt\n",
    "\n",
    "\"WWW Robots (also called wanderers or spiders) are programs that traverse many pages in the World Wide Web by recursively retrieving linked pages. For more information see the robots page.\n",
    "In 1993 and 1994 there have been occasions where robots have visited WWW servers where they weren't welcome for various reasons. Sometimes these reasons were robot specific, e.g. certain robots swamped servers with rapid-fire requests, or retrieved the same files repeatedly. In other situations robots traversed parts of WWW servers that weren't suitable, e.g. very deep virtual trees, duplicated information, temporary information, or cgi-scripts with side-effects (such as voting).\"\n",
    "\n",
    "SOURCE: http://www.robotstxt.org/orig.html"
   ]
  },
  {
   "cell_type": "code",
   "execution_count": 41,
   "metadata": {
    "scrolled": true
   },
   "outputs": [
    {
     "data": {
      "text/html": [
       "<iframe src=http://www.robotstxt.org/orig.html width=1100 height=400></iframe>"
      ],
      "text/plain": [
       "<IPython.core.display.HTML object>"
      ]
     },
     "execution_count": 41,
     "metadata": {},
     "output_type": "execute_result"
    }
   ],
   "source": [
    "robots_url = 'http://www.robotstxt.org/orig.html'\n",
    "iframe = '<iframe src={} width=1100 height=400></iframe>'.format(robots_url)\n",
    "HTML(iframe)"
   ]
  },
  {
   "cell_type": "code",
   "execution_count": 42,
   "metadata": {},
   "outputs": [
    {
     "data": {
      "text/plain": [
       "False"
      ]
     },
     "execution_count": 42,
     "metadata": {},
     "output_type": "execute_result"
    }
   ],
   "source": [
    "from urllib import robotparser\n",
    " \n",
    "rp = robotparser.RobotFileParser()  # instantiate robotparser\n",
    "rp.set_url(\"https://www.facebook.com/robots.txt\")  # set the path to the robots.txt file\n",
    "rp.read()  # read the robots.txt file\n",
    "rp.can_fetch('*', \"https://www.facebook.com\")  # check if you are allowed to fetch a specific page"
   ]
  },
  {
   "cell_type": "code",
   "execution_count": 43,
   "metadata": {},
   "outputs": [
    {
     "data": {
      "text/plain": [
       "False"
      ]
     },
     "execution_count": 43,
     "metadata": {},
     "output_type": "execute_result"
    }
   ],
   "source": [
    "rp = robotparser.RobotFileParser()\n",
    "rp.set_url(\"https://www2.deloitte.com/robots.txt\")\n",
    "rp.read()\n",
    "rp.can_fetch('*', \"https://www2.deloitte.com/us/en.html\")"
   ]
  },
  {
   "cell_type": "code",
   "execution_count": 44,
   "metadata": {},
   "outputs": [
    {
     "data": {
      "text/plain": [
       "True"
      ]
     },
     "execution_count": 44,
     "metadata": {},
     "output_type": "execute_result"
    }
   ],
   "source": [
    "rp = robotparser.RobotFileParser()\n",
    "rp.set_url(\"http://www.annualreports.com/robots.txt\")\n",
    "rp.read()\n",
    "rp.can_fetch(\"*\", \"http://www.annualreports.com/Company/southwest-airlines-co\")"
   ]
  },
  {
   "cell_type": "code",
   "execution_count": 45,
   "metadata": {},
   "outputs": [
    {
     "data": {
      "text/plain": [
       "True"
      ]
     },
     "execution_count": 45,
     "metadata": {},
     "output_type": "execute_result"
    }
   ],
   "source": [
    "rp = robotparser.RobotFileParser()\n",
    "rp.set_url('https://www.opm.gov/robots.txt')\n",
    "rp.read()\n",
    "rp.can_fetch(\"*\", \"https://www.opm.gov\")"
   ]
  },
  {
   "cell_type": "markdown",
   "metadata": {},
   "source": [
    "### Exercise: Extract blog posts from OPM.gov"
   ]
  },
  {
   "cell_type": "code",
   "execution_count": 46,
   "metadata": {
    "collapsed": true
   },
   "outputs": [],
   "source": [
    "### REVIEW: GET OPM HTML\n",
    "\n",
    "# set a url for the OPM website homepage\n",
    "url = r'https://www.opm.gov/'\n",
    "\n",
    "# r is the common name for a requests instance\n",
    "r = requests.get(url)"
   ]
  },
  {
   "cell_type": "code",
   "execution_count": 47,
   "metadata": {
    "collapsed": true
   },
   "outputs": [],
   "source": [
    "# read in the html from deloitte\n",
    "b = BeautifulSoup(r.text, 'lxml')"
   ]
  },
  {
   "cell_type": "code",
   "execution_count": 48,
   "metadata": {
    "collapsed": true
   },
   "outputs": [],
   "source": [
    "# find the first blog post\n"
   ]
  },
  {
   "cell_type": "code",
   "execution_count": 49,
   "metadata": {
    "collapsed": true
   },
   "outputs": [],
   "source": [
    "# get the blog Title\n"
   ]
  },
  {
   "cell_type": "code",
   "execution_count": 50,
   "metadata": {
    "collapsed": true
   },
   "outputs": [],
   "source": [
    "# get the date the blog was posted\n"
   ]
  },
  {
   "cell_type": "code",
   "execution_count": 51,
   "metadata": {
    "collapsed": true
   },
   "outputs": [],
   "source": [
    "# get the blog text\n"
   ]
  },
  {
   "cell_type": "code",
   "execution_count": 52,
   "metadata": {
    "collapsed": true
   },
   "outputs": [],
   "source": [
    "# store all the blog posts\n"
   ]
  },
  {
   "cell_type": "markdown",
   "metadata": {},
   "source": [
    "### Store Data\n",
    "\n",
    "We will use a common python data stucture (e.g. list or dict) to store the data for later use. \n",
    "\n",
    "Below is a common data collection pattern:\n",
    "- A. set an empty data structure to store data\n",
    "- B. iterate through an existing data set container\n",
    "- C. extract selected pieces of information, disregard the rest of the data\n",
    "- D. add the selected information to the created data structure\n",
    "- E. view results"
   ]
  },
  {
   "cell_type": "code",
   "execution_count": 53,
   "metadata": {},
   "outputs": [
    {
     "ename": "NameError",
     "evalue": "name 'blogs' is not defined",
     "output_type": "error",
     "traceback": [
      "\u001b[1;31m---------------------------------------------------------------------------\u001b[0m",
      "\u001b[1;31mNameError\u001b[0m                                 Traceback (most recent call last)",
      "\u001b[1;32m<ipython-input-53-efc8f9e77890>\u001b[0m in \u001b[0;36m<module>\u001b[1;34m()\u001b[0m\n\u001b[0;32m      1\u001b[0m \u001b[0mall_headlines\u001b[0m \u001b[1;33m=\u001b[0m \u001b[1;33m[\u001b[0m\u001b[1;33m]\u001b[0m  \u001b[1;31m# A\u001b[0m\u001b[1;33m\u001b[0m\u001b[0m\n\u001b[0;32m      2\u001b[0m \u001b[1;33m\u001b[0m\u001b[0m\n\u001b[1;32m----> 3\u001b[1;33m \u001b[1;32mfor\u001b[0m \u001b[0mblog\u001b[0m \u001b[1;32min\u001b[0m \u001b[0mblogs\u001b[0m\u001b[1;33m:\u001b[0m \u001b[1;31m# B\u001b[0m\u001b[1;33m\u001b[0m\u001b[0m\n\u001b[0m\u001b[0;32m      4\u001b[0m     \u001b[0mheadline\u001b[0m \u001b[1;33m=\u001b[0m \u001b[0mblog\u001b[0m\u001b[1;33m.\u001b[0m\u001b[0mfind\u001b[0m\u001b[1;33m(\u001b[0m\u001b[1;34m'div'\u001b[0m\u001b[1;33m,\u001b[0m \u001b[0mattrs\u001b[0m\u001b[1;33m=\u001b[0m\u001b[1;33m{\u001b[0m\u001b[1;34m'class'\u001b[0m\u001b[1;33m:\u001b[0m\u001b[1;34m'Blog_Title'\u001b[0m\u001b[1;33m}\u001b[0m\u001b[1;33m)\u001b[0m\u001b[1;33m.\u001b[0m\u001b[0mtext\u001b[0m   \u001b[1;31m# C\u001b[0m\u001b[1;33m\u001b[0m\u001b[0m\n\u001b[0;32m      5\u001b[0m     \u001b[0mall_headlines\u001b[0m\u001b[1;33m.\u001b[0m\u001b[0mappend\u001b[0m\u001b[1;33m(\u001b[0m\u001b[0mheadline\u001b[0m\u001b[1;33m)\u001b[0m  \u001b[1;31m# D\u001b[0m\u001b[1;33m\u001b[0m\u001b[0m\n",
      "\u001b[1;31mNameError\u001b[0m: name 'blogs' is not defined"
     ]
    }
   ],
   "source": [
    "all_headlines = []  # A \n",
    "\n",
    "for blog in blogs: # B\n",
    "    headline = blog.find('div', attrs={'class':'Blog_Title'}).text   # C\n",
    "    all_headlines.append(headline)  # D\n",
    "\n",
    "all_headlines  # E"
   ]
  },
  {
   "cell_type": "code",
   "execution_count": null,
   "metadata": {
    "collapsed": true
   },
   "outputs": [],
   "source": [
    "# list comprehension - a pythonic idiom to accomplish the same task in one line\n",
    "# resource: http://python.net/~goodger/projects/pycon/2007/idiomatic/handout.html#list-comprehensions\n",
    "\n",
    "[blog.find('div', attrs={'class':'Blog_Title'}).text for blog in blogs]"
   ]
  },
  {
   "cell_type": "markdown",
   "metadata": {},
   "source": [
    "### Collect ZIP URLS from OPM.gov"
   ]
  },
  {
   "cell_type": "code",
   "execution_count": 54,
   "metadata": {
    "collapsed": true
   },
   "outputs": [],
   "source": [
    "url = r'https://www.opm.gov/data/Index.aspx?tag=FedScope'\n",
    "r = requests.get(url)\n",
    "b = BeautifulSoup(r.text, 'lxml')"
   ]
  },
  {
   "cell_type": "code",
   "execution_count": 55,
   "metadata": {
    "collapsed": true
   },
   "outputs": [],
   "source": [
    "# find the html for the table of files (HINT: look for the class DataTable)\n",
    "data_table = b.find('table', attrs={'class':'DataTable'})"
   ]
  },
  {
   "cell_type": "code",
   "execution_count": 56,
   "metadata": {},
   "outputs": [
    {
     "data": {
      "text/plain": [
       "<tr>\n",
       "<td valign=\"top\">FedScope Accessions Cube (FY 2011 - FY 2017)</td>\n",
       "<td valign=\"top\">\n",
       "<a href=\"/Data/Files/533/b639c412-f4fe-42fb-984f-4d10ee7154f1.pdf\"><img alt=\"Data Dictionary\" border=\"0\" src=\"/img/global/icoPDF.gif\"/></a>\n",
       "<span class=\"FileSize\">[297.96 KB]</span>\n",
       "</td>\n",
       "<td>\n",
       "<span>\n",
       "<a href=\"/Data/Files/533/300c70ba-9803-4ec5-ad96-0eea3fd1af61.zip\"><img alt=\"Download File\" border=\"0\" src=\"/img/global/icoZip.gif\"/></a>\n",
       "<span class=\"FileSize\">[12.88 MB]</span>\n",
       "</span>\n",
       "</td>\n",
       "<td valign=\"top\">\n",
       "\t\t\t\t\t\tWebsite: <a href=\"https://www.fedscope.opm.gov/\">www.fedscope.opm.gov</a><br/>\n",
       "\t\t\t\t\t\tEmail: <a href=\"mailto:FedScope@opm.gov\">FedScope@opm.gov</a><br/>\n",
       "</td>\n",
       "<td>\n",
       "\t\t\t\t\t\tfedscope\n",
       "\t\t\t\t\t</td>\n",
       "<td>3/2/2018</td>\n",
       "</tr>"
      ]
     },
     "execution_count": 56,
     "metadata": {},
     "output_type": "execute_result"
    }
   ],
   "source": [
    "# find the html for the first row of files (HINT: make sure to skip the table headers)\n",
    "row = data_table.find_all('tr')[1]\n",
    "row"
   ]
  },
  {
   "cell_type": "code",
   "execution_count": 57,
   "metadata": {},
   "outputs": [
    {
     "data": {
      "text/plain": [
       "'FedScope Accessions Cube (FY 2011 - FY 2017)'"
      ]
     },
     "execution_count": 57,
     "metadata": {},
     "output_type": "execute_result"
    }
   ],
   "source": [
    "# find the 'td' element with the file name\n",
    "filename = row.find('td').text\n",
    "filename"
   ]
  },
  {
   "cell_type": "code",
   "execution_count": 58,
   "metadata": {},
   "outputs": [
    {
     "data": {
      "text/plain": [
       "<td>\n",
       "<span>\n",
       "<a href=\"/Data/Files/533/300c70ba-9803-4ec5-ad96-0eea3fd1af61.zip\"><img alt=\"Download File\" border=\"0\" src=\"/img/global/icoZip.gif\"/></a>\n",
       "<span class=\"FileSize\">[12.88 MB]</span>\n",
       "</span>\n",
       "</td>"
      ]
     },
     "execution_count": 58,
     "metadata": {},
     "output_type": "execute_result"
    }
   ],
   "source": [
    "# find the 'td' element with the .zip link (HINT: look for 'a href')\n",
    "url = data_table.find_all('td')[2]\n",
    "url"
   ]
  },
  {
   "cell_type": "code",
   "execution_count": 59,
   "metadata": {},
   "outputs": [
    {
     "data": {
      "text/plain": [
       "'/Data/Files/533/300c70ba-9803-4ec5-ad96-0eea3fd1af61.zip'"
      ]
     },
     "execution_count": 59,
     "metadata": {},
     "output_type": "execute_result"
    }
   ],
   "source": [
    "# get the zip url\n",
    "url_end = url.find('a')['href']\n",
    "url_end"
   ]
  },
  {
   "cell_type": "code",
   "execution_count": 60,
   "metadata": {},
   "outputs": [
    {
     "data": {
      "text/plain": [
       "'https://www.opm.gov/Data/Files/533/300c70ba-9803-4ec5-ad96-0eea3fd1af61.zip'"
      ]
     },
     "execution_count": 60,
     "metadata": {},
     "output_type": "execute_result"
    }
   ],
   "source": [
    "# add the base url\n",
    "BASE_URL = r'https://www.opm.gov'\n",
    "url = ''.join([BASE_URL, url_end])\n",
    "url"
   ]
  },
  {
   "cell_type": "code",
   "execution_count": 61,
   "metadata": {},
   "outputs": [
    {
     "ename": "ZeroDivisionError",
     "evalue": "division by zero",
     "output_type": "error",
     "traceback": [
      "\u001b[1;31m---------------------------------------------------------------------------\u001b[0m",
      "\u001b[1;31mZeroDivisionError\u001b[0m                         Traceback (most recent call last)",
      "\u001b[1;32m<ipython-input-61-6d82b9952977>\u001b[0m in \u001b[0;36m<module>\u001b[1;34m()\u001b[0m\n\u001b[0;32m      1\u001b[0m \u001b[1;31m# Exception Handling\u001b[0m\u001b[1;33m\u001b[0m\u001b[1;33m\u001b[0m\u001b[0m\n\u001b[1;32m----> 2\u001b[1;33m \u001b[1;36m0\u001b[0m\u001b[1;33m/\u001b[0m\u001b[1;36m0\u001b[0m\u001b[1;33m\u001b[0m\u001b[0m\n\u001b[0m",
      "\u001b[1;31mZeroDivisionError\u001b[0m: division by zero"
     ]
    }
   ],
   "source": [
    "# Exception Handling\n",
    "0/0"
   ]
  },
  {
   "cell_type": "code",
   "execution_count": 62,
   "metadata": {},
   "outputs": [
    {
     "name": "stdout",
     "output_type": "stream",
     "text": [
      "successfully caught error\n"
     ]
    }
   ],
   "source": [
    "### Try - Except to handle expected errors\n",
    "try:\n",
    "   0/0\n",
    "except ZeroDivisionError:\n",
    "    print('successfully caught error')"
   ]
  },
  {
   "cell_type": "markdown",
   "metadata": {},
   "source": [
    "#### Exercise\n",
    "\n",
    "Combine the above code to collect all the zip urls into differnet a list (exercise 1) then into a dict (exercise 2)"
   ]
  },
  {
   "cell_type": "code",
   "execution_count": null,
   "metadata": {
    "collapsed": true
   },
   "outputs": [],
   "source": [
    "# Identify, extract, and store all zip urls\n",
    "# store them in a list called zip_urls\n",
    "\n",
    "BASE_URL = r'https://www.opm.gov'\n",
    "zip_urls = []\n",
    "data_table = b.find('table', attrs={'class':'DataTable'})\n",
    "\n",
    "\n",
    "for row in data_table.find_all('tr')[1:]:\n",
    "    # TODO\n",
    "    "
   ]
  },
  {
   "cell_type": "code",
   "execution_count": null,
   "metadata": {
    "collapsed": true
   },
   "outputs": [],
   "source": [
    "# Identify, extract, and store all filenames and zip urls\n",
    "# store them in a dict called zip_urls\n",
    "\n",
    "BASE_URL = r'https://www.opm.gov'\n",
    "zip_urls = {}\n",
    "data_table = b.find('table', attrs={'class':'DataTable'})\n",
    "\n",
    "for row in data_table.find_all('tr')[1:]: # skip table headers\n",
    "    # TODO\n",
    "    "
   ]
  },
  {
   "cell_type": "markdown",
   "metadata": {},
   "source": [
    "# Bonus Material\n",
    "\n",
    "### Selenium - Web Browser Automation"
   ]
  },
  {
   "cell_type": "markdown",
   "metadata": {},
   "source": [
    "### Installation\n",
    "\n",
    "Download ChromeDriver:\n",
    "- https://chromedriver.storage.googleapis.com/index.html?path=2.37/\n",
    "\n",
    "In Git Bash Type the following:\n",
    "- conda install -c conda-forge selenium\n",
    "- conda install -c conda-forge googlemaps"
   ]
  },
  {
   "cell_type": "code",
   "execution_count": null,
   "metadata": {
    "collapsed": true
   },
   "outputs": [],
   "source": [
    "from selenium import webdriver\n",
    "from selenium.webdriver.common.keys import Keys"
   ]
  },
  {
   "cell_type": "code",
   "execution_count": null,
   "metadata": {
    "collapsed": true
   },
   "outputs": [],
   "source": [
    "# confirm path to selenium executable\n",
    "SELENIUM_CHROMEDRIVER_PATH"
   ]
  },
  {
   "cell_type": "code",
   "execution_count": null,
   "metadata": {
    "collapsed": true
   },
   "outputs": [],
   "source": [
    "rp = robotparser.RobotFileParser()\n",
    "rp.set_url('https://www.opm.gov/data/Index.aspx?tag=FedScope')\n",
    "rp.read()\n",
    "rp.can_fetch(\"*\", \"https://www.opm.gov\")"
   ]
  },
  {
   "cell_type": "code",
   "execution_count": null,
   "metadata": {
    "collapsed": true
   },
   "outputs": [],
   "source": [
    "# specify which browser to use (Chrome)\n",
    "# https://chromedriver.storage.googleapis.com/index.html?path=2.25/\n",
    "browser = webdriver.Chrome(SELENIUM_CHROMEDRIVER_PATH)\n",
    "browser.implicitly_wait(2)"
   ]
  },
  {
   "cell_type": "code",
   "execution_count": null,
   "metadata": {
    "collapsed": true
   },
   "outputs": [],
   "source": [
    "# go to OPM.gov\n",
    "browser.get(r'https://www.opm.gov/data/Index.aspx?tag=FedScope')"
   ]
  },
  {
   "cell_type": "code",
   "execution_count": null,
   "metadata": {
    "collapsed": true
   },
   "outputs": [],
   "source": [
    "# select an item in the sort by box\n",
    "browser.find_element_by_xpath(\n",
    "    r'//*[@id=\"ctl01_ctl00_MainContentPlaceHolder_MainContentPlaceHolder_SortCol\"]/option[2]').click()\n"
   ]
  },
  {
   "cell_type": "code",
   "execution_count": null,
   "metadata": {
    "collapsed": true
   },
   "outputs": [],
   "source": [
    "### Press 'go' button\n",
    "browser.find_element_by_xpath(\n",
    "    r'//*[@id=\"ctl01_ctl00_MainContentPlaceHolder_MainContentPlaceHolder_Filter\"]').click()"
   ]
  },
  {
   "cell_type": "code",
   "execution_count": null,
   "metadata": {
    "collapsed": true
   },
   "outputs": [],
   "source": [
    "# type and submit a query in the search box\n",
    "inputbox = browser.find_element_by_xpath(r'//*[@id=\"ctl01_ctl00_MainContentPlaceHolder_MainContentPlaceHolder_SearchTerm\"]')\n",
    "      \n",
    "inputbox.send_keys('OPM')\n",
    "inputbox.send_keys(Keys.ENTER)"
   ]
  },
  {
   "cell_type": "code",
   "execution_count": null,
   "metadata": {
    "collapsed": true
   },
   "outputs": [],
   "source": [
    "# return to OPM.gov\n",
    "browser.get(r'https://www.opm.gov/data/Index.aspx?tag=FedScope')"
   ]
  },
  {
   "cell_type": "code",
   "execution_count": null,
   "metadata": {
    "collapsed": true
   },
   "outputs": [],
   "source": [
    "# select the assessment drop down\n",
    "browser.find_element_by_xpath(\n",
    "        r'//*[@id=\"SecondaryNavigation\"]/li[1]/a[2]'\n",
    "        ).click()"
   ]
  },
  {
   "cell_type": "code",
   "execution_count": null,
   "metadata": {
    "collapsed": true
   },
   "outputs": [],
   "source": [
    "# get_first_zip_link\n",
    "html = browser.find_element_by_xpath(\n",
    "    r'//*[@id=\"ctl01_ctl00_MainContentDiv\"]/table/tbody/tr[2]/td[3]/span/a')\n",
    "link = html.get_attribute('href')\n",
    "link"
   ]
  },
  {
   "cell_type": "code",
   "execution_count": null,
   "metadata": {
    "collapsed": true
   },
   "outputs": [],
   "source": [
    "# close the browser\n",
    "browser.close()"
   ]
  },
  {
   "cell_type": "markdown",
   "metadata": {},
   "source": [
    "### APIs"
   ]
  },
  {
   "cell_type": "code",
   "execution_count": null,
   "metadata": {
    "collapsed": true
   },
   "outputs": [],
   "source": [
    "# XML\n",
    "xml_url = r'https://raw.githubusercontent.com/Alexjmsherman/python_for_data_analysis/master/Data_Scraping_APIs_and_Automation/data/example_xml.xml'\n",
    "r = requests.get(xml_url)\n",
    "b = BeautifulSoup(r.text, 'xml')\n",
    "\n",
    "b"
   ]
  },
  {
   "cell_type": "code",
   "execution_count": null,
   "metadata": {
    "collapsed": true
   },
   "outputs": [],
   "source": [
    "# find the fourth topic\n",
    "b.find_all('NAME')[3]"
   ]
  },
  {
   "cell_type": "code",
   "execution_count": null,
   "metadata": {
    "collapsed": true
   },
   "outputs": [],
   "source": [
    "# collect data from google maps api\n",
    "# documentation: https://developers.google.com/maps/documentation/geocoding/start\n",
    "address = 'Cosi Rosslyn'\n",
    "api_url = r'https://maps.googleapis.com/maps/api/geocode/xml?address={}'.format(address)\n",
    "r = requests.get(api_url)\n",
    "b = BeautifulSoup(r.text, 'xml')\n",
    "\n",
    "b"
   ]
  },
  {
   "cell_type": "code",
   "execution_count": null,
   "metadata": {
    "collapsed": true
   },
   "outputs": [],
   "source": [
    "# find the status code\n",
    "b.find('status').text"
   ]
  },
  {
   "cell_type": "code",
   "execution_count": null,
   "metadata": {
    "collapsed": true
   },
   "outputs": [],
   "source": [
    "# find the postal code\n",
    "address_components = b.find_all('address_component')\n",
    "for address in address_components:\n",
    "    address_type = address.find('type').text\n",
    "    if 'postal_code' in address_type:\n",
    "        print(address.find('long_name').text)"
   ]
  },
  {
   "cell_type": "code",
   "execution_count": null,
   "metadata": {
    "collapsed": true
   },
   "outputs": [],
   "source": [
    "# find the latitude and longitude\n",
    "latitude = b.find('location').find('lat').text\n",
    "longitude = b.find('location').find('lng').text"
   ]
  },
  {
   "cell_type": "code",
   "execution_count": null,
   "metadata": {
    "collapsed": true
   },
   "outputs": [],
   "source": [
    "# json\n",
    "import json\n",
    "\n",
    "# The missing JSON inspector for chrome \n",
    "# https://chrome.google.com/webstore/detail/the-missing-json-inspecto/hhffklcokfpbcajebmnpijpkaeadlgfn\n",
    "address = 'Cosi Rosslyn'\n",
    "api_json_url = r'https://maps.googleapis.com/maps/api/geocode/json?address={}'.format(address)\n",
    "r = requests.get(api_json_url)"
   ]
  },
  {
   "cell_type": "code",
   "execution_count": null,
   "metadata": {
    "collapsed": true
   },
   "outputs": [],
   "source": [
    "# get the latitude and longitude from json\n",
    "j = json.loads(r.text)\n",
    "j"
   ]
  },
  {
   "cell_type": "code",
   "execution_count": null,
   "metadata": {
    "collapsed": true
   },
   "outputs": [],
   "source": [
    "# latitude\n",
    "print(j['results'][0]['geometry']['location']['lat'])\n",
    "\n",
    "# longitude\n",
    "print(j['results'][0]['geometry']['location']['lng'])"
   ]
  },
  {
   "cell_type": "code",
   "execution_count": null,
   "metadata": {
    "collapsed": true
   },
   "outputs": [],
   "source": [
    "# use a python api wrapper package for google maps\n",
    "# https://github.com/googlemaps/google-maps-services-python\n",
    "import googlemaps  \n",
    "\n",
    "gmaps = googlemaps.Client(key='INSERT YOUR API KEY HERE')\n",
    "gmaps.reverse_geocode((latitude,longitude))\n",
    "gmaps.places('Cosi', location=(latitude, longitude), radius=1000)"
   ]
  },
  {
   "cell_type": "markdown",
   "metadata": {},
   "source": [
    "### Scrapy\n",
    "\n",
    "\"Scrapy is an application framework for crawling web sites and extracting structured data which can be used for a wide range of useful applications, like data mining, information processing or historical archival.\"\n",
    "\n",
    "##### How does Scrapy compare to BeautifulSoup or lxml?\n",
    "\n",
    "\"BeautifulSoup and lxml are libraries for parsing HTML and XML. Scrapy is an application framework for writing web spiders that crawl web sites and extract data from them.\n",
    "\n",
    "Scrapy provides a built-in mechanism for extracting data (called selectors) but you can easily use BeautifulSoup (or lxml) instead, if you feel more comfortable working with them. After all, they’re just parsing libraries which can be imported and used from any Python code.\n",
    "\n",
    "In other words, comparing BeautifulSoup (or lxml) to Scrapy is like comparing jinja2 to Django.\""
   ]
  },
  {
   "cell_type": "code",
   "execution_count": null,
   "metadata": {
    "collapsed": true
   },
   "outputs": [],
   "source": [
    "scrapy_url = 'https://doc.scrapy.org/en/latest/'\n",
    "iframe = '<iframe src=' + scrapy_url + ' width=1100 height=300></iframe>'\n",
    "HTML(iframe)"
   ]
  },
  {
   "cell_type": "code",
   "execution_count": null,
   "metadata": {
    "collapsed": true
   },
   "outputs": [],
   "source": [
    "import scrapy\n",
    "\n",
    "class AnnualReportsSpider(scrapy.Spider):\n",
    "    name = \"annual_reports\"\n",
    "    # create a list of all the pages with alphabetical company names\n",
    "    start_urls = ['http://www.annualreports.com/Companies?a={}'.format(letter) for letter in ['A','B']]\n",
    "\n",
    "    def parse(self, response):\n",
    "        # get the url of the company specific webpage\n",
    "        for company in response.css('#wrapper > section > table > tbody > tr > td > a::attr(href)').extract():\n",
    "            if company is not None:\n",
    "                # go to each company page to extract the names of all the annual reports\n",
    "                yield response.follow(company, self.parse_reports)\n",
    "\n",
    "    def parse_reports(self, response):\n",
    "        # extract the company name \n",
    "        company_name = str(response.css('#wrapper > div.company-header.portal-header > h1::text')[0].extract())\n",
    "        # collect all available annual reports\n",
    "        reports = [report for report in response.css('#wrapper > div.venders-block > article > div.content-holder.content-archive > ul > li > div.text-holder > ul > li:nth-child(1)::text').extract()]\n",
    "        yield {company_name:str(reports)}"
   ]
  },
  {
   "cell_type": "markdown",
   "metadata": {},
   "source": [
    "Run the following from Git Bash:\n",
    "- **scrapy runspider annual_reports_spider.py -o annual_reports.json**"
   ]
  }
 ],
 "metadata": {
  "kernelspec": {
   "display_name": "Python [conda env:guild]",
   "language": "python",
   "name": "conda-env-guild-py"
  },
  "language_info": {
   "codemirror_mode": {
    "name": "ipython",
    "version": 3
   },
   "file_extension": ".py",
   "mimetype": "text/x-python",
   "name": "python",
   "nbconvert_exporter": "python",
   "pygments_lexer": "ipython3",
   "version": "3.5.4"
  }
 },
 "nbformat": 4,
 "nbformat_minor": 2
}
