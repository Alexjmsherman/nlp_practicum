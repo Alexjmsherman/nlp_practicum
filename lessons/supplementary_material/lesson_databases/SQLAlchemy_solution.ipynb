{
 "cells": [
  {
   "cell_type": "markdown",
   "metadata": {},
   "source": [
    "## SQLAlchemy Solution\n",
    "\n",
    "##### Author: Alex Sherman | alsherman@deloitte.com"
   ]
  },
  {
   "cell_type": "code",
   "execution_count": 3,
   "metadata": {
    "collapsed": true
   },
   "outputs": [],
   "source": [
    "import os\n",
    "from IPython.core.display import display, HTML\n",
    "from configparser import ConfigParser, ExtendedInterpolation\n",
    "\n",
    "config = ConfigParser(interpolation=ExtendedInterpolation())\n",
    "config.read('../../config.ini')\n",
    "TEST_DB_PATH = config['DATABASES']['TEST_DB_PATH']\n",
    "DB_PATH = config['DATABASES']['LESSON_DB_PATH']\n",
    "STACKOVERFLOW_ZIP_NAME = config['DATABASES']['STACKOVERFLOW_ZIP_NAME']\n",
    "STACKOVERFLOW_CSV_NAME = config['DATABASES']['STACKOVERFLOW_CSV_NAME']"
   ]
  },
  {
   "cell_type": "markdown",
   "metadata": {},
   "source": [
    "SQLAlchemy is the Python SQL toolkit and Object Relational Mapper that gives application developers the full power and flexibility of SQL.\n",
    "\n",
    "It provides a full suite of well known enterprise-level persistence patterns, designed for efficient and high-performing database access, adapted into a simple and Pythonic domain language."
   ]
  },
  {
   "cell_type": "code",
   "execution_count": 3,
   "metadata": {},
   "outputs": [
    {
     "data": {
      "text/html": [
       "<iframe src=http://www.sqlalchemy.org/ width=1100 height=300></iframe>"
      ],
      "text/plain": [
       "<IPython.core.display.HTML object>"
      ]
     },
     "execution_count": 3,
     "metadata": {},
     "output_type": "execute_result"
    }
   ],
   "source": [
    "sqlalchemy_url = 'http://www.sqlalchemy.org/'\n",
    "iframe = '<iframe src={} width=1100 height=300></iframe>'.format(sqlalchemy_url)\n",
    "HTML(iframe)"
   ]
  },
  {
   "cell_type": "markdown",
   "metadata": {},
   "source": [
    "Python's SQLAlchemy and Object-Relational Mapping\n",
    "\n",
    "A common task when programming any web service is the construction of a solid database backend. In the past, programmers would write raw SQL statements, pass them to the database engine and parse the returned results as a normal array of records. Nowadays, programmers can write Object-relational mapping (ORM) programs to remove the necessity of writing tedious and error-prone raw SQL statements that are inflexible and hard-to-maintain.\n",
    "\n",
    "ORM is a programming technique for converting data between incompatible type systems in object-oriented programming languages. Usually, the type system used in an OO language such as Python contains types that are non-scalar, namely that those types cannot be expressed as primitive types such as integers and strings\n",
    "\n",
    "- Source: http://pythoncentral.io/introductory-tutorial-python-sqlalchemy/\n",
    "- Source: https://www.pythonsheets.com/notes/python-sqlalchemy.html"
   ]
  },
  {
   "cell_type": "code",
   "execution_count": 4,
   "metadata": {},
   "outputs": [
    {
     "data": {
      "text/html": [
       "<iframe src=http://docs.sqlalchemy.org/en/latest/orm/tutorial.html width=1100 height=300></iframe>"
      ],
      "text/plain": [
       "<IPython.core.display.HTML object>"
      ]
     },
     "execution_count": 4,
     "metadata": {},
     "output_type": "execute_result"
    }
   ],
   "source": [
    "tutorial_url = 'http://docs.sqlalchemy.org/en/latest/orm/tutorial.html'\n",
    "iframe = '<iframe src={} width=1100 height=300></iframe>'.format(tutorial_url)\n",
    "HTML(iframe)"
   ]
  },
  {
   "cell_type": "code",
   "execution_count": 4,
   "metadata": {
    "collapsed": true
   },
   "outputs": [],
   "source": [
    "from sqlalchemy.ext.declarative import declarative_base\n",
    "\n",
    "Base = declarative_base()"
   ]
  },
  {
   "cell_type": "markdown",
   "metadata": {},
   "source": [
    "#### Declarative Base\n",
    "Declarative base maintains a catalog of classes and tables. It keeps track of all the database tables that are accessible through SQLAlchemy."
   ]
  },
  {
   "cell_type": "code",
   "execution_count": 5,
   "metadata": {
    "collapsed": true
   },
   "outputs": [],
   "source": [
    "from sqlalchemy import Column, Text, Integer"
   ]
  },
  {
   "cell_type": "markdown",
   "metadata": {},
   "source": [
    "#### SQLAlchemy column and data types\n",
    "Each database field is provided a column and data type in SQLAlchemy\n",
    "\n",
    "- Column: specifies a column that can read, write and store a particular type of Python data.  \n",
    "- Text: In SQL, usually corresponds to CLOB or TEXT\n",
    "- Integer: integer data type"
   ]
  },
  {
   "cell_type": "code",
   "execution_count": 6,
   "metadata": {
    "collapsed": true
   },
   "outputs": [],
   "source": [
    "# provide a class name for the database table\n",
    "class Sections(Base):\n",
    "    # provide a name used in SQL to query the table\n",
    "    __tablename__ = 'SECTIONS'\n",
    "\n",
    "    # provide column names and data types\n",
    "    # for each field in the database\n",
    "    # additional paramaters are available for the columns and data types\n",
    "    section_id =   Column(Integer(), primary_key=True, autoincrement=True)\n",
    "    section_name = Column(Text())\n",
    "    section_text = Column(Text())\n",
    "\n",
    "    def __repr__(self):\n",
    "        return '<Sections section_id: {} | section_name: {}>'.format(\n",
    "            self.section_id, self.section_name)"
   ]
  },
  {
   "cell_type": "markdown",
   "metadata": {},
   "source": [
    "#### SQLAlchemy Classes\n",
    "\n",
    "Each SQLAlchemy class corresponds to a database table.\n",
    "\n",
    "Within the class, we define details about the table to which we’ll be mapping, primarily the table name, and names and datatypes of columns.\n",
    "\n",
    "A class using Declarative at a minimum needs a __tablename__ attribute, and at least one Column which is part of a primary key. \n",
    "\n",
    "Outside of what the mapping process does to our class, the class remains otherwise mostly a normal Python class, to which we can define any number of ordinary attributes and methods needed by our application."
   ]
  },
  {
   "cell_type": "code",
   "execution_count": 7,
   "metadata": {},
   "outputs": [
    {
     "data": {
      "text/plain": [
       "<Sections section_id: None | section_name: None>"
      ]
     },
     "execution_count": 7,
     "metadata": {},
     "output_type": "execute_result"
    }
   ],
   "source": [
    "sections = Sections()\n",
    "sections"
   ]
  },
  {
   "cell_type": "markdown",
   "metadata": {},
   "source": [
    "**_ _repr_ _** (represent) provides the output when using print. This explains why the output is sometimes different when using print  "
   ]
  },
  {
   "cell_type": "code",
   "execution_count": null,
   "metadata": {
    "collapsed": true
   },
   "outputs": [],
   "source": [
    "section = Sections(\n",
    "      section_name = 'first section'\n",
    "    , section_text = 'text from the first section'\n",
    ")\n",
    "section"
   ]
  },
  {
   "cell_type": "code",
   "execution_count": 8,
   "metadata": {},
   "outputs": [
    {
     "name": "stdout",
     "output_type": "stream",
     "text": [
      "<zip object at 0x000002A81CD9B988>\n"
     ]
    },
    {
     "data": {
      "text/plain": [
       "<zip at 0x2a81cd9b988>"
      ]
     },
     "execution_count": 8,
     "metadata": {},
     "output_type": "execute_result"
    }
   ],
   "source": [
    "list_one = ['a','b','c']\n",
    "list_two = [1,2,3]\n",
    "\n",
    "print(zip(list_one, list_two))\n",
    "zip(list_one, list_two)"
   ]
  },
  {
   "cell_type": "code",
   "execution_count": 9,
   "metadata": {},
   "outputs": [
    {
     "data": {
      "text/plain": [
       "'sqlite:///C:\\\\Users\\\\alsherman\\\\Desktop\\\\PycharmProjects\\\\firm_initiatives\\\\ml_guild\\\\raw_data\\\\databases\\\\test.db'"
      ]
     },
     "execution_count": 9,
     "metadata": {},
     "output_type": "execute_result"
    }
   ],
   "source": [
    "# confirm test database directory\n",
    "TEST_DB_PATH"
   ]
  },
  {
   "cell_type": "markdown",
   "metadata": {},
   "source": [
    "#### Below are common urls to connect to a variery of databases\n",
    "\n",
    "SQLAlchemy includes dialects for common databases, including Microsoft SQL Server, MySQL, Oracle, PostgreSQL, SQLite, and more. Additional external dialects are available for other databases like Amazon Redshift.\n"
   ]
  },
  {
   "cell_type": "code",
   "execution_count": 10,
   "metadata": {},
   "outputs": [
    {
     "data": {
      "text/html": [
       "<iframe src=http://docs.sqlalchemy.org/en/latest/core/engines.html width=1100 height=300></iframe>"
      ],
      "text/plain": [
       "<IPython.core.display.HTML object>"
      ]
     },
     "execution_count": 10,
     "metadata": {},
     "output_type": "execute_result"
    }
   ],
   "source": [
    "database_url = 'http://docs.sqlalchemy.org/en/latest/core/engines.html'\n",
    "iframe = '<iframe src={} width=1100 height=300></iframe>'.format(database_url)\n",
    "HTML(iframe)"
   ]
  },
  {
   "cell_type": "code",
   "execution_count": 12,
   "metadata": {
    "collapsed": true
   },
   "outputs": [],
   "source": [
    "from sqlalchemy import create_engine\n",
    "\n",
    "# create database tables\n",
    "engine = create_engine(TEST_DB_PATH)\n",
    "Base.metadata.create_all(engine)"
   ]
  },
  {
   "cell_type": "markdown",
   "metadata": {},
   "source": [
    "In this tutorial we use a SQLite database. We use create_engine() to connect to the database.\n",
    "\n",
    "#### Create Engine\n",
    "The return value of create_engine() is an instance of Engine, and it represents the core interface to the database.\n",
    "\n",
    "#### Lazy Connecting\n",
    "The Engine, when first returned by create_engine(), has not actually tried to connect to the database yet; that happens only the first time it is asked to perform a task against the database\n",
    "\n",
    "#### Base.metaData.create_all()\n",
    "As our SQLite database does not yet have a Sections table present, we can issue a CREATE TABLE statements to the database.\n",
    "\n",
    "Base.metaData.create_all(), passing in our Engine as a source of database connectivity. We will see that special commands are first emitted to check for the presence of the users table, and following that the actual CREATE TABLE statement"
   ]
  },
  {
   "cell_type": "code",
   "execution_count": 13,
   "metadata": {
    "collapsed": true
   },
   "outputs": [],
   "source": [
    "from sqlalchemy.orm import sessionmaker\n",
    "\n",
    "engine = create_engine(TEST_DB_PATH)\n",
    "Session = sessionmaker(bind=engine)\n",
    "session = Session()"
   ]
  },
  {
   "cell_type": "markdown",
   "metadata": {},
   "source": [
    "#### SQLAlchemy Session\n",
    "\n",
    "In the most general sense, the Session establishes all conversations with the database and represents a “holding zone” for all the objects which you’ve loaded or associated with it during its lifespan. It provides the entrypoint to acquire a Query object, which sends queries to the database using the Session object’s current database connection, populating result rows into objects that are then stored in the Session\n",
    "\n",
    "All changes to objects maintained by a Session are tracked - before the database is queried again or before the current transaction is committed, it flushes all pending changes to the database. This is known as the Unit of Work pattern."
   ]
  },
  {
   "cell_type": "markdown",
   "metadata": {},
   "source": [
    "#### Insert data into the database"
   ]
  },
  {
   "cell_type": "code",
   "execution_count": 14,
   "metadata": {
    "collapsed": true
   },
   "outputs": [],
   "source": [
    "section = Sections(\n",
    "      section_name = 'first section'\n",
    "    , section_text = 'text from the first section'\n",
    ")\n",
    "\n",
    "session.add(section)"
   ]
  },
  {
   "cell_type": "markdown",
   "metadata": {},
   "source": [
    "At this point, we say that the instance is pending; no SQL has yet been issued and the object is not yet represented by a row in the database. \n",
    "\n",
    "The Session will issue the SQL to persist the section as soon as is needed, using a process known as a flush. If we query the database for the section, all pending information will first be flushed, and the query is issued immediately thereafter."
   ]
  },
  {
   "cell_type": "code",
   "execution_count": 15,
   "metadata": {
    "collapsed": true
   },
   "outputs": [],
   "source": [
    "# commit (save) all annual reports to the database\n",
    "session.commit()"
   ]
  },
  {
   "cell_type": "markdown",
   "metadata": {},
   "source": [
    "#### Commit\n",
    "\n",
    "We tell the Session that we’d like to issue all remaining changes to the database and commit the transaction, which has been in progress throughout. We do this via commit().\n",
    "\n",
    "commit() flushes the remaining changes to the database, and commits the transaction. The connection resources referenced by the session are now returned to the connection pool. Subsequent operations with this session will occur in a new transaction, which will again re-acquire connection resources when first needed."
   ]
  },
  {
   "cell_type": "code",
   "execution_count": 16,
   "metadata": {},
   "outputs": [
    {
     "name": "stdout",
     "output_type": "stream",
     "text": [
      "section_id: 1\n",
      "section_name: first section\n",
      "section_text: text from the first section\n"
     ]
    }
   ],
   "source": [
    "# query database to check if data was added\n",
    "result = session.query(Sections).all()\n",
    "for row in result:\n",
    "    print('section_id: {}'.format(row.section_id))\n",
    "    print('section_name: {}'.format(row.section_name))\n",
    "    print('section_text: {}'.format(row.section_text))"
   ]
  },
  {
   "cell_type": "code",
   "execution_count": 17,
   "metadata": {},
   "outputs": [
    {
     "data": {
      "text/plain": [
       "[<Sections section_id: 1 | section_name: first section>]"
      ]
     },
     "execution_count": 17,
     "metadata": {},
     "output_type": "execute_result"
    }
   ],
   "source": [
    "# view the __repr__ of the SQLAlchemy class\n",
    "result"
   ]
  },
  {
   "cell_type": "code",
   "execution_count": 19,
   "metadata": {
    "collapsed": true
   },
   "outputs": [],
   "source": [
    "# Uncomment to delete data from Sections to reset table (optional)\n",
    "\n",
    "#session.execute(\"DELETE FROM Sections\")\n",
    "session.commit()"
   ]
  },
  {
   "cell_type": "markdown",
   "metadata": {},
   "source": [
    "## Exercise\n",
    "\n",
    "Create and query a database containing StackOverflow questions data.\n",
    "\n",
    "The questions are randomized and contains a mix of verbose text sites as well as sites related to math and programming. The number of questions from each site may vary, and no filtering has been performed on the questions (such as closed questions).\n",
    "\n",
    "#### Data Dictionary:\n",
    "- Id - Unique identifier for each question\n",
    "- Title - The question's title\n",
    "- Body - The body of the question\n",
    "- Tags - The tags associated with the question (all lowercase, should not contain tabs '\\t' or ampersands '&')\n",
    "\n",
    "Source: https://www.kaggle.com/c/facebook-recruiting-iii-keyword-extraction"
   ]
  },
  {
   "cell_type": "markdown",
   "metadata": {},
   "source": [
    "### Create a table named StackOverflow with the following columns and data types\n",
    "- tablename = 'STACKOVERFLOW'\n",
    "- Id - Integer, primary_key\n",
    "- Title - Text, nullble\n",
    "- Body - Text, nullable\n",
    "- Tags - Text, nullable\n",
    "- Add a __repr__ that prints out the Id and Title"
   ]
  },
  {
   "cell_type": "code",
   "execution_count": 20,
   "metadata": {
    "collapsed": true
   },
   "outputs": [],
   "source": [
    "class StackOverflow(Base):\n",
    "    __tablename__ = 'STACKOVERFLOW'\n",
    "\n",
    "    Id = Column(Text(), nullable=False, primary_key=True)\n",
    "    Title = Column(Text(), nullable=True)\n",
    "    Body = Column(Text(), nullable=True)\n",
    "    Tags = Column(Integer(), nullable=True) \n",
    "    \n",
    "    def __repr__(self):\n",
    "        return '<StackOverflow Id: {} | Title: {}>'.format(\n",
    "            self.Id, self.Title)"
   ]
  },
  {
   "cell_type": "code",
   "execution_count": 26,
   "metadata": {},
   "outputs": [
    {
     "data": {
      "text/plain": [
       "'sqlite:///C:\\\\Users\\\\alsherman\\\\Desktop\\\\PycharmProjects\\\\firm_initiatives\\\\ml_guild\\\\raw_data\\\\databases\\\\stackoverflow.sqlite'"
      ]
     },
     "execution_count": 26,
     "metadata": {},
     "output_type": "execute_result"
    }
   ],
   "source": [
    "# confirm the path to the stackoverflow database\n",
    "DB_PATH"
   ]
  },
  {
   "cell_type": "code",
   "execution_count": 27,
   "metadata": {
    "collapsed": true
   },
   "outputs": [],
   "source": [
    "# create a engine session to connect to the database \n",
    "from sqlalchemy.orm import sessionmaker\n",
    "\n",
    "engine = create_engine(DB_PATH)\n",
    "Session = sessionmaker(bind=engine)\n",
    "session = Session()"
   ]
  },
  {
   "cell_type": "markdown",
   "metadata": {},
   "source": [
    "# SQL"
   ]
  },
  {
   "cell_type": "code",
   "execution_count": 28,
   "metadata": {},
   "outputs": [
    {
     "data": {
      "text/html": [
       "<iframe src=http://docs.sqlalchemy.org/en/latest/orm/tutorial.html width=1100 height=300></iframe>"
      ],
      "text/plain": [
       "<IPython.core.display.HTML object>"
      ]
     },
     "execution_count": 28,
     "metadata": {},
     "output_type": "execute_result"
    }
   ],
   "source": [
    "database_url = 'http://docs.sqlalchemy.org/en/latest/orm/tutorial.html'\n",
    "iframe = '<iframe src={} width=1100 height=300></iframe>'.format(database_url)\n",
    "HTML(iframe)"
   ]
  },
  {
   "cell_type": "code",
   "execution_count": 29,
   "metadata": {},
   "outputs": [
    {
     "name": "stdout",
     "output_type": "stream",
     "text": [
      "Question Id: 1\n",
      "TITLE: How to check if an uploaded file is an image without mime type?\n",
      "TAGS: php image-processing file-upload upload mime-types \n",
      "\n",
      "Question Id: 2\n",
      "TITLE: How can I prevent firefox from closing when I press ctrl-w\n",
      "TAGS: firefox \n",
      "\n",
      "Question Id: 3\n",
      "TITLE: R Error Invalid type (list) for variable\n",
      "TAGS: r matlab machine-learning \n",
      "\n"
     ]
    }
   ],
   "source": [
    "# SQLAlchamy Core - SQL Expression Language\n",
    "from sqlalchemy.sql import text\n",
    "\n",
    "query = text('SELECT * FROM StackOverflow LIMIT 3')\n",
    "for result in session.execute(query):\n",
    "    print('Question Id: {}'.format(result.Id))\n",
    "    print('TITLE: {}'.format(result.Title))\n",
    "    print('TAGS: {} \\n'.format(result.Tags))"
   ]
  },
  {
   "cell_type": "code",
   "execution_count": 30,
   "metadata": {},
   "outputs": [
    {
     "name": "stdout",
     "output_type": "stream",
     "text": [
      "Question Id: 1\n",
      "TITLE: How to check if an uploaded file is an image without mime type?\n",
      "TAGS: php image-processing file-upload upload mime-types \n",
      "\n",
      "Question Id: 2\n",
      "TITLE: How can I prevent firefox from closing when I press ctrl-w\n",
      "TAGS: firefox \n",
      "\n",
      "Question Id: 3\n",
      "TITLE: R Error Invalid type (list) for variable\n",
      "TAGS: r matlab machine-learning \n",
      "\n"
     ]
    }
   ],
   "source": [
    "# SQLAlchemy ORM\n",
    "for result in session.query(StackOverflow)[0:3]:\n",
    "    print('Question Id: {}'.format(result.Id))\n",
    "    print('TITLE: {}'.format(result.Title))\n",
    "    print('TAGS: {} \\n'.format(result.Tags))"
   ]
  },
  {
   "cell_type": "code",
   "execution_count": null,
   "metadata": {
    "collapsed": true
   },
   "outputs": [],
   "source": [
    "# view __repr__ of result\n",
    "print(session.query(StackOverflow)[0])"
   ]
  },
  {
   "cell_type": "code",
   "execution_count": 32,
   "metadata": {},
   "outputs": [
    {
     "data": {
      "text/html": [
       "<div>\n",
       "<style>\n",
       "    .dataframe thead tr:only-child th {\n",
       "        text-align: right;\n",
       "    }\n",
       "\n",
       "    .dataframe thead th {\n",
       "        text-align: left;\n",
       "    }\n",
       "\n",
       "    .dataframe tbody tr th {\n",
       "        vertical-align: top;\n",
       "    }\n",
       "</style>\n",
       "<table border=\"1\" class=\"dataframe\">\n",
       "  <thead>\n",
       "    <tr style=\"text-align: right;\">\n",
       "      <th></th>\n",
       "      <th>index</th>\n",
       "      <th>Id</th>\n",
       "      <th>Title</th>\n",
       "      <th>Body</th>\n",
       "      <th>Tags</th>\n",
       "    </tr>\n",
       "  </thead>\n",
       "  <tbody>\n",
       "    <tr>\n",
       "      <th>0</th>\n",
       "      <td>0</td>\n",
       "      <td>1</td>\n",
       "      <td>How to check if an uploaded file is an image w...</td>\n",
       "      <td>&lt;p&gt;I'd like to check if an uploaded file is an...</td>\n",
       "      <td>php image-processing file-upload upload mime-t...</td>\n",
       "    </tr>\n",
       "    <tr>\n",
       "      <th>1</th>\n",
       "      <td>1</td>\n",
       "      <td>2</td>\n",
       "      <td>How can I prevent firefox from closing when I ...</td>\n",
       "      <td>&lt;p&gt;In my favorite editor (vim), I regularly us...</td>\n",
       "      <td>firefox</td>\n",
       "    </tr>\n",
       "    <tr>\n",
       "      <th>2</th>\n",
       "      <td>2</td>\n",
       "      <td>3</td>\n",
       "      <td>R Error Invalid type (list) for variable</td>\n",
       "      <td>&lt;p&gt;I am import matlab file and construct a dat...</td>\n",
       "      <td>r matlab machine-learning</td>\n",
       "    </tr>\n",
       "  </tbody>\n",
       "</table>\n",
       "</div>"
      ],
      "text/plain": [
       "   index  Id                                              Title  \\\n",
       "0      0   1  How to check if an uploaded file is an image w...   \n",
       "1      1   2  How can I prevent firefox from closing when I ...   \n",
       "2      2   3           R Error Invalid type (list) for variable   \n",
       "\n",
       "                                                Body  \\\n",
       "0  <p>I'd like to check if an uploaded file is an...   \n",
       "1  <p>In my favorite editor (vim), I regularly us...   \n",
       "2  <p>I am import matlab file and construct a dat...   \n",
       "\n",
       "                                                Tags  \n",
       "0  php image-processing file-upload upload mime-t...  \n",
       "1                                            firefox  \n",
       "2                          r matlab machine-learning  "
      ]
     },
     "execution_count": 32,
     "metadata": {},
     "output_type": "execute_result"
    }
   ],
   "source": [
    "# Pandas\n",
    "import pandas as pd\n",
    "pd.read_sql('SELECT * FROM STACKOVERFLOW LIMIT 3', con=engine)"
   ]
  },
  {
   "cell_type": "markdown",
   "metadata": {},
   "source": [
    "### SELECT"
   ]
  },
  {
   "cell_type": "code",
   "execution_count": 33,
   "metadata": {},
   "outputs": [
    {
     "data": {
      "text/plain": [
       "[(1, 'php image-processing file-upload upload mime-types'),\n",
       " (2, 'firefox'),\n",
       " (3, 'r matlab machine-learning')]"
      ]
     },
     "execution_count": 33,
     "metadata": {},
     "output_type": "execute_result"
    }
   ],
   "source": [
    "# SQLAlchamy Core - SQL Expression Language\n",
    "query = text('SELECT Id, Tags FROM StackOverflow LIMIT 3')\n",
    "session.execute(query).fetchall()"
   ]
  },
  {
   "cell_type": "code",
   "execution_count": 34,
   "metadata": {},
   "outputs": [
    {
     "data": {
      "text/plain": [
       "[(1, 'php image-processing file-upload upload mime-types'),\n",
       " (2, 'firefox'),\n",
       " (3, 'r matlab machine-learning')]"
      ]
     },
     "execution_count": 34,
     "metadata": {},
     "output_type": "execute_result"
    }
   ],
   "source": [
    "# SQLAlchemy ORM\n",
    "session.query(StackOverflow.Id, StackOverflow.Tags).limit(3).all()"
   ]
  },
  {
   "cell_type": "code",
   "execution_count": 35,
   "metadata": {},
   "outputs": [
    {
     "name": "stdout",
     "output_type": "stream",
     "text": [
      "SELECT \"STACKOVERFLOW\".\"Id\" AS \"STACKOVERFLOW_Id\", \"STACKOVERFLOW\".\"Tags\" AS \"STACKOVERFLOW_Tags\" \n",
      "FROM \"STACKOVERFLOW\"\n",
      " LIMIT ? OFFSET ?\n"
     ]
    }
   ],
   "source": [
    "# Raw SQL Query\n",
    "print(session.query(StackOverflow.Id, StackOverflow.Tags).limit(3))"
   ]
  },
  {
   "cell_type": "code",
   "execution_count": 36,
   "metadata": {},
   "outputs": [
    {
     "data": {
      "text/html": [
       "<div>\n",
       "<style>\n",
       "    .dataframe thead tr:only-child th {\n",
       "        text-align: right;\n",
       "    }\n",
       "\n",
       "    .dataframe thead th {\n",
       "        text-align: left;\n",
       "    }\n",
       "\n",
       "    .dataframe tbody tr th {\n",
       "        vertical-align: top;\n",
       "    }\n",
       "</style>\n",
       "<table border=\"1\" class=\"dataframe\">\n",
       "  <thead>\n",
       "    <tr style=\"text-align: right;\">\n",
       "      <th></th>\n",
       "      <th>Id</th>\n",
       "      <th>Tags</th>\n",
       "    </tr>\n",
       "  </thead>\n",
       "  <tbody>\n",
       "    <tr>\n",
       "      <th>0</th>\n",
       "      <td>1</td>\n",
       "      <td>php image-processing file-upload upload mime-t...</td>\n",
       "    </tr>\n",
       "    <tr>\n",
       "      <th>1</th>\n",
       "      <td>2</td>\n",
       "      <td>firefox</td>\n",
       "    </tr>\n",
       "    <tr>\n",
       "      <th>2</th>\n",
       "      <td>3</td>\n",
       "      <td>r matlab machine-learning</td>\n",
       "    </tr>\n",
       "  </tbody>\n",
       "</table>\n",
       "</div>"
      ],
      "text/plain": [
       "   Id                                               Tags\n",
       "0   1  php image-processing file-upload upload mime-t...\n",
       "1   2                                            firefox\n",
       "2   3                          r matlab machine-learning"
      ]
     },
     "execution_count": 36,
     "metadata": {},
     "output_type": "execute_result"
    }
   ],
   "source": [
    "#Pandas \n",
    "pd.read_sql('SELECT Id, Tags FROM STACKOVERFLOW LIMIT 3', con=engine)"
   ]
  },
  {
   "cell_type": "markdown",
   "metadata": {},
   "source": [
    "### WHERE"
   ]
  },
  {
   "cell_type": "code",
   "execution_count": 37,
   "metadata": {},
   "outputs": [
    {
     "data": {
      "text/plain": [
       "[(206, 'python', 'Splitting a list'),\n",
       " (990, 'python', 'Split based by a-z character in an alphanumeric string in python'),\n",
       " (1194, 'python', 'How to : Python Convert Bytes to Readable ASCII/Unicode')]"
      ]
     },
     "execution_count": 37,
     "metadata": {},
     "output_type": "execute_result"
    }
   ],
   "source": [
    "# SQLAlchamy Core - SQL Expression Language\n",
    "query = text('SELECT Id, Tags, Title FROM STACKOVERFLOW WHERE Tags = \"python\" LIMIT 3')\n",
    "session.execute(query).fetchall()"
   ]
  },
  {
   "cell_type": "code",
   "execution_count": 38,
   "metadata": {},
   "outputs": [
    {
     "data": {
      "text/plain": [
       "[(206, 'Splitting a list'),\n",
       " (990, 'Split based by a-z character in an alphanumeric string in python'),\n",
       " (1194, 'How to : Python Convert Bytes to Readable ASCII/Unicode')]"
      ]
     },
     "execution_count": 38,
     "metadata": {},
     "output_type": "execute_result"
    }
   ],
   "source": [
    "# SQLAlchemy ORM\n",
    "session.query(StackOverflow.Id, StackOverflow.Title\n",
    "    ).filter(StackOverflow.Tags == 'python').limit(3).all()"
   ]
  },
  {
   "cell_type": "code",
   "execution_count": 39,
   "metadata": {},
   "outputs": [
    {
     "name": "stdout",
     "output_type": "stream",
     "text": [
      "SELECT \"STACKOVERFLOW\".\"Id\" AS \"STACKOVERFLOW_Id\", \"STACKOVERFLOW\".\"Title\" AS \"STACKOVERFLOW_Title\" \n",
      "FROM \"STACKOVERFLOW\" \n",
      "WHERE \"STACKOVERFLOW\".\"Tags\" = ?\n",
      " LIMIT ? OFFSET ?\n"
     ]
    }
   ],
   "source": [
    "# Raw SQL Query\n",
    "print(session.query(StackOverflow.Id, StackOverflow.Title\n",
    "    ).filter(StackOverflow.Tags == 'python').limit(3))"
   ]
  },
  {
   "cell_type": "code",
   "execution_count": 40,
   "metadata": {},
   "outputs": [
    {
     "data": {
      "text/html": [
       "<div>\n",
       "<style>\n",
       "    .dataframe thead tr:only-child th {\n",
       "        text-align: right;\n",
       "    }\n",
       "\n",
       "    .dataframe thead th {\n",
       "        text-align: left;\n",
       "    }\n",
       "\n",
       "    .dataframe tbody tr th {\n",
       "        vertical-align: top;\n",
       "    }\n",
       "</style>\n",
       "<table border=\"1\" class=\"dataframe\">\n",
       "  <thead>\n",
       "    <tr style=\"text-align: right;\">\n",
       "      <th></th>\n",
       "      <th>Id</th>\n",
       "      <th>Tags</th>\n",
       "      <th>Title</th>\n",
       "    </tr>\n",
       "  </thead>\n",
       "  <tbody>\n",
       "    <tr>\n",
       "      <th>0</th>\n",
       "      <td>206</td>\n",
       "      <td>python</td>\n",
       "      <td>Splitting a list</td>\n",
       "    </tr>\n",
       "    <tr>\n",
       "      <th>1</th>\n",
       "      <td>990</td>\n",
       "      <td>python</td>\n",
       "      <td>Split based by a-z character in an alphanumeri...</td>\n",
       "    </tr>\n",
       "    <tr>\n",
       "      <th>2</th>\n",
       "      <td>1194</td>\n",
       "      <td>python</td>\n",
       "      <td>How to : Python Convert Bytes to Readable ASCI...</td>\n",
       "    </tr>\n",
       "  </tbody>\n",
       "</table>\n",
       "</div>"
      ],
      "text/plain": [
       "     Id    Tags                                              Title\n",
       "0   206  python                                   Splitting a list\n",
       "1   990  python  Split based by a-z character in an alphanumeri...\n",
       "2  1194  python  How to : Python Convert Bytes to Readable ASCI..."
      ]
     },
     "execution_count": 40,
     "metadata": {},
     "output_type": "execute_result"
    }
   ],
   "source": [
    "# Pandas\n",
    "pd.read_sql('SELECT Id, Tags, Title FROM STACKOVERFLOW WHERE Tags = \"python\" LIMIT 3', con=engine)"
   ]
  },
  {
   "cell_type": "markdown",
   "metadata": {},
   "source": [
    "### LIKE"
   ]
  },
  {
   "cell_type": "code",
   "execution_count": 41,
   "metadata": {},
   "outputs": [
    {
     "data": {
      "text/plain": [
       "[('c# java c++ python strong-typing',),\n",
       " ('python encryption',),\n",
       " ('c++ python swig',)]"
      ]
     },
     "execution_count": 41,
     "metadata": {},
     "output_type": "execute_result"
    }
   ],
   "source": [
    "# SQLAlchamy Core - SQL Expression Language\n",
    "query = text('SELECT Tags FROM STACKOVERFLOW WHERE Tags LIKE \"%python%\" LIMIT 3')\n",
    "session.execute(query).fetchall()"
   ]
  },
  {
   "cell_type": "code",
   "execution_count": 42,
   "metadata": {},
   "outputs": [
    {
     "data": {
      "text/plain": [
       "[('c# java c++ python strong-typing'),\n",
       " ('python encryption'),\n",
       " ('c++ python swig')]"
      ]
     },
     "execution_count": 42,
     "metadata": {},
     "output_type": "execute_result"
    }
   ],
   "source": [
    "# SQLAlchemy ORM\n",
    "session.query(StackOverflow.Tags\n",
    "    ).filter(StackOverflow.Tags.like('%python%')).limit(3).all()"
   ]
  },
  {
   "cell_type": "code",
   "execution_count": 43,
   "metadata": {},
   "outputs": [
    {
     "name": "stdout",
     "output_type": "stream",
     "text": [
      "SELECT \"STACKOVERFLOW\".\"Tags\" AS \"STACKOVERFLOW_Tags\" \n",
      "FROM \"STACKOVERFLOW\" \n",
      "WHERE \"STACKOVERFLOW\".\"Tags\" LIKE ?\n",
      " LIMIT ? OFFSET ?\n"
     ]
    }
   ],
   "source": [
    "# Raw SQL Query\n",
    "print(session.query(StackOverflow.Tags\n",
    "    ).filter(StackOverflow.Tags.like('%python%')).limit(3))"
   ]
  },
  {
   "cell_type": "code",
   "execution_count": 44,
   "metadata": {},
   "outputs": [
    {
     "data": {
      "text/html": [
       "<div>\n",
       "<style>\n",
       "    .dataframe thead tr:only-child th {\n",
       "        text-align: right;\n",
       "    }\n",
       "\n",
       "    .dataframe thead th {\n",
       "        text-align: left;\n",
       "    }\n",
       "\n",
       "    .dataframe tbody tr th {\n",
       "        vertical-align: top;\n",
       "    }\n",
       "</style>\n",
       "<table border=\"1\" class=\"dataframe\">\n",
       "  <thead>\n",
       "    <tr style=\"text-align: right;\">\n",
       "      <th></th>\n",
       "      <th>Tags</th>\n",
       "    </tr>\n",
       "  </thead>\n",
       "  <tbody>\n",
       "    <tr>\n",
       "      <th>0</th>\n",
       "      <td>c# java c++ python strong-typing</td>\n",
       "    </tr>\n",
       "    <tr>\n",
       "      <th>1</th>\n",
       "      <td>python encryption</td>\n",
       "    </tr>\n",
       "    <tr>\n",
       "      <th>2</th>\n",
       "      <td>c++ python swig</td>\n",
       "    </tr>\n",
       "  </tbody>\n",
       "</table>\n",
       "</div>"
      ],
      "text/plain": [
       "                               Tags\n",
       "0  c# java c++ python strong-typing\n",
       "1                 python encryption\n",
       "2                   c++ python swig"
      ]
     },
     "execution_count": 44,
     "metadata": {},
     "output_type": "execute_result"
    }
   ],
   "source": [
    "# Pandas\n",
    "pd.read_sql('SELECT Tags FROM STACKOVERFLOW WHERE Tags LIKE \"%python%\" LIMIT 3', con=engine)"
   ]
  },
  {
   "cell_type": "markdown",
   "metadata": {},
   "source": [
    "### IN"
   ]
  },
  {
   "cell_type": "code",
   "execution_count": 45,
   "metadata": {},
   "outputs": [
    {
     "data": {
      "text/plain": [
       "[('Splitting a list',),\n",
       " ('java.util.UUID.fromString not checking length',),\n",
       " ('Split based by a-z character in an alphanumeric string in python',)]"
      ]
     },
     "execution_count": 45,
     "metadata": {},
     "output_type": "execute_result"
    }
   ],
   "source": [
    "# SQLAlchamy Core - SQL Expression Language\n",
    "query = text('SELECT Title FROM STACKOVERFLOW WHERE Tags IN (\"python\",\"java\",\"sql\") LIMIT 3')\n",
    "session.execute(query).fetchall()"
   ]
  },
  {
   "cell_type": "code",
   "execution_count": 46,
   "metadata": {},
   "outputs": [
    {
     "data": {
      "text/plain": [
       "[('Splitting a list'),\n",
       " ('java.util.UUID.fromString not checking length'),\n",
       " ('Split based by a-z character in an alphanumeric string in python')]"
      ]
     },
     "execution_count": 46,
     "metadata": {},
     "output_type": "execute_result"
    }
   ],
   "source": [
    "# SQLAlchemy ORM\n",
    "session.query(StackOverflow.Title\n",
    "    ).filter(StackOverflow.Tags.in_(['python', 'java', 'sql'])).limit(3).all()"
   ]
  },
  {
   "cell_type": "code",
   "execution_count": 47,
   "metadata": {},
   "outputs": [
    {
     "name": "stdout",
     "output_type": "stream",
     "text": [
      "SELECT \"STACKOVERFLOW\".\"Title\" AS \"STACKOVERFLOW_Title\" \n",
      "FROM \"STACKOVERFLOW\" \n",
      "WHERE \"STACKOVERFLOW\".\"Tags\" IN (?, ?, ?)\n",
      " LIMIT ? OFFSET ?\n"
     ]
    }
   ],
   "source": [
    "# Raw SQL Query\n",
    "print(session.query(StackOverflow.Title\n",
    "    ).filter(StackOverflow.Tags.in_(['python', 'java', 'sql'])).limit(3))"
   ]
  },
  {
   "cell_type": "code",
   "execution_count": 48,
   "metadata": {},
   "outputs": [
    {
     "data": {
      "text/html": [
       "<div>\n",
       "<style>\n",
       "    .dataframe thead tr:only-child th {\n",
       "        text-align: right;\n",
       "    }\n",
       "\n",
       "    .dataframe thead th {\n",
       "        text-align: left;\n",
       "    }\n",
       "\n",
       "    .dataframe tbody tr th {\n",
       "        vertical-align: top;\n",
       "    }\n",
       "</style>\n",
       "<table border=\"1\" class=\"dataframe\">\n",
       "  <thead>\n",
       "    <tr style=\"text-align: right;\">\n",
       "      <th></th>\n",
       "      <th>Title</th>\n",
       "    </tr>\n",
       "  </thead>\n",
       "  <tbody>\n",
       "    <tr>\n",
       "      <th>0</th>\n",
       "      <td>Splitting a list</td>\n",
       "    </tr>\n",
       "    <tr>\n",
       "      <th>1</th>\n",
       "      <td>java.util.UUID.fromString not checking length</td>\n",
       "    </tr>\n",
       "    <tr>\n",
       "      <th>2</th>\n",
       "      <td>Split based by a-z character in an alphanumeri...</td>\n",
       "    </tr>\n",
       "  </tbody>\n",
       "</table>\n",
       "</div>"
      ],
      "text/plain": [
       "                                               Title\n",
       "0                                   Splitting a list\n",
       "1      java.util.UUID.fromString not checking length\n",
       "2  Split based by a-z character in an alphanumeri..."
      ]
     },
     "execution_count": 48,
     "metadata": {},
     "output_type": "execute_result"
    }
   ],
   "source": [
    "# Pandas\n",
    "pd.read_sql('SELECT Title FROM STACKOVERFLOW WHERE Tags IN (\"python\",\"java\",\"sql\") LIMIT 3'\n",
    "            , con=engine)"
   ]
  },
  {
   "cell_type": "markdown",
   "metadata": {},
   "source": [
    "### COUNT"
   ]
  },
  {
   "cell_type": "code",
   "execution_count": 49,
   "metadata": {},
   "outputs": [
    {
     "data": {
      "text/plain": [
       "50000"
      ]
     },
     "execution_count": 49,
     "metadata": {},
     "output_type": "execute_result"
    }
   ],
   "source": [
    "# SQLAlchamy Core - SQL Expression Language\n",
    "query = text('SELECT COUNT(*) FROM STACKOVERFLOW')\n",
    "session.execute(query).scalar()  # scalar returns a single value (no tuple)"
   ]
  },
  {
   "cell_type": "code",
   "execution_count": 50,
   "metadata": {},
   "outputs": [
    {
     "data": {
      "text/plain": [
       "50000"
      ]
     },
     "execution_count": 50,
     "metadata": {},
     "output_type": "execute_result"
    }
   ],
   "source": [
    "# SQLAlchemy ORM\n",
    "session.query(StackOverflow).count()"
   ]
  },
  {
   "cell_type": "code",
   "execution_count": 51,
   "metadata": {},
   "outputs": [
    {
     "data": {
      "text/html": [
       "<div>\n",
       "<style>\n",
       "    .dataframe thead tr:only-child th {\n",
       "        text-align: right;\n",
       "    }\n",
       "\n",
       "    .dataframe thead th {\n",
       "        text-align: left;\n",
       "    }\n",
       "\n",
       "    .dataframe tbody tr th {\n",
       "        vertical-align: top;\n",
       "    }\n",
       "</style>\n",
       "<table border=\"1\" class=\"dataframe\">\n",
       "  <thead>\n",
       "    <tr style=\"text-align: right;\">\n",
       "      <th></th>\n",
       "      <th>COUNT(*)</th>\n",
       "    </tr>\n",
       "  </thead>\n",
       "  <tbody>\n",
       "    <tr>\n",
       "      <th>0</th>\n",
       "      <td>50000</td>\n",
       "    </tr>\n",
       "  </tbody>\n",
       "</table>\n",
       "</div>"
      ],
      "text/plain": [
       "   COUNT(*)\n",
       "0     50000"
      ]
     },
     "execution_count": 51,
     "metadata": {},
     "output_type": "execute_result"
    }
   ],
   "source": [
    "# Pandas\n",
    "pd.read_sql('SELECT COUNT(*) FROM STACKOVERFLOW', con=engine)"
   ]
  },
  {
   "cell_type": "markdown",
   "metadata": {},
   "source": [
    "### GROUP BY"
   ]
  },
  {
   "cell_type": "code",
   "execution_count": 52,
   "metadata": {},
   "outputs": [
    {
     "data": {
      "text/plain": [
       "[('android', 416), ('php', 243), ('javascript', 240)]"
      ]
     },
     "execution_count": 52,
     "metadata": {},
     "output_type": "execute_result"
    }
   ],
   "source": [
    "# SQLAlchamy Core - SQL Expression Language\n",
    "query = text(\"\"\"SELECT Tags, COUNT(Tags)\n",
    "            FROM STACKOVERFLOW\n",
    "            GROUP BY Tags\n",
    "            ORDER BY COUNT(Tags) Desc\n",
    "            LIMIT 3\"\"\")\n",
    "session.execute(query).fetchall()  # scalar returns a single value (no tuple)"
   ]
  },
  {
   "cell_type": "code",
   "execution_count": 53,
   "metadata": {},
   "outputs": [
    {
     "data": {
      "text/plain": [
       "[('android', 416), ('php', 243), ('javascript', 240)]"
      ]
     },
     "execution_count": 53,
     "metadata": {},
     "output_type": "execute_result"
    }
   ],
   "source": [
    "# SQLAlchemy ORM\n",
    "from sqlalchemy import func\n",
    "\n",
    "session.query(StackOverflow.Tags, func.count(StackOverflow.Tags)\n",
    "    ).group_by(StackOverflow.Tags\n",
    "    ).order_by(func.count(StackOverflow.Tags).desc()\n",
    "    ).limit(3).all()"
   ]
  },
  {
   "cell_type": "code",
   "execution_count": 54,
   "metadata": {},
   "outputs": [
    {
     "name": "stdout",
     "output_type": "stream",
     "text": [
      "SELECT \"STACKOVERFLOW\".\"Tags\" AS \"STACKOVERFLOW_Tags\", count(\"STACKOVERFLOW\".\"Tags\") AS count_1 \n",
      "FROM \"STACKOVERFLOW\" GROUP BY \"STACKOVERFLOW\".\"Tags\" ORDER BY count(\"STACKOVERFLOW\".\"Tags\") DESC\n",
      " LIMIT ? OFFSET ?\n"
     ]
    }
   ],
   "source": [
    "# Raw SQL Query\n",
    "print(session.query(StackOverflow.Tags, func.count(StackOverflow.Tags)\n",
    "    ).group_by(StackOverflow.Tags\n",
    "    ).order_by(func.count(StackOverflow.Tags).desc()\n",
    "    ).limit(3))"
   ]
  },
  {
   "cell_type": "code",
   "execution_count": 55,
   "metadata": {},
   "outputs": [
    {
     "data": {
      "text/html": [
       "<div>\n",
       "<style>\n",
       "    .dataframe thead tr:only-child th {\n",
       "        text-align: right;\n",
       "    }\n",
       "\n",
       "    .dataframe thead th {\n",
       "        text-align: left;\n",
       "    }\n",
       "\n",
       "    .dataframe tbody tr th {\n",
       "        vertical-align: top;\n",
       "    }\n",
       "</style>\n",
       "<table border=\"1\" class=\"dataframe\">\n",
       "  <thead>\n",
       "    <tr style=\"text-align: right;\">\n",
       "      <th></th>\n",
       "      <th>Tags</th>\n",
       "      <th>COUNT(Tags)</th>\n",
       "    </tr>\n",
       "  </thead>\n",
       "  <tbody>\n",
       "    <tr>\n",
       "      <th>0</th>\n",
       "      <td>android</td>\n",
       "      <td>416</td>\n",
       "    </tr>\n",
       "    <tr>\n",
       "      <th>1</th>\n",
       "      <td>php</td>\n",
       "      <td>243</td>\n",
       "    </tr>\n",
       "    <tr>\n",
       "      <th>2</th>\n",
       "      <td>javascript</td>\n",
       "      <td>240</td>\n",
       "    </tr>\n",
       "  </tbody>\n",
       "</table>\n",
       "</div>"
      ],
      "text/plain": [
       "         Tags  COUNT(Tags)\n",
       "0     android          416\n",
       "1         php          243\n",
       "2  javascript          240"
      ]
     },
     "execution_count": 55,
     "metadata": {},
     "output_type": "execute_result"
    }
   ],
   "source": [
    "# Pandas\n",
    "pd.read_sql(\"\"\"SELECT Tags, COUNT(Tags)\n",
    "            FROM STACKOVERFLOW\n",
    "            GROUP BY Tags\n",
    "            ORDER BY COUNT(Tags) Desc\n",
    "            LIMIT 3\n",
    "            \"\"\", con=engine)"
   ]
  },
  {
   "cell_type": "markdown",
   "metadata": {},
   "source": [
    "#### Extra Material - load database iteratively from pandas"
   ]
  },
  {
   "cell_type": "code",
   "execution_count": 24,
   "metadata": {},
   "outputs": [
    {
     "name": "stdout",
     "output_type": "stream",
     "text": [
      "ZIP NAME: C:\\Users\\alsherman\\Desktop\\PycharmProjects\\firm_initiatives\\ml_guild\\raw_data\\stackoverflow.zip \n",
      "\n",
      "CSV NAME: Train.csv \n",
      "\n",
      "DB PATH: sqlite:///C:\\Users\\alsherman\\Desktop\\PycharmProjects\\firm_initiatives\\ml_guild\\raw_data\\databases\\stackoverflow.sqlite\n"
     ]
    }
   ],
   "source": [
    "# confirm dataset is available\n",
    "print('ZIP NAME: {} \\n'.format(STACKOVERFLOW_ZIP_NAME))\n",
    "print('CSV NAME: {} \\n'.format(STACKOVERFLOW_CSV_NAME))\n",
    "print('DB PATH: {}'.format(DB_PATH))"
   ]
  },
  {
   "cell_type": "code",
   "execution_count": 25,
   "metadata": {
    "collapsed": true
   },
   "outputs": [],
   "source": [
    "# NOTE: you must download the stackoverflow zip (2GB zip file) for below code to work\n",
    "# https://www.kaggle.com/c/facebook-recruiting-iii-keyword-extraction/data\n",
    "\n",
    "import pandas as pd\n",
    "import datetime as dt\n",
    "import zipfile\n",
    "from sqlalchemy.orm import sessionmaker\n",
    "from sqlalchemy import create_engine\n",
    "\n",
    "zf = zipfile.ZipFile(STACKOVERFLOW_ZIP_NAME)\n",
    "engine = create_engine(DB_PATH)\n",
    "for ind, df in enumerate(pd.read_csv(\n",
    "    zf.open(STACKOVERFLOW_CSV_NAME)\n",
    "        , chunksize=10_000\n",
    "        , iterator=True\n",
    "        , encoding='utf-8'\n",
    "        , nrows=50_000)):\n",
    "    \n",
    "    # uncomment to write to db \n",
    "    #df.to_sql('STACKOVERFLOW', con=engine, if_exists='append')"
   ]
  }
 ],
 "metadata": {
  "kernelspec": {
   "display_name": "Python 3",
   "language": "python",
   "name": "python3"
  },
  "language_info": {
   "codemirror_mode": {
    "name": "ipython",
    "version": 3
   },
   "file_extension": ".py",
   "mimetype": "text/x-python",
   "name": "python",
   "nbconvert_exporter": "python",
   "pygments_lexer": "ipython3",
   "version": "3.5.4"
  }
 },
 "nbformat": 4,
 "nbformat_minor": 2
}
