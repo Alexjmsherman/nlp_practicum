{
  "nbformat": 4,
  "nbformat_minor": 0,
  "metadata": {
    "colab": {
      "name": "Deep Learning for NLP.ipynb",
      "version": "0.3.2",
      "provenance": [],
      "include_colab_link": true
    },
    "language_info": {
      "codemirror_mode": {
        "name": "ipython",
        "version": 3
      },
      "file_extension": ".py",
      "mimetype": "text/x-python",
      "name": "python",
      "nbconvert_exporter": "python",
      "pygments_lexer": "ipython3",
      "version": "3.6.7"
    },
    "kernelspec": {
      "display_name": "Python [conda env:guild] *",
      "language": "python",
      "name": "conda-env-guild-py"
    },
    "accelerator": "GPU"
  },
  "cells": [
    {
      "cell_type": "markdown",
      "metadata": {
        "id": "view-in-github",
        "colab_type": "text"
      },
      "source": [
        "<a href=\"https://colab.research.google.com/github/Alexjmsherman/nlp_practicum_cohort3_instructor/blob/master/lessons/lesson_6_deep_learning_for_nlp/Deep%20Learning%20for%20NLP.ipynb\" target=\"_parent\"><img src=\"https://colab.research.google.com/assets/colab-badge.svg\" alt=\"Open In Colab\"/></a>"
      ]
    },
    {
      "cell_type": "markdown",
      "metadata": {
        "id": "yNfyZNVE8c8g",
        "colab_type": "text"
      },
      "source": [
        "## Deep Learning for NLP\n",
        "\n",
        "##### Author: Alex Sherman | alsherman@deloitte.com\n",
        "\n",
        "\n",
        "Agenda:\n"
      ]
    },
    {
      "cell_type": "code",
      "metadata": {
        "id": "QsPK_oW08c8i",
        "colab_type": "code",
        "colab": {}
      },
      "source": [
        "from configparser import ConfigParser, ExtendedInterpolation\n",
        "import os\n",
        "import numpy as np\n",
        "import pandas as pd\n",
        "from numpy import array\n",
        "from numpy import asarray\n",
        "from numpy import zeros\n",
        "from IPython.core.display import display, HTML\n",
        "from IPython.display import Image\n",
        "from gensim.utils import simple_preprocess\n",
        "from sklearn.model_selection import train_test_split\n",
        "from sklearn.linear_model import LogisticRegression\n",
        "from sklearn import metrics\n",
        "from sklearn.feature_extraction.text import TfidfVectorizer\n",
        "from sklearn.metrics import confusion_matrix\n",
        "import seaborn as sns\n",
        "from gensim.utils import simple_preprocess\n",
        "from gensim.models import KeyedVectors\n",
        "from keras.preprocessing.text import Tokenizer\n",
        "from keras.preprocessing.sequence import pad_sequences\n",
        "from keras.models import Sequential\n",
        "from keras.layers import Dense, Flatten, LSTM, Conv1D, MaxPooling1D, Dropout, Activation, \\\n",
        "    Embedding, Input, GlobalAveragePooling1D, GlobalMaxPooling1D, SpatialDropout1D, GlobalMaxPool1D\n",
        "from keras.layers.embeddings import Embedding\n",
        "from keras.models import Model, Sequential\n",
        "from keras.initializers import Constant\n",
        "from keras.utils import to_categorical"
      ],
      "execution_count": 0,
      "outputs": []
    },
    {
      "cell_type": "markdown",
      "metadata": {
        "id": "foYdukBi8c8n",
        "colab_type": "text"
      },
      "source": [
        "# Problem Definition\n",
        "\n",
        "Predict the National Institutes of Health (NIH) Institute of Center (IC) from the Project Title of previously funded projects"
      ]
    },
    {
      "cell_type": "code",
      "metadata": {
        "id": "EeZh4nCh8c8n",
        "colab_type": "code",
        "outputId": "f4303af0-4e7c-45a7-cccf-099c45a5df54",
        "colab": {
          "base_uri": "https://localhost:8080/",
          "height": 208
        }
      },
      "source": [
        "# download NIH Project Data\n",
        "!wget https://exporter.nih.gov/CSVs/final/RePORTER_PRJ_C_FY2017.zip"
      ],
      "execution_count": 4,
      "outputs": [
        {
          "output_type": "stream",
          "text": [
            "--2019-07-01 03:15:34--  https://exporter.nih.gov/CSVs/final/RePORTER_PRJ_C_FY2017.zip\n",
            "Resolving exporter.nih.gov (exporter.nih.gov)... 165.112.228.197, 2607:f220:404:1101:165:112:228:197\n",
            "Connecting to exporter.nih.gov (exporter.nih.gov)|165.112.228.197|:443... connected.\n",
            "HTTP request sent, awaiting response... 200 OK\n",
            "Length: 58433518 (56M) [application/x-zip-compressed]\n",
            "Saving to: ‘RePORTER_PRJ_C_FY2017.zip’\n",
            "\n",
            "RePORTER_PRJ_C_FY20 100%[===================>]  55.73M   943KB/s    in 63s     \n",
            "\n",
            "2019-07-01 03:16:37 (913 KB/s) - ‘RePORTER_PRJ_C_FY2017.zip’ saved [58433518/58433518]\n",
            "\n"
          ],
          "name": "stdout"
        }
      ]
    },
    {
      "cell_type": "code",
      "metadata": {
        "id": "42VzFaE-AgPK",
        "colab_type": "code",
        "colab": {}
      },
      "source": [
        "# zip with NIH projects\n",
        "REPORTER_DATA_PATH = r'RePORTER_PRJ_C_FY2017.zip'"
      ],
      "execution_count": 0,
      "outputs": []
    },
    {
      "cell_type": "code",
      "metadata": {
        "id": "q9ktHHDC8c8p",
        "colab_type": "code",
        "outputId": "a3e035f1-2c73-4251-be73-799fa522036d",
        "colab": {
          "base_uri": "https://localhost:8080/",
          "height": 569
        }
      },
      "source": [
        "# view the data\n",
        "df = pd.read_csv(\n",
        "    REPORTER_DATA_PATH,\n",
        "    encoding='latin-1'  # common encoding to handle messy data\n",
        ")\n",
        "df.head()"
      ],
      "execution_count": 7,
      "outputs": [
        {
          "output_type": "execute_result",
          "data": {
            "text/html": [
              "<div>\n",
              "<style scoped>\n",
              "    .dataframe tbody tr th:only-of-type {\n",
              "        vertical-align: middle;\n",
              "    }\n",
              "\n",
              "    .dataframe tbody tr th {\n",
              "        vertical-align: top;\n",
              "    }\n",
              "\n",
              "    .dataframe thead th {\n",
              "        text-align: right;\n",
              "    }\n",
              "</style>\n",
              "<table border=\"1\" class=\"dataframe\">\n",
              "  <thead>\n",
              "    <tr style=\"text-align: right;\">\n",
              "      <th></th>\n",
              "      <th>APPLICATION_ID</th>\n",
              "      <th>ACTIVITY</th>\n",
              "      <th>ADMINISTERING_IC</th>\n",
              "      <th>APPLICATION_TYPE</th>\n",
              "      <th>ARRA_FUNDED</th>\n",
              "      <th>AWARD_NOTICE_DATE</th>\n",
              "      <th>BUDGET_START</th>\n",
              "      <th>BUDGET_END</th>\n",
              "      <th>CFDA_CODE</th>\n",
              "      <th>CORE_PROJECT_NUM</th>\n",
              "      <th>ED_INST_TYPE</th>\n",
              "      <th>FOA_NUMBER</th>\n",
              "      <th>FULL_PROJECT_NUM</th>\n",
              "      <th>FUNDING_ICs</th>\n",
              "      <th>FUNDING_MECHANISM</th>\n",
              "      <th>FY</th>\n",
              "      <th>IC_NAME</th>\n",
              "      <th>NIH_SPENDING_CATS</th>\n",
              "      <th>ORG_CITY</th>\n",
              "      <th>ORG_COUNTRY</th>\n",
              "      <th>ORG_DEPT</th>\n",
              "      <th>ORG_DISTRICT</th>\n",
              "      <th>ORG_DUNS</th>\n",
              "      <th>ORG_FIPS</th>\n",
              "      <th>ORG_IPF_CODE</th>\n",
              "      <th>ORG_NAME</th>\n",
              "      <th>ORG_STATE</th>\n",
              "      <th>ORG_ZIPCODE</th>\n",
              "      <th>PHR</th>\n",
              "      <th>PI_IDS</th>\n",
              "      <th>PI_NAMEs</th>\n",
              "      <th>PROGRAM_OFFICER_NAME</th>\n",
              "      <th>PROJECT_START</th>\n",
              "      <th>PROJECT_END</th>\n",
              "      <th>PROJECT_TERMS</th>\n",
              "      <th>PROJECT_TITLE</th>\n",
              "      <th>SERIAL_NUMBER</th>\n",
              "      <th>STUDY_SECTION</th>\n",
              "      <th>STUDY_SECTION_NAME</th>\n",
              "      <th>SUBPROJECT_ID</th>\n",
              "      <th>SUFFIX</th>\n",
              "      <th>SUPPORT_YEAR</th>\n",
              "      <th>DIRECT_COST_AMT</th>\n",
              "      <th>INDIRECT_COST_AMT</th>\n",
              "      <th>TOTAL_COST</th>\n",
              "      <th>TOTAL_COST_SUB_PROJECT</th>\n",
              "    </tr>\n",
              "  </thead>\n",
              "  <tbody>\n",
              "    <tr>\n",
              "      <th>0</th>\n",
              "      <td>9260950</td>\n",
              "      <td>R01</td>\n",
              "      <td>MH</td>\n",
              "      <td>5.0</td>\n",
              "      <td>N</td>\n",
              "      <td>02/28/2017</td>\n",
              "      <td>03/01/2017</td>\n",
              "      <td>02/28/2018</td>\n",
              "      <td>242.0</td>\n",
              "      <td>R01MH100027</td>\n",
              "      <td>SCHOOLS OF MEDICINE</td>\n",
              "      <td>RFA-HD-12-196</td>\n",
              "      <td>5R01MH100027-10</td>\n",
              "      <td>NIMH:2759584\\</td>\n",
              "      <td>Non-SBIR/STTR RPGs</td>\n",
              "      <td>2017</td>\n",
              "      <td>NATIONAL INSTITUTE OF MENTAL HEALTH</td>\n",
              "      <td>Autism; Basic Behavioral and Social Science; B...</td>\n",
              "      <td>LOS ANGELES</td>\n",
              "      <td>UNITED STATES</td>\n",
              "      <td>NONE</td>\n",
              "      <td>33.0</td>\n",
              "      <td>092530369</td>\n",
              "      <td>US</td>\n",
              "      <td>577505.0</td>\n",
              "      <td>UNIVERSITY OF CALIFORNIA LOS ANGELES</td>\n",
              "      <td>CA</td>\n",
              "      <td>900952000</td>\n",
              "      <td>PUBLIC HEALTH RELEVANCE: Project Narrative Thi...</td>\n",
              "      <td>1902475; 1882597 (contact); 6872358; 7261351; ...</td>\n",
              "      <td>CONSTANTINO, JOHN N.; GESCHWIND, DANIEL H (con...</td>\n",
              "      <td>ADDINGTON, ANJENE M</td>\n",
              "      <td>03/25/2013</td>\n",
              "      <td>02/28/2018</td>\n",
              "      <td>admixture mapping; Affect; African; African Am...</td>\n",
              "      <td>Autism Genetics, Phase II: Increasing Represen...</td>\n",
              "      <td>100027</td>\n",
              "      <td>ZHD1</td>\n",
              "      <td>Special Emphasis Panel</td>\n",
              "      <td>NaN</td>\n",
              "      <td>NaN</td>\n",
              "      <td>10.0</td>\n",
              "      <td>2364258.0</td>\n",
              "      <td>395326.0</td>\n",
              "      <td>2759584.0</td>\n",
              "      <td>NaN</td>\n",
              "    </tr>\n",
              "    <tr>\n",
              "      <th>1</th>\n",
              "      <td>9277747</td>\n",
              "      <td>U54</td>\n",
              "      <td>CA</td>\n",
              "      <td>2.0</td>\n",
              "      <td>N</td>\n",
              "      <td>05/12/2017</td>\n",
              "      <td>05/12/2017</td>\n",
              "      <td>04/30/2018</td>\n",
              "      <td>397.0</td>\n",
              "      <td>U54CA163004</td>\n",
              "      <td>SCHOOLS OF MEDICINE</td>\n",
              "      <td>RFA-CA-16-006</td>\n",
              "      <td>2U54CA163004-06</td>\n",
              "      <td>NCI:1310083\\</td>\n",
              "      <td>RESEARCH CENTERS</td>\n",
              "      <td>2017</td>\n",
              "      <td>NATIONAL CANCER INSTITUTE</td>\n",
              "      <td>NaN</td>\n",
              "      <td>NEW YORK</td>\n",
              "      <td>UNITED STATES</td>\n",
              "      <td>INTERNAL MEDICINE/MEDICINE</td>\n",
              "      <td>13.0</td>\n",
              "      <td>621889815</td>\n",
              "      <td>US</td>\n",
              "      <td>1833205.0</td>\n",
              "      <td>COLUMBIA UNIVERSITY HEALTH SCIENCES</td>\n",
              "      <td>NY</td>\n",
              "      <td>100320049</td>\n",
              "      <td>OVERALL PROJECT NARRATIVE The goal of the rene...</td>\n",
              "      <td>1868587; 1872519; 1873597 (contact);</td>\n",
              "      <td>RUSTGI, ANIL K; WANG, KENNETH K; WANG, TIMOTHY...</td>\n",
              "      <td>YASSIN, RIHAB R</td>\n",
              "      <td>09/26/2011</td>\n",
              "      <td>04/30/2022</td>\n",
              "      <td>Ablation; Antibiotics; Barrett Esophagus; Bile...</td>\n",
              "      <td>The Role of the Microenvironment in Barrett's ...</td>\n",
              "      <td>163004</td>\n",
              "      <td>ZCA1</td>\n",
              "      <td>Special Emphasis Panel</td>\n",
              "      <td>NaN</td>\n",
              "      <td>NaN</td>\n",
              "      <td>6.0</td>\n",
              "      <td>978861.0</td>\n",
              "      <td>331222.0</td>\n",
              "      <td>1310083.0</td>\n",
              "      <td>NaN</td>\n",
              "    </tr>\n",
              "    <tr>\n",
              "      <th>2</th>\n",
              "      <td>9466899</td>\n",
              "      <td>SB1</td>\n",
              "      <td>ES</td>\n",
              "      <td>2.0</td>\n",
              "      <td>N</td>\n",
              "      <td>09/12/2017</td>\n",
              "      <td>09/15/2017</td>\n",
              "      <td>08/31/2018</td>\n",
              "      <td>113.0</td>\n",
              "      <td>SB1ES022880</td>\n",
              "      <td>NaN</td>\n",
              "      <td>PAR-16-026</td>\n",
              "      <td>2SB1ES022880-04</td>\n",
              "      <td>NIEHS:199968\\</td>\n",
              "      <td>SBIR-STTR RPGs</td>\n",
              "      <td>2017</td>\n",
              "      <td>NATIONAL INSTITUTE OF ENVIRONMENTAL HEALTH SCI...</td>\n",
              "      <td>Climate-Related Exposures and Conditions; Heal...</td>\n",
              "      <td>ROCKLEDGE</td>\n",
              "      <td>UNITED STATES</td>\n",
              "      <td>NaN</td>\n",
              "      <td>8.0</td>\n",
              "      <td>175302579</td>\n",
              "      <td>US</td>\n",
              "      <td>10005346.0</td>\n",
              "      <td>MAINSTREAM ENGINEERING CORPORATION</td>\n",
              "      <td>FL</td>\n",
              "      <td>329555327</td>\n",
              "      <td>Relevance of the Proposed Project to Public He...</td>\n",
              "      <td>11357207;</td>\n",
              "      <td>YELVINGTON, PAUL ;</td>\n",
              "      <td>SHAUGHNESSY, DANIEL</td>\n",
              "      <td>07/11/2013</td>\n",
              "      <td>08/31/2018</td>\n",
              "      <td>Acute respiratory infection; Adhesions; Adopti...</td>\n",
              "      <td>Low-Cost Catalytic Biomass Cookstove for Impro...</td>\n",
              "      <td>022880</td>\n",
              "      <td>ZRG1</td>\n",
              "      <td>Special Emphasis Panel</td>\n",
              "      <td>NaN</td>\n",
              "      <td>NaN</td>\n",
              "      <td>4.0</td>\n",
              "      <td>94518.0</td>\n",
              "      <td>93953.0</td>\n",
              "      <td>199968.0</td>\n",
              "      <td>NaN</td>\n",
              "    </tr>\n",
              "    <tr>\n",
              "      <th>3</th>\n",
              "      <td>9255779</td>\n",
              "      <td>R43</td>\n",
              "      <td>GM</td>\n",
              "      <td>1.0</td>\n",
              "      <td>N</td>\n",
              "      <td>03/14/2017</td>\n",
              "      <td>04/01/2017</td>\n",
              "      <td>03/31/2019</td>\n",
              "      <td>859.0</td>\n",
              "      <td>R43GM122226</td>\n",
              "      <td>NaN</td>\n",
              "      <td>PA-15-269</td>\n",
              "      <td>1R43GM122226-01</td>\n",
              "      <td>NIGMS:223866\\</td>\n",
              "      <td>SBIR-STTR RPGs</td>\n",
              "      <td>2017</td>\n",
              "      <td>NATIONAL INSTITUTE OF GENERAL MEDICAL SCIENCES</td>\n",
              "      <td>Antimicrobial Resistance; Bioengineering; Infe...</td>\n",
              "      <td>BRIGHTON</td>\n",
              "      <td>UNITED STATES</td>\n",
              "      <td>NaN</td>\n",
              "      <td>7.0</td>\n",
              "      <td>079722830</td>\n",
              "      <td>US</td>\n",
              "      <td>10038518.0</td>\n",
              "      <td>GEL4MED, INC.</td>\n",
              "      <td>MA</td>\n",
              "      <td>021351243</td>\n",
              "      <td>Surgical Site Infections are the second most c...</td>\n",
              "      <td>12645919;</td>\n",
              "      <td>MEHTA, MANAV ;</td>\n",
              "      <td>COLE, ALISON E</td>\n",
              "      <td>04/01/2017</td>\n",
              "      <td>03/31/2019</td>\n",
              "      <td>Abdomen; Accounting; Adherence; Amino Acids; A...</td>\n",
              "      <td>Surgical Wound Closure Matrices for the Preven...</td>\n",
              "      <td>122226</td>\n",
              "      <td>ZRG1</td>\n",
              "      <td>Special Emphasis Panel</td>\n",
              "      <td>NaN</td>\n",
              "      <td>NaN</td>\n",
              "      <td>1.0</td>\n",
              "      <td>NaN</td>\n",
              "      <td>NaN</td>\n",
              "      <td>223866.0</td>\n",
              "      <td>NaN</td>\n",
              "    </tr>\n",
              "    <tr>\n",
              "      <th>4</th>\n",
              "      <td>9556855</td>\n",
              "      <td>ZIC</td>\n",
              "      <td>CA</td>\n",
              "      <td>1.0</td>\n",
              "      <td>N</td>\n",
              "      <td>NaN</td>\n",
              "      <td>NaN</td>\n",
              "      <td>NaN</td>\n",
              "      <td>NaN</td>\n",
              "      <td>ZICBC011574</td>\n",
              "      <td>NaN</td>\n",
              "      <td>NaN</td>\n",
              "      <td>1ZICBC011574-04</td>\n",
              "      <td>NCI:466646\\</td>\n",
              "      <td>INTRAMURAL RESEARCH</td>\n",
              "      <td>2017</td>\n",
              "      <td>NATIONAL CANCER INSTITUTE</td>\n",
              "      <td>Bioengineering; Biotechnology; Cancer;</td>\n",
              "      <td>NaN</td>\n",
              "      <td>NaN</td>\n",
              "      <td>NaN</td>\n",
              "      <td>NaN</td>\n",
              "      <td>NaN</td>\n",
              "      <td>NaN</td>\n",
              "      <td>NaN</td>\n",
              "      <td>BASIC SCIENCES</td>\n",
              "      <td>NaN</td>\n",
              "      <td>NaN</td>\n",
              "      <td>NaN</td>\n",
              "      <td>8777551;</td>\n",
              "      <td>HAGER, GORDON L;</td>\n",
              "      <td>NaN</td>\n",
              "      <td>NaN</td>\n",
              "      <td>NaN</td>\n",
              "      <td>base; Binding; CCR; Cells; Cellular Structures...</td>\n",
              "      <td>LRBGE Optical Microscopy Core</td>\n",
              "      <td>011574</td>\n",
              "      <td>NaN</td>\n",
              "      <td>NaN</td>\n",
              "      <td>NaN</td>\n",
              "      <td>NaN</td>\n",
              "      <td>4.0</td>\n",
              "      <td>NaN</td>\n",
              "      <td>NaN</td>\n",
              "      <td>466646.0</td>\n",
              "      <td>NaN</td>\n",
              "    </tr>\n",
              "  </tbody>\n",
              "</table>\n",
              "</div>"
            ],
            "text/plain": [
              "   APPLICATION_ID ACTIVITY  ... TOTAL_COST  TOTAL_COST_SUB_PROJECT\n",
              "0         9260950      R01  ...  2759584.0                     NaN\n",
              "1         9277747      U54  ...  1310083.0                     NaN\n",
              "2         9466899      SB1  ...   199968.0                     NaN\n",
              "3         9255779      R43  ...   223866.0                     NaN\n",
              "4         9556855      ZIC  ...   466646.0                     NaN\n",
              "\n",
              "[5 rows x 46 columns]"
            ]
          },
          "metadata": {
            "tags": []
          },
          "execution_count": 7
        }
      ]
    },
    {
      "cell_type": "code",
      "metadata": {
        "id": "HcpGoaqM8c8s",
        "colab_type": "code",
        "outputId": "8fe3c3d5-050d-4ff5-ad14-2e074b47c325",
        "colab": {
          "base_uri": "https://localhost:8080/",
          "height": 271
        }
      },
      "source": [
        "# filter to relevant columns\n",
        "df = df[['ADMINISTERING_IC', 'FY',  'IC_NAME', 'PROJECT_TITLE']]\n",
        "df.head()"
      ],
      "execution_count": 8,
      "outputs": [
        {
          "output_type": "execute_result",
          "data": {
            "text/html": [
              "<div>\n",
              "<style scoped>\n",
              "    .dataframe tbody tr th:only-of-type {\n",
              "        vertical-align: middle;\n",
              "    }\n",
              "\n",
              "    .dataframe tbody tr th {\n",
              "        vertical-align: top;\n",
              "    }\n",
              "\n",
              "    .dataframe thead th {\n",
              "        text-align: right;\n",
              "    }\n",
              "</style>\n",
              "<table border=\"1\" class=\"dataframe\">\n",
              "  <thead>\n",
              "    <tr style=\"text-align: right;\">\n",
              "      <th></th>\n",
              "      <th>ADMINISTERING_IC</th>\n",
              "      <th>FY</th>\n",
              "      <th>IC_NAME</th>\n",
              "      <th>PROJECT_TITLE</th>\n",
              "    </tr>\n",
              "  </thead>\n",
              "  <tbody>\n",
              "    <tr>\n",
              "      <th>0</th>\n",
              "      <td>MH</td>\n",
              "      <td>2017</td>\n",
              "      <td>NATIONAL INSTITUTE OF MENTAL HEALTH</td>\n",
              "      <td>Autism Genetics, Phase II: Increasing Represen...</td>\n",
              "    </tr>\n",
              "    <tr>\n",
              "      <th>1</th>\n",
              "      <td>CA</td>\n",
              "      <td>2017</td>\n",
              "      <td>NATIONAL CANCER INSTITUTE</td>\n",
              "      <td>The Role of the Microenvironment in Barrett's ...</td>\n",
              "    </tr>\n",
              "    <tr>\n",
              "      <th>2</th>\n",
              "      <td>ES</td>\n",
              "      <td>2017</td>\n",
              "      <td>NATIONAL INSTITUTE OF ENVIRONMENTAL HEALTH SCI...</td>\n",
              "      <td>Low-Cost Catalytic Biomass Cookstove for Impro...</td>\n",
              "    </tr>\n",
              "    <tr>\n",
              "      <th>3</th>\n",
              "      <td>GM</td>\n",
              "      <td>2017</td>\n",
              "      <td>NATIONAL INSTITUTE OF GENERAL MEDICAL SCIENCES</td>\n",
              "      <td>Surgical Wound Closure Matrices for the Preven...</td>\n",
              "    </tr>\n",
              "    <tr>\n",
              "      <th>4</th>\n",
              "      <td>CA</td>\n",
              "      <td>2017</td>\n",
              "      <td>NATIONAL CANCER INSTITUTE</td>\n",
              "      <td>LRBGE Optical Microscopy Core</td>\n",
              "    </tr>\n",
              "  </tbody>\n",
              "</table>\n",
              "</div>"
            ],
            "text/plain": [
              "  ADMINISTERING_IC  ...                                      PROJECT_TITLE\n",
              "0               MH  ...  Autism Genetics, Phase II: Increasing Represen...\n",
              "1               CA  ...  The Role of the Microenvironment in Barrett's ...\n",
              "2               ES  ...  Low-Cost Catalytic Biomass Cookstove for Impro...\n",
              "3               GM  ...  Surgical Wound Closure Matrices for the Preven...\n",
              "4               CA  ...                      LRBGE Optical Microscopy Core\n",
              "\n",
              "[5 rows x 4 columns]"
            ]
          },
          "metadata": {
            "tags": []
          },
          "execution_count": 8
        }
      ]
    },
    {
      "cell_type": "code",
      "metadata": {
        "id": "NZ8GZv8v8c8v",
        "colab_type": "code",
        "outputId": "66b17bdf-55c1-48f5-93b6-a1e1b710957a",
        "colab": {
          "base_uri": "https://localhost:8080/",
          "height": 763
        }
      },
      "source": [
        "# observe IC representation in dataset\n",
        "df['IC_NAME'].value_counts()"
      ],
      "execution_count": 9,
      "outputs": [
        {
          "output_type": "execute_result",
          "data": {
            "text/plain": [
              "NATIONAL CANCER INSTITUTE                                                          11406\n",
              "NATIONAL INSTITUTE OF ALLERGY AND INFECTIOUS DISEASES                               7744\n",
              "NATIONAL INSTITUTE OF GENERAL MEDICAL SCIENCES                                      7587\n",
              "NATIONAL HEART, LUNG, AND BLOOD INSTITUTE                                           6456\n",
              "NATIONAL INSTITUTE OF DIABETES AND DIGESTIVE AND KIDNEY DISEASES                    5051\n",
              "NATIONAL INSTITUTE OF NEUROLOGICAL DISORDERS AND STROKE                             4591\n",
              "NATIONAL INSTITUTE ON AGING                                                         3928\n",
              "NATIONAL INSTITUTE OF MENTAL HEALTH                                                 3515\n",
              "EUNICE KENNEDY SHRIVER NATIONAL INSTITUTE OF CHILD HEALTH & HUMAN DEVELOPMENT       3375\n",
              "NATIONAL INSTITUTE ON DRUG ABUSE                                                    2569\n",
              "NATIONAL EYE INSTITUTE                                                              1809\n",
              "NATIONAL INSTITUTE OF ENVIRONMENTAL HEALTH SCIENCES                                 1756\n",
              "NATIONAL INSTITUTE OF ARTHRITIS AND MUSCULOSKELETAL AND SKIN DISEASES               1576\n",
              "Veterans Affairs                                                                    1404\n",
              "NATIONAL INSTITUTE ON ALCOHOL ABUSE AND ALCOHOLISM                                  1262\n",
              "NATIONAL INSTITUTE ON DEAFNESS AND OTHER COMMUNICATION DISORDERS                    1173\n",
              "NATIONAL INSTITUTE OF BIOMEDICAL IMAGING AND BIOENGINEERING                         1065\n",
              "NATIONAL INSTITUTE OF DENTAL & CRANIOFACIAL RESEARCH                                 907\n",
              "OFFICE OF THE DIRECTOR, NATIONAL INSTITUTES OF HEALTH                                781\n",
              "NATIONAL HUMAN GENOME RESEARCH INSTITUTE                                             704\n",
              "National Institute on Minority Health and Health Disparities                         693\n",
              "NATIONAL CENTER FOR ADVANCING TRANSLATIONAL SCIENCES                                 553\n",
              "FOOD AND DRUG ADMINISTRATION                                                         543\n",
              "AGENCY FOR HEALTHCARE RESEARCH AND QUALITY                                           474\n",
              "NATIONAL INSTITUTE OF NURSING RESEARCH                                               398\n",
              "National Center for Complementary & Integrative Health                               328\n",
              "FOGARTY INTERNATIONAL CENTER                                                         310\n",
              "NATIONAL LIBRARY OF MEDICINE                                                         274\n",
              "NATIONAL INSTITUTE FOR OCCUPATIONAL SAFETY AND HEALTH                                191\n",
              "NATIONAL CENTER FOR CHRONIC DISEASE PREV AND HEALTH PROMO                            156\n",
              "CLINICAL CENTER                                                                      145\n",
              "National Center on Birth Defects and Developmental Disabilities                       52\n",
              "NATIONAL CENTER FOR INJURY PREVENTION AND CONTROL                                     48\n",
              "Administration for Children and Families                                              36\n",
              "Center for Global Health                                                              34\n",
              "National Center for Emerging and Zoonotic Infectious Diseases (NCEZID)                34\n",
              "National Center for Immunization and Respiratory Diseases (NCIRD)                     27\n",
              "National Center for HIV/AIDS, Viral Hepatitis, STD, and TB Prevention (NCHHSTP)       23\n",
              "CENTER  FOR INFORMATION TECHNOLOGY                                                    13\n",
              "NATIONAL CENTER FOR ENVIRONMENTAL HEALTH                                               9\n",
              "AGENCY FOR TOXIC SUBSTANCES AND DISEASE REGISTRY                                       7\n",
              "NATIONAL CENTER FOR HEALTH STATISTICS                                                  3\n",
              "Name: IC_NAME, dtype: int64"
            ]
          },
          "metadata": {
            "tags": []
          },
          "execution_count": 9
        }
      ]
    },
    {
      "cell_type": "code",
      "metadata": {
        "id": "S4aUJ3ow8c8x",
        "colab_type": "code",
        "outputId": "658dc792-33d4-4551-9df6-b547f6e39076",
        "colab": {
          "base_uri": "https://localhost:8080/",
          "height": 260
        }
      },
      "source": [
        "# convert IC counts to a dataframe\n",
        "top_ic = df['IC_NAME'].value_counts().reset_index()\n",
        "\n",
        "# filter to top ICs\n",
        "top_ic_names = top_ic[top_ic.IC_NAME > 1500]['index']\n",
        "\n",
        "# view results\n",
        "top_ic_names"
      ],
      "execution_count": 10,
      "outputs": [
        {
          "output_type": "execute_result",
          "data": {
            "text/plain": [
              "0                             NATIONAL CANCER INSTITUTE\n",
              "1     NATIONAL INSTITUTE OF ALLERGY AND INFECTIOUS D...\n",
              "2        NATIONAL INSTITUTE OF GENERAL MEDICAL SCIENCES\n",
              "3             NATIONAL HEART, LUNG, AND BLOOD INSTITUTE\n",
              "4     NATIONAL INSTITUTE OF DIABETES AND DIGESTIVE A...\n",
              "5     NATIONAL INSTITUTE OF NEUROLOGICAL DISORDERS A...\n",
              "6                           NATIONAL INSTITUTE ON AGING\n",
              "7                   NATIONAL INSTITUTE OF MENTAL HEALTH\n",
              "8     EUNICE KENNEDY SHRIVER NATIONAL INSTITUTE OF C...\n",
              "9                      NATIONAL INSTITUTE ON DRUG ABUSE\n",
              "10                               NATIONAL EYE INSTITUTE\n",
              "11    NATIONAL INSTITUTE OF ENVIRONMENTAL HEALTH SCI...\n",
              "12    NATIONAL INSTITUTE OF ARTHRITIS AND MUSCULOSKE...\n",
              "Name: index, dtype: object"
            ]
          },
          "metadata": {
            "tags": []
          },
          "execution_count": 10
        }
      ]
    },
    {
      "cell_type": "code",
      "metadata": {
        "id": "iJrL6VdJ8c80",
        "colab_type": "code",
        "outputId": "46d3ecf2-319a-4bd8-89ff-6dd30d4b6f18",
        "colab": {
          "base_uri": "https://localhost:8080/",
          "height": 35
        }
      },
      "source": [
        "# view new data subset\n",
        "df = df[df['IC_NAME'].isin(top_ic_names)]\n",
        "df.shape"
      ],
      "execution_count": 11,
      "outputs": [
        {
          "output_type": "execute_result",
          "data": {
            "text/plain": [
              "(61363, 4)"
            ]
          },
          "metadata": {
            "tags": []
          },
          "execution_count": 11
        }
      ]
    },
    {
      "cell_type": "code",
      "metadata": {
        "id": "CVsEg46Q8c82",
        "colab_type": "code",
        "outputId": "9f947874-726d-40a6-fe04-6de65ffb75aa",
        "colab": {
          "base_uri": "https://localhost:8080/",
          "height": 243
        }
      },
      "source": [
        "# factorize - convert category names to numbers\n",
        "df['IC_NAME'].factorize()"
      ],
      "execution_count": 13,
      "outputs": [
        {
          "output_type": "execute_result",
          "data": {
            "text/plain": [
              "(array([ 0,  1,  2, ...,  1, 11,  1]),\n",
              " Index(['NATIONAL INSTITUTE OF MENTAL HEALTH', 'NATIONAL CANCER INSTITUTE',\n",
              "        'NATIONAL INSTITUTE OF ENVIRONMENTAL HEALTH SCIENCES',\n",
              "        'NATIONAL INSTITUTE OF GENERAL MEDICAL SCIENCES',\n",
              "        'NATIONAL INSTITUTE OF NEUROLOGICAL DISORDERS AND STROKE',\n",
              "        'NATIONAL INSTITUTE ON AGING',\n",
              "        'NATIONAL HEART, LUNG, AND BLOOD INSTITUTE',\n",
              "        'NATIONAL INSTITUTE OF DIABETES AND DIGESTIVE AND KIDNEY DISEASES',\n",
              "        'EUNICE KENNEDY SHRIVER NATIONAL INSTITUTE OF CHILD HEALTH & HUMAN DEVELOPMENT',\n",
              "        'NATIONAL EYE INSTITUTE', 'NATIONAL INSTITUTE ON DRUG ABUSE',\n",
              "        'NATIONAL INSTITUTE OF ALLERGY AND INFECTIOUS DISEASES',\n",
              "        'NATIONAL INSTITUTE OF ARTHRITIS AND MUSCULOSKELETAL AND SKIN DISEASES'],\n",
              "       dtype='object'))"
            ]
          },
          "metadata": {
            "tags": []
          },
          "execution_count": 13
        }
      ]
    },
    {
      "cell_type": "code",
      "metadata": {
        "id": "9vQtskjH8c85",
        "colab_type": "code",
        "outputId": "8d0f8e81-cdcc-4dc3-d21c-0916eb0d5a08",
        "colab": {
          "base_uri": "https://localhost:8080/",
          "height": 271
        }
      },
      "source": [
        "# set the labels as a new column\n",
        "df['IC_NUM'] = df['ADMINISTERING_IC'].factorize()[0]\n",
        "df.head()"
      ],
      "execution_count": 15,
      "outputs": [
        {
          "output_type": "execute_result",
          "data": {
            "text/html": [
              "<div>\n",
              "<style scoped>\n",
              "    .dataframe tbody tr th:only-of-type {\n",
              "        vertical-align: middle;\n",
              "    }\n",
              "\n",
              "    .dataframe tbody tr th {\n",
              "        vertical-align: top;\n",
              "    }\n",
              "\n",
              "    .dataframe thead th {\n",
              "        text-align: right;\n",
              "    }\n",
              "</style>\n",
              "<table border=\"1\" class=\"dataframe\">\n",
              "  <thead>\n",
              "    <tr style=\"text-align: right;\">\n",
              "      <th></th>\n",
              "      <th>ADMINISTERING_IC</th>\n",
              "      <th>FY</th>\n",
              "      <th>IC_NAME</th>\n",
              "      <th>PROJECT_TITLE</th>\n",
              "      <th>IC_NUM</th>\n",
              "    </tr>\n",
              "  </thead>\n",
              "  <tbody>\n",
              "    <tr>\n",
              "      <th>0</th>\n",
              "      <td>MH</td>\n",
              "      <td>2017</td>\n",
              "      <td>NATIONAL INSTITUTE OF MENTAL HEALTH</td>\n",
              "      <td>Autism Genetics, Phase II: Increasing Represen...</td>\n",
              "      <td>0</td>\n",
              "    </tr>\n",
              "    <tr>\n",
              "      <th>1</th>\n",
              "      <td>CA</td>\n",
              "      <td>2017</td>\n",
              "      <td>NATIONAL CANCER INSTITUTE</td>\n",
              "      <td>The Role of the Microenvironment in Barrett's ...</td>\n",
              "      <td>1</td>\n",
              "    </tr>\n",
              "    <tr>\n",
              "      <th>2</th>\n",
              "      <td>ES</td>\n",
              "      <td>2017</td>\n",
              "      <td>NATIONAL INSTITUTE OF ENVIRONMENTAL HEALTH SCI...</td>\n",
              "      <td>Low-Cost Catalytic Biomass Cookstove for Impro...</td>\n",
              "      <td>2</td>\n",
              "    </tr>\n",
              "    <tr>\n",
              "      <th>3</th>\n",
              "      <td>GM</td>\n",
              "      <td>2017</td>\n",
              "      <td>NATIONAL INSTITUTE OF GENERAL MEDICAL SCIENCES</td>\n",
              "      <td>Surgical Wound Closure Matrices for the Preven...</td>\n",
              "      <td>3</td>\n",
              "    </tr>\n",
              "    <tr>\n",
              "      <th>4</th>\n",
              "      <td>CA</td>\n",
              "      <td>2017</td>\n",
              "      <td>NATIONAL CANCER INSTITUTE</td>\n",
              "      <td>LRBGE Optical Microscopy Core</td>\n",
              "      <td>1</td>\n",
              "    </tr>\n",
              "  </tbody>\n",
              "</table>\n",
              "</div>"
            ],
            "text/plain": [
              "  ADMINISTERING_IC  ...  IC_NUM\n",
              "0               MH  ...       0\n",
              "1               CA  ...       1\n",
              "2               ES  ...       2\n",
              "3               GM  ...       3\n",
              "4               CA  ...       1\n",
              "\n",
              "[5 rows x 5 columns]"
            ]
          },
          "metadata": {
            "tags": []
          },
          "execution_count": 15
        }
      ]
    },
    {
      "cell_type": "code",
      "metadata": {
        "id": "Q_qeshnD8c89",
        "colab_type": "code",
        "outputId": "c0eacdc2-3205-4260-aba4-d11367c70bec",
        "colab": {
          "base_uri": "https://localhost:8080/",
          "height": 243
        }
      },
      "source": [
        "# create a map of IC nums to names for later reference\n",
        "ic_name_map = {num:name for num, name in df[['IC_NUM','IC_NAME']].drop_duplicates().values}\n",
        "ic_name_map"
      ],
      "execution_count": 16,
      "outputs": [
        {
          "output_type": "execute_result",
          "data": {
            "text/plain": [
              "{0: 'NATIONAL INSTITUTE OF MENTAL HEALTH',\n",
              " 1: 'NATIONAL CANCER INSTITUTE',\n",
              " 2: 'NATIONAL INSTITUTE OF ENVIRONMENTAL HEALTH SCIENCES',\n",
              " 3: 'NATIONAL INSTITUTE OF GENERAL MEDICAL SCIENCES',\n",
              " 4: 'NATIONAL INSTITUTE OF NEUROLOGICAL DISORDERS AND STROKE',\n",
              " 5: 'NATIONAL INSTITUTE ON AGING',\n",
              " 6: 'NATIONAL HEART, LUNG, AND BLOOD INSTITUTE',\n",
              " 7: 'NATIONAL INSTITUTE OF DIABETES AND DIGESTIVE AND KIDNEY DISEASES',\n",
              " 8: 'EUNICE KENNEDY SHRIVER NATIONAL INSTITUTE OF CHILD HEALTH & HUMAN DEVELOPMENT',\n",
              " 9: 'NATIONAL EYE INSTITUTE',\n",
              " 10: 'NATIONAL INSTITUTE ON DRUG ABUSE',\n",
              " 11: 'NATIONAL INSTITUTE OF ALLERGY AND INFECTIOUS DISEASES',\n",
              " 12: 'NATIONAL INSTITUTE OF ARTHRITIS AND MUSCULOSKELETAL AND SKIN DISEASES'}"
            ]
          },
          "metadata": {
            "tags": []
          },
          "execution_count": 16
        }
      ]
    },
    {
      "cell_type": "markdown",
      "metadata": {
        "id": "Z3sovYv28c9A",
        "colab_type": "text"
      },
      "source": [
        "# Preprocess data and create Train/Test splits"
      ]
    },
    {
      "cell_type": "code",
      "metadata": {
        "id": "rWE4ORRC8c9B",
        "colab_type": "code",
        "colab": {}
      },
      "source": [
        "# separate the features and response\n",
        "X = df['PROJECT_TITLE']\n",
        "y = df['IC_NUM']"
      ],
      "execution_count": 0,
      "outputs": []
    },
    {
      "cell_type": "code",
      "metadata": {
        "id": "515ITfdw8c9F",
        "colab_type": "code",
        "outputId": "fe2d8fcd-3ad8-4b6a-9486-f7f44c356f73",
        "colab": {
          "base_uri": "https://localhost:8080/",
          "height": 384
        }
      },
      "source": [
        "# use gensim to preprocess text \n",
        "\n",
        "for title in X[0:5]:\n",
        "    clean_title_tokens = simple_preprocess(title)\n",
        "    clean_title = ' '.join(clean_title_tokens)\n",
        "    \n",
        "    print(title)\n",
        "    print(clean_title_tokens)\n",
        "    print(clean_title)\n",
        "    print()"
      ],
      "execution_count": 18,
      "outputs": [
        {
          "output_type": "stream",
          "text": [
            "Autism Genetics, Phase II: Increasing Representation of Human Diversity\n",
            "['autism', 'genetics', 'phase', 'ii', 'increasing', 'representation', 'of', 'human', 'diversity']\n",
            "autism genetics phase ii increasing representation of human diversity\n",
            "\n",
            "The Role of the Microenvironment in Barrett's Esophagus\n",
            "['the', 'role', 'of', 'the', 'in', 'barrett', 'esophagus']\n",
            "the role of the in barrett esophagus\n",
            "\n",
            "Low-Cost Catalytic Biomass Cookstove for Improved Indoor Air Quality\n",
            "['low', 'cost', 'catalytic', 'biomass', 'cookstove', 'for', 'improved', 'indoor', 'air', 'quality']\n",
            "low cost catalytic biomass cookstove for improved indoor air quality\n",
            "\n",
            "Surgical Wound Closure Matrices for the Prevention of Superficial Incisional SSI\n",
            "['surgical', 'wound', 'closure', 'matrices', 'for', 'the', 'prevention', 'of', 'superficial', 'incisional', 'ssi']\n",
            "surgical wound closure matrices for the prevention of superficial incisional ssi\n",
            "\n",
            "LRBGE Optical Microscopy Core\n",
            "['lrbge', 'optical', 'microscopy', 'core']\n",
            "lrbge optical microscopy core\n",
            "\n"
          ],
          "name": "stdout"
        }
      ]
    },
    {
      "cell_type": "code",
      "metadata": {
        "id": "kEnO8gl_8c9J",
        "colab_type": "code",
        "colab": {}
      },
      "source": [
        "# use gensim to preprocess text \n",
        "\n",
        "def preprocess_text(text):\n",
        "    \"\"\" use gensim simple_preprocess to tokenize text. Join results back into a clean text string\n",
        "    \n",
        "    :param text: string, text to preprocess\n",
        "    \"\"\"\n",
        "    \n",
        "    clean_tokens = simple_preprocess(text)\n",
        "    clean_text = ' '.join(clean_tokens)\n",
        "    \n",
        "    return clean_text\n",
        "\n",
        "\n",
        "X = X.apply(lambda x: preprocess_text(x))"
      ],
      "execution_count": 0,
      "outputs": []
    },
    {
      "cell_type": "code",
      "metadata": {
        "id": "XSNVrE9E8c9L",
        "colab_type": "code",
        "outputId": "18411218-d849-45ad-e80e-9d3046a50c39",
        "colab": {
          "base_uri": "https://localhost:8080/",
          "height": 260
        }
      },
      "source": [
        "# Create train test splits\n",
        "\n",
        "from sklearn.model_selection import train_test_split\n",
        "\n",
        "X_train, X_test, y_train, y_test = train_test_split(X, y, shuffle=True, stratify=y, random_state=42)\n",
        "y_train.value_counts(normalize=True)"
      ],
      "execution_count": 21,
      "outputs": [
        {
          "output_type": "execute_result",
          "data": {
            "text/plain": [
              "1     0.185889\n",
              "11    0.126201\n",
              "3     0.123637\n",
              "6     0.105211\n",
              "7     0.082308\n",
              "4     0.074812\n",
              "5     0.064013\n",
              "0     0.057277\n",
              "8     0.054995\n",
              "10    0.041871\n",
              "9     0.029486\n",
              "2     0.028617\n",
              "12    0.025683\n",
              "Name: IC_NUM, dtype: float64"
            ]
          },
          "metadata": {
            "tags": []
          },
          "execution_count": 21
        }
      ]
    },
    {
      "cell_type": "markdown",
      "metadata": {
        "id": "isRdYwUE8c9O",
        "colab_type": "text"
      },
      "source": [
        "### Explore Data"
      ]
    },
    {
      "cell_type": "code",
      "metadata": {
        "id": "_0PkUTtr8c9P",
        "colab_type": "code",
        "outputId": "c3136224-cf96-41cf-dd23-366dd1d56400",
        "colab": {
          "base_uri": "https://localhost:8080/",
          "height": 173
        }
      },
      "source": [
        "# view the distribution of words in a project title\n",
        "X_train.apply(len).describe()"
      ],
      "execution_count": 22,
      "outputs": [
        {
          "output_type": "execute_result",
          "data": {
            "text/plain": [
              "count    46022.000000\n",
              "mean        60.746860\n",
              "std         25.154798\n",
              "min          0.000000\n",
              "25%         44.000000\n",
              "50%         60.000000\n",
              "75%         76.000000\n",
              "max        199.000000\n",
              "Name: PROJECT_TITLE, dtype: float64"
            ]
          },
          "metadata": {
            "tags": []
          },
          "execution_count": 22
        }
      ]
    },
    {
      "cell_type": "markdown",
      "metadata": {
        "id": "-eAY1ORh8c9R",
        "colab_type": "text"
      },
      "source": [
        "# Keras"
      ]
    },
    {
      "cell_type": "code",
      "metadata": {
        "id": "jhJtYGBl8c9S",
        "colab_type": "code",
        "outputId": "67fbe081-06fa-49a1-b9a5-4d6b0264a588",
        "colab": {
          "base_uri": "https://localhost:8080/",
          "height": 645
        }
      },
      "source": [
        "sqlalchemy_url = 'https://keras.io/'\n",
        "iframe = '<iframe src={} width=1100 height=600></iframe>'.format(sqlalchemy_url)\n",
        "HTML(iframe)"
      ],
      "execution_count": 23,
      "outputs": [
        {
          "output_type": "execute_result",
          "data": {
            "text/html": [
              "<iframe src=https://keras.io/ width=1100 height=600></iframe>"
            ],
            "text/plain": [
              "<IPython.core.display.HTML object>"
            ]
          },
          "metadata": {
            "tags": []
          },
          "execution_count": 23
        }
      ]
    },
    {
      "cell_type": "markdown",
      "metadata": {
        "id": "p_3NLaOG8c9Z",
        "colab_type": "text"
      },
      "source": [
        "# Document Classification with Deep Learning Approach\n",
        "\n",
        "### 1. convert all text samples in the dataset into sequences of word indices. \n",
        "- A \"word index\" would simply be an integer ID for the word. \n",
        "- We will only consider the top N most commonly occuring words in the dataset, and we will truncate the sequences to a defined maximum length of words.\n",
        "\n",
        "### 2. prepare an \"embedding matrix\" which will contain at index i the embedding vector for the word of index i in our word index.\n",
        "\n",
        "\n",
        "### 3. load this embedding matrix into a Keras Embedding layer, set to be frozen \n",
        "- its weights, the embedding vectors, will not be updated during training.\n",
        "\n",
        "\n",
        "### 4. build a deep learning model (e.g. CNN, RNN), ending in a softmax output.\n",
        "\n",
        "\n",
        "\n",
        "SOURCE: https://blog.keras.io/using-pre-trained-word-embeddings-in-a-keras-model.html"
      ]
    },
    {
      "cell_type": "markdown",
      "metadata": {
        "id": "khT6F4Wj8c9a",
        "colab_type": "text"
      },
      "source": [
        "# 1. convert all text samples in the dataset into sequences of word indices. "
      ]
    },
    {
      "cell_type": "code",
      "metadata": {
        "id": "wCBO2qUn8c9b",
        "colab_type": "code",
        "outputId": "2268a059-6541-4e96-ac74-2856dfdaf661",
        "colab": {
          "base_uri": "https://localhost:8080/",
          "height": 35
        }
      },
      "source": [
        "# get a count of the number of possible categories to predict\n",
        "num_classes = len(set(y_train))\n",
        "num_classes"
      ],
      "execution_count": 24,
      "outputs": [
        {
          "output_type": "execute_result",
          "data": {
            "text/plain": [
              "13"
            ]
          },
          "metadata": {
            "tags": []
          },
          "execution_count": 24
        }
      ]
    },
    {
      "cell_type": "code",
      "metadata": {
        "id": "fF1BZeVW8c9f",
        "colab_type": "code",
        "outputId": "6ade558c-29b2-4c5d-9b5d-47682f5608a5",
        "colab": {
          "base_uri": "https://localhost:8080/",
          "height": 139
        }
      },
      "source": [
        "# convert the training and testing dataset\n",
        "y_train_array = to_categorical(y_train, num_classes)\n",
        "y_test_array = to_categorical(y_test, num_classes)\n",
        "\n",
        "# each label is one-hot encoded into a vector of size num_classes\n",
        "y_train_array"
      ],
      "execution_count": 25,
      "outputs": [
        {
          "output_type": "execute_result",
          "data": {
            "text/plain": [
              "array([[0., 1., 0., ..., 0., 0., 0.],\n",
              "       [0., 0., 0., ..., 0., 0., 0.],\n",
              "       [0., 0., 0., ..., 0., 0., 0.],\n",
              "       ...,\n",
              "       [1., 0., 0., ..., 0., 0., 0.],\n",
              "       [0., 1., 0., ..., 0., 0., 0.],\n",
              "       [0., 1., 0., ..., 0., 0., 0.]], dtype=float32)"
            ]
          },
          "metadata": {
            "tags": []
          },
          "execution_count": 25
        }
      ]
    },
    {
      "cell_type": "markdown",
      "metadata": {
        "id": "ZkRwGU8s8c9i",
        "colab_type": "text"
      },
      "source": [
        "## Keras Tokenizer"
      ]
    },
    {
      "cell_type": "code",
      "metadata": {
        "id": "eBpoFneO8c9j",
        "colab_type": "code",
        "colab": {}
      },
      "source": [
        "# prepare tokenizer\n",
        "MAX_NUM_WORDS = 25000\n",
        "\n",
        "tokenizer = Tokenizer(num_words=MAX_NUM_WORDS)"
      ],
      "execution_count": 0,
      "outputs": []
    },
    {
      "cell_type": "code",
      "metadata": {
        "id": "gcL3v5Uo8c9s",
        "colab_type": "code",
        "outputId": "333e2cfb-a486-4e62-9304-47b096a170f2",
        "colab": {
          "base_uri": "https://localhost:8080/",
          "height": 55
        }
      },
      "source": [
        "print(dir(tokenizer))"
      ],
      "execution_count": 27,
      "outputs": [
        {
          "output_type": "stream",
          "text": [
            "['__class__', '__delattr__', '__dict__', '__dir__', '__doc__', '__eq__', '__format__', '__ge__', '__getattribute__', '__gt__', '__hash__', '__init__', '__init_subclass__', '__le__', '__lt__', '__module__', '__ne__', '__new__', '__reduce__', '__reduce_ex__', '__repr__', '__setattr__', '__sizeof__', '__str__', '__subclasshook__', '__weakref__', '_keras_api_names', '_keras_api_names_v1', 'char_level', 'document_count', 'filters', 'fit_on_sequences', 'fit_on_texts', 'get_config', 'index_docs', 'index_word', 'lower', 'num_words', 'oov_token', 'sequences_to_matrix', 'sequences_to_texts', 'sequences_to_texts_generator', 'split', 'texts_to_matrix', 'texts_to_sequences', 'texts_to_sequences_generator', 'to_json', 'word_counts', 'word_docs', 'word_index']\n"
          ],
          "name": "stdout"
        }
      ]
    },
    {
      "cell_type": "code",
      "metadata": {
        "id": "MAYgsO3F8c9u",
        "colab_type": "code",
        "colab": {}
      },
      "source": [
        "# learn the vocabulary from the training documents\n",
        "tokenizer.fit_on_texts(X_train)"
      ],
      "execution_count": 0,
      "outputs": []
    },
    {
      "cell_type": "markdown",
      "metadata": {
        "id": "JleqzlX38c9v",
        "colab_type": "text"
      },
      "source": [
        "##### Example what the tokenizer has learned from the text"
      ]
    },
    {
      "cell_type": "code",
      "metadata": {
        "id": "gdVFoAqu8c9w",
        "colab_type": "code",
        "outputId": "fc6fa48e-b0e2-40f6-b39f-6e881e2dc203",
        "colab": {
          "base_uri": "https://localhost:8080/",
          "height": 35
        }
      },
      "source": [
        "tokenizer.document_count"
      ],
      "execution_count": 29,
      "outputs": [
        {
          "output_type": "execute_result",
          "data": {
            "text/plain": [
              "46022"
            ]
          },
          "metadata": {
            "tags": []
          },
          "execution_count": 29
        }
      ]
    },
    {
      "cell_type": "code",
      "metadata": {
        "id": "YK85n4G48c9z",
        "colab_type": "code",
        "outputId": "8c0130a6-a272-46a8-f4e7-80b7c5e82820",
        "colab": {
          "base_uri": "https://localhost:8080/",
          "height": 35
        }
      },
      "source": [
        "# increment the vocab count by one as the first embedding must be blank for later activities in Keras\n",
        "vocab_size = len(tokenizer.word_index) + 1\n",
        "vocab_size"
      ],
      "execution_count": 30,
      "outputs": [
        {
          "output_type": "execute_result",
          "data": {
            "text/plain": [
              "20439"
            ]
          },
          "metadata": {
            "tags": []
          },
          "execution_count": 30
        }
      ]
    },
    {
      "cell_type": "code",
      "metadata": {
        "id": "x-FPLYB68c92",
        "colab_type": "code",
        "outputId": "d3c4b513-8de8-41ba-d8f4-7cd6153f8688",
        "colab": {
          "base_uri": "https://localhost:8080/",
          "height": 191
        }
      },
      "source": [
        "# get word counts that the tokenizer learned\n",
        "list(tokenizer.word_counts.items())[0:10]"
      ],
      "execution_count": 31,
      "outputs": [
        {
          "output_type": "execute_result",
          "data": {
            "text/plain": [
              "[('determining', 79),\n",
              " ('the', 8779),\n",
              " ('role', 2315),\n",
              " ('of', 22665),\n",
              " ('dnmt', 9),\n",
              " ('interacting', 21),\n",
              " ('rnas', 83),\n",
              " ('in', 15958),\n",
              " ('myeloid', 91),\n",
              " ('disorders', 353)]"
            ]
          },
          "metadata": {
            "tags": []
          },
          "execution_count": 31
        }
      ]
    },
    {
      "cell_type": "code",
      "metadata": {
        "id": "BO0gGxzr8c94",
        "colab_type": "code",
        "outputId": "92ebe947-a2a9-433f-b837-13ed911454bb",
        "colab": {
          "base_uri": "https://localhost:8080/",
          "height": 191
        }
      },
      "source": [
        "# view the most common words\n",
        "sorted(tokenizer.word_counts.items(), key=lambda x: x[1], reverse=True)[0:10]"
      ],
      "execution_count": 32,
      "outputs": [
        {
          "output_type": "execute_result",
          "data": {
            "text/plain": [
              "[('of', 22665),\n",
              " ('and', 17661),\n",
              " ('in', 15958),\n",
              " ('the', 8779),\n",
              " ('for', 7141),\n",
              " ('to', 4392),\n",
              " ('core', 3996),\n",
              " ('cancer', 3021),\n",
              " ('cell', 2685),\n",
              " ('research', 2425)]"
            ]
          },
          "metadata": {
            "tags": []
          },
          "execution_count": 32
        }
      ]
    },
    {
      "cell_type": "code",
      "metadata": {
        "id": "pcTOR13z8c96",
        "colab_type": "code",
        "outputId": "17a34dd9-2498-4745-eb22-5b0a2a205ef2",
        "colab": {
          "base_uri": "https://localhost:8080/",
          "height": 191
        }
      },
      "source": [
        "# get counts of in how many documents each token exists\n",
        "list(tokenizer.word_docs.items())[0:10]"
      ],
      "execution_count": 33,
      "outputs": [
        {
          "output_type": "execute_result",
          "data": {
            "text/plain": [
              "[('rnas', 83),\n",
              " ('disorders', 353),\n",
              " ('of', 20429),\n",
              " ('the', 7864),\n",
              " ('determining', 79),\n",
              " ('dnmt', 9),\n",
              " ('interacting', 21),\n",
              " ('myeloid', 91),\n",
              " ('in', 15331),\n",
              " ('role', 2315)]"
            ]
          },
          "metadata": {
            "tags": []
          },
          "execution_count": 33
        }
      ]
    },
    {
      "cell_type": "code",
      "metadata": {
        "scrolled": true,
        "id": "rwRvvGwk8c98",
        "colab_type": "code",
        "outputId": "80451b71-e492-4bfa-b017-a37a441c5c53",
        "colab": {
          "base_uri": "https://localhost:8080/",
          "height": 191
        }
      },
      "source": [
        "# get a word to index mapping\n",
        "list(tokenizer.word_index.items())[0:10]"
      ],
      "execution_count": 34,
      "outputs": [
        {
          "output_type": "execute_result",
          "data": {
            "text/plain": [
              "[('of', 1),\n",
              " ('and', 2),\n",
              " ('in', 3),\n",
              " ('the', 4),\n",
              " ('for', 5),\n",
              " ('to', 6),\n",
              " ('core', 7),\n",
              " ('cancer', 8),\n",
              " ('cell', 9),\n",
              " ('research', 10)]"
            ]
          },
          "metadata": {
            "tags": []
          },
          "execution_count": 34
        }
      ]
    },
    {
      "cell_type": "code",
      "metadata": {
        "id": "sWcuri2b8c99",
        "colab_type": "code",
        "outputId": "eaf2ded4-91b4-4e6c-ec3a-dc7269cac8de",
        "colab": {
          "base_uri": "https://localhost:8080/",
          "height": 191
        }
      },
      "source": [
        "# get a index to word mapping\n",
        "list(tokenizer.index_word.items())[0:10]"
      ],
      "execution_count": 35,
      "outputs": [
        {
          "output_type": "execute_result",
          "data": {
            "text/plain": [
              "[(1, 'of'),\n",
              " (2, 'and'),\n",
              " (3, 'in'),\n",
              " (4, 'the'),\n",
              " (5, 'for'),\n",
              " (6, 'to'),\n",
              " (7, 'core'),\n",
              " (8, 'cancer'),\n",
              " (9, 'cell'),\n",
              " (10, 'research')]"
            ]
          },
          "metadata": {
            "tags": []
          },
          "execution_count": 35
        }
      ]
    },
    {
      "cell_type": "markdown",
      "metadata": {
        "id": "FM5Vzcu_8c-A",
        "colab_type": "text"
      },
      "source": [
        "## convert the sentences to a sequence of token ids"
      ]
    },
    {
      "cell_type": "code",
      "metadata": {
        "id": "yfea3O-y8c-A",
        "colab_type": "code",
        "outputId": "46f38c67-0a9f-4842-dd83-002f76d0ca2c",
        "colab": {
          "base_uri": "https://localhost:8080/",
          "height": 225
        }
      },
      "source": [
        "encoded_docs = tokenizer.texts_to_sequences(X_train)\n",
        "print(X_train[0:5], '\\n')\n",
        "encoded_docs[0:5]"
      ],
      "execution_count": 36,
      "outputs": [
        {
          "output_type": "stream",
          "text": [
            "10516    determining the role of dnmt interacting rnas ...\n",
            "65466                                      morphology core\n",
            "57760    cognitive and neural moderators of longitudina...\n",
            "50413    exploiting mutant idh induced homologous recom...\n",
            "53219    analysis of intracellular host defenses in sal...\n",
            "Name: PROJECT_TITLE, dtype: object \n",
            "\n"
          ],
          "name": "stdout"
        },
        {
          "output_type": "execute_result",
          "data": {
            "text/plain": [
              "[[688, 4, 12, 1, 3690, 2063, 660, 3, 599, 134],\n",
              " [1367, 7],\n",
              " [98, 2, 67, 3691, 1, 311, 761, 3, 1935, 611],\n",
              " [1231, 554, 1989, 48, 2409, 820, 717, 3, 8],\n",
              " [34, 1, 798, 122, 2919, 3, 1173, 97]]"
            ]
          },
          "metadata": {
            "tags": []
          },
          "execution_count": 36
        }
      ]
    },
    {
      "cell_type": "markdown",
      "metadata": {
        "id": "muJxiLhx8c-D",
        "colab_type": "text"
      },
      "source": [
        "## pad the sequences to make the matrix size consistent"
      ]
    },
    {
      "cell_type": "code",
      "metadata": {
        "id": "PQmvagYU8c-E",
        "colab_type": "code",
        "outputId": "4e9c4355-c7c2-458b-d890-72daf6e4e916",
        "colab": {
          "base_uri": "https://localhost:8080/",
          "height": 104
        }
      },
      "source": [
        "# pad documents to a max length of 10 words\n",
        "\n",
        "MAX_SEQ_LENGTH = 10\n",
        "padded_docs = pad_sequences(encoded_docs, maxlen=MAX_SEQ_LENGTH, padding='post')\n",
        "print(padded_docs[0:5])"
      ],
      "execution_count": 37,
      "outputs": [
        {
          "output_type": "stream",
          "text": [
            "[[ 688    4   12    1 3690 2063  660    3  599  134]\n",
            " [1367    7    0    0    0    0    0    0    0    0]\n",
            " [  98    2   67 3691    1  311  761    3 1935  611]\n",
            " [1231  554 1989   48 2409  820  717    3    8    0]\n",
            " [  34    1  798  122 2919    3 1173   97    0    0]]\n"
          ],
          "name": "stdout"
        }
      ]
    },
    {
      "cell_type": "code",
      "metadata": {
        "id": "dyJTIDjk8c-G",
        "colab_type": "code",
        "colab": {}
      },
      "source": [
        "# encode both train and test data (only learn from the training data)\n",
        "\n",
        "def encode_text(text):\n",
        "    \"\"\" convert an array of text into a series of padded token interger-ids \n",
        "    \n",
        "    :param text: series, text to tokenize and pad with 0's\n",
        "    \"\"\"\n",
        "    \n",
        "    encoded_docs = tokenizer.texts_to_sequences(text)\n",
        "    \n",
        "    padded_docs = pad_sequences(\n",
        "        encoded_docs,\n",
        "        maxlen=MAX_SEQ_LENGTH,\n",
        "        padding='post'\n",
        "    )    \n",
        "    \n",
        "    return padded_docs\n",
        "\n",
        "\n",
        "X_train_sequence = encode_text(X_train)\n",
        "X_test_sequence = encode_text(X_test)"
      ],
      "execution_count": 0,
      "outputs": []
    },
    {
      "cell_type": "markdown",
      "metadata": {
        "id": "9i33JLa38c-H",
        "colab_type": "text"
      },
      "source": [
        "# 2. prepare an \"embedding matrix\" which will contain at index i the embedding vector for the word of index i in our word index."
      ]
    },
    {
      "cell_type": "markdown",
      "metadata": {
        "id": "8OC1djp_8c-H",
        "colab_type": "text"
      },
      "source": [
        "### Download pre-trained embeddings\n",
        "\n",
        "##### GLOVE\n",
        "- GLoVE - Global Vectors for Word Representation: https://nlp.stanford.edu/projects/glove/\n",
        "- Publication: https://nlp.stanford.edu/pubs/glove.pdf"
      ]
    },
    {
      "cell_type": "code",
      "metadata": {
        "id": "dbA5DiaQDuGu",
        "colab_type": "code",
        "outputId": "67b875e8-7176-45c2-d937-26a954256e04",
        "colab": {
          "base_uri": "https://localhost:8080/",
          "height": 364
        }
      },
      "source": [
        "# download pretrained embeddings\n",
        "!wget http://nlp.stanford.edu/data/glove.6B.zip\n",
        "\n",
        "# uncomment below for 2GB GLoVe Embeddings\n",
        "#!wget http://nlp.stanford.edu/data/glove.840B.300d.zip"
      ],
      "execution_count": 41,
      "outputs": [
        {
          "output_type": "stream",
          "text": [
            "--2019-07-01 03:27:23--  http://nlp.stanford.edu/data/glove.6B.zip\n",
            "Resolving nlp.stanford.edu (nlp.stanford.edu)... 171.64.67.140\n",
            "Connecting to nlp.stanford.edu (nlp.stanford.edu)|171.64.67.140|:80... connected.\n",
            "HTTP request sent, awaiting response... 302 Found\n",
            "Location: https://nlp.stanford.edu/data/glove.6B.zip [following]\n",
            "--2019-07-01 03:27:23--  https://nlp.stanford.edu/data/glove.6B.zip\n",
            "Connecting to nlp.stanford.edu (nlp.stanford.edu)|171.64.67.140|:443... connected.\n",
            "HTTP request sent, awaiting response... 301 Moved Permanently\n",
            "Location: http://downloads.cs.stanford.edu/nlp/data/glove.6B.zip [following]\n",
            "--2019-07-01 03:27:23--  http://downloads.cs.stanford.edu/nlp/data/glove.6B.zip\n",
            "Resolving downloads.cs.stanford.edu (downloads.cs.stanford.edu)... 171.64.64.22\n",
            "Connecting to downloads.cs.stanford.edu (downloads.cs.stanford.edu)|171.64.64.22|:80... connected.\n",
            "HTTP request sent, awaiting response... 200 OK\n",
            "Length: 862182613 (822M) [application/zip]\n",
            "Saving to: ‘glove.6B.zip’\n",
            "\n",
            "glove.6B.zip        100%[===================>] 822.24M  34.8MB/s    in 20s     \n",
            "\n",
            "2019-07-01 03:27:44 (40.2 MB/s) - ‘glove.6B.zip’ saved [862182613/862182613]\n",
            "\n"
          ],
          "name": "stdout"
        }
      ]
    },
    {
      "cell_type": "code",
      "metadata": {
        "id": "yMhbQDUI8c-H",
        "colab_type": "code",
        "outputId": "d9eaced1-8b19-4be7-ea8f-f8ebee4cd198",
        "colab": {
          "base_uri": "https://localhost:8080/",
          "height": 35
        }
      },
      "source": [
        "%ls"
      ],
      "execution_count": 42,
      "outputs": [
        {
          "output_type": "stream",
          "text": [
            "glove.6B.zip  RePORTER_PRJ_C_FY2017.zip  \u001b[0m\u001b[01;34msample_data\u001b[0m/\n"
          ],
          "name": "stdout"
        }
      ]
    },
    {
      "cell_type": "code",
      "metadata": {
        "id": "e79f-PDeEazw",
        "colab_type": "code",
        "outputId": "6c8ef8ba-7db5-425e-fa96-e780c3a71748",
        "colab": {
          "base_uri": "https://localhost:8080/",
          "height": 139
        }
      },
      "source": [
        "%%time\n",
        "\n",
        "from zipfile import ZipFile \n",
        "  \n",
        "# specifying the zip file name \n",
        "file_name = \"glove.6B.zip\"\n",
        "  \n",
        "# opening the zip file in READ mode \n",
        "with ZipFile(file_name, 'r') as z:\n",
        "  \n",
        "    # print all the contents of the zip file \n",
        "    z.printdir() \n",
        "  \n",
        "    # extracting all the files \n",
        "    z.extractall() "
      ],
      "execution_count": 43,
      "outputs": [
        {
          "output_type": "stream",
          "text": [
            "File Name                                             Modified             Size\n",
            "glove.6B.50d.txt                               2014-08-04 13:15:00    171350079\n",
            "glove.6B.100d.txt                              2014-08-04 13:14:34    347116733\n",
            "glove.6B.200d.txt                              2014-08-04 13:14:44    693432828\n",
            "glove.6B.300d.txt                              2014-08-27 12:19:16   1037962819\n",
            "CPU times: user 15.5 s, sys: 2.18 s, total: 17.7 s\n",
            "Wall time: 18.5 s\n"
          ],
          "name": "stdout"
        }
      ]
    },
    {
      "cell_type": "code",
      "metadata": {
        "id": "ON2u_VurElnW",
        "colab_type": "code",
        "outputId": "38826a16-ba08-4c2e-e862-352c036798e0",
        "colab": {
          "base_uri": "https://localhost:8080/",
          "height": 52
        }
      },
      "source": [
        "%ls"
      ],
      "execution_count": 44,
      "outputs": [
        {
          "output_type": "stream",
          "text": [
            "glove.6B.100d.txt  glove.6B.300d.txt  glove.6B.zip               \u001b[0m\u001b[01;34msample_data\u001b[0m/\n",
            "glove.6B.200d.txt  glove.6B.50d.txt   RePORTER_PRJ_C_FY2017.zip\n"
          ],
          "name": "stdout"
        }
      ]
    },
    {
      "cell_type": "code",
      "metadata": {
        "id": "sR3EWfO18c-J",
        "colab_type": "code",
        "colab": {}
      },
      "source": [
        "# Glove Word Embeddings\n",
        "GLOVE_DIR = 'glove.6B.300d.txt'\n",
        "EMBEDDING_SIZE = 300"
      ],
      "execution_count": 0,
      "outputs": []
    },
    {
      "cell_type": "code",
      "metadata": {
        "id": "PsxS13aM8c-L",
        "colab_type": "code",
        "outputId": "56e616df-d666-4fc0-a86b-0ff90607cfdb",
        "colab": {
          "base_uri": "https://localhost:8080/",
          "height": 89
        }
      },
      "source": [
        "with open(GLOVE_DIR) as f:\n",
        "    for line in f:\n",
        "        print(line, '\\n')\n",
        "        break"
      ],
      "execution_count": 46,
      "outputs": [
        {
          "output_type": "stream",
          "text": [
            "the 0.04656 0.21318 -0.0074364 -0.45854 -0.035639 0.23643 -0.28836 0.21521 -0.13486 -1.6413 -0.26091 0.032434 0.056621 -0.043296 -0.021672 0.22476 -0.075129 -0.067018 -0.14247 0.038825 -0.18951 0.29977 0.39305 0.17887 -0.17343 -0.21178 0.23617 -0.063681 -0.42318 -0.11661 0.093754 0.17296 -0.33073 0.49112 -0.68995 -0.092462 0.24742 -0.17991 0.097908 0.083118 0.15299 -0.27276 -0.038934 0.54453 0.53737 0.29105 -0.0073514 0.04788 -0.4076 -0.026759 0.17919 0.010977 -0.10963 -0.26395 0.07399 0.26236 -0.1508 0.34623 0.25758 0.11971 -0.037135 -0.071593 0.43898 -0.040764 0.016425 -0.4464 0.17197 0.046246 0.058639 0.041499 0.53948 0.52495 0.11361 -0.048315 -0.36385 0.18704 0.092761 -0.11129 -0.42085 0.13992 -0.39338 -0.067945 0.12188 0.16707 0.075169 -0.015529 -0.19499 0.19638 0.053194 0.2517 -0.34845 -0.10638 -0.34692 -0.19024 -0.2004 0.12154 -0.29208 0.023353 -0.11618 -0.35768 0.062304 0.35884 0.02906 0.0073005 0.0049482 -0.15048 -0.12313 0.19337 0.12173 0.44503 0.25147 0.10781 -0.17716 0.038691 0.08153 0.14667 0.063666 0.061332 -0.075569 -0.37724 0.01585 -0.30342 0.28374 -0.042013 -0.040715 -0.15269 0.07498 0.15577 0.10433 0.31393 0.19309 0.19429 0.15185 -0.10192 -0.018785 0.20791 0.13366 0.19038 -0.25558 0.304 -0.01896 0.20147 -0.4211 -0.0075156 -0.27977 -0.19314 0.046204 0.19971 -0.30207 0.25735 0.68107 -0.19409 0.23984 0.22493 0.65224 -0.13561 -0.17383 -0.048209 -0.1186 0.0021588 -0.019525 0.11948 0.19346 -0.4082 -0.082966 0.16626 -0.10601 0.35861 0.16922 0.07259 -0.24803 -0.10024 -0.52491 -0.17745 -0.36647 0.2618 -0.012077 0.08319 -0.21528 0.41045 0.29136 0.30869 0.078864 0.32207 -0.041023 -0.1097 -0.092041 -0.12339 -0.16416 0.35382 -0.082774 0.33171 -0.24738 -0.048928 0.15746 0.18988 -0.026642 0.063315 -0.010673 0.34089 1.4106 0.13417 0.28191 -0.2594 0.055267 -0.052425 -0.25789 0.019127 -0.022084 0.32113 0.068818 0.51207 0.16478 -0.20194 0.29232 0.098575 0.013145 -0.10652 0.1351 -0.045332 0.20697 -0.48425 -0.44706 0.0033305 0.0029264 -0.10975 -0.23325 0.22442 -0.10503 0.12339 0.10978 0.048994 -0.25157 0.40319 0.35318 0.18651 -0.023622 -0.12734 0.11475 0.27359 -0.21866 0.015794 0.81754 -0.023792 -0.85469 -0.16203 0.18076 0.028014 -0.1434 0.0013139 -0.091735 -0.089704 0.11105 -0.16703 0.068377 -0.087388 -0.039789 0.014184 0.21187 0.28579 -0.28797 -0.058996 -0.032436 -0.0047009 -0.17052 -0.034741 -0.11489 0.075093 0.099526 0.048183 -0.073775 -0.41817 0.0041268 0.44414 -0.16062 0.14294 -2.2628 -0.027347 0.81311 0.77417 -0.25639 -0.11576 -0.11982 -0.21363 0.028429 0.27261 0.031026 0.096782 0.0067769 0.14082 -0.013064 -0.29686 -0.079913 0.195 0.031549 0.28506 -0.087461 0.0090611 -0.20989 0.053913\n",
            " \n",
            "\n"
          ],
          "name": "stdout"
        }
      ]
    },
    {
      "cell_type": "code",
      "metadata": {
        "id": "GkLprQYl8c-R",
        "colab_type": "code",
        "outputId": "ef3a76bc-63cd-46ab-b676-14e97d21f5f5",
        "colab": {
          "base_uri": "https://localhost:8080/",
          "height": 919
        }
      },
      "source": [
        "# iterate and extract the embeddings\n",
        "\n",
        "with open(GLOVE_DIR, 'rb') as f:\n",
        "\n",
        "    for line in f:\n",
        "        # separate the word from the embedding\n",
        "        values = line.split()\n",
        "        word = values[0].decode('utf-8')  # decode bytes to unicode\n",
        "        embedding = np.asarray(values[1:], dtype='float32')\n",
        "\n",
        "        # print the results\n",
        "        print(f'WORD: {word}\\n')\n",
        "        print(f'EMBEDDING: {embedding}')\n",
        "\n",
        "        break"
      ],
      "execution_count": 47,
      "outputs": [
        {
          "output_type": "stream",
          "text": [
            "WORD: the\n",
            "\n",
            "EMBEDDING: [ 4.6560e-02  2.1318e-01 -7.4364e-03 -4.5854e-01 -3.5639e-02  2.3643e-01\n",
            " -2.8836e-01  2.1521e-01 -1.3486e-01 -1.6413e+00 -2.6091e-01  3.2434e-02\n",
            "  5.6621e-02 -4.3296e-02 -2.1672e-02  2.2476e-01 -7.5129e-02 -6.7018e-02\n",
            " -1.4247e-01  3.8825e-02 -1.8951e-01  2.9977e-01  3.9305e-01  1.7887e-01\n",
            " -1.7343e-01 -2.1178e-01  2.3617e-01 -6.3681e-02 -4.2318e-01 -1.1661e-01\n",
            "  9.3754e-02  1.7296e-01 -3.3073e-01  4.9112e-01 -6.8995e-01 -9.2462e-02\n",
            "  2.4742e-01 -1.7991e-01  9.7908e-02  8.3118e-02  1.5299e-01 -2.7276e-01\n",
            " -3.8934e-02  5.4453e-01  5.3737e-01  2.9105e-01 -7.3514e-03  4.7880e-02\n",
            " -4.0760e-01 -2.6759e-02  1.7919e-01  1.0977e-02 -1.0963e-01 -2.6395e-01\n",
            "  7.3990e-02  2.6236e-01 -1.5080e-01  3.4623e-01  2.5758e-01  1.1971e-01\n",
            " -3.7135e-02 -7.1593e-02  4.3898e-01 -4.0764e-02  1.6425e-02 -4.4640e-01\n",
            "  1.7197e-01  4.6246e-02  5.8639e-02  4.1499e-02  5.3948e-01  5.2495e-01\n",
            "  1.1361e-01 -4.8315e-02 -3.6385e-01  1.8704e-01  9.2761e-02 -1.1129e-01\n",
            " -4.2085e-01  1.3992e-01 -3.9338e-01 -6.7945e-02  1.2188e-01  1.6707e-01\n",
            "  7.5169e-02 -1.5529e-02 -1.9499e-01  1.9638e-01  5.3194e-02  2.5170e-01\n",
            " -3.4845e-01 -1.0638e-01 -3.4692e-01 -1.9024e-01 -2.0040e-01  1.2154e-01\n",
            " -2.9208e-01  2.3353e-02 -1.1618e-01 -3.5768e-01  6.2304e-02  3.5884e-01\n",
            "  2.9060e-02  7.3005e-03  4.9482e-03 -1.5048e-01 -1.2313e-01  1.9337e-01\n",
            "  1.2173e-01  4.4503e-01  2.5147e-01  1.0781e-01 -1.7716e-01  3.8691e-02\n",
            "  8.1530e-02  1.4667e-01  6.3666e-02  6.1332e-02 -7.5569e-02 -3.7724e-01\n",
            "  1.5850e-02 -3.0342e-01  2.8374e-01 -4.2013e-02 -4.0715e-02 -1.5269e-01\n",
            "  7.4980e-02  1.5577e-01  1.0433e-01  3.1393e-01  1.9309e-01  1.9429e-01\n",
            "  1.5185e-01 -1.0192e-01 -1.8785e-02  2.0791e-01  1.3366e-01  1.9038e-01\n",
            " -2.5558e-01  3.0400e-01 -1.8960e-02  2.0147e-01 -4.2110e-01 -7.5156e-03\n",
            " -2.7977e-01 -1.9314e-01  4.6204e-02  1.9971e-01 -3.0207e-01  2.5735e-01\n",
            "  6.8107e-01 -1.9409e-01  2.3984e-01  2.2493e-01  6.5224e-01 -1.3561e-01\n",
            " -1.7383e-01 -4.8209e-02 -1.1860e-01  2.1588e-03 -1.9525e-02  1.1948e-01\n",
            "  1.9346e-01 -4.0820e-01 -8.2966e-02  1.6626e-01 -1.0601e-01  3.5861e-01\n",
            "  1.6922e-01  7.2590e-02 -2.4803e-01 -1.0024e-01 -5.2491e-01 -1.7745e-01\n",
            " -3.6647e-01  2.6180e-01 -1.2077e-02  8.3190e-02 -2.1528e-01  4.1045e-01\n",
            "  2.9136e-01  3.0869e-01  7.8864e-02  3.2207e-01 -4.1023e-02 -1.0970e-01\n",
            " -9.2041e-02 -1.2339e-01 -1.6416e-01  3.5382e-01 -8.2774e-02  3.3171e-01\n",
            " -2.4738e-01 -4.8928e-02  1.5746e-01  1.8988e-01 -2.6642e-02  6.3315e-02\n",
            " -1.0673e-02  3.4089e-01  1.4106e+00  1.3417e-01  2.8191e-01 -2.5940e-01\n",
            "  5.5267e-02 -5.2425e-02 -2.5789e-01  1.9127e-02 -2.2084e-02  3.2113e-01\n",
            "  6.8818e-02  5.1207e-01  1.6478e-01 -2.0194e-01  2.9232e-01  9.8575e-02\n",
            "  1.3145e-02 -1.0652e-01  1.3510e-01 -4.5332e-02  2.0697e-01 -4.8425e-01\n",
            " -4.4706e-01  3.3305e-03  2.9264e-03 -1.0975e-01 -2.3325e-01  2.2442e-01\n",
            " -1.0503e-01  1.2339e-01  1.0978e-01  4.8994e-02 -2.5157e-01  4.0319e-01\n",
            "  3.5318e-01  1.8651e-01 -2.3622e-02 -1.2734e-01  1.1475e-01  2.7359e-01\n",
            " -2.1866e-01  1.5794e-02  8.1754e-01 -2.3792e-02 -8.5469e-01 -1.6203e-01\n",
            "  1.8076e-01  2.8014e-02 -1.4340e-01  1.3139e-03 -9.1735e-02 -8.9704e-02\n",
            "  1.1105e-01 -1.6703e-01  6.8377e-02 -8.7388e-02 -3.9789e-02  1.4184e-02\n",
            "  2.1187e-01  2.8579e-01 -2.8797e-01 -5.8996e-02 -3.2436e-02 -4.7009e-03\n",
            " -1.7052e-01 -3.4741e-02 -1.1489e-01  7.5093e-02  9.9526e-02  4.8183e-02\n",
            " -7.3775e-02 -4.1817e-01  4.1268e-03  4.4414e-01 -1.6062e-01  1.4294e-01\n",
            " -2.2628e+00 -2.7347e-02  8.1311e-01  7.7417e-01 -2.5639e-01 -1.1576e-01\n",
            " -1.1982e-01 -2.1363e-01  2.8429e-02  2.7261e-01  3.1026e-02  9.6782e-02\n",
            "  6.7769e-03  1.4082e-01 -1.3064e-02 -2.9686e-01 -7.9913e-02  1.9500e-01\n",
            "  3.1549e-02  2.8506e-01 -8.7461e-02  9.0611e-03 -2.0989e-01  5.3913e-02]\n"
          ],
          "name": "stdout"
        }
      ]
    },
    {
      "cell_type": "code",
      "metadata": {
        "id": "MGmGojYW8c-V",
        "colab_type": "code",
        "outputId": "3196e4e4-8737-4137-a6fb-d16cefafd184",
        "colab": {
          "base_uri": "https://localhost:8080/",
          "height": 1000
        }
      },
      "source": [
        "# Store all embeddings {'token': n-dimensional embedding_series}\n",
        "\n",
        "embeddings_index = {}\n",
        "\n",
        "with open(GLOVE_DIR, 'rb') as f:\n",
        "    for line in f:\n",
        "        values = line.split()\n",
        "        word = values[0].decode('utf-8')\n",
        "        embedding = np.asarray(values[1:], dtype='float32')\n",
        "\n",
        "        # store the embeddings in a dict\n",
        "        embeddings_index[word] = embedding\n",
        "        \n",
        "        print(embeddings_index)\n",
        "        break"
      ],
      "execution_count": 48,
      "outputs": [
        {
          "output_type": "stream",
          "text": [
            "{'the': array([ 4.6560e-02,  2.1318e-01, -7.4364e-03, -4.5854e-01, -3.5639e-02,\n",
            "        2.3643e-01, -2.8836e-01,  2.1521e-01, -1.3486e-01, -1.6413e+00,\n",
            "       -2.6091e-01,  3.2434e-02,  5.6621e-02, -4.3296e-02, -2.1672e-02,\n",
            "        2.2476e-01, -7.5129e-02, -6.7018e-02, -1.4247e-01,  3.8825e-02,\n",
            "       -1.8951e-01,  2.9977e-01,  3.9305e-01,  1.7887e-01, -1.7343e-01,\n",
            "       -2.1178e-01,  2.3617e-01, -6.3681e-02, -4.2318e-01, -1.1661e-01,\n",
            "        9.3754e-02,  1.7296e-01, -3.3073e-01,  4.9112e-01, -6.8995e-01,\n",
            "       -9.2462e-02,  2.4742e-01, -1.7991e-01,  9.7908e-02,  8.3118e-02,\n",
            "        1.5299e-01, -2.7276e-01, -3.8934e-02,  5.4453e-01,  5.3737e-01,\n",
            "        2.9105e-01, -7.3514e-03,  4.7880e-02, -4.0760e-01, -2.6759e-02,\n",
            "        1.7919e-01,  1.0977e-02, -1.0963e-01, -2.6395e-01,  7.3990e-02,\n",
            "        2.6236e-01, -1.5080e-01,  3.4623e-01,  2.5758e-01,  1.1971e-01,\n",
            "       -3.7135e-02, -7.1593e-02,  4.3898e-01, -4.0764e-02,  1.6425e-02,\n",
            "       -4.4640e-01,  1.7197e-01,  4.6246e-02,  5.8639e-02,  4.1499e-02,\n",
            "        5.3948e-01,  5.2495e-01,  1.1361e-01, -4.8315e-02, -3.6385e-01,\n",
            "        1.8704e-01,  9.2761e-02, -1.1129e-01, -4.2085e-01,  1.3992e-01,\n",
            "       -3.9338e-01, -6.7945e-02,  1.2188e-01,  1.6707e-01,  7.5169e-02,\n",
            "       -1.5529e-02, -1.9499e-01,  1.9638e-01,  5.3194e-02,  2.5170e-01,\n",
            "       -3.4845e-01, -1.0638e-01, -3.4692e-01, -1.9024e-01, -2.0040e-01,\n",
            "        1.2154e-01, -2.9208e-01,  2.3353e-02, -1.1618e-01, -3.5768e-01,\n",
            "        6.2304e-02,  3.5884e-01,  2.9060e-02,  7.3005e-03,  4.9482e-03,\n",
            "       -1.5048e-01, -1.2313e-01,  1.9337e-01,  1.2173e-01,  4.4503e-01,\n",
            "        2.5147e-01,  1.0781e-01, -1.7716e-01,  3.8691e-02,  8.1530e-02,\n",
            "        1.4667e-01,  6.3666e-02,  6.1332e-02, -7.5569e-02, -3.7724e-01,\n",
            "        1.5850e-02, -3.0342e-01,  2.8374e-01, -4.2013e-02, -4.0715e-02,\n",
            "       -1.5269e-01,  7.4980e-02,  1.5577e-01,  1.0433e-01,  3.1393e-01,\n",
            "        1.9309e-01,  1.9429e-01,  1.5185e-01, -1.0192e-01, -1.8785e-02,\n",
            "        2.0791e-01,  1.3366e-01,  1.9038e-01, -2.5558e-01,  3.0400e-01,\n",
            "       -1.8960e-02,  2.0147e-01, -4.2110e-01, -7.5156e-03, -2.7977e-01,\n",
            "       -1.9314e-01,  4.6204e-02,  1.9971e-01, -3.0207e-01,  2.5735e-01,\n",
            "        6.8107e-01, -1.9409e-01,  2.3984e-01,  2.2493e-01,  6.5224e-01,\n",
            "       -1.3561e-01, -1.7383e-01, -4.8209e-02, -1.1860e-01,  2.1588e-03,\n",
            "       -1.9525e-02,  1.1948e-01,  1.9346e-01, -4.0820e-01, -8.2966e-02,\n",
            "        1.6626e-01, -1.0601e-01,  3.5861e-01,  1.6922e-01,  7.2590e-02,\n",
            "       -2.4803e-01, -1.0024e-01, -5.2491e-01, -1.7745e-01, -3.6647e-01,\n",
            "        2.6180e-01, -1.2077e-02,  8.3190e-02, -2.1528e-01,  4.1045e-01,\n",
            "        2.9136e-01,  3.0869e-01,  7.8864e-02,  3.2207e-01, -4.1023e-02,\n",
            "       -1.0970e-01, -9.2041e-02, -1.2339e-01, -1.6416e-01,  3.5382e-01,\n",
            "       -8.2774e-02,  3.3171e-01, -2.4738e-01, -4.8928e-02,  1.5746e-01,\n",
            "        1.8988e-01, -2.6642e-02,  6.3315e-02, -1.0673e-02,  3.4089e-01,\n",
            "        1.4106e+00,  1.3417e-01,  2.8191e-01, -2.5940e-01,  5.5267e-02,\n",
            "       -5.2425e-02, -2.5789e-01,  1.9127e-02, -2.2084e-02,  3.2113e-01,\n",
            "        6.8818e-02,  5.1207e-01,  1.6478e-01, -2.0194e-01,  2.9232e-01,\n",
            "        9.8575e-02,  1.3145e-02, -1.0652e-01,  1.3510e-01, -4.5332e-02,\n",
            "        2.0697e-01, -4.8425e-01, -4.4706e-01,  3.3305e-03,  2.9264e-03,\n",
            "       -1.0975e-01, -2.3325e-01,  2.2442e-01, -1.0503e-01,  1.2339e-01,\n",
            "        1.0978e-01,  4.8994e-02, -2.5157e-01,  4.0319e-01,  3.5318e-01,\n",
            "        1.8651e-01, -2.3622e-02, -1.2734e-01,  1.1475e-01,  2.7359e-01,\n",
            "       -2.1866e-01,  1.5794e-02,  8.1754e-01, -2.3792e-02, -8.5469e-01,\n",
            "       -1.6203e-01,  1.8076e-01,  2.8014e-02, -1.4340e-01,  1.3139e-03,\n",
            "       -9.1735e-02, -8.9704e-02,  1.1105e-01, -1.6703e-01,  6.8377e-02,\n",
            "       -8.7388e-02, -3.9789e-02,  1.4184e-02,  2.1187e-01,  2.8579e-01,\n",
            "       -2.8797e-01, -5.8996e-02, -3.2436e-02, -4.7009e-03, -1.7052e-01,\n",
            "       -3.4741e-02, -1.1489e-01,  7.5093e-02,  9.9526e-02,  4.8183e-02,\n",
            "       -7.3775e-02, -4.1817e-01,  4.1268e-03,  4.4414e-01, -1.6062e-01,\n",
            "        1.4294e-01, -2.2628e+00, -2.7347e-02,  8.1311e-01,  7.7417e-01,\n",
            "       -2.5639e-01, -1.1576e-01, -1.1982e-01, -2.1363e-01,  2.8429e-02,\n",
            "        2.7261e-01,  3.1026e-02,  9.6782e-02,  6.7769e-03,  1.4082e-01,\n",
            "       -1.3064e-02, -2.9686e-01, -7.9913e-02,  1.9500e-01,  3.1549e-02,\n",
            "        2.8506e-01, -8.7461e-02,  9.0611e-03, -2.0989e-01,  5.3913e-02],\n",
            "      dtype=float32)}\n"
          ],
          "name": "stdout"
        }
      ]
    },
    {
      "cell_type": "code",
      "metadata": {
        "id": "fPrRY6nW8c-Y",
        "colab_type": "code",
        "outputId": "70743193-1b29-4b9b-d058-3a4bdc7773ea",
        "colab": {
          "base_uri": "https://localhost:8080/",
          "height": 69
        }
      },
      "source": [
        "%%time\n",
        "\n",
        "# Store all embeddings {'token': n-dimensional embedding_series}\n",
        "embeddings_index = {}\n",
        "\n",
        "with open(GLOVE_DIR, 'rb') as f:\n",
        "    for line in f:\n",
        "        values = line.split()\n",
        "        word = values[0].decode('utf-8')\n",
        "        embedding = np.asarray(values[1:], dtype='float32')\n",
        "        embeddings_index[word] = embedding\n",
        "\n",
        "print(f'Found {len(embeddings_index)} word vectors.')"
      ],
      "execution_count": 49,
      "outputs": [
        {
          "output_type": "stream",
          "text": [
            "Found 400000 word vectors.\n",
            "CPU times: user 20.8 s, sys: 773 ms, total: 21.6 s\n",
            "Wall time: 21.5 s\n"
          ],
          "name": "stdout"
        }
      ]
    },
    {
      "cell_type": "markdown",
      "metadata": {
        "id": "3swWC-Mt8c-Z",
        "colab_type": "text"
      },
      "source": [
        "##### View the stored embeddings"
      ]
    },
    {
      "cell_type": "code",
      "metadata": {
        "id": "75eDUuQO8c-a",
        "colab_type": "code",
        "outputId": "4f0c1998-fb2a-4a96-9c42-1c9a21542f91",
        "colab": {
          "base_uri": "https://localhost:8080/",
          "height": 1000
        }
      },
      "source": [
        "embeddings_index['the']"
      ],
      "execution_count": 50,
      "outputs": [
        {
          "output_type": "execute_result",
          "data": {
            "text/plain": [
              "array([ 4.6560e-02,  2.1318e-01, -7.4364e-03, -4.5854e-01, -3.5639e-02,\n",
              "        2.3643e-01, -2.8836e-01,  2.1521e-01, -1.3486e-01, -1.6413e+00,\n",
              "       -2.6091e-01,  3.2434e-02,  5.6621e-02, -4.3296e-02, -2.1672e-02,\n",
              "        2.2476e-01, -7.5129e-02, -6.7018e-02, -1.4247e-01,  3.8825e-02,\n",
              "       -1.8951e-01,  2.9977e-01,  3.9305e-01,  1.7887e-01, -1.7343e-01,\n",
              "       -2.1178e-01,  2.3617e-01, -6.3681e-02, -4.2318e-01, -1.1661e-01,\n",
              "        9.3754e-02,  1.7296e-01, -3.3073e-01,  4.9112e-01, -6.8995e-01,\n",
              "       -9.2462e-02,  2.4742e-01, -1.7991e-01,  9.7908e-02,  8.3118e-02,\n",
              "        1.5299e-01, -2.7276e-01, -3.8934e-02,  5.4453e-01,  5.3737e-01,\n",
              "        2.9105e-01, -7.3514e-03,  4.7880e-02, -4.0760e-01, -2.6759e-02,\n",
              "        1.7919e-01,  1.0977e-02, -1.0963e-01, -2.6395e-01,  7.3990e-02,\n",
              "        2.6236e-01, -1.5080e-01,  3.4623e-01,  2.5758e-01,  1.1971e-01,\n",
              "       -3.7135e-02, -7.1593e-02,  4.3898e-01, -4.0764e-02,  1.6425e-02,\n",
              "       -4.4640e-01,  1.7197e-01,  4.6246e-02,  5.8639e-02,  4.1499e-02,\n",
              "        5.3948e-01,  5.2495e-01,  1.1361e-01, -4.8315e-02, -3.6385e-01,\n",
              "        1.8704e-01,  9.2761e-02, -1.1129e-01, -4.2085e-01,  1.3992e-01,\n",
              "       -3.9338e-01, -6.7945e-02,  1.2188e-01,  1.6707e-01,  7.5169e-02,\n",
              "       -1.5529e-02, -1.9499e-01,  1.9638e-01,  5.3194e-02,  2.5170e-01,\n",
              "       -3.4845e-01, -1.0638e-01, -3.4692e-01, -1.9024e-01, -2.0040e-01,\n",
              "        1.2154e-01, -2.9208e-01,  2.3353e-02, -1.1618e-01, -3.5768e-01,\n",
              "        6.2304e-02,  3.5884e-01,  2.9060e-02,  7.3005e-03,  4.9482e-03,\n",
              "       -1.5048e-01, -1.2313e-01,  1.9337e-01,  1.2173e-01,  4.4503e-01,\n",
              "        2.5147e-01,  1.0781e-01, -1.7716e-01,  3.8691e-02,  8.1530e-02,\n",
              "        1.4667e-01,  6.3666e-02,  6.1332e-02, -7.5569e-02, -3.7724e-01,\n",
              "        1.5850e-02, -3.0342e-01,  2.8374e-01, -4.2013e-02, -4.0715e-02,\n",
              "       -1.5269e-01,  7.4980e-02,  1.5577e-01,  1.0433e-01,  3.1393e-01,\n",
              "        1.9309e-01,  1.9429e-01,  1.5185e-01, -1.0192e-01, -1.8785e-02,\n",
              "        2.0791e-01,  1.3366e-01,  1.9038e-01, -2.5558e-01,  3.0400e-01,\n",
              "       -1.8960e-02,  2.0147e-01, -4.2110e-01, -7.5156e-03, -2.7977e-01,\n",
              "       -1.9314e-01,  4.6204e-02,  1.9971e-01, -3.0207e-01,  2.5735e-01,\n",
              "        6.8107e-01, -1.9409e-01,  2.3984e-01,  2.2493e-01,  6.5224e-01,\n",
              "       -1.3561e-01, -1.7383e-01, -4.8209e-02, -1.1860e-01,  2.1588e-03,\n",
              "       -1.9525e-02,  1.1948e-01,  1.9346e-01, -4.0820e-01, -8.2966e-02,\n",
              "        1.6626e-01, -1.0601e-01,  3.5861e-01,  1.6922e-01,  7.2590e-02,\n",
              "       -2.4803e-01, -1.0024e-01, -5.2491e-01, -1.7745e-01, -3.6647e-01,\n",
              "        2.6180e-01, -1.2077e-02,  8.3190e-02, -2.1528e-01,  4.1045e-01,\n",
              "        2.9136e-01,  3.0869e-01,  7.8864e-02,  3.2207e-01, -4.1023e-02,\n",
              "       -1.0970e-01, -9.2041e-02, -1.2339e-01, -1.6416e-01,  3.5382e-01,\n",
              "       -8.2774e-02,  3.3171e-01, -2.4738e-01, -4.8928e-02,  1.5746e-01,\n",
              "        1.8988e-01, -2.6642e-02,  6.3315e-02, -1.0673e-02,  3.4089e-01,\n",
              "        1.4106e+00,  1.3417e-01,  2.8191e-01, -2.5940e-01,  5.5267e-02,\n",
              "       -5.2425e-02, -2.5789e-01,  1.9127e-02, -2.2084e-02,  3.2113e-01,\n",
              "        6.8818e-02,  5.1207e-01,  1.6478e-01, -2.0194e-01,  2.9232e-01,\n",
              "        9.8575e-02,  1.3145e-02, -1.0652e-01,  1.3510e-01, -4.5332e-02,\n",
              "        2.0697e-01, -4.8425e-01, -4.4706e-01,  3.3305e-03,  2.9264e-03,\n",
              "       -1.0975e-01, -2.3325e-01,  2.2442e-01, -1.0503e-01,  1.2339e-01,\n",
              "        1.0978e-01,  4.8994e-02, -2.5157e-01,  4.0319e-01,  3.5318e-01,\n",
              "        1.8651e-01, -2.3622e-02, -1.2734e-01,  1.1475e-01,  2.7359e-01,\n",
              "       -2.1866e-01,  1.5794e-02,  8.1754e-01, -2.3792e-02, -8.5469e-01,\n",
              "       -1.6203e-01,  1.8076e-01,  2.8014e-02, -1.4340e-01,  1.3139e-03,\n",
              "       -9.1735e-02, -8.9704e-02,  1.1105e-01, -1.6703e-01,  6.8377e-02,\n",
              "       -8.7388e-02, -3.9789e-02,  1.4184e-02,  2.1187e-01,  2.8579e-01,\n",
              "       -2.8797e-01, -5.8996e-02, -3.2436e-02, -4.7009e-03, -1.7052e-01,\n",
              "       -3.4741e-02, -1.1489e-01,  7.5093e-02,  9.9526e-02,  4.8183e-02,\n",
              "       -7.3775e-02, -4.1817e-01,  4.1268e-03,  4.4414e-01, -1.6062e-01,\n",
              "        1.4294e-01, -2.2628e+00, -2.7347e-02,  8.1311e-01,  7.7417e-01,\n",
              "       -2.5639e-01, -1.1576e-01, -1.1982e-01, -2.1363e-01,  2.8429e-02,\n",
              "        2.7261e-01,  3.1026e-02,  9.6782e-02,  6.7769e-03,  1.4082e-01,\n",
              "       -1.3064e-02, -2.9686e-01, -7.9913e-02,  1.9500e-01,  3.1549e-02,\n",
              "        2.8506e-01, -8.7461e-02,  9.0611e-03, -2.0989e-01,  5.3913e-02],\n",
              "      dtype=float32)"
            ]
          },
          "metadata": {
            "tags": []
          },
          "execution_count": 50
        }
      ]
    },
    {
      "cell_type": "markdown",
      "metadata": {
        "id": "0g8tcKUH8c-b",
        "colab_type": "text"
      },
      "source": [
        "##### Test out other words to see if a pre-trained embedding exists"
      ]
    },
    {
      "cell_type": "code",
      "metadata": {
        "id": "BHTHKqEK8c-c",
        "colab_type": "code",
        "outputId": "4c6893f6-7611-4a5f-e3fb-6d27784eee9c",
        "colab": {
          "base_uri": "https://localhost:8080/",
          "height": 1000
        }
      },
      "source": [
        "word = \"word\" # test out new words in the quotes (capitalization sensitive)\n",
        "\n",
        "embeddings_index[word]"
      ],
      "execution_count": 51,
      "outputs": [
        {
          "output_type": "execute_result",
          "data": {
            "text/plain": [
              "array([-4.3036e-01, -4.0622e-01, -1.8279e-01, -1.2548e-01,  4.3490e-02,\n",
              "       -2.1216e-01, -3.6509e-01,  3.2598e-02, -1.0828e-01, -1.3537e+00,\n",
              "       -1.9152e-01,  1.8976e-01, -4.3755e-01,  2.4337e-01,  2.9676e-01,\n",
              "       -4.2886e-02, -4.9444e-02,  3.7994e-01,  5.5679e-02,  1.0740e-01,\n",
              "       -1.5195e-01,  2.7901e-03, -5.0005e-02,  1.6948e-01, -1.7819e-01,\n",
              "       -1.7449e-01,  1.8066e-01, -3.5179e-01,  4.3839e-01,  2.3936e-01,\n",
              "       -1.2200e-01, -1.3631e-02, -2.7989e-01,  4.4950e-01, -6.5760e-01,\n",
              "       -7.7317e-02,  6.9246e-02, -7.7499e-01, -4.3509e-01,  1.6177e-01,\n",
              "       -9.4878e-02,  2.5968e-01, -3.6336e-02,  2.0131e-01,  1.6860e-01,\n",
              "       -4.3616e-01, -2.1700e-02,  6.6751e-02, -3.5336e-01,  3.5581e-01,\n",
              "        4.3044e-01, -1.2607e-01,  9.4664e-01,  2.5349e-01, -6.7874e-01,\n",
              "        1.0727e-01,  1.1090e-01, -2.2619e-02,  5.4648e-01,  6.4194e-01,\n",
              "        7.1169e-01,  4.4902e-02,  1.0753e-01,  4.5971e-01, -4.1282e-02,\n",
              "        2.1160e-01,  3.2395e-01,  1.9663e-01,  4.1871e-01,  3.7204e-01,\n",
              "        4.2732e-02, -1.6376e-01, -1.3316e-01,  6.7047e-02, -1.2618e-01,\n",
              "       -6.9014e-02,  1.0433e+00,  2.7489e-01, -8.0330e-03, -1.7116e-01,\n",
              "        4.8991e-02,  3.0116e-02, -1.1430e-01, -1.8503e-01, -3.2292e-01,\n",
              "       -2.3769e-01, -2.2741e-01,  4.8045e-01,  1.3310e-01,  3.0180e-01,\n",
              "       -8.5152e-01, -1.6602e-01, -4.0593e-01, -4.5165e-01,  3.1579e-01,\n",
              "        5.4353e-02, -3.3901e-01, -1.8843e-01,  1.3239e-01, -4.7028e-01,\n",
              "        2.9688e-02,  2.3830e-01,  9.4393e-02,  2.3215e-01,  1.2413e-03,\n",
              "       -3.5004e-01,  9.0199e-02, -6.1024e-01,  1.9133e-01,  5.3502e-01,\n",
              "        2.7979e-01,  3.5864e-01, -1.3216e-01,  5.2079e-02,  1.0285e-01,\n",
              "        2.6159e-01, -2.7545e-01, -1.5343e-01,  2.1483e-01, -4.7460e-01,\n",
              "        1.8338e-02, -3.9903e-01,  5.3722e-02,  1.9020e-01, -4.8818e-02,\n",
              "       -1.3045e-01,  1.8968e-01,  7.3866e-01,  9.2705e-02,  4.5491e-02,\n",
              "        2.0654e-01,  4.9303e-02,  3.2064e-01, -3.1231e-01,  1.7627e-02,\n",
              "        9.3219e-02,  1.2245e-01,  1.4203e-01,  2.7654e-01,  5.1580e-02,\n",
              "       -9.4545e-02,  3.6147e-01, -8.0747e-02, -1.5562e-01, -9.1212e-02,\n",
              "       -2.9752e-01,  2.7963e-01, -7.2228e-02,  4.2237e-01,  1.8256e-01,\n",
              "       -4.6603e-01,  1.2576e-01, -1.5549e-01,  4.1644e-01,  2.6382e-01,\n",
              "       -2.5966e-01, -1.0114e-01, -1.7377e-01,  4.5476e-02, -1.3846e-02,\n",
              "        1.0929e-01,  6.0995e-02,  1.7368e-01,  1.8023e-01, -4.0506e-01,\n",
              "        3.0094e-01, -3.9657e-01,  4.1973e-01, -2.5071e-01, -2.4523e-01,\n",
              "       -2.1816e-01, -1.3057e-01, -4.3991e-01,  2.3021e-01,  2.7542e-01,\n",
              "        4.7827e-02, -1.4568e-01, -3.2456e-01,  4.3885e-01, -1.5889e-01,\n",
              "        1.4016e-01,  2.5001e-01,  4.0044e-02, -2.5797e-01, -3.1575e-02,\n",
              "       -5.8690e-01, -2.5513e-01, -2.3533e-01,  7.9032e-01,  1.3892e-01,\n",
              "        1.3051e-01,  1.7637e-01,  5.5586e-01,  1.9872e-01, -2.8753e-01,\n",
              "       -4.5300e-01, -2.2106e-01,  8.9592e-02, -3.5515e-01, -6.1302e-02,\n",
              "        9.1731e-01, -4.5260e-02,  7.5639e-02,  2.0594e-01,  2.4982e-01,\n",
              "       -4.1873e-01, -3.1461e-01,  2.4712e-01, -2.2672e-01,  3.8243e-01,\n",
              "       -5.2948e-01,  2.2908e-01, -3.0145e-01,  7.6107e-02,  3.7926e-01,\n",
              "        2.2535e-01, -3.7081e-03, -1.0565e-01, -3.5214e-02, -2.1581e-01,\n",
              "       -1.6250e-01,  6.9320e-01,  1.7318e-01, -1.4476e-01,  3.7257e-01,\n",
              "       -6.7874e-01,  3.7239e-01,  3.6919e-01,  5.6733e-01,  2.7454e-01,\n",
              "       -3.3399e-02,  1.1457e-01, -6.3233e-01,  5.4319e-02,  1.7053e-01,\n",
              "       -1.0815e-01,  1.3967e-01, -6.9689e-01, -2.2820e-01,  1.4382e-01,\n",
              "        1.3997e-01,  1.7818e-01,  2.0522e-01, -3.4948e-01, -1.1998e-01,\n",
              "       -8.2285e-02, -2.7550e-01,  1.8849e-01,  1.5938e-02,  4.8012e-02,\n",
              "       -4.7302e-02,  3.4727e-01, -1.1572e-01, -9.1661e-02,  2.3222e-02,\n",
              "        1.2609e-01,  1.6255e-01,  2.1358e-01,  4.4687e-01, -1.2317e-01,\n",
              "       -5.7096e-01, -1.2793e-01, -3.7974e-01,  7.3970e-02, -3.4381e-01,\n",
              "        2.1210e-01,  1.6506e-01, -1.2280e-01,  7.0726e-02, -9.5248e-03,\n",
              "       -6.1864e-03, -7.7425e-01,  2.8940e-01, -5.5360e-01, -2.4155e-01,\n",
              "        1.7692e-01, -1.7625e+00, -5.1302e-02,  7.6460e-01, -7.2176e-02,\n",
              "       -8.1819e-01, -1.8206e-01, -3.2825e-01,  2.3368e-01,  2.8466e-01,\n",
              "        1.4297e-01,  1.1569e-01, -4.8755e-01,  1.1815e-01,  2.9729e-01,\n",
              "        1.7319e-01,  1.1955e-01,  5.3408e-02, -1.4240e-01,  1.1714e-01,\n",
              "       -5.0441e-01, -1.0527e-02,  2.8737e-02, -4.2117e-01,  2.7851e-01],\n",
              "      dtype=float32)"
            ]
          },
          "metadata": {
            "tags": []
          },
          "execution_count": 51
        }
      ]
    },
    {
      "cell_type": "markdown",
      "metadata": {
        "id": "dmCmoryu8c-f",
        "colab_type": "text"
      },
      "source": [
        "##### Determine if the words learned from the tokenizer have existing embeddings"
      ]
    },
    {
      "cell_type": "code",
      "metadata": {
        "id": "XRJh3ZeD8c-f",
        "colab_type": "code",
        "outputId": "a0181d82-a905-4784-f0a7-d120d4cf442a",
        "colab": {
          "base_uri": "https://localhost:8080/",
          "height": 191
        }
      },
      "source": [
        "list(tokenizer.index_word.items())[0:10]"
      ],
      "execution_count": 52,
      "outputs": [
        {
          "output_type": "execute_result",
          "data": {
            "text/plain": [
              "[(1, 'of'),\n",
              " (2, 'and'),\n",
              " (3, 'in'),\n",
              " (4, 'the'),\n",
              " (5, 'for'),\n",
              " (6, 'to'),\n",
              " (7, 'core'),\n",
              " (8, 'cancer'),\n",
              " (9, 'cell'),\n",
              " (10, 'research')]"
            ]
          },
          "metadata": {
            "tags": []
          },
          "execution_count": 52
        }
      ]
    },
    {
      "cell_type": "code",
      "metadata": {
        "id": "nEMMd7OV8c-g",
        "colab_type": "code",
        "outputId": "6add9d1e-984e-4e53-b6c6-0a914b3116e8",
        "colab": {
          "base_uri": "https://localhost:8080/",
          "height": 1000
        }
      },
      "source": [
        "# iterate through all the words in the sentence\n",
        "for ind, word in list(tokenizer.index_word.items())[0:10]:\n",
        "\n",
        "    # get the embedding for the word\n",
        "    embedding_vector = embeddings_index.get(word, 'no embedding')\n",
        "\n",
        "    # view the word and embedding\n",
        "    print(word)\n",
        "    print(embedding_vector, '\\n')"
      ],
      "execution_count": 53,
      "outputs": [
        {
          "output_type": "stream",
          "text": [
            "of\n",
            "[-7.6947e-02 -2.1211e-02  2.1271e-01 -7.2232e-01 -1.3988e-01 -1.2234e-01\n",
            " -1.7521e-01  1.2137e-01 -7.0866e-02 -1.5721e+00 -2.2464e-01  4.2690e-02\n",
            " -4.0180e-01  2.1006e-01  1.4288e-02  4.1628e-01  1.7165e-02  7.1732e-02\n",
            "  6.9246e-03  1.8107e-01 -1.5412e-01  1.4933e-01 -3.0493e-02  2.9918e-01\n",
            "  2.9479e-02 -3.6147e-02 -6.1125e-02  8.3918e-02 -1.2398e-01 -1.0077e-01\n",
            " -5.4142e-03  3.3710e-01 -2.5612e-01  4.4388e-01 -6.8922e-01  1.8020e-01\n",
            "  3.4898e-01 -5.2284e-02 -2.6226e-01 -4.7109e-01  2.1647e-01 -4.0020e-01\n",
            " -4.9986e-02  1.1376e-02  5.4994e-01 -2.2791e-01  9.5873e-02  4.7693e-01\n",
            " -5.6727e-02 -1.7895e-01  1.1756e-01  1.4662e-01  4.8948e-02  1.3587e-01\n",
            " -9.3821e-02  4.5968e-01 -3.2062e-01  2.9911e-01  2.0656e-01 -1.8503e-01\n",
            " -2.7690e-01 -2.2545e-02  7.0698e-01 -2.3815e-01  1.6437e-01 -5.5044e-01\n",
            " -1.0615e-03  1.2266e-01  1.1898e-01  2.3985e-01  2.9815e-01  1.3207e-02\n",
            "  1.6316e-01 -6.1334e-01 -3.7051e-01  1.9444e-01 -1.3621e-01 -3.0426e-01\n",
            " -3.7715e-01  6.5299e-02 -1.5995e-01 -5.6516e-01  7.4696e-02  4.0184e-01\n",
            "  1.9328e-01  4.1802e-02  2.0572e-01  2.8971e-01  3.4783e-01  3.3873e-01\n",
            " -1.0052e-01 -1.6397e-01 -1.5236e-01 -8.6815e-02  3.6522e-01  1.4969e-01\n",
            " -4.0859e-01  2.3106e-01  1.7162e-01 -6.0545e-01  8.6019e-02  3.7043e-01\n",
            "  1.7937e-01 -4.0282e-01 -6.2471e-01 -5.5919e-02  1.5092e-01  1.2554e-01\n",
            " -4.5344e-01  3.4417e-01  4.0042e-01 -4.9512e-02 -2.9969e-01 -3.1761e-01\n",
            "  3.0023e-01  9.0029e-02  3.1060e-01 -3.3077e-02 -2.1995e-01 -4.0396e-01\n",
            " -3.4443e-01 -2.1248e-01 -3.7636e-01  2.1835e-01 -1.7850e-01 -1.7261e-01\n",
            "  1.6391e-01  2.2753e-01  2.6860e-01  5.7541e-01 -1.4912e-01  2.0413e-01\n",
            "  2.2187e-01 -2.7014e-01  6.8253e-02  2.9115e-01 -6.7943e-02  1.0623e-01\n",
            " -1.6281e-01  1.9939e-01 -4.8613e-01  3.5688e-02 -1.2373e-01  1.3707e-01\n",
            "  3.3359e-01 -1.2713e-01 -3.1711e-01 -1.3962e-01 -4.2880e-02 -1.4614e-03\n",
            "  7.6883e-01 -4.1705e-01 -9.2911e-02  1.6315e-01  2.9202e-01  1.2119e-01\n",
            " -7.6683e-02  1.4131e-01 -9.3406e-02 -4.2796e-02  1.3738e-01  1.4278e-02\n",
            "  1.1918e-01 -3.4215e-01 -1.9076e-01 -1.2499e-01  2.4648e-01  4.2259e-01\n",
            "  9.1966e-02  4.5351e-01  1.4437e-01  1.8780e-01 -8.5876e-01  5.9621e-02\n",
            " -3.2242e-01  2.8627e-01  1.2427e-01  9.0984e-03 -1.8910e-01  1.6638e-01\n",
            "  9.9881e-02 -4.8553e-02 -2.6257e-02  9.9904e-02  1.2406e-01 -1.5416e-02\n",
            " -2.9707e-01 -4.0440e-01 -1.7258e-01  3.6468e-01 -1.4118e-02 -1.1889e-01\n",
            " -1.1686e-01 -1.4124e-01  2.8012e-01  6.7644e-02  1.4850e-01 -3.5702e-01\n",
            "  2.9626e-01  3.6004e-01  1.0190e+00 -6.7307e-02 -1.1588e-01 -2.1780e-01\n",
            "  7.0191e-02  2.3154e-01 -1.3849e-01  2.6441e-01  2.8742e-01  1.9410e-01\n",
            " -6.0504e-03  4.4105e-01  1.2416e-01 -2.7745e-01 -2.5729e-01  1.0992e-01\n",
            "  1.8362e-01 -3.4522e-01 -2.1861e-01 -1.8825e-01 -3.7454e-02 -2.0862e-01\n",
            " -2.5216e-01  6.0842e-02  6.8595e-02  1.0275e-01  1.0745e-01 -6.1288e-02\n",
            "  1.9725e-01 -2.7739e-01 -2.2559e-02  5.2794e-02 -2.4083e-01  9.1990e-02\n",
            "  3.0959e-01  5.4999e-02  6.3676e-02 -8.7357e-02 -3.4495e-01  2.2793e-01\n",
            " -4.2405e-01  2.4536e-01  5.5708e-01  1.9126e-01 -7.9700e-01 -2.0480e-01\n",
            "  3.2545e-01  9.2350e-02  8.4791e-02 -1.6433e-01 -6.6568e-02 -9.9249e-02\n",
            "  3.1526e-01 -4.4465e-01  8.7281e-02  3.2880e-01 -1.7809e-02 -2.3855e-01\n",
            " -1.2848e-01  4.1509e-02  4.6728e-01  4.8214e-01  1.0548e-01  6.5805e-02\n",
            "  6.7221e-02  1.3321e-01 -2.7856e-01  1.5532e-02  3.0026e-01  3.8748e-01\n",
            " -1.4401e-01 -1.6131e-01  1.7678e-01  1.6448e-01 -3.2440e-01  7.9370e-03\n",
            " -2.2836e+00  9.6945e-02  6.6131e-01  1.6857e-01 -2.8877e-02 -1.0791e-01\n",
            " -2.7445e-02 -2.5695e-01  4.6686e-02  2.3087e-01 -7.6458e-02  2.7127e-01\n",
            "  2.5185e-01  5.4947e-02 -3.6673e-01 -3.8603e-01  3.0290e-01  1.5747e-02\n",
            "  3.4036e-01  4.7841e-01  6.8617e-02  1.8351e-01 -2.9183e-01 -4.6533e-02] \n",
            "\n",
            "and\n",
            "[ 0.038466  -0.039792   0.082747  -0.38923   -0.21431    0.1702\n",
            " -0.025657   0.09578    0.2386    -1.6342     0.14332   -0.037958\n",
            " -0.019583   0.38494    0.097319   0.29697   -0.34523    0.11742\n",
            " -0.024189   0.16013    0.09824    0.12811   -0.17482    0.20976\n",
            " -0.22362   -0.20656    0.24428    0.066875  -0.12594   -0.015706\n",
            "  0.064986   0.4754    -0.055405   0.54286   -0.75188   -0.083218\n",
            "  0.17896    0.073084  -0.3033    -0.17416   -0.17147   -0.1192\n",
            "  0.038308  -0.2066     0.088679  -0.055993   0.361      0.38658\n",
            " -0.055434   0.097699   0.3686    -0.326      0.13023   -0.29897\n",
            " -0.24709    0.051869   0.030422   0.18586   -0.046117  -0.14765\n",
            "  0.35895    0.10094   -0.087822  -0.17514   -0.25403   -0.35855\n",
            "  0.15801   -0.027074   0.12565   -0.17509   -0.13126   -0.13916\n",
            "  0.053628  -0.049429   0.051938  -0.048684   0.071719   0.080952\n",
            " -0.20018   -0.10871   -0.26707   -0.35727    0.3712     0.016709\n",
            " -0.034959  -0.047711   0.0024827  0.10847    0.0089053 -0.14874\n",
            "  0.046014   0.42702   -0.24684    0.12193   -0.27579    0.25844\n",
            " -0.20991   -0.086667   0.14767   -0.17441    0.17054   -0.30868\n",
            " -0.08797   -0.17195   -0.11743    0.12146    0.069268   0.13311\n",
            " -0.13565   -0.24855   -0.0026393 -0.71169   -0.32594   -0.36397\n",
            "  0.053331   0.35714   -0.30035    0.041583  -0.11996   -0.02368\n",
            "  0.016728   0.15869   -0.16491   -0.2782    -0.13788    0.10178\n",
            " -0.24177    0.096347   0.2367     0.20885   -0.28867    0.10772\n",
            "  0.15562   -0.012284  -0.22161   -0.1017     0.1257    -0.29579\n",
            " -0.0089604  0.35075    0.020088   0.020389   0.0038884  0.31869\n",
            " -0.19848    0.060458   0.28148   -0.23499   -0.17035   -0.22323\n",
            "  0.57975    0.26464   -0.10124    0.081058   0.14029    0.066431\n",
            " -0.12212    0.040034   0.027548  -0.1476     0.31438   -0.23046\n",
            "  0.2645    -0.10945   -0.39033    0.1266    -0.030951   0.067389\n",
            "  0.16807    0.22373    0.13502    0.38235   -0.52807    0.54013\n",
            " -0.043062   0.093211   0.045211  -0.24291   -0.49781    0.26425\n",
            "  0.0264     0.14347    0.11763   -0.011614   0.097932  -0.26632\n",
            " -0.22143    0.25156    0.08128    0.10937   -0.12199    0.019255\n",
            " -0.33463   -0.18181    0.064724   0.22921   -0.032425  -0.27295\n",
            "  0.31983    0.16134    0.93692   -0.1214    -0.012617   0.25274\n",
            "  0.24615    0.13214    0.16092    0.20576   -0.051567  -0.3784\n",
            "  0.19761    0.16993   -0.087151   0.026922   0.38035    0.083349\n",
            "  0.24715   -0.1094     0.15459   -0.051741   0.16604   -0.21335\n",
            " -0.030744  -0.14574   -0.50462    0.34825   -0.12343    0.17733\n",
            "  0.2857    -0.30467   -0.15095    0.30346   -0.15678    0.064804\n",
            " -0.073008   0.26499    0.16312    0.11889   -0.63938    0.15598\n",
            " -0.23643    0.59644    0.38748    0.3358    -0.58647    0.12584\n",
            "  0.36144   -0.33622    0.38128   -0.10348    0.18825   -0.33686\n",
            "  0.0058178 -0.1345     0.55511   -0.056443   0.15094   -0.28438\n",
            "  0.025488   0.20392    0.052712  -0.45719    0.089267   0.095469\n",
            " -0.19022   -0.17101   -0.37599   -0.182     -0.065605  -0.061388\n",
            " -0.19467   -0.070368  -0.23977    0.39253   -0.21283    0.17221\n",
            " -1.867     -0.22609    0.53976   -0.3358    -0.48587   -0.050246\n",
            "  0.31694   -0.15536    0.12244    0.38356   -0.1389     0.41886\n",
            "  0.23664   -0.31113    0.045194  -0.20405   -0.21097   -0.11025\n",
            "  0.021766   0.44129    0.32797   -0.33427    0.011807   0.059703 ] \n",
            "\n",
            "in\n",
            "[-4.4399e-01  1.2817e-01 -2.5247e-01 -1.8582e-01 -1.6614e-01  2.5909e-01\n",
            " -2.2678e-01 -6.9229e-02 -7.7204e-02 -1.5814e+00  1.0753e-01  1.5123e-01\n",
            " -3.9371e-02  2.0060e-01  1.5792e-01  4.3324e-01 -2.1626e-01  2.5275e-02\n",
            " -1.6592e-01 -2.9108e-01  2.1523e-03  8.4663e-02  3.6784e-01 -3.2838e-02\n",
            "  9.2125e-02 -4.0108e-01  1.4460e-01 -2.5876e-01 -1.1703e-01  9.8804e-02\n",
            " -4.3190e-02  2.2361e-02 -3.7503e-01  4.4156e-01 -6.7719e-01 -2.1881e-01\n",
            " -1.1522e-01  1.8124e-01 -5.8965e-01  1.8788e-01  2.8610e-01 -2.8068e-01\n",
            " -6.3200e-02  5.4372e-01 -2.5678e-02  1.1458e-01  3.1563e-02  5.2909e-01\n",
            " -8.8527e-02  2.8774e-01 -1.0665e-01  9.2640e-02  1.3550e-01 -1.8419e-01\n",
            "  4.3140e-01 -2.0869e-02 -2.5236e-01 -2.2679e-01  4.5321e-01  4.3271e-02\n",
            " -1.3449e-01  4.9912e-03 -1.4535e-01 -2.9764e-01  1.6016e-01 -6.6840e-01\n",
            "  2.7327e-01  1.5247e-01  7.3077e-02 -1.9881e-01 -8.7157e-02 -4.4633e-02\n",
            "  1.1150e-01 -5.1241e-02 -7.0671e-01  2.3404e-02  3.6067e-01 -5.5768e-02\n",
            " -2.2948e-01 -1.1894e-01  8.6050e-02 -1.5969e-01 -3.4213e-01  2.9750e-01\n",
            "  2.3921e-01  9.3323e-02 -1.0786e-01 -5.4065e-02 -2.1083e-01  1.3899e-01\n",
            "  1.1314e-01  2.3076e-01 -2.2573e-03  2.4149e-01 -8.0955e-02  4.0650e-02\n",
            " -3.7800e-01  8.2898e-03 -4.3850e-01 -2.8115e-01  2.5843e-01  1.5749e-01\n",
            " -4.3514e-02  1.0557e-01 -1.4622e-01  1.5860e-01  1.9999e-01  4.2149e-01\n",
            "  1.5598e-01 -7.5512e-03 -9.8827e-02 -2.9451e-01 -2.5065e-01 -1.0596e-01\n",
            "  3.1253e-01  2.9076e-02  5.8986e-02  2.3656e-01 -2.0147e-01 -3.7180e-01\n",
            " -6.4728e-02 -3.1944e-01  2.8854e-01 -2.5287e-01 -1.6296e-01 -8.1592e-02\n",
            "  3.2626e-01 -1.7376e-01  2.9944e-01 -1.6743e-01 -2.1161e-01  2.6200e-01\n",
            "  4.0972e-01 -4.8410e-02 -1.9614e-01 -5.5705e-02 -4.8783e-01 -6.3714e-02\n",
            " -1.2616e-01  5.5167e-01 -1.2978e-01 -2.0938e-01 -1.4516e-01  2.8025e-01\n",
            " -3.3003e-01 -1.0742e-01  3.5705e-01  1.9434e-02 -1.9469e-01  1.3617e-01\n",
            "  2.9435e-01 -1.8250e-01  9.2357e-02  1.4214e-01  2.0934e-01 -9.9252e-02\n",
            " -2.5698e-01  1.1528e-01  1.9760e-01 -2.4459e-01 -8.5121e-02 -2.6033e-01\n",
            " -9.6650e-02 -9.9706e-02  1.4620e-01  1.2409e-01  4.4139e-01 -8.2185e-02\n",
            "  2.3980e-01  3.3155e-01  2.9472e-01 -2.5740e-02 -6.7240e-01  1.7099e-01\n",
            " -4.4336e-01  4.0155e-01  3.5535e-02 -3.3381e-01 -3.0127e-01  5.9352e-01\n",
            "  6.2130e-02  2.2637e-01  1.2551e-01  5.9679e-02  5.5479e-01  1.0582e-01\n",
            " -4.8949e-01  3.3181e-01 -7.9720e-02 -3.5039e-01  3.2213e-02  2.0024e-01\n",
            "  3.6333e-01 -1.2796e-01  3.2250e-03 -4.5665e-02  9.8320e-02 -7.0857e-02\n",
            " -3.4799e-01  2.7443e-01  1.1264e+00  5.3398e-02 -7.9054e-02 -1.3053e-01\n",
            "  7.4163e-02 -2.2822e-01 -4.0045e-02  2.5848e-01 -4.1994e-01  1.7782e-03\n",
            "  1.3220e-01  2.2764e-01 -2.0604e-01 -1.3716e-02  4.8998e-01  6.3756e-01\n",
            " -1.1187e-01  1.1135e-01 -1.9104e-01 -1.3215e-01  2.3801e-03 -2.4815e-01\n",
            " -4.8574e-01  1.9432e-01  6.5064e-02 -1.5393e-01  1.4434e-01  1.0069e-01\n",
            " -5.8673e-02 -1.8539e-01  5.0425e-02  2.7535e-01 -2.4751e-01 -5.0139e-02\n",
            "  2.9191e-01  1.8815e-02  3.6727e-01  1.2812e-01 -1.0293e-01  1.6095e-01\n",
            " -3.0712e-01 -1.7172e-01  3.9917e-01  3.4570e-01 -5.3083e-01 -3.5280e-01\n",
            "  5.0422e-01  1.4786e-01 -7.1239e-02 -1.9673e-02  1.2915e-01  1.5139e-01\n",
            "  2.3740e-02  5.9252e-02  3.6249e-01 -2.0221e-01  2.1818e-01  3.1545e-02\n",
            "  3.6705e-01 -4.6894e-02  1.3735e-01 -5.7606e-02  2.7779e-02 -3.3237e-02\n",
            "  5.0452e-02 -4.2195e-01 -2.9115e-01 -2.8406e-01  2.5065e-01 -2.3917e-01\n",
            " -1.6317e-01 -1.7910e-01 -1.2767e-01  5.0467e-01  2.1975e-01 -3.2816e-01\n",
            " -2.1376e+00  8.7901e-02  4.7143e-01  4.8375e-01 -5.5058e-01 -8.1249e-02\n",
            " -2.2943e-01 -1.0266e-01 -1.0820e-01  3.7007e-01 -4.1840e-01  4.5040e-01\n",
            " -9.2310e-02 -7.9179e-03 -2.7450e-01 -3.7237e-02  1.0104e-01  1.0798e-01\n",
            "  3.7727e-01  8.7977e-01  3.3583e-01 -2.0043e-01 -8.2191e-02 -6.2550e-02] \n",
            "\n",
            "the\n",
            "[ 4.6560e-02  2.1318e-01 -7.4364e-03 -4.5854e-01 -3.5639e-02  2.3643e-01\n",
            " -2.8836e-01  2.1521e-01 -1.3486e-01 -1.6413e+00 -2.6091e-01  3.2434e-02\n",
            "  5.6621e-02 -4.3296e-02 -2.1672e-02  2.2476e-01 -7.5129e-02 -6.7018e-02\n",
            " -1.4247e-01  3.8825e-02 -1.8951e-01  2.9977e-01  3.9305e-01  1.7887e-01\n",
            " -1.7343e-01 -2.1178e-01  2.3617e-01 -6.3681e-02 -4.2318e-01 -1.1661e-01\n",
            "  9.3754e-02  1.7296e-01 -3.3073e-01  4.9112e-01 -6.8995e-01 -9.2462e-02\n",
            "  2.4742e-01 -1.7991e-01  9.7908e-02  8.3118e-02  1.5299e-01 -2.7276e-01\n",
            " -3.8934e-02  5.4453e-01  5.3737e-01  2.9105e-01 -7.3514e-03  4.7880e-02\n",
            " -4.0760e-01 -2.6759e-02  1.7919e-01  1.0977e-02 -1.0963e-01 -2.6395e-01\n",
            "  7.3990e-02  2.6236e-01 -1.5080e-01  3.4623e-01  2.5758e-01  1.1971e-01\n",
            " -3.7135e-02 -7.1593e-02  4.3898e-01 -4.0764e-02  1.6425e-02 -4.4640e-01\n",
            "  1.7197e-01  4.6246e-02  5.8639e-02  4.1499e-02  5.3948e-01  5.2495e-01\n",
            "  1.1361e-01 -4.8315e-02 -3.6385e-01  1.8704e-01  9.2761e-02 -1.1129e-01\n",
            " -4.2085e-01  1.3992e-01 -3.9338e-01 -6.7945e-02  1.2188e-01  1.6707e-01\n",
            "  7.5169e-02 -1.5529e-02 -1.9499e-01  1.9638e-01  5.3194e-02  2.5170e-01\n",
            " -3.4845e-01 -1.0638e-01 -3.4692e-01 -1.9024e-01 -2.0040e-01  1.2154e-01\n",
            " -2.9208e-01  2.3353e-02 -1.1618e-01 -3.5768e-01  6.2304e-02  3.5884e-01\n",
            "  2.9060e-02  7.3005e-03  4.9482e-03 -1.5048e-01 -1.2313e-01  1.9337e-01\n",
            "  1.2173e-01  4.4503e-01  2.5147e-01  1.0781e-01 -1.7716e-01  3.8691e-02\n",
            "  8.1530e-02  1.4667e-01  6.3666e-02  6.1332e-02 -7.5569e-02 -3.7724e-01\n",
            "  1.5850e-02 -3.0342e-01  2.8374e-01 -4.2013e-02 -4.0715e-02 -1.5269e-01\n",
            "  7.4980e-02  1.5577e-01  1.0433e-01  3.1393e-01  1.9309e-01  1.9429e-01\n",
            "  1.5185e-01 -1.0192e-01 -1.8785e-02  2.0791e-01  1.3366e-01  1.9038e-01\n",
            " -2.5558e-01  3.0400e-01 -1.8960e-02  2.0147e-01 -4.2110e-01 -7.5156e-03\n",
            " -2.7977e-01 -1.9314e-01  4.6204e-02  1.9971e-01 -3.0207e-01  2.5735e-01\n",
            "  6.8107e-01 -1.9409e-01  2.3984e-01  2.2493e-01  6.5224e-01 -1.3561e-01\n",
            " -1.7383e-01 -4.8209e-02 -1.1860e-01  2.1588e-03 -1.9525e-02  1.1948e-01\n",
            "  1.9346e-01 -4.0820e-01 -8.2966e-02  1.6626e-01 -1.0601e-01  3.5861e-01\n",
            "  1.6922e-01  7.2590e-02 -2.4803e-01 -1.0024e-01 -5.2491e-01 -1.7745e-01\n",
            " -3.6647e-01  2.6180e-01 -1.2077e-02  8.3190e-02 -2.1528e-01  4.1045e-01\n",
            "  2.9136e-01  3.0869e-01  7.8864e-02  3.2207e-01 -4.1023e-02 -1.0970e-01\n",
            " -9.2041e-02 -1.2339e-01 -1.6416e-01  3.5382e-01 -8.2774e-02  3.3171e-01\n",
            " -2.4738e-01 -4.8928e-02  1.5746e-01  1.8988e-01 -2.6642e-02  6.3315e-02\n",
            " -1.0673e-02  3.4089e-01  1.4106e+00  1.3417e-01  2.8191e-01 -2.5940e-01\n",
            "  5.5267e-02 -5.2425e-02 -2.5789e-01  1.9127e-02 -2.2084e-02  3.2113e-01\n",
            "  6.8818e-02  5.1207e-01  1.6478e-01 -2.0194e-01  2.9232e-01  9.8575e-02\n",
            "  1.3145e-02 -1.0652e-01  1.3510e-01 -4.5332e-02  2.0697e-01 -4.8425e-01\n",
            " -4.4706e-01  3.3305e-03  2.9264e-03 -1.0975e-01 -2.3325e-01  2.2442e-01\n",
            " -1.0503e-01  1.2339e-01  1.0978e-01  4.8994e-02 -2.5157e-01  4.0319e-01\n",
            "  3.5318e-01  1.8651e-01 -2.3622e-02 -1.2734e-01  1.1475e-01  2.7359e-01\n",
            " -2.1866e-01  1.5794e-02  8.1754e-01 -2.3792e-02 -8.5469e-01 -1.6203e-01\n",
            "  1.8076e-01  2.8014e-02 -1.4340e-01  1.3139e-03 -9.1735e-02 -8.9704e-02\n",
            "  1.1105e-01 -1.6703e-01  6.8377e-02 -8.7388e-02 -3.9789e-02  1.4184e-02\n",
            "  2.1187e-01  2.8579e-01 -2.8797e-01 -5.8996e-02 -3.2436e-02 -4.7009e-03\n",
            " -1.7052e-01 -3.4741e-02 -1.1489e-01  7.5093e-02  9.9526e-02  4.8183e-02\n",
            " -7.3775e-02 -4.1817e-01  4.1268e-03  4.4414e-01 -1.6062e-01  1.4294e-01\n",
            " -2.2628e+00 -2.7347e-02  8.1311e-01  7.7417e-01 -2.5639e-01 -1.1576e-01\n",
            " -1.1982e-01 -2.1363e-01  2.8429e-02  2.7261e-01  3.1026e-02  9.6782e-02\n",
            "  6.7769e-03  1.4082e-01 -1.3064e-02 -2.9686e-01 -7.9913e-02  1.9500e-01\n",
            "  3.1549e-02  2.8506e-01 -8.7461e-02  9.0611e-03 -2.0989e-01  5.3913e-02] \n",
            "\n",
            "for\n",
            "[-2.4132e-01  1.2063e-01  1.9190e-01 -2.6692e-01  6.1076e-02 -2.2878e-02\n",
            "  5.8017e-01 -2.2533e-01 -2.0644e-01 -1.6361e+00  2.7715e-01  1.5026e-01\n",
            " -3.1691e-01  3.8411e-01  3.2003e-02 -1.2901e-01 -5.3065e-02 -5.5874e-03\n",
            "  1.0467e-01 -4.2931e-01 -2.3605e-01  2.6159e-01  7.0261e-02  4.6544e-02\n",
            " -2.0760e-01 -2.3013e-01  1.8501e-02  2.5844e-01  1.2839e-01  1.6461e-01\n",
            " -2.3486e-02  2.0511e-01  1.8169e-01  3.0549e-01 -1.1893e+00 -4.0416e-01\n",
            " -1.9842e-01  1.4848e-01  1.3756e-01 -9.3425e-02  1.9290e-01 -4.9650e-02\n",
            "  3.8317e-02 -2.9397e-01 -7.9036e-02 -1.0161e-01  1.1877e-01  4.8220e-01\n",
            " -2.9784e-01  2.1025e-01  1.2835e-01 -2.6482e-01  3.6112e-01 -3.0893e-01\n",
            " -4.4381e-01  1.8737e-01 -2.1541e-01  3.9490e-01 -2.2203e-02 -3.5489e-01\n",
            " -3.6777e-01  1.4181e-01  4.1243e-01 -7.1339e-01 -7.3703e-02 -3.3782e-01\n",
            "  2.0737e-01 -2.8501e-01  4.7233e-01 -1.5250e-01  6.5531e-02  5.3530e-01\n",
            "  2.5701e-01 -2.5569e-01 -9.6976e-02 -1.1460e-01  1.8648e-01  6.3131e-01\n",
            " -1.0587e-01 -1.7148e-01 -2.2473e-01 -6.1003e-02  4.7845e-04  2.2570e-01\n",
            "  4.5379e-02  8.5725e-02 -6.0717e-02  4.3170e-02 -1.1603e-01  2.5903e-01\n",
            " -3.0215e-01  2.8587e-01 -2.8818e-01 -2.1763e-01 -2.3948e-01  4.3288e-01\n",
            " -4.0840e-02 -3.6206e-01  2.2116e-02  1.3942e-01 -7.0819e-02 -6.2650e-02\n",
            " -1.6719e-01  2.5075e-01 -7.3938e-02 -1.8153e-01 -8.9108e-02  1.2788e-01\n",
            " -5.0767e-01 -3.0892e-01  1.8676e-01  2.2779e-01 -1.1462e-01 -2.1483e-01\n",
            " -1.5121e-01 -2.9170e-01 -1.0897e-01  2.2638e-01 -7.4798e-02 -1.5148e-01\n",
            " -1.3637e-01  9.2040e-02  2.7222e-01  1.9741e-01 -6.2062e-02 -2.7252e-01\n",
            " -1.5272e-01 -1.0209e-01  5.3098e-02  2.2801e-02  1.0910e-01  2.1148e-01\n",
            " -2.0907e-02  1.0857e-01 -4.9408e-02  1.1124e-01 -1.7701e-01 -1.2100e-03\n",
            " -1.4335e-01 -9.6521e-02  7.9911e-02  1.9257e-01  3.4096e-01  1.4215e-01\n",
            " -3.6738e-01 -3.2070e-01 -1.9761e-01  1.5248e-01 -2.6763e-01 -1.8512e-01\n",
            "  4.3069e-01  1.6150e-01  2.5156e-02 -1.8902e-01  2.5434e-01 -4.9355e-01\n",
            " -5.1217e-01 -1.3753e-01  2.2434e-01 -1.7512e-01 -7.3847e-02 -2.6023e-01\n",
            "  2.6365e-01  1.3591e-01 -1.7958e-01  5.6764e-01 -1.7501e-01 -9.4047e-02\n",
            "  9.9351e-02  1.8683e-01  2.2519e-01 -2.9088e-01 -7.9464e-01  2.1899e-01\n",
            "  7.1638e-02  1.8663e-01 -2.7274e-01  1.0228e-01 -7.8778e-01  6.7060e-01\n",
            " -4.3824e-02 -9.9652e-02  6.6548e-01 -1.2354e-01 -4.9125e-01  3.9520e-02\n",
            " -1.6488e-01 -2.0250e-02 -3.2289e-01  8.3526e-02 -1.4496e-01  3.2379e-01\n",
            " -2.3525e-01 -2.4786e-01 -2.8118e-02 -9.0129e-02  2.2810e-01  1.0043e-01\n",
            "  1.4150e-01 -3.4989e-02  8.9417e-01  1.3070e-01  5.9509e-02  1.4980e-01\n",
            "  2.0001e-01  1.6255e-01  2.9000e-02  1.7797e-01  5.9021e-02 -9.5148e-02\n",
            "  2.0483e-01 -9.2795e-02 -4.9022e-02  3.8437e-01  1.6782e-01  3.9579e-01\n",
            " -6.2480e-01  3.1983e-01 -1.0613e-01  5.3248e-02  2.8483e-01 -2.6865e-01\n",
            " -6.3264e-01  3.2117e-01 -1.5954e-01 -2.3866e-01  5.6190e-02 -8.4656e-02\n",
            "  1.4805e-02 -1.5208e-01  1.9622e-01  8.3831e-02  1.8074e-01  1.9600e-01\n",
            "  5.7978e-01 -7.2943e-02  4.3570e-01  5.2403e-01  1.0477e-01  5.4837e-01\n",
            " -6.6689e-01  5.1188e-01  2.2309e-01 -1.7447e-02 -7.1843e-01  7.8075e-02\n",
            "  4.9534e-01  5.5915e-02  1.3700e-01 -6.2998e-02 -1.6348e-01  5.2879e-01\n",
            " -1.5893e-01 -1.9031e-01  2.8423e-01 -2.3602e-01 -1.8803e-01 -3.4223e-01\n",
            "  9.5075e-02  5.0825e-02 -3.3548e-01 -6.4552e-01  1.6552e-01  1.9078e-01\n",
            " -2.0446e-02  5.6518e-01 -1.5641e-01  3.8419e-01  1.0524e-01  2.4834e-01\n",
            "  1.6900e-01 -2.2751e-01  2.7999e-01  2.7417e-02  1.4738e-01  3.2636e-01\n",
            " -2.7652e+00  2.8688e-01  4.2632e-01  2.5070e-02 -6.6260e-01 -3.5313e-01\n",
            " -1.6386e-01  5.4448e-01 -5.4815e-02  5.4757e-01  6.5762e-03  2.7822e-01\n",
            "  1.8534e-01  6.2874e-02 -3.1926e-01 -1.7975e-01  2.2093e-01  2.2999e-01\n",
            "  1.8652e-01  2.1208e-01 -1.4143e-01 -6.3158e-02 -3.2837e-01  1.5507e-01] \n",
            "\n",
            "to\n",
            "[-2.5756e-01 -5.7132e-02 -6.7190e-01 -3.8082e-01 -3.6421e-01 -8.2155e-02\n",
            " -1.0955e-02 -8.2047e-02  4.6056e-01 -1.8477e+00 -1.1258e-01 -1.2955e-01\n",
            "  2.7254e-01  7.2891e-03  2.6038e-01  1.2096e-01 -2.3193e-01  3.2260e-02\n",
            " -2.9472e-01 -6.7594e-01 -3.3844e-01 -2.3297e-01  1.1020e-01  1.8816e-01\n",
            " -4.5184e-01 -3.3833e-01  1.1274e-01  4.9490e-01 -4.2132e-02  7.9961e-02\n",
            " -1.3146e-02  6.2284e-02  2.0223e-01  3.8279e-02 -1.1154e+00 -1.2140e-01\n",
            "  8.9846e-02  2.9702e-01 -5.5794e-02 -4.6021e-01 -1.3194e-01  8.7357e-02\n",
            " -2.7865e-01  1.4981e-01  2.5536e-01  1.6698e-01 -4.4520e-02  6.7588e-02\n",
            " -1.1772e-01 -1.3452e-01  2.8694e-01 -3.9844e-01 -1.2806e-01 -4.7818e-01\n",
            "  6.7802e-02  2.0353e-01 -3.0677e-01  6.0789e-01 -1.8588e-01  1.1997e-01\n",
            " -4.0508e-02 -6.5860e-02  3.0621e-01 -5.5824e-02  3.9448e-02 -4.5570e-01\n",
            "  2.1081e-01  2.5889e-01  1.4666e-01  3.0950e-01  1.4343e-01  1.0524e-01\n",
            "  1.5788e-01  1.0300e-01  3.2211e-01 -2.7939e-01 -1.7139e-01  3.2202e-01\n",
            "  1.0784e-01 -2.8209e-01  1.2611e-01 -2.3913e-01 -8.9638e-02 -3.9179e-01\n",
            " -2.6402e-01  3.6796e-01 -2.3691e-01  6.2503e-01 -2.7226e-02 -3.8851e-02\n",
            " -3.7359e-01  4.5442e-02 -1.7169e-01 -5.4477e-01 -9.1772e-02 -3.2952e-01\n",
            " -2.5522e-01  8.7106e-02  4.8685e-02 -3.1684e-01 -6.4198e-02  4.4885e-02\n",
            " -4.9587e-01  4.2900e-01  3.6198e-01 -1.4682e-01  2.0122e-01 -3.0038e-02\n",
            "  1.8736e-01  3.1626e-01  5.9023e-02 -1.3473e-01 -4.0664e-01 -5.2983e-01\n",
            "  7.2459e-02  8.2531e-02 -3.2495e-01 -6.6910e-03  4.3564e-01 -1.2976e-01\n",
            " -2.6293e-01  1.5975e-01  2.5062e-01 -6.4732e-02 -3.0689e-01  1.6084e-01\n",
            "  4.5830e-01  3.8565e-01  1.2612e-01 -8.0485e-04  1.8055e-01  2.4757e-01\n",
            "  5.5680e-01  2.1701e-01  3.3105e-01  1.1991e-01  2.7257e-03 -1.0679e-01\n",
            " -1.6922e-01  2.5277e-01  3.6024e-01 -4.7620e-01 -2.0035e-01  3.8473e-01\n",
            " -7.1653e-01 -1.3788e-01 -1.2201e-01 -1.6979e-01 -2.9624e-01 -1.0344e-02\n",
            "  1.9216e-01  6.3375e-02  3.0977e-01 -1.9759e-01  5.7419e-01  3.4018e-01\n",
            " -3.4795e-01 -8.5304e-02 -2.8243e-02 -3.9182e-01  2.3797e-01 -9.2997e-02\n",
            "  1.1981e-01 -2.3680e-01  9.8179e-02  8.3047e-02  1.2652e-01  1.6026e-01\n",
            " -1.4166e-01  1.4296e-01 -1.2868e-01  1.8181e-01 -4.2337e-01  1.8061e-01\n",
            " -5.1635e-02 -1.7987e-01 -9.7071e-02  1.3755e-03 -4.2539e-01  5.6817e-01\n",
            "  5.7432e-02  3.1577e-01  1.8918e-01  2.7639e-01 -3.9906e-01  1.8594e-01\n",
            " -5.4231e-01  6.1376e-01  3.7921e-01  1.3660e-01 -3.9842e-01  5.8557e-01\n",
            "  5.4558e-02  6.1801e-02  3.2546e-01 -1.9615e-01 -3.4329e-02 -1.3225e-02\n",
            "  6.7854e-01 -1.6672e-01  9.2439e-01  1.1952e-01  4.0351e-02  3.5368e-01\n",
            " -2.5573e-01  2.6648e-01 -2.0954e-02  1.8535e-01  6.2376e-02 -2.2976e-01\n",
            " -7.4563e-02 -3.2890e-01  2.8535e-01  4.6959e-01 -5.4324e-01  1.4124e-01\n",
            "  1.9964e-01  1.5410e-01  2.4155e-02  1.4400e-01  3.0989e-01 -1.5989e-01\n",
            " -1.1611e-01  9.1020e-02 -5.0317e-01 -3.3662e-01  5.9168e-02  4.3838e-01\n",
            " -1.4280e-01 -5.3718e-03  4.6505e-02  2.1546e-01  6.5006e-02 -3.5175e-01\n",
            " -1.7137e-01  2.0467e-01 -7.1730e-02  4.0879e-01  2.0295e-01 -1.4211e-02\n",
            " -2.1898e-01 -1.2831e-01  3.2240e-01  1.7608e-01 -6.0267e-01  3.6737e-02\n",
            "  5.4848e-01 -4.7682e-01 -5.6556e-01 -8.3633e-02  3.2302e-02 -2.5262e-01\n",
            "  3.9481e-01 -1.9623e-02  6.2547e-01 -1.1369e-01 -2.5727e-01  7.3363e-02\n",
            "  1.8437e-01  1.4587e-01  3.2708e-01 -5.2049e-01  3.7555e-02  2.3667e-02\n",
            " -6.8237e-02 -2.2916e-01  1.7755e-02 -1.8394e-01  5.5107e-01 -2.3965e-01\n",
            "  3.9187e-01 -1.7785e-02  4.3113e-01  2.7181e-01 -1.6043e-01 -3.4700e-01\n",
            " -2.4194e+00 -2.8952e-02  9.5085e-01  5.8040e-02 -2.3623e-01  1.8914e-01\n",
            "  3.1192e-01  2.3064e-01 -3.0309e-01 -1.8603e-01  7.6180e-02  3.7337e-01\n",
            " -1.4444e-01 -2.8793e-02 -1.2806e-02 -5.9707e-01  3.1734e-01 -2.5267e-01\n",
            "  5.4384e-01  6.3007e-02 -4.9795e-02 -1.6043e-01  4.6744e-02 -7.0621e-02] \n",
            "\n",
            "core\n",
            "[-1.2598e-01  1.6692e-01 -1.1820e-01 -8.5582e-01  4.8393e-02 -1.9620e-01\n",
            "  3.2881e-01  4.4853e-01 -2.6712e-01 -1.5365e+00 -3.8983e-01 -4.7206e-01\n",
            " -4.6483e-02 -2.8811e-01 -1.6113e-02 -6.3864e-02 -2.8367e-01  4.6290e-01\n",
            "  3.1052e-01  4.3605e-01 -1.1613e-01 -2.0798e-01  3.2539e-01  2.7727e-01\n",
            "  3.2357e-01 -2.7000e-02 -2.5096e-01  1.8395e-01 -3.8456e-02 -7.6739e-03\n",
            "  3.6863e-01  4.5163e-01 -3.1876e-01 -2.0564e-01 -4.1533e-01  2.2224e-01\n",
            "  2.7053e-01  3.1831e-01  3.4590e-01  3.9652e-01  2.8994e-01 -2.6099e-01\n",
            " -4.4414e-02 -5.1512e-02 -6.1349e-02  6.9798e-01 -2.6734e-01 -1.0160e-01\n",
            " -4.0002e-01 -2.1916e-01  1.7826e-03 -6.6142e-02 -3.2575e-01  6.0369e-01\n",
            " -5.2593e-02 -2.3288e-01  9.0557e-02 -2.7570e-02  4.9817e-01  3.8402e-01\n",
            "  5.8392e-01 -1.0583e-01  1.4481e-01  1.9602e-01 -5.1515e-02  4.4132e-01\n",
            "  6.3126e-02  5.1336e-01 -6.4171e-01  2.1997e-01 -5.6462e-02  1.0912e-02\n",
            " -1.1211e-01 -8.1775e-02  2.1217e-01  1.3281e-01  5.9043e-01 -7.2734e-01\n",
            " -1.1422e-01  5.5893e-02 -1.9463e-02 -7.3696e-01 -1.3863e-01 -3.0165e-01\n",
            "  1.5088e-01  6.9920e-02 -2.8274e-01 -1.1291e-01 -3.8667e-01  1.3259e-01\n",
            "  2.3879e-01  5.1355e-01  2.1778e-01 -3.7365e-01  7.1313e-03 -6.1160e-01\n",
            "  6.0667e-02  4.1612e-01  1.3781e-01 -9.4311e-01 -6.6994e-01 -1.2950e-01\n",
            "  1.0756e-01 -3.2246e-01  2.6762e-02 -2.1921e-01  1.0147e-01 -1.3851e-01\n",
            " -7.0458e-04 -5.0816e-02  3.7857e-01 -8.4263e-01  2.8274e-01 -3.5577e-01\n",
            " -2.3290e-01 -2.6049e-01 -2.8298e-02 -3.9494e-01  3.8733e-02  1.9863e-01\n",
            "  3.1753e-01 -5.0175e-01  3.0186e-01  7.6380e-01 -3.7671e-01 -4.1329e-02\n",
            "  4.1143e-02  1.6281e-01 -1.4121e-01 -3.7610e-01  6.8955e-02  9.7287e-02\n",
            " -2.6837e-01 -5.6849e-01  5.4102e-01  5.1577e-02 -5.2024e-02  2.3992e-01\n",
            " -6.6051e-03  3.0953e-01  2.3775e-01 -5.9234e-01  1.4350e-01 -4.0296e-01\n",
            "  1.1421e-01  5.5775e-01 -3.7463e-01  9.1184e-03  4.0104e-02 -2.6219e-01\n",
            "  3.3499e-01  6.6390e-01  6.3253e-01  3.9492e-01  7.1301e-01 -1.8726e-01\n",
            " -2.5336e-01  2.7710e-01 -7.7630e-02 -1.8596e-01 -4.2244e-01 -2.5165e-01\n",
            " -8.2356e-02 -1.2222e-01 -1.7350e-01 -2.7829e-01  1.1047e-01 -1.1556e-01\n",
            "  8.5928e-02  5.2983e-01  2.9999e-01 -5.2242e-01 -5.2082e-01  6.9277e-02\n",
            " -4.1929e-01  2.5989e-02  4.3600e-01  7.8536e-02  4.6739e-01 -1.3436e-01\n",
            " -1.1530e-01 -2.8862e-01  1.0411e-01 -2.1059e-01  1.6291e-01  3.6722e-02\n",
            "  3.4496e-01  2.3118e-02 -2.8764e-01 -5.7248e-02 -8.2678e-02  3.3449e-01\n",
            " -3.3088e-01  5.7328e-01  2.2052e-01 -2.7405e-01 -2.9584e-01  1.8909e-01\n",
            "  1.0087e-01 -3.0917e-01  5.1786e-01 -5.9150e-01  4.8008e-01  5.2898e-01\n",
            " -4.6072e-01 -1.4672e-01  2.4882e-01 -1.8313e-01 -1.6600e-01  3.3507e-01\n",
            "  2.6943e-01  1.7921e-01  2.6169e-01 -2.2318e-01 -1.3947e-01  9.3642e-01\n",
            "  4.5012e-02  4.1470e-01  1.3313e-01 -5.6812e-02 -4.5748e-01  4.4976e-01\n",
            " -5.1626e-02  1.7186e-01 -3.8534e-02  3.5369e-01 -3.5774e-01  2.9736e-01\n",
            " -3.8453e-01 -1.2028e-01 -2.1946e-01 -4.2584e-01  1.1705e-01 -1.7815e-01\n",
            "  3.0713e-03  1.0609e-01  1.2988e-01 -3.0906e-01 -5.5639e-01  1.6197e-01\n",
            "  1.9007e-01  3.3718e-01  5.8656e-01 -4.7640e-01 -6.9964e-01 -5.0319e-01\n",
            "  1.5559e-01 -5.4371e-01 -4.1376e-02 -1.4202e-02  1.4354e-01  4.7005e-01\n",
            " -3.2400e-01 -1.8603e-01 -5.9490e-01 -1.8345e-02  2.5955e-01 -2.8002e-01\n",
            "  2.0888e-01  1.5300e-01 -1.1961e-01  7.6212e-02 -1.5825e-01  3.2102e-01\n",
            " -3.8649e-01  3.9171e-01 -6.1369e-01  9.4804e-02  1.3469e-01  5.2661e-01\n",
            " -2.0620e-01  6.0665e-01 -2.4801e-01  1.0653e-01 -1.1576e+00  2.9774e-01\n",
            " -1.4426e+00  2.5827e-02  7.2183e-01 -1.1096e-01  4.9726e-01  1.4615e-02\n",
            " -7.5256e-01 -3.3731e-02  1.2839e-01  1.7459e-01 -3.4472e-01  2.2797e-01\n",
            "  2.5806e-01  1.0440e-01  3.2074e-01 -8.4286e-02  1.3054e-02 -2.5794e-01\n",
            "  2.8592e-01  7.6805e-01  1.1516e-01 -3.2965e-01 -3.5629e-01 -5.1132e-01] \n",
            "\n",
            "cancer\n",
            "[-0.83316    0.15339    1.0685     0.014664   0.18444    0.44115\n",
            " -0.20314   -1.0539     0.10587   -1.3396    -0.030295  -0.50913\n",
            " -0.45139    0.27222   -0.18787    0.41663   -0.059232  -0.51222\n",
            " -0.39492   -0.46964   -0.43469   -0.37043   -0.61825    0.12938\n",
            " -0.4075     0.13399   -0.1038    -0.66628   -0.24276   -0.83795\n",
            " -0.042252   0.52767    0.20432   -0.43602   -0.43878   -0.21762\n",
            "  0.057256   0.11084    0.18769   -0.15918    0.26881   -0.25884\n",
            "  0.31705   -0.30663   -0.041348   0.045067   0.10188   -0.20822\n",
            "  0.027915  -0.018544  -0.34819    0.085666   0.71508    0.035547\n",
            " -0.44022    0.062517   0.29196   -0.042988   0.35348   -0.3545\n",
            " -0.45056    0.2423     0.36452   -0.11154    0.077154  -0.3772\n",
            "  0.17329    0.54516   -0.44095    0.42327   -0.25355    0.1392\n",
            "  0.80794    0.15015   -0.36073   -0.51692    0.1022    -0.47084\n",
            " -0.30408    0.49504   -0.094862  -0.11303    0.64421    0.19013\n",
            " -0.7724     0.64893    0.29299    0.41269   -0.43125   -0.30441\n",
            "  0.17801   -0.5082    -0.49654    0.46434   -0.043147   0.7902\n",
            "  0.14627   -0.0056881  0.51638   -0.60056    0.6248    -0.037776\n",
            "  0.35907   -0.10248    0.43915    0.38016    0.59861   -0.22427\n",
            " -0.2313     0.35649   -0.59635    0.31096   -0.48766   -0.70327\n",
            "  0.49398    0.12722   -0.050544   0.089594  -0.10051    0.21468\n",
            " -0.64718   -0.2301    -0.26252    0.49639   -0.084946  -0.068946\n",
            "  0.31915   -0.54682    0.077886   0.14534    0.93561   -0.43834\n",
            " -0.38061    0.010182  -0.14231   -0.67907   -0.62133   -0.0091574\n",
            "  0.11244   -0.08276    0.64453   -0.57344   -0.02303    0.3846\n",
            " -0.36584    0.13263   -0.46539    0.40113    0.12951    0.58362\n",
            " -0.10043   -0.63217    0.57507    0.59602   -0.70465    0.19001\n",
            " -0.16253    0.28537   -0.17768   -0.11758   -0.045354   0.011596\n",
            " -0.10157    0.030679  -0.0078963  0.43569    0.17856   -0.21642\n",
            "  0.0091943  0.52089    0.16025    0.22725    0.0034479  0.32277\n",
            " -1.0988    -0.5507    -0.19015   -0.5634     0.098213  -0.37407\n",
            " -0.92526    0.56348    0.40888   -0.52953   -0.42329   -0.08017\n",
            " -0.76873   -0.44254   -0.58228   -0.61312   -0.26596    0.76499\n",
            "  0.1344     0.31768   -0.27205   -0.047093   0.46006   -0.10624\n",
            " -0.045358   0.31781    0.32962    0.17382    0.13358    0.16702\n",
            " -0.87768    0.8056    -0.62042    0.030765  -0.30967    0.098434\n",
            "  0.22676   -0.44051   -0.088123  -0.38385   -0.019269  -0.053177\n",
            "  0.47081   -0.48784    0.1395    -0.35938   -0.37685   -0.68836\n",
            " -0.70005   -0.42695   -0.31903    0.29212   -0.61531    0.34913\n",
            " -0.4643     0.40637    0.45375    0.15227    0.29983    0.22829\n",
            " -0.37546   -0.82802   -0.085846   0.61591    0.14326   -0.20671\n",
            " -0.072402  -0.96713    1.4124     0.072016  -0.93266   -0.026682\n",
            "  0.38639   -0.50321   -0.076559   0.28918   -0.48256   -0.38693\n",
            " -0.99341   -0.0061308  0.71669    0.32505    0.65359   -0.55758\n",
            " -0.062902  -0.16769    0.29626   -0.39123   -0.20115   -0.48702\n",
            "  0.20711    0.67534   -0.48849    0.18521   -0.37074   -0.0046668\n",
            "  0.69662    0.067738   0.20228   -0.73039   -0.46312   -0.41978\n",
            " -1.4599    -0.026283   0.46618    0.2142    -0.60505   -0.68435\n",
            "  0.23427    0.66553   -0.16716    0.92385   -0.43824    0.025379\n",
            "  0.022408   0.41426    0.17087   -0.30487   -0.13951   -0.16894\n",
            " -0.56347   -0.17906    0.42245   -0.41025    0.12421   -0.21927  ] \n",
            "\n",
            "cell\n",
            "[-3.1341e-01  4.3332e-02 -3.4051e-01 -5.5762e-01 -1.2720e-01  1.3336e-01\n",
            "  6.4135e-02 -5.8206e-01  2.5979e-01 -2.0946e+00 -1.0089e-01 -1.7845e-01\n",
            " -2.9254e-01 -5.5644e-02  6.4606e-01 -2.8207e-01 -4.6635e-01 -3.1943e-01\n",
            " -5.4231e-01 -1.6633e-01 -1.9344e-02 -6.3524e-01 -8.7144e-02 -3.9123e-01\n",
            " -1.5649e-01 -3.1818e-01  6.5630e-01  5.8186e-01  6.4939e-02 -4.9008e-01\n",
            " -2.0076e-01  1.0877e-01 -7.5512e-01 -8.9072e-02  2.3915e-01 -2.3329e-01\n",
            "  1.9908e-01 -3.2944e-01 -4.6657e-01  1.4251e-01  2.6940e-01  6.4204e-01\n",
            " -6.5870e-01 -4.5524e-01 -5.8737e-02  1.2469e-02  4.7902e-01 -7.0487e-02\n",
            "  1.8487e-01  1.4027e-02 -5.0564e-01  2.6346e-01 -1.3600e-01  5.2767e-01\n",
            " -1.1389e-01 -1.7801e-01  1.4362e-01 -1.3777e-01 -4.7671e-01 -1.5962e-01\n",
            " -1.7657e-02 -3.2395e-02  5.2713e-01  3.2255e-01 -3.0561e-01  3.2928e-01\n",
            " -3.4998e-01  9.5613e-01 -3.0550e-01  6.7189e-01  1.5180e-02  2.8282e-01\n",
            "  5.1288e-01  3.0273e-01 -2.8235e-01  3.2318e-01 -3.7389e-01 -9.8476e-01\n",
            " -6.2309e-01  2.5237e-01 -1.9235e-01 -7.0326e-01  1.0922e-01  6.4873e-01\n",
            " -2.4546e-01  2.2841e-01  1.0652e-01  5.0733e-01  6.4278e-01  2.0703e-01\n",
            "  5.4462e-02 -1.6463e-01 -3.4961e-01  7.8832e-02  5.6113e-01  3.2477e-01\n",
            " -2.6139e-01  3.2904e-01  8.1834e-01 -7.5783e-01  1.6078e-01 -3.2250e-01\n",
            "  4.9894e-01  3.1665e-01  2.5260e-01  1.9775e-01  1.7669e-01  4.2168e-01\n",
            " -6.9479e-01  3.7731e-01 -5.3766e-01  6.1257e-01 -2.6600e-02 -3.2058e-01\n",
            " -3.0078e-01  2.3818e-01 -3.8967e-01 -1.6166e-01 -5.3831e-01  1.4970e-01\n",
            " -4.0200e-01 -5.5159e-01  6.2019e-01 -3.3278e-01 -4.2015e-01 -1.8001e-01\n",
            "  7.1764e-02 -5.3384e-01  1.5698e-01  1.5900e-01  9.9236e-01 -1.8729e-01\n",
            " -2.7163e-01  2.5233e-02  8.2043e-02 -3.5524e-01  7.7029e-01  1.7217e-01\n",
            " -3.1248e-01 -2.9482e-01  7.8983e-02 -4.1958e-01 -9.6943e-02  6.3928e-02\n",
            " -2.3774e-01  2.8728e-01 -6.8246e-01 -5.6111e-01  5.7843e-02  1.6278e-01\n",
            "  3.9390e-02 -4.3860e-02  1.0732e-01 -2.8023e-01 -4.1344e-01 -1.5862e-01\n",
            " -4.8853e-02  8.4087e-01 -5.7681e-01  3.0206e-01 -3.1599e-01 -2.3991e-02\n",
            "  4.2379e-01  6.5966e-03  1.1171e-01  6.3189e-01  1.5926e-01 -1.7655e-01\n",
            "  1.4390e-01  5.5733e-01  4.4666e-01  2.7200e-01 -4.7223e-01 -5.9825e-02\n",
            " -7.0245e-01 -5.7561e-01 -6.0280e-02 -8.7943e-02  6.6327e-02 -4.6109e-01\n",
            "  3.4146e-01 -5.4068e-01 -3.9452e-01  1.5574e-01 -8.0302e-01 -3.2376e-01\n",
            "  1.7337e-02 -2.7520e-02 -5.5205e-02 -3.6001e-01  7.2967e-01  2.9011e-01\n",
            "  2.1729e-02  2.9808e-01  4.5923e-02 -2.1277e-02 -1.5626e-01 -2.6006e-01\n",
            " -5.3866e-01 -1.8976e-01  1.5807e-01 -2.2777e-01  2.7006e-01  2.9803e-01\n",
            "  3.0094e-01 -8.2150e-01 -1.8872e-01 -1.4755e-02 -5.7824e-01  2.1725e-01\n",
            "  3.7803e-01  4.9131e-02 -1.9722e-01 -1.5301e-01 -2.9166e-01  6.9436e-01\n",
            "  2.1220e-01  3.6101e-01  1.6032e-03  3.5516e-01 -2.1375e-01 -1.0349e-01\n",
            " -1.3465e-01  2.5957e-01  3.8581e-01  4.6916e-01 -3.6447e-01 -2.6167e-01\n",
            " -3.0663e-01  1.9137e-01  6.2092e-01  1.9029e-01  1.4195e-01  3.3213e-01\n",
            "  1.0707e-01 -4.9003e-01 -1.9852e-01  3.6266e-01  2.5743e-01 -2.0941e-02\n",
            "  8.6450e-01 -9.9537e-02  4.9265e-01  3.1624e-01 -4.7300e-01 -3.0469e-01\n",
            "  8.6258e-01  3.1516e-02 -2.1800e-01 -1.8514e-02 -3.1587e-01 -5.1087e-02\n",
            " -9.6628e-01  2.7568e-01  3.5383e-01  3.7861e-01  1.0621e+00  1.2141e-01\n",
            " -3.3529e-01  9.2699e-02  2.9532e-01 -9.9026e-01  5.7964e-02 -4.5548e-02\n",
            "  1.8078e-01 -4.0347e-01 -9.5567e-02  1.7338e-01 -6.4512e-01  7.7364e-02\n",
            " -3.5304e-01  3.3576e-01 -5.1697e-01 -2.9047e-01 -3.8446e-01  6.9700e-02\n",
            " -1.8973e+00  2.7544e-01 -4.6494e-01 -2.4865e-01 -7.2082e-01 -3.4947e-01\n",
            " -3.5488e-01  3.2580e-02 -3.7159e-01  2.8880e-01  7.1020e-02  7.1477e-01\n",
            "  5.5909e-01  4.6548e-01  1.7749e-01 -6.8614e-01 -5.5941e-01 -1.5222e-02\n",
            " -1.0420e-01  5.1684e-01  6.4339e-01  5.2723e-02 -1.6775e-01  1.1675e-01] \n",
            "\n",
            "research\n",
            "[-0.11741    0.13307   -0.19936   -0.12832    0.19883   -0.42798\n",
            " -0.45439   -0.59933    0.1008    -2.3059     0.58726   -0.31265\n",
            "  0.31863   -0.062434  -0.091703   0.35028    0.12142   -0.099527\n",
            " -0.10786   -0.0050141 -0.27582   -0.39504    0.08782    0.35322\n",
            " -0.27914    0.77114    0.56008    0.037089   0.0056585 -0.31446\n",
            "  0.28238    0.082654   0.15014   -0.15977   -0.42947    0.10943\n",
            "  0.59785    0.66306    0.054288  -0.39765    0.32556   -0.21544\n",
            "  0.11547   -0.22569   -0.66894   -0.087293  -0.53379   -0.071676\n",
            " -0.21312    0.26196   -0.093035  -0.012637  -0.20236    0.17923\n",
            " -0.37232    0.17605    0.25427   -0.29974   -0.7725     0.23727\n",
            " -0.3644     0.2838     0.96167    0.30116    0.087945   0.36351\n",
            "  0.30662    0.2735    -0.31258    0.025783  -0.31197    0.70512\n",
            "  0.48766    0.029833  -0.67576    0.35445    0.095848  -0.042669\n",
            " -0.090307   0.068906   0.11702   -0.18783   -0.4819     0.26309\n",
            " -0.2011     0.55074    0.59671    0.68791   -0.17741   -0.46133\n",
            " -0.025949   0.020329  -0.15217    0.10178    0.084196   0.3393\n",
            "  0.053466   0.18753    0.07162   -0.41447    0.15502   -0.11098\n",
            "  0.026924   0.071626  -0.1422    -0.29579   -0.25773   -0.040046\n",
            " -0.12117    0.63836   -0.38546   -1.0605    -0.46754   -0.40982\n",
            " -0.38944   -0.13816   -0.19959    0.22133    0.038334   0.71382\n",
            " -0.56395    0.42407    0.30815    0.067679   0.061973  -0.2807\n",
            "  0.079296  -0.26452   -0.43707   -0.071866   0.23275   -0.54653\n",
            "  0.0546    -0.27599   -0.47398   -0.071757  -0.15776    0.20111\n",
            " -0.0083862 -0.2165     0.34235   -0.067049   1.0942    -0.14047\n",
            "  0.39449    0.060604  -0.28245    0.056977   0.11547    0.22496\n",
            "  0.81111    0.26192    0.20655    0.16918   -0.30585    0.1604\n",
            " -0.25949    0.17714   -0.43048   -0.49595   -0.11586    0.15326\n",
            "  0.19318   -0.29496    0.09737   -0.27325    0.18047    0.092932\n",
            " -0.35508    0.85909   -0.014328  -0.78364   -0.68239   -0.12086\n",
            " -0.156      0.09957   -0.20868   -0.57375   -0.29048   -0.42888\n",
            " -0.05563   -0.060135   0.19136    0.15104    0.1287    -0.80074\n",
            " -0.12567   -0.25005   -0.45007   -0.75643    0.024638   0.34849\n",
            " -0.032569   0.13402   -0.74431    0.33713    0.55912   -0.13221\n",
            " -0.082339   0.14401   -0.31619   -0.34251   -0.32387    0.49033\n",
            " -0.38191    0.46312   -0.36319    0.41563   -0.046078  -0.52213\n",
            "  0.76709   -0.36067   -0.17576   -0.35086    0.18413    0.039419\n",
            " -0.21118    0.69579    0.088848  -0.32265   -0.05871   -0.024629\n",
            " -0.92602   -0.16004    0.11581    0.23516   -0.5363     0.015283\n",
            " -0.20374    0.36554    0.40187    0.28087    0.1781     0.21321\n",
            " -0.12113   -0.23186   -0.17912   -0.12867   -0.45881    0.26713\n",
            "  0.2465     0.4709     0.99313   -0.30788   -1.5381     0.19803\n",
            " -0.3584    -0.07303   -0.48457    0.052172  -0.074136   0.23334\n",
            " -0.21108   -0.067674   0.57064   -0.014977   0.1865    -0.25504\n",
            "  0.13849    0.0158     0.24062    0.21674    0.074731  -0.19123\n",
            "  0.37502    0.38438   -0.34369    0.36497   -0.0086703  0.34085\n",
            " -0.11906   -0.087443   0.066265  -0.28892   -0.1843    -0.35866\n",
            " -1.6884    -0.052668   0.63692   -0.02342   -1.0919    -0.49424\n",
            " -0.14924   -0.75091    0.070988   0.028951  -0.32036    0.45346\n",
            "  0.33068    0.09934   -0.2589    -0.75879   -0.19963    0.29199\n",
            "  0.18581    0.67928    0.15985    0.089595  -0.077056   0.074187 ] \n",
            "\n"
          ],
          "name": "stdout"
        }
      ]
    },
    {
      "cell_type": "code",
      "metadata": {
        "id": "RsK97BEl8c-j",
        "colab_type": "code",
        "outputId": "d4739cbe-6ace-41fb-a2bc-efc0a420949d",
        "colab": {
          "base_uri": "https://localhost:8080/",
          "height": 107
        }
      },
      "source": [
        "embeddings_count = 0\n",
        "oov = []\n",
        "\n",
        "for ind, word in list(tokenizer.index_word.items()):\n",
        "    # get the embedding for the word\n",
        "    embedding_exists = embeddings_index.get(word, False)\n",
        "    \n",
        "    # count the embeddings that were pre-trained; keep track of out of vocabulary (oov) words\n",
        "    if embedding_exists is not False:\n",
        "        embeddings_count += 1\n",
        "    else:\n",
        "        oov.append(word)\n",
        "\n",
        "# calculate the percentage of words that existed in the pre-trained embeddings\n",
        "print(f'{embeddings_count / len(tokenizer.index_word): 2.2f}% words existed in pre-trained embeddings \\n')\n",
        "print(f'OUT OF VOCABULARY WORDS: \\n{oov[0:20]}')"
      ],
      "execution_count": 54,
      "outputs": [
        {
          "output_type": "stream",
          "text": [
            " 0.72% words existed in pre-trained embeddings \n",
            "\n",
            "OUT OF VOCABULARY WORDS: \n",
            "['phenotyping', 'predoctoral', 'crispr', 'cardiometabolic', 'biospecimen', 'synuclein', 'optogenetic', 'metabolomic', 'biorepository', 'crcns', 'epigenomic', 'ncorp', 'mtorc', 'inflammasome', 'transcriptomic', 'proteostasis', 'epigenomics', 'hhsn', 'abeta', 'neuroaids']\n"
          ],
          "name": "stdout"
        }
      ]
    },
    {
      "cell_type": "code",
      "metadata": {
        "id": "lH2xgo0M8c-l",
        "colab_type": "code",
        "colab": {}
      },
      "source": [
        "# create a weight matrix for words in training docs\n",
        "embedding_matrix = zeros((vocab_size, EMBEDDING_SIZE))\n",
        "\n",
        "for word, i in tokenizer.word_index.items():    \n",
        "    embedding_vector = embeddings_index.get(word)\n",
        "    \n",
        "    # add each word in the embedding_matrix in the slot for the tokenizer's word id\n",
        "    if embedding_vector is not None:\n",
        "        embedding_matrix[i] = embedding_vector"
      ],
      "execution_count": 0,
      "outputs": []
    },
    {
      "cell_type": "code",
      "metadata": {
        "scrolled": false,
        "id": "nmV041Ny8c-m",
        "colab_type": "code",
        "outputId": "ac321284-1115-43f5-f1c8-5b3618b40681",
        "colab": {
          "base_uri": "https://localhost:8080/",
          "height": 191
        }
      },
      "source": [
        "# view the embedding look up table\n",
        "print(embedding_matrix[0:5])"
      ],
      "execution_count": 56,
      "outputs": [
        {
          "output_type": "stream",
          "text": [
            "[[ 0.          0.          0.         ...  0.          0.\n",
            "   0.        ]\n",
            " [-0.076947   -0.021211    0.21270999 ...  0.18351001 -0.29183\n",
            "  -0.046533  ]\n",
            " [ 0.038466   -0.039792    0.082747   ... -0.33427     0.011807\n",
            "   0.059703  ]\n",
            " [-0.44398999  0.12817    -0.25246999 ... -0.20043001 -0.082191\n",
            "  -0.06255   ]\n",
            " [ 0.04656     0.21318001 -0.0074364  ...  0.0090611  -0.20988999\n",
            "   0.053913  ]]\n"
          ],
          "name": "stdout"
        }
      ]
    },
    {
      "cell_type": "markdown",
      "metadata": {
        "id": "7yfV_B-88c-o",
        "colab_type": "text"
      },
      "source": [
        "##### View an example of looking up a word by the tokenizer id in the embedding matrix"
      ]
    },
    {
      "cell_type": "code",
      "metadata": {
        "id": "xDab5Ku88c-p",
        "colab_type": "code",
        "outputId": "0ca707ae-ada1-4b75-b993-f7659184c2ee",
        "colab": {
          "base_uri": "https://localhost:8080/",
          "height": 1000
        }
      },
      "source": [
        "embeddings_index['good']"
      ],
      "execution_count": 57,
      "outputs": [
        {
          "output_type": "execute_result",
          "data": {
            "text/plain": [
              "array([-1.3602e-01, -1.1594e-01, -1.7078e-02, -2.9256e-01,  1.6149e-02,\n",
              "        8.6472e-02,  1.5759e-03,  3.4395e-01,  2.1661e-01, -2.1366e+00,\n",
              "        3.5278e-01, -2.3909e-01, -2.2174e-01,  3.6413e-01, -4.5021e-01,\n",
              "        1.2104e-01, -1.5596e-01, -3.8906e-02, -2.9419e-03,  1.6009e-02,\n",
              "       -1.1620e-01,  3.8680e-01,  3.5109e-01,  9.7426e-02, -1.2425e-02,\n",
              "       -1.7864e-01, -2.3259e-01, -2.6960e-01,  4.1083e-02, -7.6194e-02,\n",
              "       -2.3362e-01,  2.0919e-01, -2.7264e-01,  5.4967e-02, -1.8055e+00,\n",
              "        5.6348e-01, -1.2778e-01,  2.3147e-01, -5.8820e-03, -2.6630e-01,\n",
              "        4.1187e-01, -3.7162e-01, -2.0600e-01, -1.9619e-01, -4.3945e-03,\n",
              "        1.2513e-01,  4.6638e-01,  4.5159e-01, -1.5000e-01,  5.9589e-03,\n",
              "        5.9070e-02, -4.1440e-01,  6.1035e-02, -2.1117e-01, -4.0988e-01,\n",
              "        5.6393e-01,  2.3021e-01,  2.7240e-01,  4.9364e-02,  1.4239e-01,\n",
              "        4.1841e-01, -1.3983e-01,  3.4826e-01, -1.0745e-01, -2.5002e-01,\n",
              "       -3.2554e-01,  3.3343e-01, -3.5617e-01,  2.0442e-01,  1.4439e-01,\n",
              "       -1.2686e-01, -7.7273e-02, -1.9667e-01,  1.0759e-01, -1.1860e-01,\n",
              "       -2.5083e-01,  1.4205e-02,  2.7251e-01, -2.3707e-01, -2.3545e-01,\n",
              "       -1.5887e-01,  1.3151e-01,  6.9564e-01,  2.2766e-01,  1.8526e-01,\n",
              "        1.5743e-01, -1.5018e-01, -1.8177e-01, -3.3527e-02, -3.3092e-01,\n",
              "       -2.5205e-01,  5.0913e-01, -2.5607e-01, -5.3686e-01,  1.3397e-01,\n",
              "        6.7046e-02, -9.4473e-02, -2.2270e-01, -3.1469e-01,  8.5932e-02,\n",
              "       -4.3032e-02, -2.5821e-01, -9.5062e-02, -1.8497e-01,  5.8890e-02,\n",
              "        1.8972e-01, -1.7366e-01,  2.5263e-01, -5.4361e-01, -3.7248e-01,\n",
              "       -4.6661e-02, -4.1657e-01, -1.7549e-03, -4.8404e-01,  4.2090e-01,\n",
              "       -1.2749e-03,  9.4697e-03, -1.3380e-01,  7.2351e-02, -1.2096e-01,\n",
              "       -7.2870e-02, -1.8333e-01,  3.9652e-01,  1.1329e-01, -6.3029e-02,\n",
              "       -1.9702e-03,  4.2848e-01,  3.1790e-01, -1.5079e-01,  2.0405e-01,\n",
              "        2.1828e-01,  2.6067e-02,  4.3621e-02,  3.9224e-03, -2.6629e-01,\n",
              "       -2.8312e-01,  5.0497e-02, -1.8993e-01,  1.8996e-01,  2.9517e-01,\n",
              "       -1.1566e-01,  4.0967e-01,  2.2221e-01, -3.9778e-01, -3.3177e-01,\n",
              "       -1.3884e-01, -1.6829e-01, -2.0355e-01, -2.7687e-01, -1.1087e-01,\n",
              "       -6.7466e-01, -1.8108e-01,  1.8512e-01, -9.4616e-02,  1.7856e-01,\n",
              "       -6.6997e-02,  1.1379e-01, -9.3380e-02,  5.6860e-01, -1.3365e-01,\n",
              "        3.4636e-01, -4.1953e-01,  1.7547e-01, -2.4277e-02, -1.2441e-01,\n",
              "        9.2129e-02, -1.6702e-01, -1.4285e-01,  3.1646e-01,  3.0337e-01,\n",
              "        1.4840e-01, -6.7837e-03, -1.0509e+00,  2.2329e-01,  7.5211e-02,\n",
              "        4.4379e-02, -8.5929e-02, -1.1806e-01, -1.6632e-01, -7.8650e-02,\n",
              "        2.6374e-01, -2.2052e-01,  4.5582e-01, -1.5291e-01,  6.2617e-02,\n",
              "       -1.5588e-01,  8.2398e-02, -6.8462e-02, -2.4569e-01,  2.3439e-01,\n",
              "       -3.8633e-01,  2.4835e-01,  2.5334e-01, -2.1189e-01,  4.1494e-03,\n",
              "       -4.3762e-01, -1.3426e-01, -2.4583e-01,  1.4213e-01, -3.3973e-01,\n",
              "        1.4643e+00,  1.6414e-01,  2.2135e-01,  7.4099e-03, -5.5141e-02,\n",
              "       -2.7403e-02,  3.2928e-02,  1.4289e-01, -1.0049e-01, -2.2066e-01,\n",
              "       -3.0380e-01,  6.0624e-02, -1.2408e-01, -5.4114e-01,  2.4374e-01,\n",
              "        8.0903e-02, -7.8264e-02,  8.0091e-02,  9.8551e-03, -2.3077e-01,\n",
              "        1.6006e-01,  6.4075e-02, -4.1613e-01,  2.0494e-01, -1.8681e-01,\n",
              "        3.5367e-02,  2.1759e-01, -8.7823e-02,  3.5452e-01,  1.9578e-01,\n",
              "       -1.5127e-01, -1.0545e-01,  3.5650e-01, -3.8677e-01, -6.3172e-02,\n",
              "        3.1534e-01, -1.5887e-01, -3.1267e-01, -1.7893e-01,  4.1952e-01,\n",
              "        2.3261e-01,  2.0943e-01,  2.7013e-02,  1.7388e-02, -5.9857e-01,\n",
              "       -1.9622e-01, -2.3672e-01,  3.0032e-01,  4.6926e-02, -8.5768e-02,\n",
              "        3.6539e-01, -5.2476e-01, -1.3618e-01,  1.0868e-01,  4.6307e-01,\n",
              "        3.8502e-01,  7.6317e-04, -3.8196e-01,  7.9772e-02, -4.1744e-02,\n",
              "        4.7625e-02, -4.1018e-02,  1.7601e-01,  2.4893e-01, -1.0753e-01,\n",
              "        3.1935e-01, -1.2762e-01, -3.5059e-01,  3.5689e-04,  9.3515e-03,\n",
              "       -8.8616e-02, -3.2785e-01,  9.2063e-02, -6.1405e-02,  2.9053e-01,\n",
              "        2.2404e-02, -1.6879e+00,  2.6712e-01,  3.3419e-01, -5.2533e-02,\n",
              "       -1.9741e-01,  1.3709e-01, -5.4288e-02,  5.6423e-01,  1.9384e-01,\n",
              "        1.7229e-01,  2.9025e-01, -1.6124e-01,  5.9489e-02, -3.1884e-01,\n",
              "       -2.8343e-01,  6.4321e-02, -4.1589e-01, -7.0528e-02,  1.2410e-02,\n",
              "       -4.0208e-01, -2.4963e-01, -3.3760e-01,  7.0098e-02,  2.4642e-01],\n",
              "      dtype=float32)"
            ]
          },
          "metadata": {
            "tags": []
          },
          "execution_count": 57
        }
      ]
    },
    {
      "cell_type": "code",
      "metadata": {
        "id": "KGa9JOMY8c-s",
        "colab_type": "code",
        "outputId": "5b38726c-b117-4aec-ae5c-b24421bd56f1",
        "colab": {
          "base_uri": "https://localhost:8080/",
          "height": 35
        }
      },
      "source": [
        "token_id = tokenizer.texts_to_sequences(['good'])\n",
        "token_id"
      ],
      "execution_count": 58,
      "outputs": [
        {
          "output_type": "execute_result",
          "data": {
            "text/plain": [
              "[[8769]]"
            ]
          },
          "metadata": {
            "tags": []
          },
          "execution_count": 58
        }
      ]
    },
    {
      "cell_type": "code",
      "metadata": {
        "id": "Sc9ZkHKu8c-t",
        "colab_type": "code",
        "outputId": "af717fbc-b63a-4581-d4ef-ae343ab97cdf",
        "colab": {
          "base_uri": "https://localhost:8080/",
          "height": 1000
        }
      },
      "source": [
        "print(embedding_matrix[token_id[0]])"
      ],
      "execution_count": 59,
      "outputs": [
        {
          "output_type": "stream",
          "text": [
            "[[-1.36020005e-01 -1.15939997e-01 -1.70779992e-02 -2.92560011e-01\n",
            "   1.61489993e-02  8.64719972e-02  1.57590001e-03  3.43950003e-01\n",
            "   2.16610000e-01 -2.13660002e+00  3.52780014e-01 -2.39089996e-01\n",
            "  -2.21740007e-01  3.64129990e-01 -4.50210005e-01  1.21040002e-01\n",
            "  -1.55959994e-01 -3.89060006e-02 -2.94189993e-03  1.60089992e-02\n",
            "  -1.16200000e-01  3.86799991e-01  3.51090014e-01  9.74259973e-02\n",
            "  -1.24249998e-02 -1.78639993e-01 -2.32590005e-01 -2.69600004e-01\n",
            "   4.10830006e-02 -7.61940032e-02 -2.33620003e-01  2.09189996e-01\n",
            "  -2.72639990e-01  5.49670011e-02 -1.80550003e+00  5.63480020e-01\n",
            "  -1.27780005e-01  2.31470004e-01 -5.88200008e-03 -2.66299993e-01\n",
            "   4.11870003e-01 -3.71619999e-01 -2.06000000e-01 -1.96190000e-01\n",
            "  -4.39450005e-03  1.25129998e-01  4.66380000e-01  4.51590002e-01\n",
            "  -1.50000006e-01  5.95889986e-03  5.90699986e-02 -4.14400011e-01\n",
            "   6.10349998e-02 -2.11170003e-01 -4.09880012e-01  5.63929975e-01\n",
            "   2.30210006e-01  2.72399992e-01  4.93640006e-02  1.42389998e-01\n",
            "   4.18410003e-01 -1.39829993e-01  3.48259985e-01 -1.07450001e-01\n",
            "  -2.50019997e-01 -3.25540006e-01  3.33429992e-01 -3.56169999e-01\n",
            "   2.04420000e-01  1.44390002e-01 -1.26859993e-01 -7.72729963e-02\n",
            "  -1.96669996e-01  1.07589997e-01 -1.18600003e-01 -2.50829995e-01\n",
            "   1.42050004e-02  2.72509992e-01 -2.37069994e-01 -2.35450000e-01\n",
            "  -1.58869997e-01  1.31510004e-01  6.95640028e-01  2.27660000e-01\n",
            "   1.85259998e-01  1.57429993e-01 -1.50179997e-01 -1.81769997e-01\n",
            "  -3.35270017e-02 -3.30920011e-01 -2.52050012e-01  5.09130001e-01\n",
            "  -2.56069988e-01 -5.36859989e-01  1.33970007e-01  6.70460016e-02\n",
            "  -9.44729969e-02 -2.22700000e-01 -3.14689994e-01  8.59320015e-02\n",
            "  -4.30320017e-02 -2.58210003e-01 -9.50620025e-02 -1.84970006e-01\n",
            "   5.88900000e-02  1.89720005e-01 -1.73659995e-01  2.52629995e-01\n",
            "  -5.43609977e-01 -3.72480005e-01 -4.66610007e-02 -4.16570008e-01\n",
            "  -1.75489997e-03 -4.84039992e-01  4.20899987e-01 -1.27490005e-03\n",
            "   9.46970005e-03 -1.33800000e-01  7.23510012e-02 -1.20959997e-01\n",
            "  -7.28700012e-02 -1.83329999e-01  3.96519989e-01  1.13289997e-01\n",
            "  -6.30289987e-02 -1.97020010e-03  4.28479999e-01  3.17900002e-01\n",
            "  -1.50790006e-01  2.04050004e-01  2.18280002e-01  2.60669999e-02\n",
            "   4.36209999e-02  3.92240006e-03 -2.66290009e-01 -2.83120006e-01\n",
            "   5.04969992e-02 -1.89930007e-01  1.89960003e-01  2.95170009e-01\n",
            "  -1.15659997e-01  4.09669995e-01  2.22210005e-01 -3.97780001e-01\n",
            "  -3.31770003e-01 -1.38840005e-01 -1.68290004e-01 -2.03549996e-01\n",
            "  -2.76870012e-01 -1.10870004e-01 -6.74660027e-01 -1.81079999e-01\n",
            "   1.85120001e-01 -9.46160033e-02  1.78560004e-01 -6.69969991e-02\n",
            "   1.13789998e-01 -9.33799967e-02  5.68599999e-01 -1.33650005e-01\n",
            "   3.46359998e-01 -4.19530004e-01  1.75469995e-01 -2.42769998e-02\n",
            "  -1.24410003e-01  9.21289995e-02 -1.67019993e-01 -1.42849997e-01\n",
            "   3.16460013e-01  3.03369999e-01  1.48399994e-01 -6.78370008e-03\n",
            "  -1.05089998e+00  2.23289996e-01  7.52110034e-02  4.43789996e-02\n",
            "  -8.59289989e-02 -1.18060000e-01 -1.66319996e-01 -7.86499977e-02\n",
            "   2.63740003e-01 -2.20520005e-01  4.55819994e-01 -1.52909994e-01\n",
            "   6.26169965e-02 -1.55880004e-01  8.23979974e-02 -6.84619993e-02\n",
            "  -2.45690003e-01  2.34390005e-01 -3.86330009e-01  2.48349994e-01\n",
            "   2.53340006e-01 -2.11889997e-01  4.14940016e-03 -4.37620014e-01\n",
            "  -1.34259999e-01 -2.45829999e-01  1.42130002e-01 -3.39729995e-01\n",
            "   1.46430004e+00  1.64140001e-01  2.21349999e-01  7.40989996e-03\n",
            "  -5.51409982e-02 -2.74030007e-02  3.29280011e-02  1.42890006e-01\n",
            "  -1.00489996e-01 -2.20660001e-01 -3.03799987e-01  6.06239997e-02\n",
            "  -1.24080002e-01 -5.41140020e-01  2.43740007e-01  8.09030011e-02\n",
            "  -7.82639980e-02  8.00909996e-02  9.85509995e-03 -2.30770007e-01\n",
            "   1.60060003e-01  6.40750006e-02 -4.16130006e-01  2.04940006e-01\n",
            "  -1.86810002e-01  3.53670008e-02  2.17590004e-01 -8.78230035e-02\n",
            "   3.54519993e-01  1.95779994e-01 -1.51270002e-01 -1.05449997e-01\n",
            "   3.56500000e-01 -3.86770010e-01 -6.31719977e-02  3.15340012e-01\n",
            "  -1.58869997e-01 -3.12669992e-01 -1.78929999e-01  4.19519991e-01\n",
            "   2.32610002e-01  2.09429994e-01  2.70130001e-02  1.73879992e-02\n",
            "  -5.98569989e-01 -1.96219996e-01 -2.36719996e-01  3.00319999e-01\n",
            "   4.69259992e-02 -8.57679993e-02  3.65390003e-01 -5.24760008e-01\n",
            "  -1.36179999e-01  1.08680002e-01  4.63070005e-01  3.85019988e-01\n",
            "   7.63170014e-04 -3.81960005e-01  7.97720030e-02 -4.17440012e-02\n",
            "   4.76250015e-02 -4.10180017e-02  1.76009998e-01  2.48930007e-01\n",
            "  -1.07529998e-01  3.19350004e-01 -1.27619997e-01 -3.50589991e-01\n",
            "   3.56889999e-04  9.35150031e-03 -8.86159986e-02 -3.27850014e-01\n",
            "   9.20630023e-02 -6.14049993e-02  2.90529996e-01  2.24040002e-02\n",
            "  -1.68789995e+00  2.67120004e-01  3.34190011e-01 -5.25330007e-02\n",
            "  -1.97410002e-01  1.37089998e-01 -5.42879999e-02  5.64230025e-01\n",
            "   1.93839997e-01  1.72289997e-01  2.90250003e-01 -1.61239997e-01\n",
            "   5.94890006e-02 -3.18839997e-01 -2.83430010e-01  6.43209964e-02\n",
            "  -4.15890008e-01 -7.05280006e-02  1.24100000e-02 -4.02079999e-01\n",
            "  -2.49630004e-01 -3.37599993e-01  7.00979978e-02  2.46419996e-01]]\n"
          ],
          "name": "stdout"
        }
      ]
    },
    {
      "cell_type": "markdown",
      "metadata": {
        "id": "0oUglN_C8c-w",
        "colab_type": "text"
      },
      "source": [
        "##### Create embeddings for an entire sentence"
      ]
    },
    {
      "cell_type": "code",
      "metadata": {
        "id": "G7tZNqAE8c-w",
        "colab_type": "code",
        "outputId": "502174c8-0e2e-4cd2-e44d-edbea7f31e4a",
        "colab": {
          "base_uri": "https://localhost:8080/",
          "height": 35
        }
      },
      "source": [
        "example_sentence = X_train[0]\n",
        "example_sentence"
      ],
      "execution_count": 60,
      "outputs": [
        {
          "output_type": "execute_result",
          "data": {
            "text/plain": [
              "'autism genetics phase ii increasing representation of human diversity'"
            ]
          },
          "metadata": {
            "tags": []
          },
          "execution_count": 60
        }
      ]
    },
    {
      "cell_type": "code",
      "metadata": {
        "id": "F0rq6tPx8c-y",
        "colab_type": "code",
        "outputId": "4ac66b6f-cc5a-471f-c019-c0697e6df47f",
        "colab": {
          "base_uri": "https://localhost:8080/",
          "height": 35
        }
      },
      "source": [
        "sentence_ids = tokenizer.texts_to_sequences([example_sentence])\n",
        "sentence_ids"
      ],
      "execution_count": 61,
      "outputs": [
        {
          "output_type": "execute_result",
          "data": {
            "text/plain": [
              "[[316, 167, 220, 367, 1384, 2885, 1, 30, 390]]"
            ]
          },
          "metadata": {
            "tags": []
          },
          "execution_count": 61
        }
      ]
    },
    {
      "cell_type": "code",
      "metadata": {
        "id": "NRbaTc4Z8c-0",
        "colab_type": "code",
        "outputId": "d8af6dc7-cbcc-4ccf-a95f-d542445df037",
        "colab": {
          "base_uri": "https://localhost:8080/",
          "height": 374
        }
      },
      "source": [
        "# structure the embeddings of each word in a sentence\n",
        "sentence_embedding = pd.DataFrame(\n",
        "    [embedding_matrix[word_id] for word_id in sentence_ids][0],  # store the embedding of each word in a list\n",
        "    index=example_sentence.split()  # use the words (from the original sentence) as the row index\n",
        ")\n",
        "\n",
        "sentence_embedding"
      ],
      "execution_count": 62,
      "outputs": [
        {
          "output_type": "execute_result",
          "data": {
            "text/html": [
              "<div>\n",
              "<style scoped>\n",
              "    .dataframe tbody tr th:only-of-type {\n",
              "        vertical-align: middle;\n",
              "    }\n",
              "\n",
              "    .dataframe tbody tr th {\n",
              "        vertical-align: top;\n",
              "    }\n",
              "\n",
              "    .dataframe thead th {\n",
              "        text-align: right;\n",
              "    }\n",
              "</style>\n",
              "<table border=\"1\" class=\"dataframe\">\n",
              "  <thead>\n",
              "    <tr style=\"text-align: right;\">\n",
              "      <th></th>\n",
              "      <th>0</th>\n",
              "      <th>1</th>\n",
              "      <th>2</th>\n",
              "      <th>3</th>\n",
              "      <th>4</th>\n",
              "      <th>5</th>\n",
              "      <th>6</th>\n",
              "      <th>7</th>\n",
              "      <th>8</th>\n",
              "      <th>9</th>\n",
              "      <th>10</th>\n",
              "      <th>11</th>\n",
              "      <th>12</th>\n",
              "      <th>13</th>\n",
              "      <th>14</th>\n",
              "      <th>15</th>\n",
              "      <th>16</th>\n",
              "      <th>17</th>\n",
              "      <th>18</th>\n",
              "      <th>19</th>\n",
              "      <th>20</th>\n",
              "      <th>21</th>\n",
              "      <th>22</th>\n",
              "      <th>23</th>\n",
              "      <th>24</th>\n",
              "      <th>25</th>\n",
              "      <th>26</th>\n",
              "      <th>27</th>\n",
              "      <th>28</th>\n",
              "      <th>29</th>\n",
              "      <th>30</th>\n",
              "      <th>31</th>\n",
              "      <th>32</th>\n",
              "      <th>33</th>\n",
              "      <th>34</th>\n",
              "      <th>35</th>\n",
              "      <th>36</th>\n",
              "      <th>37</th>\n",
              "      <th>38</th>\n",
              "      <th>39</th>\n",
              "      <th>...</th>\n",
              "      <th>260</th>\n",
              "      <th>261</th>\n",
              "      <th>262</th>\n",
              "      <th>263</th>\n",
              "      <th>264</th>\n",
              "      <th>265</th>\n",
              "      <th>266</th>\n",
              "      <th>267</th>\n",
              "      <th>268</th>\n",
              "      <th>269</th>\n",
              "      <th>270</th>\n",
              "      <th>271</th>\n",
              "      <th>272</th>\n",
              "      <th>273</th>\n",
              "      <th>274</th>\n",
              "      <th>275</th>\n",
              "      <th>276</th>\n",
              "      <th>277</th>\n",
              "      <th>278</th>\n",
              "      <th>279</th>\n",
              "      <th>280</th>\n",
              "      <th>281</th>\n",
              "      <th>282</th>\n",
              "      <th>283</th>\n",
              "      <th>284</th>\n",
              "      <th>285</th>\n",
              "      <th>286</th>\n",
              "      <th>287</th>\n",
              "      <th>288</th>\n",
              "      <th>289</th>\n",
              "      <th>290</th>\n",
              "      <th>291</th>\n",
              "      <th>292</th>\n",
              "      <th>293</th>\n",
              "      <th>294</th>\n",
              "      <th>295</th>\n",
              "      <th>296</th>\n",
              "      <th>297</th>\n",
              "      <th>298</th>\n",
              "      <th>299</th>\n",
              "    </tr>\n",
              "  </thead>\n",
              "  <tbody>\n",
              "    <tr>\n",
              "      <th>autism</th>\n",
              "      <td>-0.577110</td>\n",
              "      <td>-0.047541</td>\n",
              "      <td>-0.346660</td>\n",
              "      <td>0.607970</td>\n",
              "      <td>-0.133210</td>\n",
              "      <td>-0.097940</td>\n",
              "      <td>-0.47797</td>\n",
              "      <td>-0.203540</td>\n",
              "      <td>0.263020</td>\n",
              "      <td>-0.26057</td>\n",
              "      <td>-0.228300</td>\n",
              "      <td>0.391980</td>\n",
              "      <td>-0.46936</td>\n",
              "      <td>-0.041414</td>\n",
              "      <td>0.285190</td>\n",
              "      <td>0.160070</td>\n",
              "      <td>-0.151940</td>\n",
              "      <td>-0.302390</td>\n",
              "      <td>-0.041395</td>\n",
              "      <td>-0.331850</td>\n",
              "      <td>-0.230280</td>\n",
              "      <td>0.234090</td>\n",
              "      <td>-0.617670</td>\n",
              "      <td>-0.594730</td>\n",
              "      <td>0.351140</td>\n",
              "      <td>0.283280</td>\n",
              "      <td>0.348130</td>\n",
              "      <td>-0.556030</td>\n",
              "      <td>-0.269270</td>\n",
              "      <td>-0.979110</td>\n",
              "      <td>0.230160</td>\n",
              "      <td>0.36616</td>\n",
              "      <td>-0.088943</td>\n",
              "      <td>0.54162</td>\n",
              "      <td>0.080725</td>\n",
              "      <td>-0.48510</td>\n",
              "      <td>-0.22343</td>\n",
              "      <td>0.158240</td>\n",
              "      <td>0.023828</td>\n",
              "      <td>-0.11906</td>\n",
              "      <td>...</td>\n",
              "      <td>-0.057573</td>\n",
              "      <td>-0.542400</td>\n",
              "      <td>-0.016148</td>\n",
              "      <td>0.238660</td>\n",
              "      <td>-0.396550</td>\n",
              "      <td>0.387950</td>\n",
              "      <td>0.304850</td>\n",
              "      <td>0.356470</td>\n",
              "      <td>0.216760</td>\n",
              "      <td>0.377740</td>\n",
              "      <td>0.338540</td>\n",
              "      <td>-0.084518</td>\n",
              "      <td>0.049732</td>\n",
              "      <td>-0.760300</td>\n",
              "      <td>0.083267</td>\n",
              "      <td>-0.580730</td>\n",
              "      <td>-0.673590</td>\n",
              "      <td>-0.204930</td>\n",
              "      <td>0.69077</td>\n",
              "      <td>0.094522</td>\n",
              "      <td>0.168610</td>\n",
              "      <td>-0.97052</td>\n",
              "      <td>-0.145160</td>\n",
              "      <td>0.624270</td>\n",
              "      <td>-0.223530</td>\n",
              "      <td>0.535260</td>\n",
              "      <td>-0.426380</td>\n",
              "      <td>0.213970</td>\n",
              "      <td>-0.62794</td>\n",
              "      <td>-0.015609</td>\n",
              "      <td>-0.260270</td>\n",
              "      <td>-0.573370</td>\n",
              "      <td>-0.528360</td>\n",
              "      <td>-0.021712</td>\n",
              "      <td>-0.000082</td>\n",
              "      <td>-0.471550</td>\n",
              "      <td>-0.034789</td>\n",
              "      <td>0.300500</td>\n",
              "      <td>0.365460</td>\n",
              "      <td>-0.945990</td>\n",
              "    </tr>\n",
              "    <tr>\n",
              "      <th>genetics</th>\n",
              "      <td>0.253350</td>\n",
              "      <td>-0.307480</td>\n",
              "      <td>0.398930</td>\n",
              "      <td>-0.031933</td>\n",
              "      <td>-0.108860</td>\n",
              "      <td>-0.237200</td>\n",
              "      <td>-0.74439</td>\n",
              "      <td>-0.518750</td>\n",
              "      <td>0.903140</td>\n",
              "      <td>-0.71643</td>\n",
              "      <td>0.511350</td>\n",
              "      <td>-0.422040</td>\n",
              "      <td>0.15115</td>\n",
              "      <td>0.085128</td>\n",
              "      <td>0.894900</td>\n",
              "      <td>-0.121530</td>\n",
              "      <td>0.670600</td>\n",
              "      <td>-0.138050</td>\n",
              "      <td>-0.614760</td>\n",
              "      <td>0.105960</td>\n",
              "      <td>-0.327120</td>\n",
              "      <td>-0.016876</td>\n",
              "      <td>0.114670</td>\n",
              "      <td>0.265710</td>\n",
              "      <td>0.176540</td>\n",
              "      <td>0.554200</td>\n",
              "      <td>0.744940</td>\n",
              "      <td>-0.260970</td>\n",
              "      <td>-0.559610</td>\n",
              "      <td>-0.796200</td>\n",
              "      <td>0.212070</td>\n",
              "      <td>-0.47206</td>\n",
              "      <td>-0.405860</td>\n",
              "      <td>0.29869</td>\n",
              "      <td>0.337000</td>\n",
              "      <td>0.21520</td>\n",
              "      <td>0.12606</td>\n",
              "      <td>0.496880</td>\n",
              "      <td>-1.082700</td>\n",
              "      <td>-0.54738</td>\n",
              "      <td>...</td>\n",
              "      <td>0.250900</td>\n",
              "      <td>-0.440100</td>\n",
              "      <td>0.173110</td>\n",
              "      <td>-0.282480</td>\n",
              "      <td>-0.064851</td>\n",
              "      <td>0.029397</td>\n",
              "      <td>-0.175000</td>\n",
              "      <td>0.466380</td>\n",
              "      <td>-0.019494</td>\n",
              "      <td>0.486290</td>\n",
              "      <td>0.106870</td>\n",
              "      <td>-0.200090</td>\n",
              "      <td>-0.373400</td>\n",
              "      <td>-0.635810</td>\n",
              "      <td>0.177980</td>\n",
              "      <td>-0.024251</td>\n",
              "      <td>0.033523</td>\n",
              "      <td>0.131890</td>\n",
              "      <td>0.33499</td>\n",
              "      <td>-0.482150</td>\n",
              "      <td>-0.581870</td>\n",
              "      <td>-0.45027</td>\n",
              "      <td>0.448570</td>\n",
              "      <td>0.481270</td>\n",
              "      <td>-0.167020</td>\n",
              "      <td>-0.299960</td>\n",
              "      <td>0.021929</td>\n",
              "      <td>0.130850</td>\n",
              "      <td>0.42753</td>\n",
              "      <td>-0.221610</td>\n",
              "      <td>0.073924</td>\n",
              "      <td>-0.854570</td>\n",
              "      <td>0.245100</td>\n",
              "      <td>0.047740</td>\n",
              "      <td>0.114970</td>\n",
              "      <td>0.123130</td>\n",
              "      <td>0.568150</td>\n",
              "      <td>0.327580</td>\n",
              "      <td>0.091366</td>\n",
              "      <td>0.057238</td>\n",
              "    </tr>\n",
              "    <tr>\n",
              "      <th>phase</th>\n",
              "      <td>0.015768</td>\n",
              "      <td>0.599800</td>\n",
              "      <td>0.022085</td>\n",
              "      <td>-0.054721</td>\n",
              "      <td>0.403730</td>\n",
              "      <td>0.037821</td>\n",
              "      <td>0.10540</td>\n",
              "      <td>-0.009565</td>\n",
              "      <td>0.117470</td>\n",
              "      <td>-1.56670</td>\n",
              "      <td>0.046372</td>\n",
              "      <td>-0.355010</td>\n",
              "      <td>-0.23051</td>\n",
              "      <td>-0.238830</td>\n",
              "      <td>0.401980</td>\n",
              "      <td>0.027941</td>\n",
              "      <td>-0.469510</td>\n",
              "      <td>-0.495720</td>\n",
              "      <td>0.134900</td>\n",
              "      <td>-0.007445</td>\n",
              "      <td>-0.182880</td>\n",
              "      <td>-0.502920</td>\n",
              "      <td>-0.009797</td>\n",
              "      <td>0.282450</td>\n",
              "      <td>0.081191</td>\n",
              "      <td>-0.198050</td>\n",
              "      <td>-0.076013</td>\n",
              "      <td>-0.330350</td>\n",
              "      <td>-0.290580</td>\n",
              "      <td>0.091952</td>\n",
              "      <td>0.181030</td>\n",
              "      <td>0.23564</td>\n",
              "      <td>-0.002848</td>\n",
              "      <td>0.29937</td>\n",
              "      <td>-0.010066</td>\n",
              "      <td>0.93563</td>\n",
              "      <td>-0.27732</td>\n",
              "      <td>0.069571</td>\n",
              "      <td>0.227640</td>\n",
              "      <td>0.55808</td>\n",
              "      <td>...</td>\n",
              "      <td>0.418440</td>\n",
              "      <td>0.235090</td>\n",
              "      <td>0.390370</td>\n",
              "      <td>-0.038814</td>\n",
              "      <td>0.350840</td>\n",
              "      <td>0.115450</td>\n",
              "      <td>-0.241420</td>\n",
              "      <td>-0.122330</td>\n",
              "      <td>0.910000</td>\n",
              "      <td>0.275900</td>\n",
              "      <td>0.684320</td>\n",
              "      <td>0.121910</td>\n",
              "      <td>-0.173400</td>\n",
              "      <td>0.135250</td>\n",
              "      <td>0.433620</td>\n",
              "      <td>0.159510</td>\n",
              "      <td>-1.585900</td>\n",
              "      <td>0.062732</td>\n",
              "      <td>0.51973</td>\n",
              "      <td>-0.235250</td>\n",
              "      <td>-0.499090</td>\n",
              "      <td>-0.40660</td>\n",
              "      <td>-0.094308</td>\n",
              "      <td>-0.113800</td>\n",
              "      <td>0.259930</td>\n",
              "      <td>0.276010</td>\n",
              "      <td>-0.103620</td>\n",
              "      <td>-0.222150</td>\n",
              "      <td>-0.76629</td>\n",
              "      <td>-0.128430</td>\n",
              "      <td>-0.537030</td>\n",
              "      <td>-0.151400</td>\n",
              "      <td>-0.164810</td>\n",
              "      <td>0.153770</td>\n",
              "      <td>0.768030</td>\n",
              "      <td>0.839280</td>\n",
              "      <td>-0.131770</td>\n",
              "      <td>-0.035794</td>\n",
              "      <td>0.212860</td>\n",
              "      <td>-0.059031</td>\n",
              "    </tr>\n",
              "    <tr>\n",
              "      <th>ii</th>\n",
              "      <td>-0.376750</td>\n",
              "      <td>0.383030</td>\n",
              "      <td>0.294160</td>\n",
              "      <td>-0.389710</td>\n",
              "      <td>0.389710</td>\n",
              "      <td>0.209050</td>\n",
              "      <td>-0.10193</td>\n",
              "      <td>0.090303</td>\n",
              "      <td>-0.157130</td>\n",
              "      <td>-1.75790</td>\n",
              "      <td>0.271880</td>\n",
              "      <td>0.004924</td>\n",
              "      <td>0.22892</td>\n",
              "      <td>-0.434630</td>\n",
              "      <td>-0.121710</td>\n",
              "      <td>-0.400790</td>\n",
              "      <td>0.091403</td>\n",
              "      <td>-0.205750</td>\n",
              "      <td>-0.008451</td>\n",
              "      <td>0.096789</td>\n",
              "      <td>-0.321250</td>\n",
              "      <td>0.225690</td>\n",
              "      <td>0.014921</td>\n",
              "      <td>0.216990</td>\n",
              "      <td>0.380060</td>\n",
              "      <td>-0.307520</td>\n",
              "      <td>-0.271880</td>\n",
              "      <td>-0.129650</td>\n",
              "      <td>-0.065702</td>\n",
              "      <td>-0.021156</td>\n",
              "      <td>0.271920</td>\n",
              "      <td>0.16984</td>\n",
              "      <td>0.107750</td>\n",
              "      <td>0.27067</td>\n",
              "      <td>0.131420</td>\n",
              "      <td>-0.36830</td>\n",
              "      <td>0.17491</td>\n",
              "      <td>-0.339880</td>\n",
              "      <td>0.591890</td>\n",
              "      <td>0.36542</td>\n",
              "      <td>...</td>\n",
              "      <td>0.297240</td>\n",
              "      <td>-0.060975</td>\n",
              "      <td>0.278590</td>\n",
              "      <td>0.334400</td>\n",
              "      <td>0.255390</td>\n",
              "      <td>-0.084330</td>\n",
              "      <td>-0.950630</td>\n",
              "      <td>-0.737240</td>\n",
              "      <td>0.520450</td>\n",
              "      <td>0.181780</td>\n",
              "      <td>-0.068716</td>\n",
              "      <td>-0.026382</td>\n",
              "      <td>0.721900</td>\n",
              "      <td>-0.048384</td>\n",
              "      <td>-0.201790</td>\n",
              "      <td>-0.223150</td>\n",
              "      <td>-1.257400</td>\n",
              "      <td>0.149580</td>\n",
              "      <td>0.43584</td>\n",
              "      <td>-0.134260</td>\n",
              "      <td>0.087242</td>\n",
              "      <td>-0.13997</td>\n",
              "      <td>-0.361550</td>\n",
              "      <td>-0.544510</td>\n",
              "      <td>0.341250</td>\n",
              "      <td>0.303700</td>\n",
              "      <td>-1.205600</td>\n",
              "      <td>0.312840</td>\n",
              "      <td>-0.13117</td>\n",
              "      <td>-0.237400</td>\n",
              "      <td>-0.391910</td>\n",
              "      <td>-0.412170</td>\n",
              "      <td>-0.293060</td>\n",
              "      <td>0.140140</td>\n",
              "      <td>-0.161770</td>\n",
              "      <td>0.127280</td>\n",
              "      <td>0.689210</td>\n",
              "      <td>-0.253540</td>\n",
              "      <td>0.078182</td>\n",
              "      <td>0.055427</td>\n",
              "    </tr>\n",
              "    <tr>\n",
              "      <th>increasing</th>\n",
              "      <td>-0.134530</td>\n",
              "      <td>0.295830</td>\n",
              "      <td>0.739490</td>\n",
              "      <td>0.019929</td>\n",
              "      <td>-0.052267</td>\n",
              "      <td>0.163250</td>\n",
              "      <td>0.33411</td>\n",
              "      <td>0.011699</td>\n",
              "      <td>0.185400</td>\n",
              "      <td>-2.25440</td>\n",
              "      <td>-0.003438</td>\n",
              "      <td>-0.048645</td>\n",
              "      <td>-0.26291</td>\n",
              "      <td>0.246260</td>\n",
              "      <td>-0.233380</td>\n",
              "      <td>-0.375170</td>\n",
              "      <td>0.083055</td>\n",
              "      <td>-0.137560</td>\n",
              "      <td>-0.395490</td>\n",
              "      <td>-0.134710</td>\n",
              "      <td>-0.242500</td>\n",
              "      <td>-0.300550</td>\n",
              "      <td>-0.317640</td>\n",
              "      <td>0.030081</td>\n",
              "      <td>-0.202960</td>\n",
              "      <td>0.234630</td>\n",
              "      <td>0.480210</td>\n",
              "      <td>0.207310</td>\n",
              "      <td>-0.502850</td>\n",
              "      <td>0.369070</td>\n",
              "      <td>-0.071993</td>\n",
              "      <td>-0.12256</td>\n",
              "      <td>-0.791060</td>\n",
              "      <td>-0.22490</td>\n",
              "      <td>-0.479160</td>\n",
              "      <td>-0.35744</td>\n",
              "      <td>-0.39381</td>\n",
              "      <td>-0.404290</td>\n",
              "      <td>0.082902</td>\n",
              "      <td>0.11331</td>\n",
              "      <td>...</td>\n",
              "      <td>-0.017463</td>\n",
              "      <td>-0.312970</td>\n",
              "      <td>-0.182270</td>\n",
              "      <td>0.041278</td>\n",
              "      <td>-0.081236</td>\n",
              "      <td>-0.235340</td>\n",
              "      <td>0.020008</td>\n",
              "      <td>0.055745</td>\n",
              "      <td>-0.529330</td>\n",
              "      <td>-0.087599</td>\n",
              "      <td>0.059386</td>\n",
              "      <td>0.607620</td>\n",
              "      <td>-0.641320</td>\n",
              "      <td>-0.424340</td>\n",
              "      <td>0.018373</td>\n",
              "      <td>-0.052507</td>\n",
              "      <td>-1.701100</td>\n",
              "      <td>0.129630</td>\n",
              "      <td>0.64425</td>\n",
              "      <td>0.056107</td>\n",
              "      <td>-0.380490</td>\n",
              "      <td>-0.20930</td>\n",
              "      <td>-0.235240</td>\n",
              "      <td>-0.004329</td>\n",
              "      <td>-0.057385</td>\n",
              "      <td>-0.272690</td>\n",
              "      <td>-0.171770</td>\n",
              "      <td>0.028503</td>\n",
              "      <td>0.51183</td>\n",
              "      <td>0.185190</td>\n",
              "      <td>-0.230640</td>\n",
              "      <td>0.039512</td>\n",
              "      <td>-0.086755</td>\n",
              "      <td>-0.217790</td>\n",
              "      <td>0.207670</td>\n",
              "      <td>0.609320</td>\n",
              "      <td>-0.350780</td>\n",
              "      <td>-0.214900</td>\n",
              "      <td>0.031386</td>\n",
              "      <td>-0.780910</td>\n",
              "    </tr>\n",
              "    <tr>\n",
              "      <th>representation</th>\n",
              "      <td>-0.383600</td>\n",
              "      <td>-0.147260</td>\n",
              "      <td>0.185460</td>\n",
              "      <td>-0.397940</td>\n",
              "      <td>0.309840</td>\n",
              "      <td>-0.200670</td>\n",
              "      <td>0.25779</td>\n",
              "      <td>0.568780</td>\n",
              "      <td>0.057397</td>\n",
              "      <td>-1.41320</td>\n",
              "      <td>-0.168060</td>\n",
              "      <td>0.021235</td>\n",
              "      <td>-0.13592</td>\n",
              "      <td>0.487310</td>\n",
              "      <td>-0.035259</td>\n",
              "      <td>-0.309060</td>\n",
              "      <td>-0.128460</td>\n",
              "      <td>0.198980</td>\n",
              "      <td>-0.212940</td>\n",
              "      <td>-0.265080</td>\n",
              "      <td>-0.167660</td>\n",
              "      <td>-0.258850</td>\n",
              "      <td>-0.201090</td>\n",
              "      <td>-0.151380</td>\n",
              "      <td>0.376310</td>\n",
              "      <td>0.119410</td>\n",
              "      <td>-0.066550</td>\n",
              "      <td>-0.098476</td>\n",
              "      <td>-0.494010</td>\n",
              "      <td>0.514530</td>\n",
              "      <td>-0.363390</td>\n",
              "      <td>0.10123</td>\n",
              "      <td>-0.198480</td>\n",
              "      <td>0.22832</td>\n",
              "      <td>-0.203580</td>\n",
              "      <td>0.43821</td>\n",
              "      <td>0.66784</td>\n",
              "      <td>-0.254130</td>\n",
              "      <td>-0.006386</td>\n",
              "      <td>0.17882</td>\n",
              "      <td>...</td>\n",
              "      <td>-0.077742</td>\n",
              "      <td>-0.222790</td>\n",
              "      <td>0.719140</td>\n",
              "      <td>0.324670</td>\n",
              "      <td>-0.209130</td>\n",
              "      <td>-0.252350</td>\n",
              "      <td>0.194680</td>\n",
              "      <td>-0.344530</td>\n",
              "      <td>0.472970</td>\n",
              "      <td>0.357380</td>\n",
              "      <td>-0.445400</td>\n",
              "      <td>0.177690</td>\n",
              "      <td>-0.208420</td>\n",
              "      <td>-0.480000</td>\n",
              "      <td>-0.058492</td>\n",
              "      <td>0.201500</td>\n",
              "      <td>-0.888940</td>\n",
              "      <td>0.191780</td>\n",
              "      <td>1.12200</td>\n",
              "      <td>0.240430</td>\n",
              "      <td>-0.360540</td>\n",
              "      <td>-0.56858</td>\n",
              "      <td>-0.206370</td>\n",
              "      <td>-0.295390</td>\n",
              "      <td>0.062915</td>\n",
              "      <td>0.098174</td>\n",
              "      <td>0.544610</td>\n",
              "      <td>0.317450</td>\n",
              "      <td>0.27259</td>\n",
              "      <td>-0.024776</td>\n",
              "      <td>0.183760</td>\n",
              "      <td>-0.525000</td>\n",
              "      <td>-0.149860</td>\n",
              "      <td>-0.692090</td>\n",
              "      <td>0.399670</td>\n",
              "      <td>0.299860</td>\n",
              "      <td>-0.127530</td>\n",
              "      <td>-0.148030</td>\n",
              "      <td>0.274080</td>\n",
              "      <td>-0.364210</td>\n",
              "    </tr>\n",
              "    <tr>\n",
              "      <th>of</th>\n",
              "      <td>-0.076947</td>\n",
              "      <td>-0.021211</td>\n",
              "      <td>0.212710</td>\n",
              "      <td>-0.722320</td>\n",
              "      <td>-0.139880</td>\n",
              "      <td>-0.122340</td>\n",
              "      <td>-0.17521</td>\n",
              "      <td>0.121370</td>\n",
              "      <td>-0.070866</td>\n",
              "      <td>-1.57210</td>\n",
              "      <td>-0.224640</td>\n",
              "      <td>0.042690</td>\n",
              "      <td>-0.40180</td>\n",
              "      <td>0.210060</td>\n",
              "      <td>0.014288</td>\n",
              "      <td>0.416280</td>\n",
              "      <td>0.017165</td>\n",
              "      <td>0.071732</td>\n",
              "      <td>0.006925</td>\n",
              "      <td>0.181070</td>\n",
              "      <td>-0.154120</td>\n",
              "      <td>0.149330</td>\n",
              "      <td>-0.030493</td>\n",
              "      <td>0.299180</td>\n",
              "      <td>0.029479</td>\n",
              "      <td>-0.036147</td>\n",
              "      <td>-0.061125</td>\n",
              "      <td>0.083918</td>\n",
              "      <td>-0.123980</td>\n",
              "      <td>-0.100770</td>\n",
              "      <td>-0.005414</td>\n",
              "      <td>0.33710</td>\n",
              "      <td>-0.256120</td>\n",
              "      <td>0.44388</td>\n",
              "      <td>-0.689220</td>\n",
              "      <td>0.18020</td>\n",
              "      <td>0.34898</td>\n",
              "      <td>-0.052284</td>\n",
              "      <td>-0.262260</td>\n",
              "      <td>-0.47109</td>\n",
              "      <td>...</td>\n",
              "      <td>0.467280</td>\n",
              "      <td>0.482140</td>\n",
              "      <td>0.105480</td>\n",
              "      <td>0.065805</td>\n",
              "      <td>0.067221</td>\n",
              "      <td>0.133210</td>\n",
              "      <td>-0.278560</td>\n",
              "      <td>0.015532</td>\n",
              "      <td>0.300260</td>\n",
              "      <td>0.387480</td>\n",
              "      <td>-0.144010</td>\n",
              "      <td>-0.161310</td>\n",
              "      <td>0.176780</td>\n",
              "      <td>0.164480</td>\n",
              "      <td>-0.324400</td>\n",
              "      <td>0.007937</td>\n",
              "      <td>-2.283600</td>\n",
              "      <td>0.096945</td>\n",
              "      <td>0.66131</td>\n",
              "      <td>0.168570</td>\n",
              "      <td>-0.028877</td>\n",
              "      <td>-0.10791</td>\n",
              "      <td>-0.027445</td>\n",
              "      <td>-0.256950</td>\n",
              "      <td>0.046686</td>\n",
              "      <td>0.230870</td>\n",
              "      <td>-0.076458</td>\n",
              "      <td>0.271270</td>\n",
              "      <td>0.25185</td>\n",
              "      <td>0.054947</td>\n",
              "      <td>-0.366730</td>\n",
              "      <td>-0.386030</td>\n",
              "      <td>0.302900</td>\n",
              "      <td>0.015747</td>\n",
              "      <td>0.340360</td>\n",
              "      <td>0.478410</td>\n",
              "      <td>0.068617</td>\n",
              "      <td>0.183510</td>\n",
              "      <td>-0.291830</td>\n",
              "      <td>-0.046533</td>\n",
              "    </tr>\n",
              "    <tr>\n",
              "      <th>human</th>\n",
              "      <td>0.166080</td>\n",
              "      <td>0.316700</td>\n",
              "      <td>-0.582490</td>\n",
              "      <td>-0.309780</td>\n",
              "      <td>-0.043342</td>\n",
              "      <td>-0.279020</td>\n",
              "      <td>-0.22359</td>\n",
              "      <td>0.158220</td>\n",
              "      <td>0.142040</td>\n",
              "      <td>-2.55460</td>\n",
              "      <td>0.145700</td>\n",
              "      <td>-0.243350</td>\n",
              "      <td>-0.79048</td>\n",
              "      <td>-0.070345</td>\n",
              "      <td>0.036125</td>\n",
              "      <td>0.086590</td>\n",
              "      <td>0.791280</td>\n",
              "      <td>0.883660</td>\n",
              "      <td>-0.387600</td>\n",
              "      <td>-0.253630</td>\n",
              "      <td>-0.218930</td>\n",
              "      <td>0.294160</td>\n",
              "      <td>-0.101710</td>\n",
              "      <td>0.131250</td>\n",
              "      <td>0.178970</td>\n",
              "      <td>0.586970</td>\n",
              "      <td>0.988800</td>\n",
              "      <td>0.139270</td>\n",
              "      <td>0.407960</td>\n",
              "      <td>0.010456</td>\n",
              "      <td>0.008677</td>\n",
              "      <td>0.51483</td>\n",
              "      <td>-1.112100</td>\n",
              "      <td>-0.51464</td>\n",
              "      <td>0.096359</td>\n",
              "      <td>0.18087</td>\n",
              "      <td>0.33565</td>\n",
              "      <td>0.244910</td>\n",
              "      <td>-0.239700</td>\n",
              "      <td>-0.36623</td>\n",
              "      <td>...</td>\n",
              "      <td>-0.067492</td>\n",
              "      <td>-0.376200</td>\n",
              "      <td>0.425360</td>\n",
              "      <td>0.102340</td>\n",
              "      <td>0.197310</td>\n",
              "      <td>0.398490</td>\n",
              "      <td>-0.269600</td>\n",
              "      <td>0.409590</td>\n",
              "      <td>-0.537880</td>\n",
              "      <td>0.422950</td>\n",
              "      <td>0.216510</td>\n",
              "      <td>0.377720</td>\n",
              "      <td>0.322950</td>\n",
              "      <td>0.245700</td>\n",
              "      <td>0.009523</td>\n",
              "      <td>0.364730</td>\n",
              "      <td>-2.020000</td>\n",
              "      <td>-0.225430</td>\n",
              "      <td>0.67088</td>\n",
              "      <td>-0.188700</td>\n",
              "      <td>-0.213370</td>\n",
              "      <td>-0.73625</td>\n",
              "      <td>0.555940</td>\n",
              "      <td>0.280030</td>\n",
              "      <td>-0.518770</td>\n",
              "      <td>-0.061657</td>\n",
              "      <td>0.158360</td>\n",
              "      <td>0.280190</td>\n",
              "      <td>0.24515</td>\n",
              "      <td>0.177780</td>\n",
              "      <td>-0.333450</td>\n",
              "      <td>-0.688020</td>\n",
              "      <td>-0.195560</td>\n",
              "      <td>-0.111320</td>\n",
              "      <td>0.109250</td>\n",
              "      <td>0.382880</td>\n",
              "      <td>-0.279350</td>\n",
              "      <td>0.240130</td>\n",
              "      <td>0.088691</td>\n",
              "      <td>0.046489</td>\n",
              "    </tr>\n",
              "    <tr>\n",
              "      <th>diversity</th>\n",
              "      <td>0.145330</td>\n",
              "      <td>0.122620</td>\n",
              "      <td>-0.216710</td>\n",
              "      <td>-0.099436</td>\n",
              "      <td>-0.353190</td>\n",
              "      <td>0.617880</td>\n",
              "      <td>0.11485</td>\n",
              "      <td>0.124170</td>\n",
              "      <td>0.475600</td>\n",
              "      <td>-1.22700</td>\n",
              "      <td>0.515310</td>\n",
              "      <td>0.090027</td>\n",
              "      <td>-0.70289</td>\n",
              "      <td>0.143010</td>\n",
              "      <td>-0.045038</td>\n",
              "      <td>-0.541830</td>\n",
              "      <td>0.505090</td>\n",
              "      <td>0.455960</td>\n",
              "      <td>-0.451410</td>\n",
              "      <td>0.027084</td>\n",
              "      <td>-0.017428</td>\n",
              "      <td>0.351890</td>\n",
              "      <td>-0.213890</td>\n",
              "      <td>0.072305</td>\n",
              "      <td>-0.114290</td>\n",
              "      <td>0.319900</td>\n",
              "      <td>-0.196100</td>\n",
              "      <td>-0.067928</td>\n",
              "      <td>-0.830760</td>\n",
              "      <td>-0.127260</td>\n",
              "      <td>0.012660</td>\n",
              "      <td>-0.16792</td>\n",
              "      <td>-1.109800</td>\n",
              "      <td>-0.45947</td>\n",
              "      <td>-0.276920</td>\n",
              "      <td>0.10540</td>\n",
              "      <td>0.48139</td>\n",
              "      <td>-0.452140</td>\n",
              "      <td>-0.119940</td>\n",
              "      <td>-0.50569</td>\n",
              "      <td>...</td>\n",
              "      <td>0.347000</td>\n",
              "      <td>-0.038820</td>\n",
              "      <td>0.376580</td>\n",
              "      <td>0.167620</td>\n",
              "      <td>-0.127880</td>\n",
              "      <td>-0.467270</td>\n",
              "      <td>-0.178470</td>\n",
              "      <td>0.654280</td>\n",
              "      <td>0.067542</td>\n",
              "      <td>-0.015990</td>\n",
              "      <td>-0.522190</td>\n",
              "      <td>0.104390</td>\n",
              "      <td>-0.247180</td>\n",
              "      <td>0.089896</td>\n",
              "      <td>0.032772</td>\n",
              "      <td>-0.382790</td>\n",
              "      <td>-0.767850</td>\n",
              "      <td>0.752250</td>\n",
              "      <td>0.86408</td>\n",
              "      <td>-0.049880</td>\n",
              "      <td>-0.482630</td>\n",
              "      <td>-0.35205</td>\n",
              "      <td>-0.283410</td>\n",
              "      <td>0.283960</td>\n",
              "      <td>-0.327390</td>\n",
              "      <td>-0.449380</td>\n",
              "      <td>-0.130510</td>\n",
              "      <td>-0.092105</td>\n",
              "      <td>0.65522</td>\n",
              "      <td>-0.375630</td>\n",
              "      <td>0.287550</td>\n",
              "      <td>-0.417830</td>\n",
              "      <td>-0.215960</td>\n",
              "      <td>0.310960</td>\n",
              "      <td>-0.087848</td>\n",
              "      <td>0.048528</td>\n",
              "      <td>-0.084540</td>\n",
              "      <td>0.255620</td>\n",
              "      <td>-0.003264</td>\n",
              "      <td>-0.327470</td>\n",
              "    </tr>\n",
              "  </tbody>\n",
              "</table>\n",
              "<p>9 rows × 300 columns</p>\n",
              "</div>"
            ],
            "text/plain": [
              "                     0         1         2    ...       297       298       299\n",
              "autism         -0.577110 -0.047541 -0.346660  ...  0.300500  0.365460 -0.945990\n",
              "genetics        0.253350 -0.307480  0.398930  ...  0.327580  0.091366  0.057238\n",
              "phase           0.015768  0.599800  0.022085  ... -0.035794  0.212860 -0.059031\n",
              "ii             -0.376750  0.383030  0.294160  ... -0.253540  0.078182  0.055427\n",
              "increasing     -0.134530  0.295830  0.739490  ... -0.214900  0.031386 -0.780910\n",
              "representation -0.383600 -0.147260  0.185460  ... -0.148030  0.274080 -0.364210\n",
              "of             -0.076947 -0.021211  0.212710  ...  0.183510 -0.291830 -0.046533\n",
              "human           0.166080  0.316700 -0.582490  ...  0.240130  0.088691  0.046489\n",
              "diversity       0.145330  0.122620 -0.216710  ...  0.255620 -0.003264 -0.327470\n",
              "\n",
              "[9 rows x 300 columns]"
            ]
          },
          "metadata": {
            "tags": []
          },
          "execution_count": 62
        }
      ]
    },
    {
      "cell_type": "markdown",
      "metadata": {
        "id": "L1frIsIr8c-3",
        "colab_type": "text"
      },
      "source": [
        "### average the embeddings as a simple example of how to combine embeddings\n",
        "\n",
        "[A Simple but Tough-To-Beat Baseline for Sentence Embeddings](https://openreview.net/pdf?id=SyK00v5xx):\n",
        "Sanjeev Arora, Yingyu Liang, Tengyu Ma \n",
        "\n"
      ]
    },
    {
      "cell_type": "code",
      "metadata": {
        "id": "DH_nA0-P8c-3",
        "colab_type": "code",
        "outputId": "e55dd480-dd9a-4694-ed01-b4ffbde1f9a0",
        "colab": {
          "base_uri": "https://localhost:8080/",
          "height": 129
        }
      },
      "source": [
        "pd.DataFrame(sentence_embedding.mean()).T"
      ],
      "execution_count": 63,
      "outputs": [
        {
          "output_type": "execute_result",
          "data": {
            "text/html": [
              "<div>\n",
              "<style scoped>\n",
              "    .dataframe tbody tr th:only-of-type {\n",
              "        vertical-align: middle;\n",
              "    }\n",
              "\n",
              "    .dataframe tbody tr th {\n",
              "        vertical-align: top;\n",
              "    }\n",
              "\n",
              "    .dataframe thead th {\n",
              "        text-align: right;\n",
              "    }\n",
              "</style>\n",
              "<table border=\"1\" class=\"dataframe\">\n",
              "  <thead>\n",
              "    <tr style=\"text-align: right;\">\n",
              "      <th></th>\n",
              "      <th>0</th>\n",
              "      <th>1</th>\n",
              "      <th>2</th>\n",
              "      <th>3</th>\n",
              "      <th>4</th>\n",
              "      <th>5</th>\n",
              "      <th>6</th>\n",
              "      <th>7</th>\n",
              "      <th>8</th>\n",
              "      <th>9</th>\n",
              "      <th>10</th>\n",
              "      <th>11</th>\n",
              "      <th>12</th>\n",
              "      <th>13</th>\n",
              "      <th>14</th>\n",
              "      <th>15</th>\n",
              "      <th>16</th>\n",
              "      <th>17</th>\n",
              "      <th>18</th>\n",
              "      <th>19</th>\n",
              "      <th>20</th>\n",
              "      <th>21</th>\n",
              "      <th>22</th>\n",
              "      <th>23</th>\n",
              "      <th>24</th>\n",
              "      <th>25</th>\n",
              "      <th>26</th>\n",
              "      <th>27</th>\n",
              "      <th>28</th>\n",
              "      <th>29</th>\n",
              "      <th>30</th>\n",
              "      <th>31</th>\n",
              "      <th>32</th>\n",
              "      <th>33</th>\n",
              "      <th>34</th>\n",
              "      <th>35</th>\n",
              "      <th>36</th>\n",
              "      <th>37</th>\n",
              "      <th>38</th>\n",
              "      <th>39</th>\n",
              "      <th>...</th>\n",
              "      <th>260</th>\n",
              "      <th>261</th>\n",
              "      <th>262</th>\n",
              "      <th>263</th>\n",
              "      <th>264</th>\n",
              "      <th>265</th>\n",
              "      <th>266</th>\n",
              "      <th>267</th>\n",
              "      <th>268</th>\n",
              "      <th>269</th>\n",
              "      <th>270</th>\n",
              "      <th>271</th>\n",
              "      <th>272</th>\n",
              "      <th>273</th>\n",
              "      <th>274</th>\n",
              "      <th>275</th>\n",
              "      <th>276</th>\n",
              "      <th>277</th>\n",
              "      <th>278</th>\n",
              "      <th>279</th>\n",
              "      <th>280</th>\n",
              "      <th>281</th>\n",
              "      <th>282</th>\n",
              "      <th>283</th>\n",
              "      <th>284</th>\n",
              "      <th>285</th>\n",
              "      <th>286</th>\n",
              "      <th>287</th>\n",
              "      <th>288</th>\n",
              "      <th>289</th>\n",
              "      <th>290</th>\n",
              "      <th>291</th>\n",
              "      <th>292</th>\n",
              "      <th>293</th>\n",
              "      <th>294</th>\n",
              "      <th>295</th>\n",
              "      <th>296</th>\n",
              "      <th>297</th>\n",
              "      <th>298</th>\n",
              "      <th>299</th>\n",
              "    </tr>\n",
              "  </thead>\n",
              "  <tbody>\n",
              "    <tr>\n",
              "      <th>0</th>\n",
              "      <td>-0.107601</td>\n",
              "      <td>0.132721</td>\n",
              "      <td>0.078553</td>\n",
              "      <td>-0.153105</td>\n",
              "      <td>0.030281</td>\n",
              "      <td>0.010092</td>\n",
              "      <td>-0.101216</td>\n",
              "      <td>0.038076</td>\n",
              "      <td>0.212897</td>\n",
              "      <td>-1.480322</td>\n",
              "      <td>0.096241</td>\n",
              "      <td>-0.057577</td>\n",
              "      <td>-0.290422</td>\n",
              "      <td>0.04295</td>\n",
              "      <td>0.133011</td>\n",
              "      <td>-0.1175</td>\n",
              "      <td>0.15652</td>\n",
              "      <td>0.036762</td>\n",
              "      <td>-0.218914</td>\n",
              "      <td>-0.064646</td>\n",
              "      <td>-0.206908</td>\n",
              "      <td>0.019552</td>\n",
              "      <td>-0.151411</td>\n",
              "      <td>0.061317</td>\n",
              "      <td>0.139604</td>\n",
              "      <td>0.172964</td>\n",
              "      <td>0.210046</td>\n",
              "      <td>-0.112545</td>\n",
              "      <td>-0.3032</td>\n",
              "      <td>-0.115388</td>\n",
              "      <td>0.052858</td>\n",
              "      <td>0.106918</td>\n",
              "      <td>-0.428607</td>\n",
              "      <td>0.098171</td>\n",
              "      <td>-0.112605</td>\n",
              "      <td>0.093852</td>\n",
              "      <td>0.137808</td>\n",
              "      <td>-0.059236</td>\n",
              "      <td>-0.087192</td>\n",
              "      <td>-0.088202</td>\n",
              "      <td>...</td>\n",
              "      <td>0.173399</td>\n",
              "      <td>-0.141892</td>\n",
              "      <td>0.252246</td>\n",
              "      <td>0.105942</td>\n",
              "      <td>-0.000987</td>\n",
              "      <td>0.002801</td>\n",
              "      <td>-0.174905</td>\n",
              "      <td>0.083766</td>\n",
              "      <td>0.155698</td>\n",
              "      <td>0.265103</td>\n",
              "      <td>0.025034</td>\n",
              "      <td>0.101892</td>\n",
              "      <td>-0.041373</td>\n",
              "      <td>-0.19039</td>\n",
              "      <td>0.018984</td>\n",
              "      <td>-0.058861</td>\n",
              "      <td>-1.238317</td>\n",
              "      <td>0.120494</td>\n",
              "      <td>0.660428</td>\n",
              "      <td>-0.058957</td>\n",
              "      <td>-0.254557</td>\n",
              "      <td>-0.437939</td>\n",
              "      <td>-0.038775</td>\n",
              "      <td>0.050506</td>\n",
              "      <td>-0.064813</td>\n",
              "      <td>0.040036</td>\n",
              "      <td>-0.154382</td>\n",
              "      <td>0.137869</td>\n",
              "      <td>0.093197</td>\n",
              "      <td>-0.06506</td>\n",
              "      <td>-0.174977</td>\n",
              "      <td>-0.440986</td>\n",
              "      <td>-0.120707</td>\n",
              "      <td>-0.041617</td>\n",
              "      <td>0.187806</td>\n",
              "      <td>0.270793</td>\n",
              "      <td>0.035246</td>\n",
              "      <td>0.072786</td>\n",
              "      <td>0.094103</td>\n",
              "      <td>-0.262777</td>\n",
              "    </tr>\n",
              "  </tbody>\n",
              "</table>\n",
              "<p>1 rows × 300 columns</p>\n",
              "</div>"
            ],
            "text/plain": [
              "        0         1         2    ...       297       298       299\n",
              "0 -0.107601  0.132721  0.078553  ...  0.072786  0.094103 -0.262777\n",
              "\n",
              "[1 rows x 300 columns]"
            ]
          },
          "metadata": {
            "tags": []
          },
          "execution_count": 63
        }
      ]
    },
    {
      "cell_type": "code",
      "metadata": {
        "id": "HeIIYliz8c-5",
        "colab_type": "code",
        "colab": {}
      },
      "source": [
        "def create_embeddings_baseline(data_sequences):\n",
        "    \"\"\" create a baseline by averaging all the embeddings in a sentence. This provides a single\n",
        "    array to describe the document, which allows the use of standard statistical models (e.g. logistic regression)\n",
        "    \n",
        "    :param data_sequences: 2d-list, list of lists contains id mappings for words in a sentence \n",
        "    \"\"\"\n",
        "    \n",
        "    # store all averaged embeddings for all sentences\n",
        "    averaged_sentence_embeddings = []\n",
        "    \n",
        "    # iterate through all sentences\n",
        "    for sentence_sequence in data_sequences:\n",
        "        \n",
        "        # convert id sequence into embeddings for one sentence\n",
        "        embeddings = [] # store embedding of one sentence\n",
        "        for word_id in sentence_sequence:\n",
        "            embedding = embedding_matrix[word_id]\n",
        "            embeddings.append(embedding)\n",
        "\n",
        "        # average the embeddings of one sentence\n",
        "        avg_embeddings = pd.DataFrame(embeddings).mean().values\n",
        "        averaged_sentence_embeddings.append(avg_embeddings)\n",
        "\n",
        "    # store all averaged embeddings in a dataframe\n",
        "    avg_emb_df = pd.DataFrame(averaged_sentence_embeddings)\n",
        "    \n",
        "    return avg_emb_df"
      ],
      "execution_count": 0,
      "outputs": []
    },
    {
      "cell_type": "code",
      "metadata": {
        "id": "Pf7484Zv8c-6",
        "colab_type": "code",
        "outputId": "c87d1adc-66ec-4183-bca9-1eb8e82a8858",
        "colab": {
          "base_uri": "https://localhost:8080/",
          "height": 51
        }
      },
      "source": [
        "%%time\n",
        "\n",
        "X_train_avg_emb_df = create_embeddings_baseline(X_train_sequence)\n",
        "X_test_avg_emb_df = create_embeddings_baseline(X_test_sequence)\n",
        "\n",
        "X_train_avg_emb_df.head()"
      ],
      "execution_count": 0,
      "outputs": [
        {
          "output_type": "stream",
          "text": [
            "CPU times: user 13min 55s, sys: 1.23 s, total: 13min 56s\n",
            "Wall time: 13min 56s\n"
          ],
          "name": "stdout"
        }
      ]
    },
    {
      "cell_type": "code",
      "metadata": {
        "id": "ebSs-NV88c-8",
        "colab_type": "code",
        "outputId": "0361a345-f027-4b41-9d6e-f846f41558ed",
        "colab": {
          "base_uri": "https://localhost:8080/",
          "height": 51
        }
      },
      "source": [
        "# train model\n",
        "logreg = LogisticRegression(solver='lbfgs', max_iter=500, multi_class='auto')\n",
        "logreg.fit(X_train_avg_emb_df, y_train)\n",
        "\n",
        "# store predictions\n",
        "y_pred = logreg.predict(X_test_avg_emb_df)\n",
        "y_pred_proba = logreg.predict_proba(X_test_avg_emb_df)\n",
        "\n",
        "# evaluate model\n",
        "print(f'accuracy: {metrics.accuracy_score(y_test, y_pred)}')\n",
        "print(f'log loss (cross-entropy): {metrics.log_loss(y_test, y_pred_proba)}')"
      ],
      "execution_count": 0,
      "outputs": [
        {
          "output_type": "stream",
          "text": [
            "accuracy: 0.5921387132520696\n",
            "log loss (cross-entropy): 1.3373402787078061\n"
          ],
          "name": "stdout"
        }
      ]
    },
    {
      "cell_type": "markdown",
      "metadata": {
        "id": "iRHEf4Qs8c--",
        "colab_type": "text"
      },
      "source": [
        "# 3. load this embedding matrix into a Keras Embedding layer, set to be frozen "
      ]
    },
    {
      "cell_type": "code",
      "metadata": {
        "id": "HtoEVhO78c--",
        "colab_type": "code",
        "outputId": "623ac02f-2b7a-4999-8640-4054c66e8d0e",
        "colab": {
          "base_uri": "https://localhost:8080/",
          "height": 89
        }
      },
      "source": [
        "# define model\n",
        "model = Sequential()"
      ],
      "execution_count": 65,
      "outputs": [
        {
          "output_type": "stream",
          "text": [
            "WARNING: Logging before flag parsing goes to stderr.\n",
            "W0701 03:32:04.505017 140321397917568 deprecation_wrapper.py:119] From /usr/local/lib/python3.6/dist-packages/keras/backend/tensorflow_backend.py:74: The name tf.get_default_graph is deprecated. Please use tf.compat.v1.get_default_graph instead.\n",
            "\n"
          ],
          "name": "stderr"
        }
      ]
    },
    {
      "cell_type": "markdown",
      "metadata": {
        "id": "bIzK7knW8c-_",
        "colab_type": "text"
      },
      "source": [
        "##### Specifying the input shape\n",
        "\n",
        "The model needs to know what input shape it should expect. For this reason, the first layer in a Sequential model (and only the first, because following layers can do automatic shape inference) needs to receive information about its input shape. For an embedding layer, the input length is the number of tokens passed as input. The embedding itself has a size of (vocab_size * embedding_dimension_size)."
      ]
    },
    {
      "cell_type": "markdown",
      "metadata": {
        "id": "ZFr7xoXy8c_A",
        "colab_type": "text"
      },
      "source": [
        "### Embedding Layer"
      ]
    },
    {
      "cell_type": "code",
      "metadata": {
        "id": "Ud1KnK6q8c_B",
        "colab_type": "code",
        "outputId": "1c2cca5f-2628-4278-9076-df634c8e5b17",
        "colab": {
          "base_uri": "https://localhost:8080/",
          "height": 35
        }
      },
      "source": [
        "# reminder - number of words learned from the vocabulary\n",
        "vocab_size"
      ],
      "execution_count": 66,
      "outputs": [
        {
          "output_type": "execute_result",
          "data": {
            "text/plain": [
              "20439"
            ]
          },
          "metadata": {
            "tags": []
          },
          "execution_count": 66
        }
      ]
    },
    {
      "cell_type": "code",
      "metadata": {
        "id": "QfL0sss08c_D",
        "colab_type": "code",
        "colab": {}
      },
      "source": [
        "# create an embedding layer from the pre-trained embeddings\n",
        "e = Embedding(\n",
        "  input_dim=vocab_size,                             # input (valid vocabulary) size\n",
        "  output_dim=EMBEDDING_SIZE,                                    # output size (dimensionality of pre-trained embeddings)\n",
        "  input_length=MAX_SEQ_LENGTH,                      # Length of input sequences, when it is constant (max words allowed in a sentence)\n",
        "  embeddings_initializer=Constant(embedding_matrix),# add pre-trained embeddings\n",
        "  trainable=False                                   # prevent updates to the prtrained embeddings during model training\n",
        ")"
      ],
      "execution_count": 0,
      "outputs": []
    },
    {
      "cell_type": "code",
      "metadata": {
        "id": "JYvpRUmg8c_E",
        "colab_type": "code",
        "outputId": "65aaee48-577b-43ff-c2f3-146933af668b",
        "colab": {
          "base_uri": "https://localhost:8080/",
          "height": 72
        }
      },
      "source": [
        "# add embedding to the model\n",
        "model.add(e)"
      ],
      "execution_count": 68,
      "outputs": [
        {
          "output_type": "stream",
          "text": [
            "W0701 03:32:24.227131 140321397917568 deprecation_wrapper.py:119] From /usr/local/lib/python3.6/dist-packages/keras/backend/tensorflow_backend.py:517: The name tf.placeholder is deprecated. Please use tf.compat.v1.placeholder instead.\n",
            "\n"
          ],
          "name": "stderr"
        }
      ]
    },
    {
      "cell_type": "markdown",
      "metadata": {
        "id": "yv2xVYBf8c_F",
        "colab_type": "text"
      },
      "source": [
        "Keras offers an Embedding layer that can be used for neural networks on text data. It requires that the input data be integer encoded, so that each word is represented by a unique integer. This data preparation step can be performed using the Tokenizer API also provided with Keras.\n",
        "\n",
        "**The Embedding layer is initialized with random weights and will learn an embedding for all of the words in the training dataset.**\n",
        "\n",
        "It is a flexible layer that can be used in a variety of ways, such as:\n",
        "\n",
        "- It can be used alone to learn a word embedding that can be saved and used in another model later.\n",
        "- It can be used as part of a deep learning model where the embedding is learned along with the model itself.\n",
        "- It can be used to load a pre-trained word embedding model, a type of transfer learning.\n",
        "\n",
        "\n",
        "The Embedding layer is defined as the first hidden layer of a network. It must specify 3 arguments:\n",
        "\n",
        "\n",
        "- **input_dim**: This is the size of the vocabulary in the text data. For example, if your data is integer encoded to values between 0-10, then the size of the vocabulary would be 11 words.\n",
        "\n",
        "\n",
        "- **output_dim**: This is the size of the vector space in which words will be embedded. It defines the size of the output vectors from this layer for each word. For example, it could be 32 or 100 or even larger. Test different values for your problem.\n",
        "\n",
        "\n",
        "- **input_length**: This is the length of input sequences, as you would define for any input layer of a Keras model. For example, if all of your input documents are comprised of 1000 words, this would be 1000.\n",
        "For example, below we define an Embedding layer with a vocabulary of 200 (e.g. integer encoded words from 0 to 199, inclusive), a vector space of 32 dimensions in which words will be embedded, and input documents that have 50 words each.\n",
        "\n",
        "The Embedding layer has weights that are learned. If you save your model to file, this will include weights for the Embedding layer. The output of the Embedding layer is a 2D vector with one embedding for each word in the input sequence of words (input document).\n",
        "\n",
        "SOURCES: \n",
        "- https://machinelearningmastery.com/use-word-embedding-layers-deep-learning-keras/\n",
        "- https://keras.io/layers/embeddings/"
      ]
    },
    {
      "cell_type": "markdown",
      "metadata": {
        "id": "gppqV3BD8c_F",
        "colab_type": "text"
      },
      "source": [
        "### Flatten\n",
        "\n",
        "Use Flatten to convert a multidimensional tensor into a single 1-D tensor"
      ]
    },
    {
      "cell_type": "code",
      "metadata": {
        "id": "ur9c8yUN8c_G",
        "colab_type": "code",
        "colab": {}
      },
      "source": [
        "model.add(Flatten())"
      ],
      "execution_count": 0,
      "outputs": []
    },
    {
      "cell_type": "markdown",
      "metadata": {
        "id": "3bHBE0Yd8c_H",
        "colab_type": "text"
      },
      "source": [
        "##### Flatten example"
      ]
    },
    {
      "cell_type": "code",
      "metadata": {
        "id": "hmM3wQRs8c_H",
        "colab_type": "code",
        "outputId": "f6263c62-f1e2-406f-f489-2ddc4ca05a9e",
        "colab": {
          "base_uri": "https://localhost:8080/",
          "height": 35
        }
      },
      "source": [
        "print(np.arange(0,24))"
      ],
      "execution_count": 70,
      "outputs": [
        {
          "output_type": "stream",
          "text": [
            "[ 0  1  2  3  4  5  6  7  8  9 10 11 12 13 14 15 16 17 18 19 20 21 22 23]\n"
          ],
          "name": "stdout"
        }
      ]
    },
    {
      "cell_type": "code",
      "metadata": {
        "id": "A92kHiZ78c_L",
        "colab_type": "code",
        "outputId": "195c12d0-9861-4997-e2e2-421512c93fd1",
        "colab": {
          "base_uri": "https://localhost:8080/",
          "height": 156
        }
      },
      "source": [
        "X = np.arange(0,24).reshape(1,3,2,4)\n",
        "X"
      ],
      "execution_count": 71,
      "outputs": [
        {
          "output_type": "execute_result",
          "data": {
            "text/plain": [
              "array([[[[ 0,  1,  2,  3],\n",
              "         [ 4,  5,  6,  7]],\n",
              "\n",
              "        [[ 8,  9, 10, 11],\n",
              "         [12, 13, 14, 15]],\n",
              "\n",
              "        [[16, 17, 18, 19],\n",
              "         [20, 21, 22, 23]]]])"
            ]
          },
          "metadata": {
            "tags": []
          },
          "execution_count": 71
        }
      ]
    },
    {
      "cell_type": "code",
      "metadata": {
        "id": "yRVBFbLj8c_M",
        "colab_type": "code",
        "outputId": "d263245e-f6bf-4e89-bb7d-76e4cfba941d",
        "colab": {
          "base_uri": "https://localhost:8080/",
          "height": 176
        }
      },
      "source": [
        "# define a model that only flattens the data\n",
        "inputs = Input(shape=(3,2,4))\n",
        "output = Flatten()(inputs)\n",
        "flatten_model = Model(inputs=inputs, outputs=output)\n",
        "\n",
        "# view the flattened output\n",
        "print(flatten_model.predict(X))"
      ],
      "execution_count": 72,
      "outputs": [
        {
          "output_type": "stream",
          "text": [
            "W0701 03:33:39.363594 140321397917568 deprecation_wrapper.py:119] From /usr/local/lib/python3.6/dist-packages/keras/backend/tensorflow_backend.py:2741: The name tf.Session is deprecated. Please use tf.compat.v1.Session instead.\n",
            "\n",
            "W0701 03:33:39.367377 140321397917568 deprecation_wrapper.py:119] From /usr/local/lib/python3.6/dist-packages/keras/backend/tensorflow_backend.py:174: The name tf.get_default_session is deprecated. Please use tf.compat.v1.get_default_session instead.\n",
            "\n",
            "W0701 03:33:39.368343 140321397917568 deprecation_wrapper.py:119] From /usr/local/lib/python3.6/dist-packages/keras/backend/tensorflow_backend.py:181: The name tf.ConfigProto is deprecated. Please use tf.compat.v1.ConfigProto instead.\n",
            "\n"
          ],
          "name": "stderr"
        },
        {
          "output_type": "stream",
          "text": [
            "[[ 0.  1.  2.  3.  4.  5.  6.  7.  8.  9. 10. 11. 12. 13. 14. 15. 16. 17.\n",
            "  18. 19. 20. 21. 22. 23.]]\n"
          ],
          "name": "stdout"
        }
      ]
    },
    {
      "cell_type": "markdown",
      "metadata": {
        "id": "9nVCgsS48c_N",
        "colab_type": "text"
      },
      "source": [
        "##### Dense"
      ]
    },
    {
      "cell_type": "code",
      "metadata": {
        "id": "a62BzmV18c_O",
        "colab_type": "code",
        "outputId": "1156d68c-eb7f-4850-a10d-c19d6dd1b550",
        "colab": {
          "base_uri": "https://localhost:8080/",
          "height": 35
        }
      },
      "source": [
        "# review the number of classes to predict\n",
        "num_classes"
      ],
      "execution_count": 73,
      "outputs": [
        {
          "output_type": "execute_result",
          "data": {
            "text/plain": [
              "13"
            ]
          },
          "metadata": {
            "tags": []
          },
          "execution_count": 73
        }
      ]
    },
    {
      "cell_type": "code",
      "metadata": {
        "id": "_qeUGPTO8c_P",
        "colab_type": "code",
        "colab": {}
      },
      "source": [
        "model.add(Dense(num_classes, activation='softmax'))"
      ],
      "execution_count": 0,
      "outputs": []
    },
    {
      "cell_type": "markdown",
      "metadata": {
        "id": "v0sHMjH98c_T",
        "colab_type": "text"
      },
      "source": [
        "### Compilation\n",
        "\n",
        "Before training a model, you need to configure the learning process, which is done via the compile method. It receives three arguments:\n",
        "\n",
        "- **An optimizer:** This could be the string identifier of an existing optimizer (such as adam, rmsprop, or adagrad), or an instance of the Optimizer class. See: [optimizers](https://keras.io/optimizers/).\n",
        "- **A loss function:** This is the objective that the model will try to minimize. It can be the string identifier of an existing loss function (such as categorical_crossentropy or mse), or it can be an objective function. See: [losses](https://keras.io/losses/).\n",
        "- **A list of metrics:** For any classification problem you will want to set this to metrics=['accuracy']. A metric could be the string identifier of an existing metric or a custom metric function."
      ]
    },
    {
      "cell_type": "code",
      "metadata": {
        "id": "wGAt0-T38c_U",
        "colab_type": "code",
        "outputId": "a7d09ca6-8fa6-4c7f-f699-37fb0fe5678d",
        "colab": {
          "base_uri": "https://localhost:8080/",
          "height": 72
        }
      },
      "source": [
        "# compile the model\n",
        "model.compile(optimizer='rmsprop', loss='categorical_crossentropy', metrics=['accuracy'])"
      ],
      "execution_count": 75,
      "outputs": [
        {
          "output_type": "stream",
          "text": [
            "W0701 03:33:53.401465 140321397917568 deprecation_wrapper.py:119] From /usr/local/lib/python3.6/dist-packages/keras/optimizers.py:790: The name tf.train.Optimizer is deprecated. Please use tf.compat.v1.train.Optimizer instead.\n",
            "\n"
          ],
          "name": "stderr"
        }
      ]
    },
    {
      "cell_type": "code",
      "metadata": {
        "id": "4kW8sY_Z8c_W",
        "colab_type": "code",
        "outputId": "74c5a5d0-5254-45c2-f157-b3e0815c10ae",
        "colab": {
          "base_uri": "https://localhost:8080/",
          "height": 260
        }
      },
      "source": [
        "# summarize the model\n",
        "print(model.summary())"
      ],
      "execution_count": 76,
      "outputs": [
        {
          "output_type": "stream",
          "text": [
            "_________________________________________________________________\n",
            "Layer (type)                 Output Shape              Param #   \n",
            "=================================================================\n",
            "embedding_1 (Embedding)      (None, 10, 300)           6131700   \n",
            "_________________________________________________________________\n",
            "flatten_1 (Flatten)          (None, 3000)              0         \n",
            "_________________________________________________________________\n",
            "dense_1 (Dense)              (None, 13)                39013     \n",
            "=================================================================\n",
            "Total params: 6,170,713\n",
            "Trainable params: 39,013\n",
            "Non-trainable params: 6,131,700\n",
            "_________________________________________________________________\n",
            "None\n"
          ],
          "name": "stdout"
        }
      ]
    },
    {
      "cell_type": "code",
      "metadata": {
        "id": "zp__eiqY8c_Z",
        "colab_type": "code",
        "outputId": "52319d0c-a15b-471b-da1c-47e0a09deeaf",
        "colab": {
          "base_uri": "https://localhost:8080/",
          "height": 35
        }
      },
      "source": [
        "len(y_train_array[0])"
      ],
      "execution_count": 77,
      "outputs": [
        {
          "output_type": "execute_result",
          "data": {
            "text/plain": [
              "13"
            ]
          },
          "metadata": {
            "tags": []
          },
          "execution_count": 77
        }
      ]
    },
    {
      "cell_type": "code",
      "metadata": {
        "id": "_MO9FhPO8c_a",
        "colab_type": "code",
        "outputId": "56199d6f-6e18-4f12-b22f-087389072151",
        "colab": {
          "base_uri": "https://localhost:8080/",
          "height": 263
        }
      },
      "source": [
        "# fit the model\n",
        "model.fit(\n",
        "    X_train_sequence, \n",
        "    y_train_array,\n",
        "    epochs=4,\n",
        "    validation_data=(X_test_sequence, y_test_array)\n",
        ")"
      ],
      "execution_count": 78,
      "outputs": [
        {
          "output_type": "stream",
          "text": [
            "W0701 03:34:29.992559 140321397917568 deprecation.py:323] From /usr/local/lib/python3.6/dist-packages/tensorflow/python/ops/math_grad.py:1250: add_dispatch_support.<locals>.wrapper (from tensorflow.python.ops.array_ops) is deprecated and will be removed in a future version.\n",
            "Instructions for updating:\n",
            "Use tf.where in 2.0, which has the same broadcast rule as np.where\n"
          ],
          "name": "stderr"
        },
        {
          "output_type": "stream",
          "text": [
            "Train on 46022 samples, validate on 15341 samples\n",
            "Epoch 1/4\n",
            "46022/46022 [==============================] - 5s 114us/step - loss: 1.6224 - acc: 0.4991 - val_loss: 1.4467 - val_acc: 0.5598\n",
            "Epoch 2/4\n",
            "46022/46022 [==============================] - 4s 91us/step - loss: 1.3196 - acc: 0.5934 - val_loss: 1.4262 - val_acc: 0.5692\n",
            "Epoch 3/4\n",
            "46022/46022 [==============================] - 4s 91us/step - loss: 1.2358 - acc: 0.6182 - val_loss: 1.4257 - val_acc: 0.5687\n",
            "Epoch 4/4\n",
            "46022/46022 [==============================] - 4s 90us/step - loss: 1.1907 - acc: 0.6285 - val_loss: 1.4411 - val_acc: 0.5741\n"
          ],
          "name": "stdout"
        },
        {
          "output_type": "execute_result",
          "data": {
            "text/plain": [
              "<keras.callbacks.History at 0x7f9ebcf67390>"
            ]
          },
          "metadata": {
            "tags": []
          },
          "execution_count": 78
        }
      ]
    },
    {
      "cell_type": "code",
      "metadata": {
        "id": "s25igg778c_b",
        "colab_type": "code",
        "outputId": "fc274761-1642-42e8-c9b0-88686c2ddc09",
        "colab": {
          "base_uri": "https://localhost:8080/",
          "height": 52
        }
      },
      "source": [
        "# evaluate the model\n",
        "loss, accuracy = model.evaluate(X_test_sequence, y_test_array)\n",
        "print(f'Accuracy: {accuracy*100 :.2f}%')"
      ],
      "execution_count": 79,
      "outputs": [
        {
          "output_type": "stream",
          "text": [
            "15341/15341 [==============================] - 1s 38us/step\n",
            "Accuracy: 57.41%\n"
          ],
          "name": "stdout"
        }
      ]
    },
    {
      "cell_type": "code",
      "metadata": {
        "id": "upT0EpcX8c_c",
        "colab_type": "code",
        "outputId": "b80580c1-bf14-489b-9b23-b4d36ab64388",
        "colab": {
          "base_uri": "https://localhost:8080/",
          "height": 35
        }
      },
      "source": [
        "y_pred = model.predict_classes(X_test_sequence)\n",
        "y_pred[0:10]"
      ],
      "execution_count": 80,
      "outputs": [
        {
          "output_type": "execute_result",
          "data": {
            "text/plain": [
              "array([ 5,  1,  1,  0,  5,  7, 11,  6,  4,  3])"
            ]
          },
          "metadata": {
            "tags": []
          },
          "execution_count": 80
        }
      ]
    },
    {
      "cell_type": "markdown",
      "metadata": {
        "id": "Tc3Tj8-v8c_d",
        "colab_type": "text"
      },
      "source": [
        "### Analyze Results"
      ]
    },
    {
      "cell_type": "code",
      "metadata": {
        "id": "qDVlteAs8c_d",
        "colab_type": "code",
        "outputId": "530daa17-a274-4639-b7f0-299ebe5f15cd",
        "colab": {
          "base_uri": "https://localhost:8080/",
          "height": 243
        }
      },
      "source": [
        "ic_name_map"
      ],
      "execution_count": 81,
      "outputs": [
        {
          "output_type": "execute_result",
          "data": {
            "text/plain": [
              "{0: 'NATIONAL INSTITUTE OF MENTAL HEALTH',\n",
              " 1: 'NATIONAL CANCER INSTITUTE',\n",
              " 2: 'NATIONAL INSTITUTE OF ENVIRONMENTAL HEALTH SCIENCES',\n",
              " 3: 'NATIONAL INSTITUTE OF GENERAL MEDICAL SCIENCES',\n",
              " 4: 'NATIONAL INSTITUTE OF NEUROLOGICAL DISORDERS AND STROKE',\n",
              " 5: 'NATIONAL INSTITUTE ON AGING',\n",
              " 6: 'NATIONAL HEART, LUNG, AND BLOOD INSTITUTE',\n",
              " 7: 'NATIONAL INSTITUTE OF DIABETES AND DIGESTIVE AND KIDNEY DISEASES',\n",
              " 8: 'EUNICE KENNEDY SHRIVER NATIONAL INSTITUTE OF CHILD HEALTH & HUMAN DEVELOPMENT',\n",
              " 9: 'NATIONAL EYE INSTITUTE',\n",
              " 10: 'NATIONAL INSTITUTE ON DRUG ABUSE',\n",
              " 11: 'NATIONAL INSTITUTE OF ALLERGY AND INFECTIOUS DISEASES',\n",
              " 12: 'NATIONAL INSTITUTE OF ARTHRITIS AND MUSCULOSKELETAL AND SKIN DISEASES'}"
            ]
          },
          "metadata": {
            "tags": []
          },
          "execution_count": 81
        }
      ]
    },
    {
      "cell_type": "code",
      "metadata": {
        "id": "apjUHBYp8c_e",
        "colab_type": "code",
        "outputId": "f76e2161-55a1-4851-8b69-6d217b6b1f8b",
        "colab": {
          "base_uri": "https://localhost:8080/",
          "height": 243
        }
      },
      "source": [
        "labels = [ic_name_map[ind].replace('NATIONAL ', '').replace('INSTITUTE ', '').replace('OF ', '') for ind in range(0,13)]\n",
        "labels"
      ],
      "execution_count": 82,
      "outputs": [
        {
          "output_type": "execute_result",
          "data": {
            "text/plain": [
              "['MENTAL HEALTH',\n",
              " 'CANCER INSTITUTE',\n",
              " 'ENVIRONMENTAL HEALTH SCIENCES',\n",
              " 'GENERAL MEDICAL SCIENCES',\n",
              " 'NEUROLOGICAL DISORDERS AND STROKE',\n",
              " 'ON AGING',\n",
              " 'HEART, LUNG, AND BLOOD INSTITUTE',\n",
              " 'DIABETES AND DIGESTIVE AND KIDNEY DISEASES',\n",
              " 'EUNICE KENNEDY SHRIVER CHILD HEALTH & HUMAN DEVELOPMENT',\n",
              " 'EYE INSTITUTE',\n",
              " 'ON DRUG ABUSE',\n",
              " 'ALLERGY AND INFECTIOUS DISEASES',\n",
              " 'ARTHRITIS AND MUSCULOSKELETAL AND SKIN DISEASES']"
            ]
          },
          "metadata": {
            "tags": []
          },
          "execution_count": 82
        }
      ]
    },
    {
      "cell_type": "code",
      "metadata": {
        "id": "dGiLVfOV8c_f",
        "colab_type": "code",
        "outputId": "10421fef-06e7-4296-af7a-4bc7544b3eb5",
        "colab": {
          "base_uri": "https://localhost:8080/",
          "height": 618
        }
      },
      "source": [
        "# create a confusion matrix\n",
        "heatmap_df = pd.DataFrame(confusion_matrix(y_true=y_test, y_pred=y_pred), columns=labels, index=labels)\n",
        "\n",
        "# set the diagonal (i.e. correct predictions) to zero so that they do not over-influence the heatmap legend\n",
        "np.fill_diagonal(heatmap_df.values, 0)\n",
        "\n",
        "# plot the confusion matrix\n",
        "sns.heatmap(heatmap_df)"
      ],
      "execution_count": 83,
      "outputs": [
        {
          "output_type": "execute_result",
          "data": {
            "text/plain": [
              "<matplotlib.axes._subplots.AxesSubplot at 0x7f9e9e6f8390>"
            ]
          },
          "metadata": {
            "tags": []
          },
          "execution_count": 83
        },
        {
          "output_type": "display_data",
          "data": {
            "image/png": "[encoded data removed]",
            "text/plain": [
              "<Figure size 432x288 with 2 Axes>"
            ]
          },
          "metadata": {
            "tags": []
          }
        }
      ]
    },
    {
      "cell_type": "code",
      "metadata": {
        "id": "jCRRsEAr8c_g",
        "colab_type": "code",
        "outputId": "199667a6-de66-4de0-f2ee-7f9529ce1dbf",
        "colab": {
          "base_uri": "https://localhost:8080/",
          "height": 52
        }
      },
      "source": [
        "from sklearn.linear_model import LogisticRegression\n",
        "from sklearn import metrics\n",
        "from sklearn.feature_extraction.text import TfidfVectorizer\n",
        "\n",
        "# vectorize text\n",
        "tfidf = TfidfVectorizer(max_features=20000, ngram_range=(1,1))\n",
        "X_train_vect = tfidf.fit_transform(X_train)\n",
        "X_test_vect = tfidf.transform(X_test)\n",
        "\n",
        "# train model\n",
        "logreg = LogisticRegression(solver='lbfgs', max_iter=300, multi_class='auto')\n",
        "logreg.fit(X_train_vect, y_train)\n",
        "\n",
        "# store predictions\n",
        "y_pred = logreg.predict(X_test_vect)\n",
        "y_pred_proba = logreg.predict_proba(X_test_vect)\n",
        "\n",
        "# evaluate model\n",
        "print(f'accuracy: {metrics.accuracy_score(y_test, y_pred)}')\n",
        "print(f'log loss (cross-entropy): {metrics.log_loss(y_test, y_pred_proba)}')"
      ],
      "execution_count": 84,
      "outputs": [
        {
          "output_type": "stream",
          "text": [
            "accuracy: 0.6880255524411707\n",
            "log loss (cross-entropy): 1.133580209765361\n"
          ],
          "name": "stdout"
        }
      ]
    },
    {
      "cell_type": "code",
      "metadata": {
        "id": "R-bE91S18c_g",
        "colab_type": "code",
        "outputId": "82966cf2-d4a7-4cae-cf74-e0688cb507d8",
        "colab": {
          "base_uri": "https://localhost:8080/",
          "height": 618
        }
      },
      "source": [
        "# create a confusion matrix\n",
        "heatmap_df = pd.DataFrame(confusion_matrix(y_true=y_test, y_pred=y_pred), columns=labels, index=labels)\n",
        "\n",
        "# set the diagonal (i.e. correct predictions) to zero so that they do not over-influence the heatmap legend\n",
        "np.fill_diagonal(heatmap_df.values, 0)\n",
        "\n",
        "# plot the confusion matrix\n",
        "sns.heatmap(heatmap_df)"
      ],
      "execution_count": 85,
      "outputs": [
        {
          "output_type": "execute_result",
          "data": {
            "text/plain": [
              "<matplotlib.axes._subplots.AxesSubplot at 0x7f9e9e589d30>"
            ]
          },
          "metadata": {
            "tags": []
          },
          "execution_count": 85
        },
        {
          "output_type": "display_data",
          "data": {
            "image/png": "[encoded data removed]",
            "text/plain": [
              "<Figure size 432x288 with 2 Axes>"
            ]
          },
          "metadata": {
            "tags": []
          }
        }
      ]
    },
    {
      "cell_type": "markdown",
      "metadata": {
        "id": "QBwuhx_n8c_h",
        "colab_type": "text"
      },
      "source": [
        "# Full Embedding and Model Pipeline Class"
      ]
    },
    {
      "cell_type": "code",
      "metadata": {
        "id": "LMSDpD7I8c_l",
        "colab_type": "code",
        "colab": {}
      },
      "source": [
        "class EmbeddingModel:\n",
        "    \n",
        "    def __init__(self, X_train, X_test, y_train, y_test, \n",
        "                 max_num_words=20000, max_seq_length=50, embedding_size=50, embedding_dir=None):\n",
        "                \n",
        "        # set tokenizer params\n",
        "        self.max_num_words = max_num_words\n",
        "        self.max_seq_length = max_seq_length\n",
        "        self.vocab_size = None\n",
        "        self.tokenizer = None\n",
        "\n",
        "        # format data\n",
        "        self.num_classes = len(set(y_train))        \n",
        "        self.y_train_array = to_categorical(y_train, self.num_classes)\n",
        "        self.y_test_array = to_categorical(y_test, self.num_classes)\n",
        "        self.X_train = X_train\n",
        "        self.X_test = X_test\n",
        "        self.X_train_sequence = self.encode_text(X_train, train=True)\n",
        "        self.X_test_sequence = self.encode_text(X_test, train=False)\n",
        "                \n",
        "        # set embedding params\n",
        "        self.embedding_dir = embedding_dir\n",
        "        self.embedding_size = embedding_size\n",
        "        self.embeddings_index = None\n",
        "        self.embedding_matrix = None\n",
        "        \n",
        "        # set model params\n",
        "        self.model = None\n",
        "    \n",
        "    def setup_model_pipeline(self):\n",
        "        self.create_embeddings_index()\n",
        "        self.create_embedding_matrix()\n",
        "        print('model pipeline set-up complete')\n",
        "\n",
        "    def encode_text(self, text, train=False):\n",
        "        if train:\n",
        "            self.tokenizer = Tokenizer(num_words=self.max_num_words)\n",
        "            self.tokenizer.fit_on_texts(text)\n",
        "\n",
        "        encoded_docs = self.tokenizer.texts_to_sequences(text)\n",
        "        padded_docs = pad_sequences(\n",
        "            encoded_docs,\n",
        "            maxlen=self.max_seq_length,\n",
        "            padding='post'\n",
        "        )\n",
        "\n",
        "        print(f'completed tokenizing and padding text - train: {train}')\n",
        "        self.vocab_size = len(self.tokenizer.word_index) + 1\n",
        "        return padded_docs\n",
        "\n",
        "    def create_embeddings_index(self):\n",
        "        embeddings_index = {}\n",
        "\n",
        "        with open(self.embedding_dir, 'rb') as f:\n",
        "            for line in f:\n",
        "                values = line.split()\n",
        "                word = values[0].decode('utf-8')\n",
        "                embedding = np.asarray(values[1:], dtype='float32')\n",
        "                embeddings_index[word] = embedding\n",
        "\n",
        "        print('completed creating embedding index')\n",
        "        self.embeddings_index = embeddings_index\n",
        "\n",
        "    def create_embedding_matrix(self):\n",
        "        embedding_matrix = zeros((self.vocab_size, self.embedding_size))\n",
        "\n",
        "        for word, i in self.tokenizer.word_index.items():    \n",
        "            embedding_vector = self.embeddings_index.get(word)\n",
        "\n",
        "            if embedding_vector is not None:\n",
        "                embedding_matrix[i] = embedding_vector\n",
        "\n",
        "        print('completed creating embedding matrix')\n",
        "        self.embedding_matrix = embedding_matrix\n",
        "\n",
        "    def get_embedding_layer(self):\n",
        "        embedding = Embedding(\n",
        "            input_dim=self.vocab_size, \n",
        "            output_dim=self.embedding_size,                                    \n",
        "            input_length=self.max_seq_length,\n",
        "            embeddings_initializer=Constant(self.embedding_matrix),\n",
        "            trainable=False                                   \n",
        "        )\n",
        "\n",
        "        return embedding\n",
        "\n",
        "    def fit(self, model=None, epochs=10):\n",
        "        if model:\n",
        "            print('using custom model')\n",
        "        else:\n",
        "            # default model if a custom model is not provided\n",
        "            model = Sequential()\n",
        "            model.add(self.get_embedding_layer())\n",
        "            model.add(Flatten())\n",
        "            model.add(Dense(self.num_classes, activation='softmax'))\n",
        "            model.compile(optimizer='rmsprop', loss='categorical_crossentropy', metrics=['accuracy'])\n",
        "        \n",
        "        # train model\n",
        "        model.fit(\n",
        "            self.X_train_sequence, \n",
        "            self.y_train_array,\n",
        "            epochs=epochs,\n",
        "            validation_data=(self.X_test_sequence, self.y_test_array)\n",
        "        )\n",
        "\n",
        "        print('completed training model')\n",
        "        self.model = model\n",
        "        \n",
        "    def predict(self, X):\n",
        "        encoded_text = self.encode_text(X, train=False)\n",
        "        y_pred = self.model.predict_classes(encoded_text)\n",
        "        \n",
        "        return y_pred"
      ],
      "execution_count": 0,
      "outputs": []
    },
    {
      "cell_type": "code",
      "metadata": {
        "id": "8LCMz3AB8c_m",
        "colab_type": "code",
        "outputId": "57292ab4-58a6-492e-f855-e70ce7aaba5a",
        "colab": {
          "base_uri": "https://localhost:8080/",
          "height": 297
        }
      },
      "source": [
        "# instantiate nlp model pipeline\n",
        "embedding_model = EmbeddingModel(\n",
        "    X_train=X_train, \n",
        "    X_test=X_test, \n",
        "    y_train=y_train, \n",
        "    y_test=y_test,\n",
        "    max_num_words=25000,\n",
        "    max_seq_length=75,\n",
        "    embedding_dir=r'glove.6B.300d.txt',\n",
        "    embedding_size=EMBEDDING_SIZE\n",
        ")\n",
        "\n",
        "# set-up and train model\n",
        "embedding_model.setup_model_pipeline()\n",
        "embedding_model.fit(epochs=4)"
      ],
      "execution_count": 89,
      "outputs": [
        {
          "output_type": "stream",
          "text": [
            "completed tokenizing and padding text - train: True\n",
            "completed tokenizing and padding text - train: False\n",
            "completed creating embedding index\n",
            "completed creating embedding matrix\n",
            "model pipeline set-up complete\n",
            "Train on 46022 samples, validate on 15341 samples\n",
            "Epoch 1/4\n",
            "46022/46022 [==============================] - 5s 104us/step - loss: 1.6268 - acc: 0.5005 - val_loss: 1.4652 - val_acc: 0.5574\n",
            "Epoch 2/4\n",
            "46022/46022 [==============================] - 4s 97us/step - loss: 1.2926 - acc: 0.6037 - val_loss: 1.4379 - val_acc: 0.5686\n",
            "Epoch 3/4\n",
            "46022/46022 [==============================] - 5s 98us/step - loss: 1.1908 - acc: 0.6313 - val_loss: 1.4369 - val_acc: 0.5749\n",
            "Epoch 4/4\n",
            "46022/46022 [==============================] - 4s 98us/step - loss: 1.1303 - acc: 0.6501 - val_loss: 1.4544 - val_acc: 0.5665\n",
            "completed training model\n"
          ],
          "name": "stdout"
        }
      ]
    }
  ]
}