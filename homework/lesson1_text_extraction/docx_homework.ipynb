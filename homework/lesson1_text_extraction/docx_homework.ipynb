{
 "cells": [
  {
   "cell_type": "markdown",
   "metadata": {},
   "source": [
    "# DOCX Homework\n",
    "#### Author: Alex Sherman (alsherman@deloitte.com)"
   ]
  },
  {
   "cell_type": "markdown",
   "metadata": {},
   "source": [
    "In this homework, we will use python-docx to extract and structure the text from a Microsoft Word document.\n",
    "\n",
    "The overall objective (part 3) is to structure the document into sections. As there is no perfect method to define or identify document sections, we will create our own simple hueristics. These include looking if a paragraph contains 'HEADING' styles, uses ALL CAPS, or applies other styles like bold or underlined text.\n",
    "\n",
    "In part one and two, we will create and test two helper functions (doesnt_have_text and is_section_header) to help us identify which paragraphs contain useful text and/or are section headers in part 3."
   ]
  },
  {
   "cell_type": "code",
   "execution_count": 1,
   "metadata": {},
   "outputs": [
    {
     "name": "stdout",
     "output_type": "stream",
     "text": [
      "C:\\Users\\alsherman\\Desktop\\PycharmProjects\\firm_initiatives\\ml_guild\\raw_data\\southwest-airlines-co\\in_progress\\southwest-airlines-co_annual_report_2016.docx\n"
     ]
    }
   ],
   "source": [
    "# read the raw data paths from the config.ini file\n",
    "# confirm that the printed DOCX_PATH is the correct location of the data\n",
    "import os\n",
    "import docx\n",
    "from configparser import ConfigParser, ExtendedInterpolation\n",
    "\n",
    "config = ConfigParser(interpolation=ExtendedInterpolation())\n",
    "config.read('../../config.ini')\n",
    "DOCX_PATH = config['TEXT_EXTRACTION']['DOCX_PATH']\n",
    "\n",
    "print(DOCX_PATH)"
   ]
  },
  {
   "cell_type": "code",
   "execution_count": 2,
   "metadata": {
    "collapsed": true
   },
   "outputs": [],
   "source": [
    "# read the document into docx\n",
    "doc = docx.Document(DOCX_PATH)"
   ]
  },
  {
   "cell_type": "code",
   "execution_count": 3,
   "metadata": {
    "collapsed": true
   },
   "outputs": [],
   "source": [
    "# create an object with all paragraphs\n",
    "paragraphs = doc.paragraphs"
   ]
  },
  {
   "cell_type": "markdown",
   "metadata": {},
   "source": [
    "### PART 1: Check if a paragraph contains text\n",
    "\n",
    "Many of the paragraphs in a document are empty strings, not containing useful text. We will want to skip (continue) these paragraphs when structuring the document into sections.\n",
    "\n",
    "We will look for two conditions:\n",
    "1. paragraph text is empty\n",
    "2. paragraph text does not contain any letters (e.g. a phone number or ' ____ ')"
   ]
  },
  {
   "cell_type": "code",
   "execution_count": 4,
   "metadata": {
    "collapsed": true
   },
   "outputs": [],
   "source": [
    "def doesnt_have_text(text, alpha_only=True):\n",
    "    \"\"\" ignore paragraphs that do not contain any text\n",
    "\n",
    "    :param text: text to check for characters\n",
    "    :param alpha_only: if True, keep  paragraph that have letters \n",
    "    :return: bool (True) if the paragraph is empty\n",
    "    \"\"\"\n",
    "    \n",
    "    # condition one - check for empty strings\n",
    "    # create a boolean (True/False) called empty_string\n",
    "    # with the result of if the text has no characters\n",
    "\n",
    "    \n",
    "    # condition two - only keep string with at least one letter ([a-zA-Z])\n",
    "    # This will ignore phone numbers and strings of non-text characters (e.g. '___')\n",
    "    # consider using the string method .isalpha()\n",
    "    # name the variable has_required_characters\n",
    "    # make this optional by adding a check for the parameter alpha_only (e.g. if alpha_only:)\n",
    "\n",
    "    \n",
    "    # if the paragraph is empty (e.g. is an empty_string or not has_required_characters)\n",
    "    # return True (i.e. doesn't have text) else return False\n",
    "\n",
    "    "
   ]
  },
  {
   "cell_type": "markdown",
   "metadata": {},
   "source": [
    "### Run this code to check your answers"
   ]
  },
  {
   "cell_type": "code",
   "execution_count": 6,
   "metadata": {
    "collapsed": true
   },
   "outputs": [],
   "source": [
    "def check_doesnt_have_text(section_nums, answer):\n",
    "    for section_num in section_nums:\n",
    "        print('YOUR ANSWER: {}'.format(doesnt_have_text(paragraphs[section_num].text)))\n",
    "        print('CORRECT ANSWER: {}'.format(answer))\n",
    "        print('SECTION TEXT: {}'.format(paragraphs[section_num].text))\n",
    "        print()    \n",
    "        \n",
    "check_doesnt_have_text(section_nums=[8, 70, 178], answer='False')\n",
    "check_doesnt_have_text(section_nums=[7, 92, 104], answer='True')"
   ]
  },
  {
   "cell_type": "markdown",
   "metadata": {},
   "source": [
    "### PART 2: Check if a paragraph is a section header\n",
    "\n",
    "Each paragraph that contains text will either start a new section (is a section header) or will be added to the text of a section. To make this determination, we will use the function is_section_header to test if the paragraph text meets any of the criteria we set to define a section header.\n",
    "\n",
    "There are many criteria we could create to define a section header. Moreso, it is not worth the effort to perfectly define each section header as that is difficult if not impossible due to inconsistencies in the ways that different documents are structured. As an example, some documents use a Table of Contents, giving sections a 'HEADING' style, other times the document owner just CAPITALIZES or bolds the text of each section.\n",
    "\n",
    "We will create functions to check for the three folowing criteria:\n",
    "1. Heading style applied to the paragraph text\n",
    "2. All text is capitalized\n",
    "3. All text is bold"
   ]
  },
  {
   "cell_type": "code",
   "execution_count": 40,
   "metadata": {
    "collapsed": true
   },
   "outputs": [],
   "source": [
    "def heading(p):\n",
    "    \"\"\" check if Header formatting is applied to the paragraph style (common in a table of contents) \"\"\"\n",
    "    \n",
    "    # make sure to use upper case as the 'HEADING' style is always uppercase\n",
    "    if #TODO:\n",
    "        return True\n",
    "    return False"
   ]
  },
  {
   "cell_type": "code",
   "execution_count": null,
   "metadata": {
    "collapsed": true
   },
   "outputs": [],
   "source": [
    "def capitalization(p):\n",
    "    \"\"\" has capitalization of every letter \"\"\"\n",
    "    \n",
    "    if # TODO:\n",
    "        return True\n",
    "    return False"
   ]
  },
  {
   "cell_type": "code",
   "execution_count": null,
   "metadata": {
    "collapsed": true
   },
   "outputs": [],
   "source": [
    "def bold(p):\n",
    "    \"\"\" determine if all text in a paragraph is bold \"\"\"\n",
    "    \n",
    "    bold_runs = []\n",
    "\n",
    "    # iterate through all the runs in a paragraph to check for bold/underlined style\n",
    "    for run in p.runs:\n",
    "        # ignore runs (style) for blank space at end of sentence\n",
    "        # NOTE: the last run is often an empty string\n",
    "        if # TODO:\n",
    "            continue\n",
    "\n",
    "        # add if the text is bold to the bold_runs list\n",
    "        # TODO\n",
    "    \n",
    "    # all() tests if every item in a list is True\n",
    "    # if all items are True the all() returns True\n",
    "    # thus if all items are bold then section_header is set to True\n",
    "    bold_cond = # TODO\n",
    "    if bold_cond:\n",
    "        return True\n",
    "    return False"
   ]
  },
  {
   "cell_type": "code",
   "execution_count": null,
   "metadata": {
    "collapsed": true
   },
   "outputs": [],
   "source": [
    "def is_section_header(p, use_headings=True, use_capitalization=True, use_bold=True):\n",
    "    \"\"\" determine if a paragraph is a section header\n",
    "\n",
    "    :param p: paragraph\n",
    "    :param use_headings: uses a header formatting (e.g. table of contents)\n",
    "    :param use_capitalization: capitalization of every letter often indicates section header\n",
    "    :param use_bold: all words in a sentence are bold\n",
    "    :return section_header: boolean, True if paragraph is section header\n",
    "\n",
    "    NOTE: there is not an exact method to determine a section header\n",
    "    due to inconsistencies in the way documents are created.\n",
    "    This function uses heuristics (e.g. all CAPS) to determine sections\n",
    "    \"\"\"\n",
    "\n",
    "    # section_header starts as False and is switched to True\n",
    "    # if it meets any section condition\n",
    "    section_header = False\n",
    "\n",
    "    # check for heading style\n",
    "    if use_headings:\n",
    "        section_header = heading(p)\n",
    "\n",
    "    # check if every letter in a paragraph is capitalized\n",
    "    if use_capitalization:\n",
    "        section_header = capitalization(p)\n",
    "\n",
    "    # check for bold text\n",
    "    if use_bold:\n",
    "        section_header = bold(p)\n",
    "\n",
    "    return section_header"
   ]
  },
  {
   "cell_type": "markdown",
   "metadata": {},
   "source": [
    "### Run this code to check your answers"
   ]
  },
  {
   "cell_type": "code",
   "execution_count": 7,
   "metadata": {
    "collapsed": true
   },
   "outputs": [],
   "source": [
    "def check_section_header_answers(section_nums, answer):\n",
    "    for section_num in section_nums:\n",
    "        print('YOUR ANSWER: {}'.format(is_section_header(paragraphs[section_num])))\n",
    "        print('CORRECT ANSWER: {}'.format(answer))\n",
    "        print('SECTION: {}'.format(paragraphs[section_num].text))\n",
    "        print()    \n",
    "        \n",
    "check_section_header_answers(section_nums=[2,674, 774], answer='True')\n",
    "check_section_header_answers(section_nums=[46,500,546], answer='False')"
   ]
  },
  {
   "cell_type": "markdown",
   "metadata": {},
   "source": [
    "### PART 3: Extract and structure sections\n",
    "\n",
    "In the below exercise, we will create a dictionary named sections that will store all of the extracted sections from the document text.\n",
    "\n",
    "To populate the dict, we will stream through the text using the doesnt_have_text function to retain only useful text and the is_section_header function to identify the start of each new section."
   ]
  },
  {
   "cell_type": "code",
   "execution_count": 126,
   "metadata": {
    "collapsed": true
   },
   "outputs": [],
   "source": [
    "def set_sections(paragraphs):\n",
    "    \"\"\" Iterate through every paragraph in a document and group them into sections.\n",
    "    \n",
    "    Sections are determined by Microsoft Word style formatting and other\n",
    "    optional heuristic parameters (listed below).\n",
    "    \"\"\"\n",
    "\n",
    "    # store all sections in a dict named sections \n",
    "    # with the section name as the key and the section text as the value\n",
    "    sections = # TODO\n",
    "\n",
    "    # set any name for the first section (e.g. 'FIRST_SECTION') \n",
    "    # to group all the text in case the documents has no sections \n",
    "    section_name = # TODO\n",
    "    \n",
    "    # create an empty list to start collecting section text\n",
    "    sections_text = # TODO\n",
    "    \n",
    "    # iterate through every paragraph \n",
    "    for # TODO\n",
    "    \n",
    "        # docx stores many paragraph which are not informative\n",
    "        # (e.g. line breaks) ignore these - continue to next paragraph\n",
    "        if # TODO\n",
    "        \n",
    "    \n",
    "        if is_section_header(p, use_headings=True, use_capitalization=True, use_bold=True):\n",
    "            # a new section_name has been found, so combine\n",
    "            # all the section text and add it to the sections dict\n",
    "            text = # TODO\n",
    "            \n",
    "            # if section_text is empty that means >1 section name \n",
    "            # was found in a row (e.g. section name spans multiple lines)\n",
    "            # these section_names should be combined\n",
    "            if doesnt_have_text(text):\n",
    "                section_name = # TODO\n",
    "            else:\n",
    "                # add completed section text to sections dict\n",
    "                # TODO\n",
    "\n",
    "                # reset name and text for next section and\n",
    "                # remove excess spaces from section name\n",
    "                section_name = # TODO\n",
    "                section_text = # TODO\n",
    "        else:\n",
    "            # keep adding text to section_text until\n",
    "            # a new section starts\n",
    "            section_text.append(# TODO)\n",
    "\n",
    "    # add the text from the final section to sections dict\n",
    "    text = # TODO\n",
    "    if note doesnt_have_text(text):\n",
    "        # TODO\n",
    "    \n",
    "    return sections"
   ]
  },
  {
   "cell_type": "code",
   "execution_count": 115,
   "metadata": {
    "collapsed": true
   },
   "outputs": [],
   "source": [
    "# Run set sections to store the identified sections\n",
    "sections = set_sections(paragraphs)"
   ]
  },
  {
   "cell_type": "code",
   "execution_count": 3,
   "metadata": {
    "collapsed": true
   },
   "outputs": [],
   "source": [
    "# Optional - View the identified sections\n",
    "sections.keys()"
   ]
  },
  {
   "cell_type": "markdown",
   "metadata": {},
   "source": [
    "### Run this code to check your answers\n",
    "\n",
    "2 of the below 8 sections are correct in the section_headers list are correct. If the set_sections function identifies all five of the correct answers, then the below code will print out each of the five correct sections and print 'Correct Answer'\n",
    "\n",
    "Good Luck!"
   ]
  },
  {
   "cell_type": "code",
   "execution_count": 124,
   "metadata": {},
   "outputs": [
    {
     "name": "stdout",
     "output_type": "stream",
     "text": [
      "SECTION IDENTIFIED: 2. FINANCIAL STATEMENT SCHEDULES\n",
      "SECTION IDENTIFIED: FIRST SECTION ORACLE CORP FORM 10-K\n",
      "SECTION IDENTIFIED: MARKETING AND SALES\n",
      "SECTION IDENTIFIED: SEASONALITY AND CYCLICALITY\n",
      "SECTION IDENTIFIED: LEGAL CONTINGENCIES\n"
     ]
    },
    {
     "data": {
      "text/plain": [
       "'Correct Answer'"
      ]
     },
     "execution_count": 124,
     "metadata": {},
     "output_type": "execute_result"
    }
   ],
   "source": [
    "import hashlib\n",
    "\n",
    "section_headers = [\n",
    "      'TECHNOLOGY INITIATIVES'\n",
    "    , 'REGULATION'\n",
    "    , 'FINANCIAL INFORMATION'\n",
    "    , 'SEASONALITY AND CYCLICALITY'\n",
    "    , 'COMPETITORS'\n",
    "    , 'REVENUE RECOGNITION FOR MULTIPLE-ELEMENT ARRANGEMENTS—CLOUD SAAS, PAAS AND IAAS OFFERINGS'\n",
    "    , 'STOCK EXCHANGE LISTING'    \n",
    "    , 'AVIATION TAXES AND FEES'\n",
    "]\n",
    "\n",
    "# identify which of the above 10 sections were identified in the set_sections function\n",
    "# 2 of the 9 should be identified in the correct answer\n",
    "section_answers = []\n",
    "for section in section_headers:\n",
    "    if section in sections.keys():\n",
    "        print('SECTION IDENTIFIED: {}'.format(section))\n",
    "        section_answers.append(section)"
   ]
  },
  {
   "cell_type": "code",
   "execution_count": null,
   "metadata": {
    "collapsed": true
   },
   "outputs": [],
   "source": [
    "def check_answer(section_answers):\n",
    "    \"\"\" check if all of the identified sections are correct \"\"\"\n",
    "    # hash of correct answers\n",
    "    answers = [\n",
    "          '7c3eccefc570963b93e8a11e723f73d1b35e48b68268883169945686a577edaf'\n",
    "        , '03c2ff1e7ca7cd3d007c1996bdb4a855163cf5f2e452999293b614368104eab4'\n",
    "    ]\n",
    "        \n",
    "    # check if each provided section is a correct section_header\n",
    "    checked_answer = []\n",
    "    for section in section_answers:\n",
    "        print(section)\n",
    "        print(hashlib.sha256(section.encode()).hexdigest())\n",
    "        print()\n",
    "        \n",
    "        if hashlib.sha256(section.encode()).hexdigest() not in answers:\n",
    "            checked_answer.append(False)\n",
    "        else:\n",
    "            checked_answer.append(True)\n",
    "    \n",
    "    # check that 2 distinct sections were provided \n",
    "    num_distinct_sections = len(set(section_answers))\n",
    "    if num_distinct_sections != 2:\n",
    "        print('INCORRECT ANSWER - ONLY {} OF 2 SECTIONS WERE IDENTIFIED'.format(num_distinct_sections))\n",
    "    \n",
    "    # check if all answers were correct\n",
    "    if all(checked_answer) and len(checked_answer) > 0:\n",
    "        return 'Correct Answer'\n",
    "    return 'Incorrect Answer - {} of the 2 identified sections were incorrect'.format(sum(checked_answer))\n",
    "\n",
    "# check if all identified sections are correct\n",
    "check_answer(section_answers)"
   ]
  }
 ],
 "metadata": {
  "kernelspec": {
   "display_name": "Python 3",
   "language": "python",
   "name": "python3"
  },
  "language_info": {
   "codemirror_mode": {
    "name": "ipython",
    "version": 3
   },
   "file_extension": ".py",
   "mimetype": "text/x-python",
   "name": "python",
   "nbconvert_exporter": "python",
   "pygments_lexer": "ipython3",
   "version": "3.5.4"
  }
 },
 "nbformat": 4,
 "nbformat_minor": 2
}
