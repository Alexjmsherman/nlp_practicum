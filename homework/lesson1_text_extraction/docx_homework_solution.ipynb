{
 "cells": [
  {
   "cell_type": "markdown",
   "metadata": {},
   "source": [
    "# DOCX Homework Solution\n",
    "#### Author: Alex Sherman (alsherman@deloitte.com)\n",
    "\n",
    "In this homework, we will use python-docx to extract and structure the text from a Microsoft Word document.\n",
    "\n",
    "The overall objective (part 3) is to structure the document into sections. As there is no perfect method to define or identify document sections, we will create our own simple hueristics. These include looking if a paragraph contains 'HEADING' styles, uses ALL CAPS, or applies other styles like bold or underlined text.\n",
    "\n",
    "In part one and two, we will create and test two helper functions (doesnt_have_text and is_section_header) to help us identify which paragraphs contain useful text and/or are section headers in part 3."
   ]
  },
  {
   "cell_type": "code",
   "execution_count": 4,
   "metadata": {},
   "outputs": [
    {
     "name": "stdout",
     "output_type": "stream",
     "text": [
      "C:\\Users\\alsherman\\Desktop\\NLP\\nlp_practicum_health\\raw_data\\southwest-airlines-co\\in_progress\\southwest-airlines-co_annual_report_2016.docx\n"
     ]
    }
   ],
   "source": [
    "# read the raw data paths from the config.ini file\n",
    "# confirm that the printed DOCX_PATH is the correct location of the data\n",
    "import os\n",
    "import docx\n",
    "from configparser import ConfigParser, ExtendedInterpolation\n",
    "\n",
    "config = ConfigParser(interpolation=ExtendedInterpolation())\n",
    "config.read('../../config.ini')\n",
    "DOCX_PATH = config['TEXT_EXTRACTION']['DOCX_PATH']\n",
    "\n",
    "print(DOCX_PATH)"
   ]
  },
  {
   "cell_type": "code",
   "execution_count": 5,
   "metadata": {},
   "outputs": [],
   "source": [
    "# read the document into docx\n",
    "doc = docx.Document(DOCX_PATH)"
   ]
  },
  {
   "cell_type": "code",
   "execution_count": 6,
   "metadata": {},
   "outputs": [],
   "source": [
    "# create an object with all paragraphs\n",
    "paragraphs = doc.paragraphs"
   ]
  },
  {
   "cell_type": "markdown",
   "metadata": {},
   "source": [
    "### PART 1: Check if a paragraph contains text\n",
    "\n",
    "Many of the paragraphs in a document are empty strings, not containing useful text. We will want to skip (continue) these paragraphs when structing the document into sections.\n",
    "\n",
    "We will look for two conditions:\n",
    "1. paragraph text is empty\n",
    "2. paragraph text does not contain any letters (e.g. a phone number or ' ____ ')"
   ]
  },
  {
   "cell_type": "code",
   "execution_count": 7,
   "metadata": {},
   "outputs": [],
   "source": [
    "def doesnt_have_text(text, alpha_only=True):\n",
    "    \"\"\" ignore paragraphs that do not contain any text\n",
    "\n",
    "    :param text: text to check for characters\n",
    "    :param alpha_only: if True, keep  paragraph that have letters \n",
    "    :return: bool (True) if the paragraph is empty\n",
    "    \"\"\"\n",
    "    \n",
    "    # condition one - check for empty strings\n",
    "    # create a boolean (True/False) called empty_string\n",
    "    # with the result of if the text has no characters\n",
    "    empty_string = text.strip() == ''\n",
    "\n",
    "    # condition two - only keep string with at least one letter ([a-zA-Z])\n",
    "    # This will ignore phone numbers and strings of non-text characters (e.g. '___')\n",
    "    # consider using the string method .isalpha()\n",
    "    # name the variable has_required_characters\n",
    "    # make this optional by adding a check for the parameter alpha_only (e.g. if alpha_only:)\n",
    "    has_required_characters = True\n",
    "    if alpha_only:\n",
    "        has_required_characters = any(char.isalpha() for char in text)\n",
    "\n",
    "    # if the paragraph is empty (e.g. is an empty_string or not has_required_characters)\n",
    "    # return True (i.e. doesn't have text) else return False\n",
    "    if empty_string or not has_required_characters:\n",
    "        return True\n",
    "    return False"
   ]
  },
  {
   "cell_type": "markdown",
   "metadata": {},
   "source": [
    "### Run this code to check your answers"
   ]
  },
  {
   "cell_type": "code",
   "execution_count": 8,
   "metadata": {},
   "outputs": [
    {
     "name": "stdout",
     "output_type": "stream",
     "text": [
      "YOUR ANSWER: True\n",
      "CORRECT ANSWER: True\n",
      "SECTION: \n",
      "\n",
      "YOUR ANSWER: True\n",
      "CORRECT ANSWER: True\n",
      "SECTION: \n",
      "\n",
      "YOUR ANSWER: True\n",
      "CORRECT ANSWER: True\n",
      "SECTION: \n",
      "\n",
      "YOUR ANSWER: False\n",
      "CORRECT ANSWER: False\n",
      "SECTION: $45-$55 a barrel range for Brent crude oil. The result was another year of record traffic, record load factors, record revenues, record profits, and a record year-end stock price (LUV). For the second year in a row, and for only the second time in our history, our annual pre-tax return on invested capital (ROIC)1 was 30 percent or better. It was our 44th consecutive year of profitability, a record unmatched in the domestic airline industry, and a continued display of our leadership in corporate America.\n",
      "\n",
      "YOUR ANSWER: False\n",
      "CORRECT ANSWER: False\n",
      "SECTION: TEXAS\t74-1563240\n",
      "\n",
      "YOUR ANSWER: False\n",
      "CORRECT ANSWER: False\n",
      "SECTION: Indicate by check mark if the registrant is not required to file reports pursuant to Section 13 or Section 15(d) of the Act.    Yes  ‘ No Í\n",
      "\n"
     ]
    }
   ],
   "source": [
    "def check_doesnt_have_text(section_nums, answer):\n",
    "    for section_num in section_nums:\n",
    "        print('YOUR ANSWER: {}'.format(doesnt_have_text(paragraphs[section_num].text)))\n",
    "        print('CORRECT ANSWER: {}'.format(answer))\n",
    "        print('SECTION: {}\\n'.format(paragraphs[section_num].text))\n",
    "        \n",
    "check_doesnt_have_text(section_nums=[8, 70, 178], answer='True')\n",
    "check_doesnt_have_text(section_nums=[7, 92, 104], answer='False')"
   ]
  },
  {
   "cell_type": "markdown",
   "metadata": {},
   "source": [
    "### PART 2: Check if a paragraph is a section header\n",
    "\n",
    "Each paragraph that contains text will either start a new section (is a section header) or will be added to the text of a section. To make this determination, we will use the function is_section_header to test if the paragraph text meets any of the criteria we set to define a section header.\n",
    "\n",
    "There are many criteria we could create to define a section header. Moreso, it is not worth the effort to perfectly define each section header as that is difficult if not impossible due to inconsistencies in the ways that different documents are structured. As an example, some documents use a Table of Contents, giving sections a 'HEADING' style, other times the document owner just CAPITALIZES or bolds the text of each section.\n",
    "\n",
    "We will create functions to check for the three folowing criteria:\n",
    "1. Heading style applied to the paragraph text\n",
    "2. All text is capitalized\n",
    "3. All text is bold"
   ]
  },
  {
   "cell_type": "code",
   "execution_count": 9,
   "metadata": {},
   "outputs": [],
   "source": [
    "def heading(p):\n",
    "    \"\"\" check if Header formatting is applied to the paragraph style (common in a table of contents) \"\"\"\n",
    "    # make sure to use upper case as the 'HEADING' style is always uppercase\n",
    "    if 'HEADING' in p.style.name.upper():\n",
    "        return True\n",
    "    return False"
   ]
  },
  {
   "cell_type": "code",
   "execution_count": 10,
   "metadata": {},
   "outputs": [],
   "source": [
    "def capitalization(p):\n",
    "    \"\"\" has capitalization of every letter \"\"\"\n",
    "    if p.text.isupper():\n",
    "        return True\n",
    "    return False"
   ]
  },
  {
   "cell_type": "code",
   "execution_count": 11,
   "metadata": {},
   "outputs": [],
   "source": [
    "def bold(p):\n",
    "    \"\"\" determine if all text in a paragraph is bold \"\"\"\n",
    "    bold_runs = []\n",
    "\n",
    "    # iterate through all the runs in a paragraph to check for bold/underlined style\n",
    "    for run in p.runs:\n",
    "        # ignore runs (style) for blank space at end of sentence\n",
    "        # NOTE: the last run is often an empty string\n",
    "        if run.text.strip() == '':\n",
    "            continue\n",
    "\n",
    "        # add if the text is bold to the bold_runs list\n",
    "        bold_runs.append(run.bold)\n",
    "    \n",
    "    # all() tests if every item in a list is True\n",
    "    # if all items are True the all() returns True\n",
    "    # thus if all items are bold then section_header is set to True\n",
    "    bold_cond = all(bold_runs) and bold_runs != list()\n",
    "    if bold_cond:\n",
    "        return True\n",
    "    return False"
   ]
  },
  {
   "cell_type": "code",
   "execution_count": 12,
   "metadata": {},
   "outputs": [],
   "source": [
    "def is_section_header(p, use_headings=True, use_capitalization=True, use_bold=True):\n",
    "    \"\"\" determine if a paragraph is a section header\n",
    "\n",
    "    :param p: paragraph\n",
    "    :param use_headings: uses a header formatting (e.g. table of contents)\n",
    "    :param use_capitalization: capitalization of every letter often indicates section header\n",
    "    :param use_bold: all words in a sentence are bold\n",
    "    :return section_header: boolean, True if paragraph is section header\n",
    "\n",
    "    NOTE: there is not an exact method to determine a section header\n",
    "    due to inconsistencies in the way documents are created.\n",
    "    This function uses heuristics (e.g. all CAPS) to determine sections\n",
    "    \"\"\"\n",
    "\n",
    "    # section_header starts as False and is switched to True\n",
    "    # if it meets any section condition\n",
    "    section_header = False\n",
    "\n",
    "    # check for heading style\n",
    "    if use_headings:\n",
    "        section_header = heading(p)\n",
    "\n",
    "    # check if every letter in a paragraph is capitalized\n",
    "    if use_capitalization:\n",
    "        section_header = capitalization(p)\n",
    "\n",
    "    # check for bold text\n",
    "    if use_bold:\n",
    "        section_header = bold(p)\n",
    "\n",
    "    return section_header"
   ]
  },
  {
   "cell_type": "markdown",
   "metadata": {},
   "source": [
    "### Run this code to check your answers"
   ]
  },
  {
   "cell_type": "code",
   "execution_count": 13,
   "metadata": {},
   "outputs": [
    {
     "name": "stdout",
     "output_type": "stream",
     "text": [
      "YOUR ANSWER: True\n",
      "CORRECT ANSWER: True\n",
      "SECTION: SOUTHWEST AIRLINES CO.\n",
      "\n",
      "YOUR ANSWER: True\n",
      "CORRECT ANSWER: True\n",
      "SECTION: Item 4.        Mine Safety Disclosures\n",
      "\n",
      "YOUR ANSWER: True\n",
      "CORRECT ANSWER: True\n",
      "SECTION: Item 6.      Selected Financial Data\n",
      "\n",
      "YOUR ANSWER: False\n",
      "CORRECT ANSWER: False\n",
      "SECTION: \n",
      "\n",
      "YOUR ANSWER: False\n",
      "CORRECT ANSWER: False\n",
      "SECTION: The airline business  is  labor  intensive.  Salaries,  wages,  and  benefits  represented  approximately  41 percent of the Company’s operating expenses for the year ended December 31, 2016. In addition, as of December 31, 2016, approximately 83 percent of the Company’s Employees were represented for collective bargaining purposes by labor unions, making the Company particularly exposed in the event of labor-related job actions. Employment-related issues that have, and continue to, impact the Company’s results of operations, some of which are negotiated items, include hiring/retention rates, pay rates, outsourcing costs, work rules, health care costs, and retirement benefits.\n",
      "\n",
      "YOUR ANSWER: False\n",
      "CORRECT ANSWER: False\n",
      "SECTION: changes in laws that increase costs for safety, security, compliance, or other Customer Service standards;\n",
      "\n"
     ]
    }
   ],
   "source": [
    "def check_section_header_answers(section_nums, answer):\n",
    "    for section_num in section_nums:\n",
    "        print('YOUR ANSWER: {}'.format(is_section_header(paragraphs[section_num])))\n",
    "        print('CORRECT ANSWER: {}'.format(answer))\n",
    "        print('SECTION: {}\\n'.format(paragraphs[section_num].text))\n",
    "        \n",
    "check_section_header_answers(section_nums=[2,674, 774], answer='True')\n",
    "check_section_header_answers(section_nums=[46,500,546], answer='False')"
   ]
  },
  {
   "cell_type": "markdown",
   "metadata": {},
   "source": [
    "### PART 3: Extract and structure sections\n",
    "\n",
    "In the below exercise, we will create a dictionary named sections that will store all of the extracted sections from the document text.\n",
    "\n",
    "To populate the dict, we will stream through the text using the doesnt_have_text function to retain only useful text and the is_section_header function to identify the start of each new section."
   ]
  },
  {
   "cell_type": "code",
   "execution_count": 14,
   "metadata": {},
   "outputs": [],
   "source": [
    "def set_sections(paragraphs):\n",
    "    \"\"\" Iterate through every paragraph in a document and group them into sections.\n",
    "    \n",
    "    Sections are determined by Microsoft Word style formatting and other\n",
    "    optional heuristic parameters (listed below).\n",
    "    \"\"\"\n",
    "\n",
    "    # store all sections in a dict with the section name as\n",
    "    # the key and the section text as the value\n",
    "    sections = {}\n",
    "\n",
    "    # set a name for the first section  to group all the text \n",
    "    # in case the documents has no sections and create an empty\n",
    "    # list to start collecting section text\n",
    "    section_name = 'FIRST SECTION'\n",
    "    section_text = []\n",
    "\n",
    "    # iterate through every paragraph \n",
    "    # if there is text, determine if the text should start a new\n",
    "    # section_name or if the text should be added to section_text\n",
    "    for p in paragraphs:\n",
    "\n",
    "        # docx stores many paragraph which are not informative\n",
    "        # (e.g. line breaks) ignore these - continue to next paragraph\n",
    "        if doesnt_have_text(p.text):\n",
    "            continue\n",
    "\n",
    "        if is_section_header(p, use_headings=True, use_capitalization=True, use_bold=True):\n",
    "            # a new section_name has been found, so combine\n",
    "            # all the section text and add it to the sections dict\n",
    "            text = ' '.join(section_text).strip()\n",
    "\n",
    "            # if section_text is empty that means >1 section name \n",
    "            # was found in a row (e.g. section name spans multiple lines)\n",
    "            # these section_names should be combined\n",
    "            if doesnt_have_text(text):\n",
    "                section_name = ' '.join([section_name, p.text.upper().strip()])\n",
    "            else:                    \n",
    "                # add completed section to sections dict\n",
    "                sections[section_name] = text\n",
    "                # reset name and text for next section\n",
    "                section_name = p.text.upper().strip()\n",
    "                section_text = []\n",
    "        else:\n",
    "            # keep adding text to section_text until\n",
    "            # a new section starts\n",
    "            section_text.append(p.text)\n",
    "\n",
    "\n",
    "    # add the text from the final section to sections dict\n",
    "    text = ' '.join(section_text).strip()\n",
    "    if not doesnt_have_text(text):\n",
    "        sections[section_name] = text\n",
    "\n",
    "    return sections"
   ]
  },
  {
   "cell_type": "code",
   "execution_count": 15,
   "metadata": {},
   "outputs": [],
   "source": [
    "# Run set sections to store the identified sections\n",
    "sections = set_sections(paragraphs)"
   ]
  },
  {
   "cell_type": "code",
   "execution_count": 16,
   "metadata": {},
   "outputs": [
    {
     "data": {
      "text/plain": [
       "dict_keys(['FAIR VALUE MEASUREMENTS AT REPORTING DATE USING: QUOTED PRICES IN ACTIVE MARKETS SIGNIFICANT OTHER OBSERVABLE SIGNIFICANT UNOBSERVABLE DESCRIPTION DECEMBER 31, FOR IDENTICAL ASSETS (LEVEL 1) INPUTS (LEVEL 2) INPUTS (LEVEL 3)', 'DOCUMENTS INCORPORATED BY REFERENCE', 'SOUTHWEST AIRLINES CO. CONSOLIDATED STATEMENT OF INCOME', 'FAIR VALUE MEASUREMENTS AT REPORTING DATE USING: DESCRIPTION\\tDECEMBER 31, 2016 QUOTED PRICES IN ACTIVE MARKETS FOR IDENTICAL ASSETS (LEVEL 1) SIGNIFICANT OTHER OBSERVABLE INPUTS (LEVEL 2) SIGNIFICANT UNOBSERVABLE INPUTS (LEVEL 3)', 'FIRST SECTION SOUTHWEST AIRLINES CO. 2016 ANNUAL REPORT TO SHAREHOLDERS', 'SECURITIES REGISTERED PURSUANT TO SECTION 12(G) OF THE ACT: NONE', 'STOCK EXCHANGE LISTING', 'DAVID W. BIEGLER', 'FAIR VALUE MEASUREMENTS USING SIGNIFICANT UNOBSERVABLE INPUTS (LEVEL 3)', 'DECEMBER 31, 2016\\tDECEMBER 31, 2015 DESCRIPTION', 'THOMAS W. GILLIGAN', 'INDEPENDENT REGISTERED PUBLIC ACCOUNTING FIRM', 'ITEM 11.\\tEXECUTIVE COMPENSATION', 'GROSS AMOUNTS OF RECOGNIZED LIABILITIES GROSS AMOUNTS OFFSET IN THE BALANCE SHEET NET AMOUNTS OF LIABILITIES PRESENTED IN THE BALANCE SHEET GROSS AMOUNTS OF RECOGNIZED LIABILITIES GROSS AMOUNTS OFFSET IN THE BALANCE SHEET NET AMOUNTS OF LIABILITIES PRESENTED IN THE BALANCE SHEET', 'ITEM 9B.\\tOTHER INFORMATION', 'GRACE D. LIEBLEIN', 'SOUTHWEST AIRLINES CO. CONSOLIDATED STATEMENT OF COMPREHENSIVE INCOME', 'GARY C. KELLY', 'INVESTMENT GRADE, FAIR VALUE OF FUEL DERIVATIVE LEVEL AT WHICH: IF CREDIT RATING IS NON-INVESTMENT GRADE, FAIR VALUE OF FUEL DERIVATIVE LEVEL AT WHICH:', '(IN MILLIONS) BALANCE SHEET LOCATION DECEMBER 31, DECEMBER 31,', 'TRANSFER AGENT AND REGISTRAR', 'CASH FLOWS FROM OPERATING ACTIVITIES: YEAR ENDED DECEMBER 31, 2016\\t2015\\t2014', '(IN  MILLIONS) AOCI COMPONENTS', '(IN MILLIONS)\\tCARRYING VALUE ESTIMATED FAIR VALUE FAIR VALUE LEVEL HIERARCHY', 'ITEM 1B.\\tUNRESOLVED STAFF COMMENTS', 'OBLIGATIONS BY PERIOD (IN MILLIONS)', 'THE BOARD OF DIRECTORS AND SHAREHOLDERS SOUTHWEST AIRLINES CO.', 'MAXIMUM PERCENT OF ESTIMATED FUEL CONSUMPTION COVERED BY FUEL DERIVATIVE CONTRACTS AT VARYING WEST TEXAS INTERMEDIATE/BRENT CRUDE OIL,', '(UNAUDITED) THREE MONTHS ENDED MARCH 31\\tJUNE 30\\tSEPT. 30\\tDEC. 31', 'YEAR IN REVIEW', 'THOMAS W. GILLIGAN, PHD', 'PRINCIPAL AMOUNT EFFECTIVE FINAL', 'OFFSETTING OF DERIVATIVE ASSETS', 'RON RICKS', 'ITEM 4.        MINE SAFETY DISCLOSURES', 'FUEL DERIVATIVES OTHER SECURITIES\\tTOTAL', 'WILLIAM H. CUNNINGHAM, PHD (PRESIDING DIRECTOR)', 'YEAR ENDED DECEMBER 31, 2016, 2015, AND 2014', 'WILLIAM H. CUNNINGHAM', 'SIGNATURE\\tTITLE', 'ITEM 1A.        RISK FACTORS', 'THE BOEING COMPANY FIRM ORDERS OPTIONS FIRM ORDERS FIRM ORDERS OPTIONS ADDITIONAL -700S\\tTOTAL', '(IN MILLIONS) FUEL DERIVATIVES INTEREST RATE DERIVATIVES DEFINED BENEFIT PLAN ITEMS\\tOTHER DEFERRED TAX IMPACT ACCUMULATED OTHER COMPREHENSIVE INCOME (LOSS)', 'YEAR ENDED DECEMBER 31,', 'ITEM 14.        PRINCIPAL ACCOUNTING FEES AND SERVICES', 'HONORARY DESIGNATIONS HERBERT D. KELLEHER', 'CAPITAL\\tOPERATING LFMP OPERATING (IN MILLIONS) LEASES\\tLEASES (B)       SUBLEASES FACILITY LEASE* LEASES, NET', 'AVERAGE AGE NUMBER OF NUMBER NUMBER', 'ITEM 3.        LEGAL PROCEEDINGS', 'COUNTERPARTY (CP)', '(A)\\t(B)\\t(C)\\t(D) PERIOD TOTAL NUMBER OF SHARES PURCHASED AVERAGE PRICE PAID PER SHARE TOTAL NUMBER OF SHARES PURCHASED AS PART OF PUBLICLY ANNOUNCED PLANS OR PROGRAMS MAXIMUM DOLLAR VALUE OF SHARES THAT MAY YET BE PURCHASED UNDER THE PLANS OR PROGRAMS', 'JOHN G. DENISON', 'YEAR ENDED DECEMBER 31, 2016  YEAR ENDED DECEMBER 31, 2015 WEIGHTED- (IN MILLIONS) AVERAGE USEFUL LIFE (IN YEARS) GROSS CARRYING AMOUNT ACCUMULATED AMORTIZATION GROSS CARRYING AMOUNT ACCUMULATED AMORTIZATION', 'BALANCE SHEET LOCATION', 'FINANCIAL INFORMATION', 'OPERATING REVENUES', 'ASSET DERIVATIVES\\tLIABILITY DERIVATIVES (IN MILLIONS) BALANCE SHEET LOCATION FAIR VALUE AT     12/31/2016 FAIR VALUE AT     12/31/2015 FAIR VALUE AT     12/31/2016 FAIR VALUE AT     12/31/2015 DERIVATIVES DESIGNATED AS HEDGES*', 'COMPARISON OF FIVE YEAR CUMULATIVE TOTAL RETURN AMONG SOUTHWEST AIRLINES CO., S&P 500 INDEX, AND NYSE ARCA AIRLINE INDEX', 'TAMMY ROMO', 'FAIR VALUE (LIABILITY) OF FUEL DERIVATIVE CONTRACTS AMOUNT OF GAINS (LOSSES) DEFERRED IN AOCI AT DECEMBER 31,', 'ALL RESTRICTED STOCK UNITS WTD. AVERAGE FAIR VALUE', 'TABLE OF CONTENTS', 'CORPORATE INFORMATION SOUTHWEST AIRLINES CO. GENERAL OFFICES', 'YEAR ENDED DECEMBER 31, PERCENT', 'NANCY B. LOEFFLER', '2016 SOUTHWEST AIRLINES ONE REPORT', 'SOUTHWEST AIRLINES CO. CONSOLIDATED STATEMENT OF STOCKHOLDERS’ EQUITY', 'ITEM 6.      SELECTED FINANCIAL DATA', 'YEAR ENDED DECEMBER 31,\\tPERCENT YEAR ENDED DECEMBER 31,\\tPERCENT', 'SECURITIES REGISTERED PURSUANT TO SECTION 12(B) OF THE ACT: TITLE OF EACH CLASS\\tNAME OF EACH EXCHANGE ON WHICH REGISTERED', '(GAIN) LOSS RECOGNIZED IN INCOME ON DERIVATIVES YEAR ENDED DECEMBER 31, LOCATION OF (GAIN) LOSS RECOGNIZED IN INCOME', 'DOUGLAS H. BROOKS', 'COST AVERAGE COST PER PERCENTAGE OF OPERATING', 'GROSS AMOUNTS OF RECOGNIZED ASSETS GROSS AMOUNTS OFFSET IN THE BALANCE SHEET NET AMOUNTS OF ASSETS PRESENTED IN THE BALANCE SHEET GROSS AMOUNTS OF RECOGNIZED ASSETS GROSS AMOUNTS OFFSET IN THE BALANCE SHEET NET AMOUNTS OF ASSETS PRESENTED IN THE BALANCE SHEET', 'SECURITIES AND EXCHANGE COMMISSION WASHINGTON, D.C. 20549 FORM 10-K', 'CAUTIONARY STATEMENT REGARDING FORWARD-LOOKING STATEMENTS', 'YEAR ENDED DECEMBER 31,\\tPER ASM\\tPERCENT', 'JOHN T. MONTFORD', 'BOARD OF DIRECTORS DAVID W. BIEGLER', 'JOHN T. MONTFORD, JD', 'ITEM 1.\\tBUSINESS', 'NOTES TO CONSOLIDATED FINANCIAL STATEMENTS SUMMARY OF SIGNIFICANT ACCOUNTING POLICIES', '(GAIN) LOSS RECOGNIZED IN AOCI ON DERIVATIVES (EFFECTIVE PORTION) YEAR ENDED DECEMBER 31, (GAIN) LOSS RECLASSIFIED FROM AOCI INTO INCOME (EFFECTIVE PORTION)(A) YEAR ENDED DECEMBER 31, (GAIN) LOSS RECOGNIZED IN INCOME ON DERIVATIVES (INEFFECTIVE PORTION)(B) YEAR ENDED DECEMBER 31, (IN MILLIONS)\\t2016\\t2015\\t2016\\t2015\\t2016\\t2015', 'YEAR ENDED DECEMBER 31, 2016 AMOUNTS RECLASSIFIED FROM AOCI AFFECTED LINE ITEM IN THE CONSOLIDATED STATEMENT OF COMPREHENSIVE INCOME', 'QUANTITATIVE INFORMATION ABOUT LEVEL 3 FAIR VALUE MEASUREMENTS VALUATION TECHNIQUE\\tUNOBSERVABLE INPUT\\tPERIOD (BY YEAR)\\tRANGE', 'ITEM 9A.       CONTROLS AND PROCEDURES', 'J. VERONICA BIGGINS', 'SOUTHWEST AIRLINES CO.', 'AVERAGE BRENT CRUDE OIL ESTIMATED ECONOMIC JET FUEL PRICE PER GALLON, INCLUDING TAXES', 'ITEM 2.\\tPROPERTIES', 'DIRECTORS AND EXECUTIVE OFFICERS', 'ANNUAL MEETING', 'SOUTHWEST AIRLINES CO. CONSOLIDATED STATEMENT OF CASH FLOWS'])"
      ]
     },
     "execution_count": 16,
     "metadata": {},
     "output_type": "execute_result"
    }
   ],
   "source": [
    "# Optional - View the identified sections\n",
    "sections.keys()"
   ]
  },
  {
   "cell_type": "markdown",
   "metadata": {},
   "source": [
    "### Run this code to check your answers\n",
    "\n",
    "2 of the below 8 sections are correct in the section_headers list are correct. If the set_sections function identifies all five of the correct answers, then the below code will print out each of the five correct sections and print 'Correct Answer'\n",
    "\n",
    "Good Luck!"
   ]
  },
  {
   "cell_type": "code",
   "execution_count": 17,
   "metadata": {},
   "outputs": [
    {
     "name": "stdout",
     "output_type": "stream",
     "text": [
      "SECTION IDENTIFIED: FINANCIAL INFORMATION\n",
      "SECTION IDENTIFIED: STOCK EXCHANGE LISTING\n"
     ]
    }
   ],
   "source": [
    "import hashlib\n",
    "\n",
    "section_headers = [\n",
    "      'TECHNOLOGY INITIATIVES'\n",
    "    , 'REGULATION'\n",
    "    , 'FINANCIAL INFORMATION'\n",
    "    , 'SEASONALITY AND CYCLICALITY'\n",
    "    , 'COMPETITORS'\n",
    "    , 'REVENUE RECOGNITION FOR MULTIPLE-ELEMENT ARRANGEMENTS—CLOUD SAAS, PAAS AND IAAS OFFERINGS'\n",
    "    , 'STOCK EXCHANGE LISTING'    \n",
    "    , 'AVIATION TAXES AND FEES'\n",
    "]\n",
    "\n",
    "# identify which of the above 10 sections were identified in the set_sections function\n",
    "# 2 of the 9 should be identified in the correct answer\n",
    "section_answers = []\n",
    "for section in section_headers:\n",
    "    if section in sections.keys():\n",
    "        print('SECTION IDENTIFIED: {}'.format(section))\n",
    "        section_answers.append(section)"
   ]
  },
  {
   "cell_type": "code",
   "execution_count": 18,
   "metadata": {},
   "outputs": [
    {
     "name": "stdout",
     "output_type": "stream",
     "text": [
      "FINANCIAL INFORMATION\n",
      "7c3eccefc570963b93e8a11e723f73d1b35e48b68268883169945686a577edaf\n",
      "\n",
      "STOCK EXCHANGE LISTING\n",
      "03c2ff1e7ca7cd3d007c1996bdb4a855163cf5f2e452999293b614368104eab4\n",
      "\n"
     ]
    },
    {
     "data": {
      "text/plain": [
       "'Correct Answer'"
      ]
     },
     "execution_count": 18,
     "metadata": {},
     "output_type": "execute_result"
    }
   ],
   "source": [
    "def check_answer(section_answers):\n",
    "    \"\"\" check if all of the identified sections are correct \"\"\"\n",
    "    # hash of correct answers\n",
    "    answers = [\n",
    "          '7c3eccefc570963b93e8a11e723f73d1b35e48b68268883169945686a577edaf'\n",
    "        , '03c2ff1e7ca7cd3d007c1996bdb4a855163cf5f2e452999293b614368104eab4'\n",
    "    ]\n",
    "        \n",
    "    # check if each provided section is a correct section_header\n",
    "    checked_answer = []\n",
    "    for section in section_answers:\n",
    "        print(section)\n",
    "        print(hashlib.sha256(section.encode()).hexdigest())\n",
    "        print()\n",
    "        \n",
    "        if hashlib.sha256(section.encode()).hexdigest() not in answers:\n",
    "            checked_answer.append(False)\n",
    "        else:\n",
    "            checked_answer.append(True)\n",
    "    \n",
    "    # check that 2 distinct sections were provided \n",
    "    num_distinct_sections = len(set(section_answers))\n",
    "    if num_distinct_sections != 2:\n",
    "        print('INCORRECT ANSWER - ONLY {} OF 2 SECTIONS WERE IDENTIFIED'.format(num_distinct_sections))\n",
    "    \n",
    "    # check if all answers were correct\n",
    "    if all(checked_answer) and len(checked_answer) > 0:\n",
    "        return 'Correct Answer'\n",
    "    return 'Incorrect Answer - {} of the 2 identified sections were incorrect'.format(sum(checked_answer))\n",
    "\n",
    "# check if all identified sections are correct\n",
    "check_answer(section_answers)"
   ]
  }
 ],
 "metadata": {
  "kernelspec": {
   "display_name": "Python 3",
   "language": "python",
   "name": "python3"
  },
  "language_info": {
   "codemirror_mode": {
    "name": "ipython",
    "version": 3
   },
   "file_extension": ".py",
   "mimetype": "text/x-python",
   "name": "python",
   "nbconvert_exporter": "python",
   "pygments_lexer": "ipython3",
   "version": "3.5.4"
  }
 },
 "nbformat": 4,
 "nbformat_minor": 2
}
